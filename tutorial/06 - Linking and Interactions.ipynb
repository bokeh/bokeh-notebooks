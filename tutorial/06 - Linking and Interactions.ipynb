{
 "cells": [
  {
   "cell_type": "markdown",
   "metadata": {},
   "source": [
    "<table style=\"float:left; border:none\">\n",
    "   <tr style=\"border:none\">\n",
    "       <td style=\"border:none\">\n",
    "           <a href=\"https://bokeh.org/\">     \n",
    "           <img \n",
    "               src=\"assets/bokeh-transparent.png\" \n",
    "               style=\"width:50px\"\n",
    "           >\n",
    "           </a>    \n",
    "       </td>\n",
    "       <td style=\"border:none\">\n",
    "           <h1>Bokeh Tutorial</h1>\n",
    "       </td>\n",
    "   </tr>\n",
    "</table>\n",
    "\n",
    "<div style=\"float:right;\"><h2>06. Linking and Interactions</h2></div>"
   ]
  },
  {
   "cell_type": "code",
   "execution_count": 1,
   "metadata": {},
   "outputs": [
    {
     "data": {
      "text/html": [
       "\n",
       "    <div class=\"bk-root\">\n",
       "        <a href=\"https://bokeh.org\" target=\"_blank\" class=\"bk-logo bk-logo-small bk-logo-notebook\"></a>\n",
       "        <span id=\"1001\">Loading BokehJS ...</span>\n",
       "    </div>"
      ]
     },
     "metadata": {},
     "output_type": "display_data"
    },
    {
     "data": {
      "application/javascript": [
       "\n",
       "(function(root) {\n",
       "  function now() {\n",
       "    return new Date();\n",
       "  }\n",
       "\n",
       "  var force = true;\n",
       "\n",
       "  if (typeof root._bokeh_onload_callbacks === \"undefined\" || force === true) {\n",
       "    root._bokeh_onload_callbacks = [];\n",
       "    root._bokeh_is_loading = undefined;\n",
       "  }\n",
       "\n",
       "  var JS_MIME_TYPE = 'application/javascript';\n",
       "  var HTML_MIME_TYPE = 'text/html';\n",
       "  var EXEC_MIME_TYPE = 'application/vnd.bokehjs_exec.v0+json';\n",
       "  var CLASS_NAME = 'output_bokeh rendered_html';\n",
       "\n",
       "  /**\n",
       "   * Render data to the DOM node\n",
       "   */\n",
       "  function render(props, node) {\n",
       "    var script = document.createElement(\"script\");\n",
       "    node.appendChild(script);\n",
       "  }\n",
       "\n",
       "  /**\n",
       "   * Handle when an output is cleared or removed\n",
       "   */\n",
       "  function handleClearOutput(event, handle) {\n",
       "    var cell = handle.cell;\n",
       "\n",
       "    var id = cell.output_area._bokeh_element_id;\n",
       "    var server_id = cell.output_area._bokeh_server_id;\n",
       "    // Clean up Bokeh references\n",
       "    if (id != null && id in Bokeh.index) {\n",
       "      Bokeh.index[id].model.document.clear();\n",
       "      delete Bokeh.index[id];\n",
       "    }\n",
       "\n",
       "    if (server_id !== undefined) {\n",
       "      // Clean up Bokeh references\n",
       "      var cmd = \"from bokeh.io.state import curstate; print(curstate().uuid_to_server['\" + server_id + \"'].get_sessions()[0].document.roots[0]._id)\";\n",
       "      cell.notebook.kernel.execute(cmd, {\n",
       "        iopub: {\n",
       "          output: function(msg) {\n",
       "            var id = msg.content.text.trim();\n",
       "            if (id in Bokeh.index) {\n",
       "              Bokeh.index[id].model.document.clear();\n",
       "              delete Bokeh.index[id];\n",
       "            }\n",
       "          }\n",
       "        }\n",
       "      });\n",
       "      // Destroy server and session\n",
       "      var cmd = \"import bokeh.io.notebook as ion; ion.destroy_server('\" + server_id + \"')\";\n",
       "      cell.notebook.kernel.execute(cmd);\n",
       "    }\n",
       "  }\n",
       "\n",
       "  /**\n",
       "   * Handle when a new output is added\n",
       "   */\n",
       "  function handleAddOutput(event, handle) {\n",
       "    var output_area = handle.output_area;\n",
       "    var output = handle.output;\n",
       "\n",
       "    // limit handleAddOutput to display_data with EXEC_MIME_TYPE content only\n",
       "    if ((output.output_type != \"display_data\") || (!output.data.hasOwnProperty(EXEC_MIME_TYPE))) {\n",
       "      return\n",
       "    }\n",
       "\n",
       "    var toinsert = output_area.element.find(\".\" + CLASS_NAME.split(' ')[0]);\n",
       "\n",
       "    if (output.metadata[EXEC_MIME_TYPE][\"id\"] !== undefined) {\n",
       "      toinsert[toinsert.length - 1].firstChild.textContent = output.data[JS_MIME_TYPE];\n",
       "      // store reference to embed id on output_area\n",
       "      output_area._bokeh_element_id = output.metadata[EXEC_MIME_TYPE][\"id\"];\n",
       "    }\n",
       "    if (output.metadata[EXEC_MIME_TYPE][\"server_id\"] !== undefined) {\n",
       "      var bk_div = document.createElement(\"div\");\n",
       "      bk_div.innerHTML = output.data[HTML_MIME_TYPE];\n",
       "      var script_attrs = bk_div.children[0].attributes;\n",
       "      for (var i = 0; i < script_attrs.length; i++) {\n",
       "        toinsert[toinsert.length - 1].firstChild.setAttribute(script_attrs[i].name, script_attrs[i].value);\n",
       "      }\n",
       "      // store reference to server id on output_area\n",
       "      output_area._bokeh_server_id = output.metadata[EXEC_MIME_TYPE][\"server_id\"];\n",
       "    }\n",
       "  }\n",
       "\n",
       "  function register_renderer(events, OutputArea) {\n",
       "\n",
       "    function append_mime(data, metadata, element) {\n",
       "      // create a DOM node to render to\n",
       "      var toinsert = this.create_output_subarea(\n",
       "        metadata,\n",
       "        CLASS_NAME,\n",
       "        EXEC_MIME_TYPE\n",
       "      );\n",
       "      this.keyboard_manager.register_events(toinsert);\n",
       "      // Render to node\n",
       "      var props = {data: data, metadata: metadata[EXEC_MIME_TYPE]};\n",
       "      render(props, toinsert[toinsert.length - 1]);\n",
       "      element.append(toinsert);\n",
       "      return toinsert\n",
       "    }\n",
       "\n",
       "    /* Handle when an output is cleared or removed */\n",
       "    events.on('clear_output.CodeCell', handleClearOutput);\n",
       "    events.on('delete.Cell', handleClearOutput);\n",
       "\n",
       "    /* Handle when a new output is added */\n",
       "    events.on('output_added.OutputArea', handleAddOutput);\n",
       "\n",
       "    /**\n",
       "     * Register the mime type and append_mime function with output_area\n",
       "     */\n",
       "    OutputArea.prototype.register_mime_type(EXEC_MIME_TYPE, append_mime, {\n",
       "      /* Is output safe? */\n",
       "      safe: true,\n",
       "      /* Index of renderer in `output_area.display_order` */\n",
       "      index: 0\n",
       "    });\n",
       "  }\n",
       "\n",
       "  // register the mime type if in Jupyter Notebook environment and previously unregistered\n",
       "  if (root.Jupyter !== undefined) {\n",
       "    var events = require('base/js/events');\n",
       "    var OutputArea = require('notebook/js/outputarea').OutputArea;\n",
       "\n",
       "    if (OutputArea.prototype.mime_types().indexOf(EXEC_MIME_TYPE) == -1) {\n",
       "      register_renderer(events, OutputArea);\n",
       "    }\n",
       "  }\n",
       "\n",
       "  \n",
       "  if (typeof (root._bokeh_timeout) === \"undefined\" || force === true) {\n",
       "    root._bokeh_timeout = Date.now() + 5000;\n",
       "    root._bokeh_failed_load = false;\n",
       "  }\n",
       "\n",
       "  var NB_LOAD_WARNING = {'data': {'text/html':\n",
       "     \"<div style='background-color: #fdd'>\\n\"+\n",
       "     \"<p>\\n\"+\n",
       "     \"BokehJS does not appear to have successfully loaded. If loading BokehJS from CDN, this \\n\"+\n",
       "     \"may be due to a slow or bad network connection. Possible fixes:\\n\"+\n",
       "     \"</p>\\n\"+\n",
       "     \"<ul>\\n\"+\n",
       "     \"<li>re-rerun `output_notebook()` to attempt to load from CDN again, or</li>\\n\"+\n",
       "     \"<li>use INLINE resources instead, as so:</li>\\n\"+\n",
       "     \"</ul>\\n\"+\n",
       "     \"<code>\\n\"+\n",
       "     \"from bokeh.resources import INLINE\\n\"+\n",
       "     \"output_notebook(resources=INLINE)\\n\"+\n",
       "     \"</code>\\n\"+\n",
       "     \"</div>\"}};\n",
       "\n",
       "  function display_loaded() {\n",
       "    var el = document.getElementById(\"1001\");\n",
       "    if (el != null) {\n",
       "      el.textContent = \"BokehJS is loading...\";\n",
       "    }\n",
       "    if (root.Bokeh !== undefined) {\n",
       "      if (el != null) {\n",
       "        el.textContent = \"BokehJS \" + root.Bokeh.version + \" successfully loaded.\";\n",
       "      }\n",
       "    } else if (Date.now() < root._bokeh_timeout) {\n",
       "      setTimeout(display_loaded, 100)\n",
       "    }\n",
       "  }\n",
       "\n",
       "\n",
       "  function run_callbacks() {\n",
       "    try {\n",
       "      root._bokeh_onload_callbacks.forEach(function(callback) {\n",
       "        if (callback != null)\n",
       "          callback();\n",
       "      });\n",
       "    } finally {\n",
       "      delete root._bokeh_onload_callbacks\n",
       "    }\n",
       "    console.debug(\"Bokeh: all callbacks have finished\");\n",
       "  }\n",
       "\n",
       "  function load_libs(css_urls, js_urls, callback) {\n",
       "    if (css_urls == null) css_urls = [];\n",
       "    if (js_urls == null) js_urls = [];\n",
       "\n",
       "    root._bokeh_onload_callbacks.push(callback);\n",
       "    if (root._bokeh_is_loading > 0) {\n",
       "      console.debug(\"Bokeh: BokehJS is being loaded, scheduling callback at\", now());\n",
       "      return null;\n",
       "    }\n",
       "    if (js_urls == null || js_urls.length === 0) {\n",
       "      run_callbacks();\n",
       "      return null;\n",
       "    }\n",
       "    console.debug(\"Bokeh: BokehJS not loaded, scheduling load and callback at\", now());\n",
       "    root._bokeh_is_loading = css_urls.length + js_urls.length;\n",
       "\n",
       "    function on_load() {\n",
       "      root._bokeh_is_loading--;\n",
       "      if (root._bokeh_is_loading === 0) {\n",
       "        console.debug(\"Bokeh: all BokehJS libraries/stylesheets loaded\");\n",
       "        run_callbacks()\n",
       "      }\n",
       "    }\n",
       "\n",
       "    function on_error() {\n",
       "      console.error(\"failed to load \" + url);\n",
       "    }\n",
       "\n",
       "    for (var i = 0; i < css_urls.length; i++) {\n",
       "      var url = css_urls[i];\n",
       "      const element = document.createElement(\"link\");\n",
       "      element.onload = on_load;\n",
       "      element.onerror = on_error;\n",
       "      element.rel = \"stylesheet\";\n",
       "      element.type = \"text/css\";\n",
       "      element.href = url;\n",
       "      console.debug(\"Bokeh: injecting link tag for BokehJS stylesheet: \", url);\n",
       "      document.body.appendChild(element);\n",
       "    }\n",
       "\n",
       "    for (var i = 0; i < js_urls.length; i++) {\n",
       "      var url = js_urls[i];\n",
       "      var element = document.createElement('script');\n",
       "      element.onload = on_load;\n",
       "      element.onerror = on_error;\n",
       "      element.async = false;\n",
       "      element.src = url;\n",
       "      console.debug(\"Bokeh: injecting script tag for BokehJS library: \", url);\n",
       "      document.head.appendChild(element);\n",
       "    }\n",
       "  };var element = document.getElementById(\"1001\");\n",
       "  if (element == null) {\n",
       "    console.error(\"Bokeh: ERROR: autoload.js configured with elementid '1001' but no matching script tag was found. \")\n",
       "    return false;\n",
       "  }\n",
       "\n",
       "  function inject_raw_css(css) {\n",
       "    const element = document.createElement(\"style\");\n",
       "    element.appendChild(document.createTextNode(css));\n",
       "    document.body.appendChild(element);\n",
       "  }\n",
       "\n",
       "  \n",
       "  var js_urls = [\"https://cdn.pydata.org/bokeh/release/bokeh-1.4.0.min.js\", \"https://cdn.pydata.org/bokeh/release/bokeh-widgets-1.4.0.min.js\", \"https://cdn.pydata.org/bokeh/release/bokeh-tables-1.4.0.min.js\", \"https://cdn.pydata.org/bokeh/release/bokeh-gl-1.4.0.min.js\"];\n",
       "  var css_urls = [];\n",
       "  \n",
       "\n",
       "  var inline_js = [\n",
       "    function(Bokeh) {\n",
       "      Bokeh.set_log_level(\"info\");\n",
       "    },\n",
       "    function(Bokeh) {\n",
       "    \n",
       "    \n",
       "    }\n",
       "  ];\n",
       "\n",
       "  function run_inline_js() {\n",
       "    \n",
       "    if (root.Bokeh !== undefined || force === true) {\n",
       "      \n",
       "    for (var i = 0; i < inline_js.length; i++) {\n",
       "      inline_js[i].call(root, root.Bokeh);\n",
       "    }\n",
       "    if (force === true) {\n",
       "        display_loaded();\n",
       "      }} else if (Date.now() < root._bokeh_timeout) {\n",
       "      setTimeout(run_inline_js, 100);\n",
       "    } else if (!root._bokeh_failed_load) {\n",
       "      console.log(\"Bokeh: BokehJS failed to load within specified timeout.\");\n",
       "      root._bokeh_failed_load = true;\n",
       "    } else if (force !== true) {\n",
       "      var cell = $(document.getElementById(\"1001\")).parents('.cell').data().cell;\n",
       "      cell.output_area.append_execute_result(NB_LOAD_WARNING)\n",
       "    }\n",
       "\n",
       "  }\n",
       "\n",
       "  if (root._bokeh_is_loading === 0) {\n",
       "    console.debug(\"Bokeh: BokehJS loaded, going straight to plotting\");\n",
       "    run_inline_js();\n",
       "  } else {\n",
       "    load_libs(css_urls, js_urls, function() {\n",
       "      console.debug(\"Bokeh: BokehJS plotting callback run at\", now());\n",
       "      run_inline_js();\n",
       "    });\n",
       "  }\n",
       "}(window));"
      ],
      "application/vnd.bokehjs_load.v0+json": "\n(function(root) {\n  function now() {\n    return new Date();\n  }\n\n  var force = true;\n\n  if (typeof root._bokeh_onload_callbacks === \"undefined\" || force === true) {\n    root._bokeh_onload_callbacks = [];\n    root._bokeh_is_loading = undefined;\n  }\n\n  \n\n  \n  if (typeof (root._bokeh_timeout) === \"undefined\" || force === true) {\n    root._bokeh_timeout = Date.now() + 5000;\n    root._bokeh_failed_load = false;\n  }\n\n  var NB_LOAD_WARNING = {'data': {'text/html':\n     \"<div style='background-color: #fdd'>\\n\"+\n     \"<p>\\n\"+\n     \"BokehJS does not appear to have successfully loaded. If loading BokehJS from CDN, this \\n\"+\n     \"may be due to a slow or bad network connection. Possible fixes:\\n\"+\n     \"</p>\\n\"+\n     \"<ul>\\n\"+\n     \"<li>re-rerun `output_notebook()` to attempt to load from CDN again, or</li>\\n\"+\n     \"<li>use INLINE resources instead, as so:</li>\\n\"+\n     \"</ul>\\n\"+\n     \"<code>\\n\"+\n     \"from bokeh.resources import INLINE\\n\"+\n     \"output_notebook(resources=INLINE)\\n\"+\n     \"</code>\\n\"+\n     \"</div>\"}};\n\n  function display_loaded() {\n    var el = document.getElementById(\"1001\");\n    if (el != null) {\n      el.textContent = \"BokehJS is loading...\";\n    }\n    if (root.Bokeh !== undefined) {\n      if (el != null) {\n        el.textContent = \"BokehJS \" + root.Bokeh.version + \" successfully loaded.\";\n      }\n    } else if (Date.now() < root._bokeh_timeout) {\n      setTimeout(display_loaded, 100)\n    }\n  }\n\n\n  function run_callbacks() {\n    try {\n      root._bokeh_onload_callbacks.forEach(function(callback) {\n        if (callback != null)\n          callback();\n      });\n    } finally {\n      delete root._bokeh_onload_callbacks\n    }\n    console.debug(\"Bokeh: all callbacks have finished\");\n  }\n\n  function load_libs(css_urls, js_urls, callback) {\n    if (css_urls == null) css_urls = [];\n    if (js_urls == null) js_urls = [];\n\n    root._bokeh_onload_callbacks.push(callback);\n    if (root._bokeh_is_loading > 0) {\n      console.debug(\"Bokeh: BokehJS is being loaded, scheduling callback at\", now());\n      return null;\n    }\n    if (js_urls == null || js_urls.length === 0) {\n      run_callbacks();\n      return null;\n    }\n    console.debug(\"Bokeh: BokehJS not loaded, scheduling load and callback at\", now());\n    root._bokeh_is_loading = css_urls.length + js_urls.length;\n\n    function on_load() {\n      root._bokeh_is_loading--;\n      if (root._bokeh_is_loading === 0) {\n        console.debug(\"Bokeh: all BokehJS libraries/stylesheets loaded\");\n        run_callbacks()\n      }\n    }\n\n    function on_error() {\n      console.error(\"failed to load \" + url);\n    }\n\n    for (var i = 0; i < css_urls.length; i++) {\n      var url = css_urls[i];\n      const element = document.createElement(\"link\");\n      element.onload = on_load;\n      element.onerror = on_error;\n      element.rel = \"stylesheet\";\n      element.type = \"text/css\";\n      element.href = url;\n      console.debug(\"Bokeh: injecting link tag for BokehJS stylesheet: \", url);\n      document.body.appendChild(element);\n    }\n\n    for (var i = 0; i < js_urls.length; i++) {\n      var url = js_urls[i];\n      var element = document.createElement('script');\n      element.onload = on_load;\n      element.onerror = on_error;\n      element.async = false;\n      element.src = url;\n      console.debug(\"Bokeh: injecting script tag for BokehJS library: \", url);\n      document.head.appendChild(element);\n    }\n  };var element = document.getElementById(\"1001\");\n  if (element == null) {\n    console.error(\"Bokeh: ERROR: autoload.js configured with elementid '1001' but no matching script tag was found. \")\n    return false;\n  }\n\n  function inject_raw_css(css) {\n    const element = document.createElement(\"style\");\n    element.appendChild(document.createTextNode(css));\n    document.body.appendChild(element);\n  }\n\n  \n  var js_urls = [\"https://cdn.pydata.org/bokeh/release/bokeh-1.4.0.min.js\", \"https://cdn.pydata.org/bokeh/release/bokeh-widgets-1.4.0.min.js\", \"https://cdn.pydata.org/bokeh/release/bokeh-tables-1.4.0.min.js\", \"https://cdn.pydata.org/bokeh/release/bokeh-gl-1.4.0.min.js\"];\n  var css_urls = [];\n  \n\n  var inline_js = [\n    function(Bokeh) {\n      Bokeh.set_log_level(\"info\");\n    },\n    function(Bokeh) {\n    \n    \n    }\n  ];\n\n  function run_inline_js() {\n    \n    if (root.Bokeh !== undefined || force === true) {\n      \n    for (var i = 0; i < inline_js.length; i++) {\n      inline_js[i].call(root, root.Bokeh);\n    }\n    if (force === true) {\n        display_loaded();\n      }} else if (Date.now() < root._bokeh_timeout) {\n      setTimeout(run_inline_js, 100);\n    } else if (!root._bokeh_failed_load) {\n      console.log(\"Bokeh: BokehJS failed to load within specified timeout.\");\n      root._bokeh_failed_load = true;\n    } else if (force !== true) {\n      var cell = $(document.getElementById(\"1001\")).parents('.cell').data().cell;\n      cell.output_area.append_execute_result(NB_LOAD_WARNING)\n    }\n\n  }\n\n  if (root._bokeh_is_loading === 0) {\n    console.debug(\"Bokeh: BokehJS loaded, going straight to plotting\");\n    run_inline_js();\n  } else {\n    load_libs(css_urls, js_urls, function() {\n      console.debug(\"Bokeh: BokehJS plotting callback run at\", now());\n      run_inline_js();\n    });\n  }\n}(window));"
     },
     "metadata": {},
     "output_type": "display_data"
    }
   ],
   "source": [
    "from bokeh.io import output_notebook, show\n",
    "from bokeh.plotting import figure\n",
    "output_notebook()"
   ]
  },
  {
   "cell_type": "markdown",
   "metadata": {},
   "source": [
    "Now that we know from the previous chapter how multiple plots can be placed together in a layout, we can start to look at how different plots can be linked togeher, or how plots can be linked to widgets. "
   ]
  },
  {
   "cell_type": "markdown",
   "metadata": {},
   "source": [
    "# Linked Interactions\n",
    "\n",
    "It is possible to link various interactions between different Bokeh plots. For instance, the ranges of two (or more) plots can be linked, so that when one of the plots is panned (or zoomed, or otherwise has its range changed) the other plots will update in unison. It is also possible to link selections between two plots, so that when items are selected on one plot, the corresponding items on the second plot also become selected. "
   ]
  },
  {
   "cell_type": "markdown",
   "metadata": {},
   "source": [
    "## Linked panning\n",
    "\n",
    "Linked panning (when multiple plots have ranges that stay in sync) is simple to spell with Bokeh. You simply share the appropriate range objects between two (or more) plots. The example below shows how to accomplish this by linking the ranges of three plots in various ways:"
   ]
  },
  {
   "cell_type": "code",
   "execution_count": 2,
   "metadata": {},
   "outputs": [
    {
     "data": {
      "text/html": [
       "\n",
       "\n",
       "\n",
       "\n",
       "\n",
       "\n",
       "  <div class=\"bk-root\" id=\"1f224108-28da-44b0-988d-f54efe65863b\" data-root-id=\"1116\"></div>\n"
      ]
     },
     "metadata": {},
     "output_type": "display_data"
    },
    {
     "data": {
      "application/javascript": [
       "(function(root) {\n",
       "  function embed_document(root) {\n",
       "    \n",
       "  var docs_json = {\"ff59fa47-d815-41b7-98a4-70e643cd9e4a\":{\"roots\":{\"references\":[{\"attributes\":{\"children\":[{\"id\":\"1115\",\"type\":\"ToolbarBox\"},{\"id\":\"1113\",\"type\":\"GridBox\"}]},\"id\":\"1116\",\"type\":\"Column\"},{\"attributes\":{},\"id\":\"1111\",\"type\":\"Selection\"},{\"attributes\":{\"ticker\":{\"id\":\"1012\",\"type\":\"BasicTicker\"}},\"id\":\"1015\",\"type\":\"Grid\"},{\"attributes\":{},\"id\":\"1099\",\"type\":\"BasicTickFormatter\"},{\"attributes\":{},\"id\":\"1007\",\"type\":\"LinearScale\"},{\"attributes\":{},\"id\":\"1017\",\"type\":\"BasicTicker\"},{\"attributes\":{},\"id\":\"1022\",\"type\":\"WheelZoomTool\"},{\"attributes\":{\"callback\":null},\"id\":\"1003\",\"type\":\"DataRange1d\"},{\"attributes\":{},\"id\":\"1044\",\"type\":\"BasicTicker\"},{\"attributes\":{},\"id\":\"1108\",\"type\":\"BasicTickFormatter\"},{\"attributes\":{\"dimension\":1,\"ticker\":{\"id\":\"1017\",\"type\":\"BasicTicker\"}},\"id\":\"1020\",\"type\":\"Grid\"},{\"attributes\":{\"text\":\"\"},\"id\":\"1086\",\"type\":\"Title\"},{\"attributes\":{\"formatter\":{\"id\":\"1097\",\"type\":\"BasicTickFormatter\"},\"ticker\":{\"id\":\"1039\",\"type\":\"BasicTicker\"}},\"id\":\"1038\",\"type\":\"LinearAxis\"},{\"attributes\":{},\"id\":\"1064\",\"type\":\"LinearScale\"},{\"attributes\":{\"formatter\":{\"id\":\"1090\",\"type\":\"BasicTickFormatter\"},\"ticker\":{\"id\":\"1017\",\"type\":\"BasicTicker\"}},\"id\":\"1016\",\"type\":\"LinearAxis\"},{\"attributes\":{},\"id\":\"1039\",\"type\":\"BasicTicker\"},{\"attributes\":{\"ticker\":{\"id\":\"1039\",\"type\":\"BasicTicker\"}},\"id\":\"1042\",\"type\":\"Grid\"},{\"attributes\":{\"formatter\":{\"id\":\"1106\",\"type\":\"BasicTickFormatter\"},\"ticker\":{\"id\":\"1067\",\"type\":\"BasicTicker\"}},\"id\":\"1066\",\"type\":\"LinearAxis\"},{\"attributes\":{},\"id\":\"1090\",\"type\":\"BasicTickFormatter\"},{\"attributes\":{\"active_drag\":\"auto\",\"active_inspect\":\"auto\",\"active_multi\":null,\"active_scroll\":\"auto\",\"active_tap\":\"auto\",\"tools\":[{\"id\":\"1021\",\"type\":\"PanTool\"},{\"id\":\"1022\",\"type\":\"WheelZoomTool\"}]},\"id\":\"1023\",\"type\":\"Toolbar\"},{\"attributes\":{},\"id\":\"1072\",\"type\":\"BasicTicker\"},{\"attributes\":{},\"id\":\"1092\",\"type\":\"UnionRenderers\"},{\"attributes\":{\"dimension\":1,\"ticker\":{\"id\":\"1044\",\"type\":\"BasicTicker\"}},\"id\":\"1047\",\"type\":\"Grid\"},{\"attributes\":{},\"id\":\"1067\",\"type\":\"BasicTicker\"},{\"attributes\":{\"formatter\":{\"id\":\"1099\",\"type\":\"BasicTickFormatter\"},\"ticker\":{\"id\":\"1044\",\"type\":\"BasicTicker\"}},\"id\":\"1043\",\"type\":\"LinearAxis\"},{\"attributes\":{},\"id\":\"1088\",\"type\":\"BasicTickFormatter\"},{\"attributes\":{},\"id\":\"1021\",\"type\":\"PanTool\"},{\"attributes\":{\"ticker\":{\"id\":\"1067\",\"type\":\"BasicTicker\"}},\"id\":\"1070\",\"type\":\"Grid\"},{\"attributes\":{\"active_drag\":\"auto\",\"active_inspect\":\"auto\",\"active_multi\":null,\"active_scroll\":\"auto\",\"active_tap\":\"auto\",\"tools\":[{\"id\":\"1048\",\"type\":\"PanTool\"},{\"id\":\"1049\",\"type\":\"WheelZoomTool\"}]},\"id\":\"1050\",\"type\":\"Toolbar\"},{\"attributes\":{\"callback\":null,\"data\":{\"x\":[0,1,2,3,4,5,6,7,8,9,10],\"y\":[0,1,2,3,4,5,6,7,8,9,10]},\"selected\":{\"id\":\"1093\",\"type\":\"Selection\"},\"selection_policy\":{\"id\":\"1092\",\"type\":\"UnionRenderers\"}},\"id\":\"1026\",\"type\":\"ColumnDataSource\"},{\"attributes\":{},\"id\":\"1012\",\"type\":\"BasicTicker\"},{\"attributes\":{\"dimension\":1,\"ticker\":{\"id\":\"1072\",\"type\":\"BasicTicker\"}},\"id\":\"1075\",\"type\":\"Grid\"},{\"attributes\":{},\"id\":\"1093\",\"type\":\"Selection\"},{\"attributes\":{},\"id\":\"1048\",\"type\":\"PanTool\"},{\"attributes\":{\"formatter\":{\"id\":\"1108\",\"type\":\"BasicTickFormatter\"},\"ticker\":{\"id\":\"1072\",\"type\":\"BasicTicker\"}},\"id\":\"1071\",\"type\":\"LinearAxis\"},{\"attributes\":{\"fill_color\":{\"value\":\"navy\"},\"line_color\":{\"value\":\"navy\"},\"size\":{\"units\":\"screen\",\"value\":10},\"x\":{\"field\":\"x\"},\"y\":{\"field\":\"y\"}},\"id\":\"1027\",\"type\":\"Circle\"},{\"attributes\":{},\"id\":\"1101\",\"type\":\"UnionRenderers\"},{\"attributes\":{\"toolbar\":{\"id\":\"1114\",\"type\":\"ProxyToolbar\"},\"toolbar_location\":\"above\"},\"id\":\"1115\",\"type\":\"ToolbarBox\"},{\"attributes\":{\"active_drag\":\"auto\",\"active_inspect\":\"auto\",\"active_multi\":null,\"active_scroll\":\"auto\",\"active_tap\":\"auto\",\"tools\":[{\"id\":\"1076\",\"type\":\"PanTool\"},{\"id\":\"1077\",\"type\":\"WheelZoomTool\"}]},\"id\":\"1078\",\"type\":\"Toolbar\"},{\"attributes\":{},\"id\":\"1049\",\"type\":\"WheelZoomTool\"},{\"attributes\":{},\"id\":\"1076\",\"type\":\"PanTool\"},{\"attributes\":{\"data_source\":{\"id\":\"1026\",\"type\":\"ColumnDataSource\"},\"glyph\":{\"id\":\"1027\",\"type\":\"Circle\"},\"hover_glyph\":null,\"muted_glyph\":null,\"nonselection_glyph\":{\"id\":\"1028\",\"type\":\"Circle\"},\"selection_glyph\":null,\"view\":{\"id\":\"1030\",\"type\":\"CDSView\"}},\"id\":\"1029\",\"type\":\"GlyphRenderer\"},{\"attributes\":{\"text\":\"\"},\"id\":\"1095\",\"type\":\"Title\"},{\"attributes\":{\"fill_alpha\":{\"value\":0.1},\"fill_color\":{\"value\":\"#1f77b4\"},\"line_alpha\":{\"value\":0.1},\"line_color\":{\"value\":\"#1f77b4\"},\"size\":{\"units\":\"screen\",\"value\":10},\"x\":{\"field\":\"x\"},\"y\":{\"field\":\"y\"}},\"id\":\"1028\",\"type\":\"Circle\"},{\"attributes\":{\"children\":[[{\"id\":\"1002\",\"subtype\":\"Figure\",\"type\":\"Plot\"},0,0],[{\"id\":\"1031\",\"subtype\":\"Figure\",\"type\":\"Plot\"},0,1],[{\"id\":\"1058\",\"subtype\":\"Figure\",\"type\":\"Plot\"},0,2]]},\"id\":\"1113\",\"type\":\"GridBox\"},{\"attributes\":{},\"id\":\"1009\",\"type\":\"LinearScale\"},{\"attributes\":{},\"id\":\"1034\",\"type\":\"LinearScale\"},{\"attributes\":{},\"id\":\"1097\",\"type\":\"BasicTickFormatter\"},{\"attributes\":{},\"id\":\"1077\",\"type\":\"WheelZoomTool\"},{\"attributes\":{\"fill_alpha\":{\"value\":0.1},\"fill_color\":{\"value\":\"#1f77b4\"},\"line_alpha\":{\"value\":0.1},\"line_color\":{\"value\":\"#1f77b4\"},\"size\":{\"units\":\"screen\",\"value\":10},\"x\":{\"field\":\"x\"},\"y\":{\"field\":\"y\"}},\"id\":\"1055\",\"type\":\"Triangle\"},{\"attributes\":{\"callback\":null},\"id\":\"1005\",\"type\":\"DataRange1d\"},{\"attributes\":{},\"id\":\"1102\",\"type\":\"Selection\"},{\"attributes\":{\"below\":[{\"id\":\"1038\",\"type\":\"LinearAxis\"}],\"center\":[{\"id\":\"1042\",\"type\":\"Grid\"},{\"id\":\"1047\",\"type\":\"Grid\"}],\"left\":[{\"id\":\"1043\",\"type\":\"LinearAxis\"}],\"plot_height\":250,\"plot_width\":250,\"renderers\":[{\"id\":\"1056\",\"type\":\"GlyphRenderer\"}],\"title\":{\"id\":\"1095\",\"type\":\"Title\"},\"toolbar\":{\"id\":\"1050\",\"type\":\"Toolbar\"},\"toolbar_location\":null,\"x_range\":{\"id\":\"1003\",\"type\":\"DataRange1d\"},\"x_scale\":{\"id\":\"1034\",\"type\":\"LinearScale\"},\"y_range\":{\"id\":\"1005\",\"type\":\"DataRange1d\"},\"y_scale\":{\"id\":\"1036\",\"type\":\"LinearScale\"}},\"id\":\"1031\",\"subtype\":\"Figure\",\"type\":\"Plot\"},{\"attributes\":{\"fill_color\":{\"value\":\"firebrick\"},\"line_color\":{\"value\":\"firebrick\"},\"size\":{\"units\":\"screen\",\"value\":10},\"x\":{\"field\":\"x\"},\"y\":{\"field\":\"y\"}},\"id\":\"1054\",\"type\":\"Triangle\"},{\"attributes\":{\"source\":{\"id\":\"1026\",\"type\":\"ColumnDataSource\"}},\"id\":\"1030\",\"type\":\"CDSView\"},{\"attributes\":{\"fill_alpha\":{\"value\":0.1},\"fill_color\":{\"value\":\"#1f77b4\"},\"line_alpha\":{\"value\":0.1},\"line_color\":{\"value\":\"#1f77b4\"},\"size\":{\"units\":\"screen\",\"value\":10},\"x\":{\"field\":\"x\"},\"y\":{\"field\":\"y\"}},\"id\":\"1083\",\"type\":\"Square\"},{\"attributes\":{\"callback\":null,\"data\":{\"x\":[0,1,2,3,4,5,6,7,8,9,10],\"y\":[5,4,3,2,1,0,1,2,3,4,5]},\"selected\":{\"id\":\"1111\",\"type\":\"Selection\"},\"selection_policy\":{\"id\":\"1110\",\"type\":\"UnionRenderers\"}},\"id\":\"1081\",\"type\":\"ColumnDataSource\"},{\"attributes\":{},\"id\":\"1110\",\"type\":\"UnionRenderers\"},{\"attributes\":{\"data_source\":{\"id\":\"1053\",\"type\":\"ColumnDataSource\"},\"glyph\":{\"id\":\"1054\",\"type\":\"Triangle\"},\"hover_glyph\":null,\"muted_glyph\":null,\"nonselection_glyph\":{\"id\":\"1055\",\"type\":\"Triangle\"},\"selection_glyph\":null,\"view\":{\"id\":\"1057\",\"type\":\"CDSView\"}},\"id\":\"1056\",\"type\":\"GlyphRenderer\"},{\"attributes\":{\"callback\":null,\"data\":{\"x\":[0,1,2,3,4,5,6,7,8,9,10],\"y\":[10,9,8,7,6,5,4,3,2,1,0]},\"selected\":{\"id\":\"1102\",\"type\":\"Selection\"},\"selection_policy\":{\"id\":\"1101\",\"type\":\"UnionRenderers\"}},\"id\":\"1053\",\"type\":\"ColumnDataSource\"},{\"attributes\":{\"below\":[{\"id\":\"1066\",\"type\":\"LinearAxis\"}],\"center\":[{\"id\":\"1070\",\"type\":\"Grid\"},{\"id\":\"1075\",\"type\":\"Grid\"}],\"left\":[{\"id\":\"1071\",\"type\":\"LinearAxis\"}],\"plot_height\":250,\"plot_width\":250,\"renderers\":[{\"id\":\"1084\",\"type\":\"GlyphRenderer\"}],\"title\":{\"id\":\"1104\",\"type\":\"Title\"},\"toolbar\":{\"id\":\"1078\",\"type\":\"Toolbar\"},\"toolbar_location\":null,\"x_range\":{\"id\":\"1003\",\"type\":\"DataRange1d\"},\"x_scale\":{\"id\":\"1062\",\"type\":\"LinearScale\"},\"y_range\":{\"id\":\"1060\",\"type\":\"DataRange1d\"},\"y_scale\":{\"id\":\"1064\",\"type\":\"LinearScale\"}},\"id\":\"1058\",\"subtype\":\"Figure\",\"type\":\"Plot\"},{\"attributes\":{\"fill_color\":{\"value\":\"olive\"},\"line_color\":{\"value\":\"olive\"},\"size\":{\"units\":\"screen\",\"value\":10},\"x\":{\"field\":\"x\"},\"y\":{\"field\":\"y\"}},\"id\":\"1082\",\"type\":\"Square\"},{\"attributes\":{\"text\":\"\"},\"id\":\"1104\",\"type\":\"Title\"},{\"attributes\":{\"source\":{\"id\":\"1053\",\"type\":\"ColumnDataSource\"}},\"id\":\"1057\",\"type\":\"CDSView\"},{\"attributes\":{\"below\":[{\"id\":\"1011\",\"type\":\"LinearAxis\"}],\"center\":[{\"id\":\"1015\",\"type\":\"Grid\"},{\"id\":\"1020\",\"type\":\"Grid\"}],\"left\":[{\"id\":\"1016\",\"type\":\"LinearAxis\"}],\"plot_height\":250,\"plot_width\":250,\"renderers\":[{\"id\":\"1029\",\"type\":\"GlyphRenderer\"}],\"title\":{\"id\":\"1086\",\"type\":\"Title\"},\"toolbar\":{\"id\":\"1023\",\"type\":\"Toolbar\"},\"toolbar_location\":null,\"x_range\":{\"id\":\"1003\",\"type\":\"DataRange1d\"},\"x_scale\":{\"id\":\"1007\",\"type\":\"LinearScale\"},\"y_range\":{\"id\":\"1005\",\"type\":\"DataRange1d\"},\"y_scale\":{\"id\":\"1009\",\"type\":\"LinearScale\"}},\"id\":\"1002\",\"subtype\":\"Figure\",\"type\":\"Plot\"},{\"attributes\":{},\"id\":\"1036\",\"type\":\"LinearScale\"},{\"attributes\":{\"callback\":null},\"id\":\"1060\",\"type\":\"DataRange1d\"},{\"attributes\":{\"source\":{\"id\":\"1081\",\"type\":\"ColumnDataSource\"}},\"id\":\"1085\",\"type\":\"CDSView\"},{\"attributes\":{\"data_source\":{\"id\":\"1081\",\"type\":\"ColumnDataSource\"},\"glyph\":{\"id\":\"1082\",\"type\":\"Square\"},\"hover_glyph\":null,\"muted_glyph\":null,\"nonselection_glyph\":{\"id\":\"1083\",\"type\":\"Square\"},\"selection_glyph\":null,\"view\":{\"id\":\"1085\",\"type\":\"CDSView\"}},\"id\":\"1084\",\"type\":\"GlyphRenderer\"},{\"attributes\":{},\"id\":\"1062\",\"type\":\"LinearScale\"},{\"attributes\":{},\"id\":\"1106\",\"type\":\"BasicTickFormatter\"},{\"attributes\":{\"tools\":[{\"id\":\"1021\",\"type\":\"PanTool\"},{\"id\":\"1022\",\"type\":\"WheelZoomTool\"},{\"id\":\"1048\",\"type\":\"PanTool\"},{\"id\":\"1049\",\"type\":\"WheelZoomTool\"},{\"id\":\"1076\",\"type\":\"PanTool\"},{\"id\":\"1077\",\"type\":\"WheelZoomTool\"}]},\"id\":\"1114\",\"type\":\"ProxyToolbar\"},{\"attributes\":{\"formatter\":{\"id\":\"1088\",\"type\":\"BasicTickFormatter\"},\"ticker\":{\"id\":\"1012\",\"type\":\"BasicTicker\"}},\"id\":\"1011\",\"type\":\"LinearAxis\"}],\"root_ids\":[\"1116\"]},\"title\":\"Bokeh Application\",\"version\":\"1.4.0\"}};\n",
       "  var render_items = [{\"docid\":\"ff59fa47-d815-41b7-98a4-70e643cd9e4a\",\"roots\":{\"1116\":\"1f224108-28da-44b0-988d-f54efe65863b\"}}];\n",
       "  root.Bokeh.embed.embed_items_notebook(docs_json, render_items);\n",
       "\n",
       "  }\n",
       "  if (root.Bokeh !== undefined) {\n",
       "    embed_document(root);\n",
       "  } else {\n",
       "    var attempts = 0;\n",
       "    var timer = setInterval(function(root) {\n",
       "      if (root.Bokeh !== undefined) {\n",
       "        clearInterval(timer);\n",
       "        embed_document(root);\n",
       "      } else {\n",
       "        attempts++;\n",
       "        if (attempts > 100) {\n",
       "          clearInterval(timer);\n",
       "          console.log(\"Bokeh: ERROR: Unable to run BokehJS code because BokehJS library is missing\");\n",
       "        }\n",
       "      }\n",
       "    }, 10, root)\n",
       "  }\n",
       "})(window);"
      ],
      "application/vnd.bokehjs_exec.v0+json": ""
     },
     "metadata": {
      "application/vnd.bokehjs_exec.v0+json": {
       "id": "1116"
      }
     },
     "output_type": "display_data"
    }
   ],
   "source": [
    "from bokeh.layouts import gridplot\n",
    "\n",
    "x = list(range(11))\n",
    "y0, y1, y2 = x, [10-i for i in x], [abs(i-5) for i in x]\n",
    "\n",
    "plot_options = dict(width=250, plot_height=250, tools='pan,wheel_zoom')\n",
    "\n",
    "# create a new plot\n",
    "s1 = figure(**plot_options)\n",
    "s1.circle(x, y0, size=10, color=\"navy\")\n",
    "\n",
    "# create a new plot and share both ranges\n",
    "s2 = figure(x_range=s1.x_range, y_range=s1.y_range, **plot_options)\n",
    "s2.triangle(x, y1, size=10, color=\"firebrick\")\n",
    "\n",
    "# create a new plot and share only one range\n",
    "s3 = figure(x_range=s1.x_range, **plot_options)\n",
    "s3.square(x, y2, size=10, color=\"olive\")\n",
    "\n",
    "p = gridplot([[s1, s2, s3]])\n",
    "\n",
    "# show the results\n",
    "show(p)"
   ]
  },
  {
   "cell_type": "code",
   "execution_count": 3,
   "metadata": {},
   "outputs": [],
   "source": [
    "# EXERCISE: create two plots in a gridplot, and link their ranges\n"
   ]
  },
  {
   "cell_type": "markdown",
   "metadata": {},
   "source": [
    "## Linked brushing\n",
    "\n",
    "Linking selections is accomplished in a similar way, by sharing data sources between plots. Note that normally with ``bokeh.plotting`` and ``bokeh.charts`` creating a default data source for simple plots is handled automatically. However to share a data source, we must create them by hand and pass them explicitly. This is illustrated in the example below:"
   ]
  },
  {
   "cell_type": "code",
   "execution_count": 4,
   "metadata": {},
   "outputs": [
    {
     "data": {
      "text/html": [
       "\n",
       "\n",
       "\n",
       "\n",
       "\n",
       "\n",
       "  <div class=\"bk-root\" id=\"0d750e78-607d-43ca-8b36-4a2687bec0cb\" data-root-id=\"1373\"></div>\n"
      ]
     },
     "metadata": {},
     "output_type": "display_data"
    },
    {
     "data": {
      "application/javascript": [
       "(function(root) {\n",
       "  function embed_document(root) {\n",
       "    \n",
       "  var docs_json = {\"1e2484d2-6367-4721-a05f-9a9ec59dfd2e\":{\"roots\":{\"references\":[{\"attributes\":{\"children\":[{\"id\":\"1372\",\"type\":\"ToolbarBox\"},{\"id\":\"1370\",\"type\":\"GridBox\"}]},\"id\":\"1373\",\"type\":\"Column\"},{\"attributes\":{\"below\":[{\"id\":\"1326\",\"type\":\"LinearAxis\"}],\"center\":[{\"id\":\"1330\",\"type\":\"Grid\"},{\"id\":\"1335\",\"type\":\"Grid\"}],\"left\":[{\"id\":\"1331\",\"type\":\"LinearAxis\"}],\"plot_height\":300,\"plot_width\":300,\"renderers\":[{\"id\":\"1346\",\"type\":\"GlyphRenderer\"}],\"title\":{\"id\":\"1359\",\"type\":\"Title\"},\"toolbar\":{\"id\":\"1339\",\"type\":\"Toolbar\"},\"toolbar_location\":null,\"x_range\":{\"id\":\"1318\",\"type\":\"DataRange1d\"},\"x_scale\":{\"id\":\"1322\",\"type\":\"LinearScale\"},\"y_range\":{\"id\":\"1320\",\"type\":\"DataRange1d\"},\"y_scale\":{\"id\":\"1324\",\"type\":\"LinearScale\"}},\"id\":\"1317\",\"subtype\":\"Figure\",\"type\":\"Plot\"},{\"attributes\":{},\"id\":\"1352\",\"type\":\"BasicTickFormatter\"},{\"attributes\":{},\"id\":\"1354\",\"type\":\"UnionRenderers\"},{\"attributes\":{\"fill_color\":{\"value\":\"#1f77b4\"},\"line_color\":{\"value\":\"#1f77b4\"},\"x\":{\"field\":\"x\"},\"y\":{\"field\":\"y1\"}},\"id\":\"1344\",\"type\":\"Circle\"},{\"attributes\":{\"callback\":null,\"data\":{\"x\":[-20,-19,-18,-17,-16,-15,-14,-13,-12,-11,-10,-9,-8,-7,-6,-5,-4,-3,-2,-1,0,1,2,3,4,5,6,7,8,9,10,11,12,13,14,15,16,17,18,19,20],\"y0\":[20,19,18,17,16,15,14,13,12,11,10,9,8,7,6,5,4,3,2,1,0,1,2,3,4,5,6,7,8,9,10,11,12,13,14,15,16,17,18,19,20],\"y1\":[400,361,324,289,256,225,196,169,144,121,100,81,64,49,36,25,16,9,4,1,0,1,4,9,16,25,36,49,64,81,100,121,144,169,196,225,256,289,324,361,400]},\"selected\":{\"id\":\"1355\",\"type\":\"Selection\"},\"selection_policy\":{\"id\":\"1354\",\"type\":\"UnionRenderers\"}},\"id\":\"1285\",\"type\":\"ColumnDataSource\"},{\"attributes\":{},\"id\":\"1350\",\"type\":\"BasicTickFormatter\"},{\"attributes\":{\"source\":{\"id\":\"1285\",\"type\":\"ColumnDataSource\"}},\"id\":\"1347\",\"type\":\"CDSView\"},{\"attributes\":{\"callback\":null,\"overlay\":{\"id\":\"1368\",\"type\":\"PolyAnnotation\"}},\"id\":\"1337\",\"type\":\"LassoSelectTool\"},{\"attributes\":{\"callback\":null,\"overlay\":{\"id\":\"1367\",\"type\":\"BoxAnnotation\"}},\"id\":\"1336\",\"type\":\"BoxSelectTool\"},{\"attributes\":{\"callback\":null,\"overlay\":{\"id\":\"1357\",\"type\":\"PolyAnnotation\"}},\"id\":\"1306\",\"type\":\"LassoSelectTool\"},{\"attributes\":{\"active_drag\":\"auto\",\"active_inspect\":\"auto\",\"active_multi\":null,\"active_scroll\":\"auto\",\"active_tap\":\"auto\",\"tools\":[{\"id\":\"1336\",\"type\":\"BoxSelectTool\"},{\"id\":\"1337\",\"type\":\"LassoSelectTool\"},{\"id\":\"1338\",\"type\":\"HelpTool\"}]},\"id\":\"1339\",\"type\":\"Toolbar\"},{\"attributes\":{\"tools\":[{\"id\":\"1305\",\"type\":\"BoxSelectTool\"},{\"id\":\"1306\",\"type\":\"LassoSelectTool\"},{\"id\":\"1307\",\"type\":\"HelpTool\"},{\"id\":\"1336\",\"type\":\"BoxSelectTool\"},{\"id\":\"1337\",\"type\":\"LassoSelectTool\"},{\"id\":\"1338\",\"type\":\"HelpTool\"}]},\"id\":\"1371\",\"type\":\"ProxyToolbar\"},{\"attributes\":{\"fill_color\":{\"value\":\"#1f77b4\"},\"line_color\":{\"value\":\"#1f77b4\"},\"x\":{\"field\":\"x\"},\"y\":{\"field\":\"y0\"}},\"id\":\"1313\",\"type\":\"Circle\"},{\"attributes\":{},\"id\":\"1355\",\"type\":\"Selection\"},{\"attributes\":{\"formatter\":{\"id\":\"1361\",\"type\":\"BasicTickFormatter\"},\"ticker\":{\"id\":\"1327\",\"type\":\"BasicTicker\"}},\"id\":\"1326\",\"type\":\"LinearAxis\"},{\"attributes\":{},\"id\":\"1338\",\"type\":\"HelpTool\"},{\"attributes\":{\"callback\":null},\"id\":\"1289\",\"type\":\"DataRange1d\"},{\"attributes\":{\"dimension\":1,\"ticker\":{\"id\":\"1332\",\"type\":\"BasicTicker\"}},\"id\":\"1335\",\"type\":\"Grid\"},{\"attributes\":{\"bottom_units\":\"screen\",\"fill_alpha\":{\"value\":0.5},\"fill_color\":{\"value\":\"lightgrey\"},\"left_units\":\"screen\",\"level\":\"overlay\",\"line_alpha\":{\"value\":1.0},\"line_color\":{\"value\":\"black\"},\"line_dash\":[4,4],\"line_width\":{\"value\":2},\"render_mode\":\"css\",\"right_units\":\"screen\",\"top_units\":\"screen\"},\"id\":\"1356\",\"type\":\"BoxAnnotation\"},{\"attributes\":{\"callback\":null,\"overlay\":{\"id\":\"1356\",\"type\":\"BoxAnnotation\"}},\"id\":\"1305\",\"type\":\"BoxSelectTool\"},{\"attributes\":{\"callback\":null},\"id\":\"1287\",\"type\":\"DataRange1d\"},{\"attributes\":{\"fill_alpha\":{\"value\":0.5},\"fill_color\":{\"value\":\"lightgrey\"},\"level\":\"overlay\",\"line_alpha\":{\"value\":1.0},\"line_color\":{\"value\":\"black\"},\"line_dash\":[4,4],\"line_width\":{\"value\":2},\"xs_units\":\"screen\",\"ys_units\":\"screen\"},\"id\":\"1357\",\"type\":\"PolyAnnotation\"},{\"attributes\":{\"ticker\":{\"id\":\"1327\",\"type\":\"BasicTicker\"}},\"id\":\"1330\",\"type\":\"Grid\"},{\"attributes\":{\"bottom_units\":\"screen\",\"fill_alpha\":{\"value\":0.5},\"fill_color\":{\"value\":\"lightgrey\"},\"left_units\":\"screen\",\"level\":\"overlay\",\"line_alpha\":{\"value\":1.0},\"line_color\":{\"value\":\"black\"},\"line_dash\":[4,4],\"line_width\":{\"value\":2},\"render_mode\":\"css\",\"right_units\":\"screen\",\"top_units\":\"screen\"},\"id\":\"1367\",\"type\":\"BoxAnnotation\"},{\"attributes\":{},\"id\":\"1322\",\"type\":\"LinearScale\"},{\"attributes\":{\"below\":[{\"id\":\"1295\",\"type\":\"LinearAxis\"}],\"center\":[{\"id\":\"1299\",\"type\":\"Grid\"},{\"id\":\"1304\",\"type\":\"Grid\"}],\"left\":[{\"id\":\"1300\",\"type\":\"LinearAxis\"}],\"plot_height\":300,\"plot_width\":300,\"renderers\":[{\"id\":\"1315\",\"type\":\"GlyphRenderer\"}],\"title\":{\"id\":\"1348\",\"type\":\"Title\"},\"toolbar\":{\"id\":\"1308\",\"type\":\"Toolbar\"},\"toolbar_location\":null,\"x_range\":{\"id\":\"1287\",\"type\":\"DataRange1d\"},\"x_scale\":{\"id\":\"1291\",\"type\":\"LinearScale\"},\"y_range\":{\"id\":\"1289\",\"type\":\"DataRange1d\"},\"y_scale\":{\"id\":\"1293\",\"type\":\"LinearScale\"}},\"id\":\"1286\",\"subtype\":\"Figure\",\"type\":\"Plot\"},{\"attributes\":{},\"id\":\"1363\",\"type\":\"BasicTickFormatter\"},{\"attributes\":{\"children\":[[{\"id\":\"1286\",\"subtype\":\"Figure\",\"type\":\"Plot\"},0,0],[{\"id\":\"1317\",\"subtype\":\"Figure\",\"type\":\"Plot\"},0,1]]},\"id\":\"1370\",\"type\":\"GridBox\"},{\"attributes\":{},\"id\":\"1361\",\"type\":\"BasicTickFormatter\"},{\"attributes\":{},\"id\":\"1293\",\"type\":\"LinearScale\"},{\"attributes\":{\"text\":\"\"},\"id\":\"1359\",\"type\":\"Title\"},{\"attributes\":{},\"id\":\"1291\",\"type\":\"LinearScale\"},{\"attributes\":{},\"id\":\"1324\",\"type\":\"LinearScale\"},{\"attributes\":{\"formatter\":{\"id\":\"1363\",\"type\":\"BasicTickFormatter\"},\"ticker\":{\"id\":\"1332\",\"type\":\"BasicTicker\"}},\"id\":\"1331\",\"type\":\"LinearAxis\"},{\"attributes\":{\"formatter\":{\"id\":\"1350\",\"type\":\"BasicTickFormatter\"},\"ticker\":{\"id\":\"1296\",\"type\":\"BasicTicker\"}},\"id\":\"1295\",\"type\":\"LinearAxis\"},{\"attributes\":{\"callback\":null},\"id\":\"1320\",\"type\":\"DataRange1d\"},{\"attributes\":{},\"id\":\"1332\",\"type\":\"BasicTicker\"},{\"attributes\":{},\"id\":\"1301\",\"type\":\"BasicTicker\"},{\"attributes\":{\"fill_alpha\":{\"value\":0.1},\"fill_color\":{\"value\":\"#1f77b4\"},\"line_alpha\":{\"value\":0.1},\"line_color\":{\"value\":\"#1f77b4\"},\"x\":{\"field\":\"x\"},\"y\":{\"field\":\"y1\"}},\"id\":\"1345\",\"type\":\"Circle\"},{\"attributes\":{\"fill_alpha\":{\"value\":0.5},\"fill_color\":{\"value\":\"lightgrey\"},\"level\":\"overlay\",\"line_alpha\":{\"value\":1.0},\"line_color\":{\"value\":\"black\"},\"line_dash\":[4,4],\"line_width\":{\"value\":2},\"xs_units\":\"screen\",\"ys_units\":\"screen\"},\"id\":\"1368\",\"type\":\"PolyAnnotation\"},{\"attributes\":{},\"id\":\"1296\",\"type\":\"BasicTicker\"},{\"attributes\":{\"ticker\":{\"id\":\"1296\",\"type\":\"BasicTicker\"}},\"id\":\"1299\",\"type\":\"Grid\"},{\"attributes\":{\"fill_alpha\":{\"value\":0.1},\"fill_color\":{\"value\":\"#1f77b4\"},\"line_alpha\":{\"value\":0.1},\"line_color\":{\"value\":\"#1f77b4\"},\"x\":{\"field\":\"x\"},\"y\":{\"field\":\"y0\"}},\"id\":\"1314\",\"type\":\"Circle\"},{\"attributes\":{\"active_drag\":\"auto\",\"active_inspect\":\"auto\",\"active_multi\":null,\"active_scroll\":\"auto\",\"active_tap\":\"auto\",\"tools\":[{\"id\":\"1305\",\"type\":\"BoxSelectTool\"},{\"id\":\"1306\",\"type\":\"LassoSelectTool\"},{\"id\":\"1307\",\"type\":\"HelpTool\"}]},\"id\":\"1308\",\"type\":\"Toolbar\"},{\"attributes\":{\"callback\":null},\"id\":\"1318\",\"type\":\"DataRange1d\"},{\"attributes\":{\"dimension\":1,\"ticker\":{\"id\":\"1301\",\"type\":\"BasicTicker\"}},\"id\":\"1304\",\"type\":\"Grid\"},{\"attributes\":{\"text\":\"\"},\"id\":\"1348\",\"type\":\"Title\"},{\"attributes\":{\"data_source\":{\"id\":\"1285\",\"type\":\"ColumnDataSource\"},\"glyph\":{\"id\":\"1313\",\"type\":\"Circle\"},\"hover_glyph\":null,\"muted_glyph\":null,\"nonselection_glyph\":{\"id\":\"1314\",\"type\":\"Circle\"},\"selection_glyph\":null,\"view\":{\"id\":\"1316\",\"type\":\"CDSView\"}},\"id\":\"1315\",\"type\":\"GlyphRenderer\"},{\"attributes\":{\"formatter\":{\"id\":\"1352\",\"type\":\"BasicTickFormatter\"},\"ticker\":{\"id\":\"1301\",\"type\":\"BasicTicker\"}},\"id\":\"1300\",\"type\":\"LinearAxis\"},{\"attributes\":{},\"id\":\"1327\",\"type\":\"BasicTicker\"},{\"attributes\":{\"data_source\":{\"id\":\"1285\",\"type\":\"ColumnDataSource\"},\"glyph\":{\"id\":\"1344\",\"type\":\"Circle\"},\"hover_glyph\":null,\"muted_glyph\":null,\"nonselection_glyph\":{\"id\":\"1345\",\"type\":\"Circle\"},\"selection_glyph\":null,\"view\":{\"id\":\"1347\",\"type\":\"CDSView\"}},\"id\":\"1346\",\"type\":\"GlyphRenderer\"},{\"attributes\":{\"source\":{\"id\":\"1285\",\"type\":\"ColumnDataSource\"}},\"id\":\"1316\",\"type\":\"CDSView\"},{\"attributes\":{\"toolbar\":{\"id\":\"1371\",\"type\":\"ProxyToolbar\"},\"toolbar_location\":\"above\"},\"id\":\"1372\",\"type\":\"ToolbarBox\"},{\"attributes\":{},\"id\":\"1307\",\"type\":\"HelpTool\"}],\"root_ids\":[\"1373\"]},\"title\":\"Bokeh Application\",\"version\":\"1.4.0\"}};\n",
       "  var render_items = [{\"docid\":\"1e2484d2-6367-4721-a05f-9a9ec59dfd2e\",\"roots\":{\"1373\":\"0d750e78-607d-43ca-8b36-4a2687bec0cb\"}}];\n",
       "  root.Bokeh.embed.embed_items_notebook(docs_json, render_items);\n",
       "\n",
       "  }\n",
       "  if (root.Bokeh !== undefined) {\n",
       "    embed_document(root);\n",
       "  } else {\n",
       "    var attempts = 0;\n",
       "    var timer = setInterval(function(root) {\n",
       "      if (root.Bokeh !== undefined) {\n",
       "        clearInterval(timer);\n",
       "        embed_document(root);\n",
       "      } else {\n",
       "        attempts++;\n",
       "        if (attempts > 100) {\n",
       "          clearInterval(timer);\n",
       "          console.log(\"Bokeh: ERROR: Unable to run BokehJS code because BokehJS library is missing\");\n",
       "        }\n",
       "      }\n",
       "    }, 10, root)\n",
       "  }\n",
       "})(window);"
      ],
      "application/vnd.bokehjs_exec.v0+json": ""
     },
     "metadata": {
      "application/vnd.bokehjs_exec.v0+json": {
       "id": "1373"
      }
     },
     "output_type": "display_data"
    }
   ],
   "source": [
    "from bokeh.models import ColumnDataSource\n",
    "\n",
    "x = list(range(-20, 21))\n",
    "y0, y1 = [abs(xx) for xx in x], [xx**2 for xx in x]\n",
    "\n",
    "# create a column data source for the plots to share\n",
    "source = ColumnDataSource(data=dict(x=x, y0=y0, y1=y1))\n",
    "\n",
    "TOOLS = \"box_select,lasso_select,help\"\n",
    "\n",
    "# create a new plot and add a renderer\n",
    "left = figure(tools=TOOLS, width=300, height=300)\n",
    "left.circle('x', 'y0', source=source)\n",
    "\n",
    "# create another new plot and add a renderer\n",
    "right = figure(tools=TOOLS, width=300, height=300)\n",
    "right.circle('x', 'y1', source=source)\n",
    "\n",
    "p = gridplot([[left, right]])\n",
    "\n",
    "show(p)"
   ]
  },
  {
   "cell_type": "code",
   "execution_count": 5,
   "metadata": {},
   "outputs": [],
   "source": [
    "# EXERCISE: create two plots in a gridplot, and link their data sources\n",
    "\n"
   ]
  },
  {
   "cell_type": "markdown",
   "metadata": {},
   "source": [
    "# Hover Tools\n",
    "\n",
    "Bokeh has a Hover Tool that allows additional information to be displayed in a popup whenever the user hovers over a specific glyph. Basic hover tool configuration amounts to providing a list of ``(name, format)`` tuples. The full details can be found in the User's Guide [here](https://bokeh.pydata.org/en/latest/docs/user_guide/tools.html#hovertool).\n",
    "\n",
    "The example below shows some basic usage of the Hover tool with a circle glyph, using hover information defined in utils.py:"
   ]
  },
  {
   "cell_type": "code",
   "execution_count": 6,
   "metadata": {},
   "outputs": [
    {
     "data": {
      "text/html": [
       "\n",
       "\n",
       "\n",
       "\n",
       "\n",
       "\n",
       "  <div class=\"bk-root\" id=\"e6a1ff1d-2852-46d3-8e93-c963a074a6f5\" data-root-id=\"1528\"></div>\n"
      ]
     },
     "metadata": {},
     "output_type": "display_data"
    },
    {
     "data": {
      "application/javascript": [
       "(function(root) {\n",
       "  function embed_document(root) {\n",
       "    \n",
       "  var docs_json = {\"b5c8a0b9-9e60-4111-8a5d-5b8222577f4f\":{\"roots\":{\"references\":[{\"attributes\":{\"below\":[{\"id\":\"1539\",\"type\":\"LinearAxis\"}],\"center\":[{\"id\":\"1543\",\"type\":\"Grid\"},{\"id\":\"1548\",\"type\":\"Grid\"}],\"left\":[{\"id\":\"1544\",\"type\":\"LinearAxis\"}],\"plot_height\":300,\"plot_width\":300,\"renderers\":[{\"id\":\"1554\",\"type\":\"GlyphRenderer\"}],\"title\":{\"id\":\"1529\",\"type\":\"Title\"},\"toolbar\":{\"id\":\"1549\",\"type\":\"Toolbar\"},\"x_range\":{\"id\":\"1531\",\"type\":\"DataRange1d\"},\"x_scale\":{\"id\":\"1535\",\"type\":\"LinearScale\"},\"y_range\":{\"id\":\"1533\",\"type\":\"DataRange1d\"},\"y_scale\":{\"id\":\"1537\",\"type\":\"LinearScale\"}},\"id\":\"1528\",\"subtype\":\"Figure\",\"type\":\"Plot\"},{\"attributes\":{\"text\":\"Mouse over the dots\"},\"id\":\"1529\",\"type\":\"Title\"},{\"attributes\":{},\"id\":\"1604\",\"type\":\"Selection\"},{\"attributes\":{},\"id\":\"1537\",\"type\":\"LinearScale\"},{\"attributes\":{},\"id\":\"1603\",\"type\":\"UnionRenderers\"},{\"attributes\":{\"formatter\":{\"id\":\"1599\",\"type\":\"BasicTickFormatter\"},\"ticker\":{\"id\":\"1540\",\"type\":\"BasicTicker\"}},\"id\":\"1539\",\"type\":\"LinearAxis\"},{\"attributes\":{\"callback\":null},\"id\":\"1533\",\"type\":\"DataRange1d\"},{\"attributes\":{},\"id\":\"1545\",\"type\":\"BasicTicker\"},{\"attributes\":{},\"id\":\"1535\",\"type\":\"LinearScale\"},{\"attributes\":{},\"id\":\"1540\",\"type\":\"BasicTicker\"},{\"attributes\":{\"ticker\":{\"id\":\"1540\",\"type\":\"BasicTicker\"}},\"id\":\"1543\",\"type\":\"Grid\"},{\"attributes\":{\"callback\":null},\"id\":\"1531\",\"type\":\"DataRange1d\"},{\"attributes\":{\"active_drag\":\"auto\",\"active_inspect\":\"auto\",\"active_multi\":null,\"active_scroll\":\"auto\",\"active_tap\":\"auto\",\"tools\":[{\"id\":\"1527\",\"type\":\"HoverTool\"}]},\"id\":\"1549\",\"type\":\"Toolbar\"},{\"attributes\":{\"dimension\":1,\"ticker\":{\"id\":\"1545\",\"type\":\"BasicTicker\"}},\"id\":\"1548\",\"type\":\"Grid\"},{\"attributes\":{\"formatter\":{\"id\":\"1601\",\"type\":\"BasicTickFormatter\"},\"ticker\":{\"id\":\"1545\",\"type\":\"BasicTicker\"}},\"id\":\"1544\",\"type\":\"LinearAxis\"},{\"attributes\":{\"fill_color\":{\"value\":\"#1f77b4\"},\"line_color\":{\"value\":\"#1f77b4\"},\"size\":{\"units\":\"screen\",\"value\":20},\"x\":{\"field\":\"x\"},\"y\":{\"field\":\"y\"}},\"id\":\"1552\",\"type\":\"Circle\"},{\"attributes\":{\"callback\":null,\"tooltips\":[[\"index\",\"$index\"],[\"(x,y)\",\"($x, $y)\"],[\"desc\",\"@desc\"]]},\"id\":\"1527\",\"type\":\"HoverTool\"},{\"attributes\":{\"fill_alpha\":{\"value\":0.1},\"fill_color\":{\"value\":\"#1f77b4\"},\"line_alpha\":{\"value\":0.1},\"line_color\":{\"value\":\"#1f77b4\"},\"size\":{\"units\":\"screen\",\"value\":20},\"x\":{\"field\":\"x\"},\"y\":{\"field\":\"y\"}},\"id\":\"1553\",\"type\":\"Circle\"},{\"attributes\":{\"callback\":null,\"data\":{\"desc\":[\"A\",\"b\",\"C\",\"d\",\"E\"],\"x\":[1,2,3,4,5],\"y\":[2,5,8,2,7]},\"selected\":{\"id\":\"1604\",\"type\":\"Selection\"},\"selection_policy\":{\"id\":\"1603\",\"type\":\"UnionRenderers\"}},\"id\":\"1526\",\"type\":\"ColumnDataSource\"},{\"attributes\":{\"data_source\":{\"id\":\"1526\",\"type\":\"ColumnDataSource\"},\"glyph\":{\"id\":\"1552\",\"type\":\"Circle\"},\"hover_glyph\":null,\"muted_glyph\":null,\"nonselection_glyph\":{\"id\":\"1553\",\"type\":\"Circle\"},\"selection_glyph\":null,\"view\":{\"id\":\"1555\",\"type\":\"CDSView\"}},\"id\":\"1554\",\"type\":\"GlyphRenderer\"},{\"attributes\":{\"source\":{\"id\":\"1526\",\"type\":\"ColumnDataSource\"}},\"id\":\"1555\",\"type\":\"CDSView\"},{\"attributes\":{},\"id\":\"1601\",\"type\":\"BasicTickFormatter\"},{\"attributes\":{},\"id\":\"1599\",\"type\":\"BasicTickFormatter\"}],\"root_ids\":[\"1528\"]},\"title\":\"Bokeh Application\",\"version\":\"1.4.0\"}};\n",
       "  var render_items = [{\"docid\":\"b5c8a0b9-9e60-4111-8a5d-5b8222577f4f\",\"roots\":{\"1528\":\"e6a1ff1d-2852-46d3-8e93-c963a074a6f5\"}}];\n",
       "  root.Bokeh.embed.embed_items_notebook(docs_json, render_items);\n",
       "\n",
       "  }\n",
       "  if (root.Bokeh !== undefined) {\n",
       "    embed_document(root);\n",
       "  } else {\n",
       "    var attempts = 0;\n",
       "    var timer = setInterval(function(root) {\n",
       "      if (root.Bokeh !== undefined) {\n",
       "        clearInterval(timer);\n",
       "        embed_document(root);\n",
       "      } else {\n",
       "        attempts++;\n",
       "        if (attempts > 100) {\n",
       "          clearInterval(timer);\n",
       "          console.log(\"Bokeh: ERROR: Unable to run BokehJS code because BokehJS library is missing\");\n",
       "        }\n",
       "      }\n",
       "    }, 10, root)\n",
       "  }\n",
       "})(window);"
      ],
      "application/vnd.bokehjs_exec.v0+json": ""
     },
     "metadata": {
      "application/vnd.bokehjs_exec.v0+json": {
       "id": "1528"
      }
     },
     "output_type": "display_data"
    }
   ],
   "source": [
    "from bokeh.models import HoverTool\n",
    "\n",
    "source = ColumnDataSource(\n",
    "        data=dict(\n",
    "            x=[1, 2, 3, 4, 5],\n",
    "            y=[2, 5, 8, 2, 7],\n",
    "            desc=['A', 'b', 'C', 'd', 'E'],\n",
    "        )\n",
    "    )\n",
    "\n",
    "hover = HoverTool(\n",
    "        tooltips=[\n",
    "            (\"index\", \"$index\"),\n",
    "            (\"(x,y)\", \"($x, $y)\"),\n",
    "            (\"desc\", \"@desc\"),\n",
    "        ]\n",
    "    )\n",
    "\n",
    "p = figure(plot_width=300, plot_height=300, tools=[hover], title=\"Mouse over the dots\")\n",
    "\n",
    "p.circle('x', 'y', size=20, source=source)\n",
    "\n",
    "show(p)"
   ]
  },
  {
   "cell_type": "markdown",
   "metadata": {},
   "source": [
    "# Widgets"
   ]
  },
  {
   "cell_type": "markdown",
   "metadata": {},
   "source": [
    "Bokeh supports direct integration with a small basic widget set. Thse can be used in conjunction with a Bokeh Server, or with ``CustomJS`` models to add more interactive capability to your documents. You can see a complete list, with example code in the [Adding Widgets](https://bokeh.pydata.org/en/latest/docs/user_guide/interaction.html#adding-widgets) section of the User's Guide. \n",
    "\n",
    "\n",
    "\n",
    "*NOTE: In this Tutorial chapter, we will focus on using widgets with JavaScript callbacks. The Tutorial chapter on Bokeh server applications covers using Bokeh widgets with real Python callbacks*\n",
    "\n",
    "\n",
    "\n",
    "\n",
    "To use the widgets, include them in a layout like you would a plot object:"
   ]
  },
  {
   "cell_type": "code",
   "execution_count": 7,
   "metadata": {},
   "outputs": [
    {
     "data": {
      "text/html": [
       "\n",
       "\n",
       "\n",
       "\n",
       "\n",
       "\n",
       "  <div class=\"bk-root\" id=\"e90bf0f0-f36c-4ffd-95df-f7781067c67d\" data-root-id=\"1648\"></div>\n"
      ]
     },
     "metadata": {},
     "output_type": "display_data"
    },
    {
     "data": {
      "application/javascript": [
       "(function(root) {\n",
       "  function embed_document(root) {\n",
       "    \n",
       "  var docs_json = {\"6eba72cb-e427-479b-a824-7e703598e17c\":{\"roots\":{\"references\":[{\"attributes\":{\"children\":[{\"id\":\"1647\",\"type\":\"Slider\"}]},\"id\":\"1648\",\"type\":\"WidgetBox\"},{\"attributes\":{\"callback\":null,\"end\":10,\"start\":0,\"step\":0.1,\"title\":\"foo\",\"value\":1},\"id\":\"1647\",\"type\":\"Slider\"}],\"root_ids\":[\"1648\"]},\"title\":\"Bokeh Application\",\"version\":\"1.4.0\"}};\n",
       "  var render_items = [{\"docid\":\"6eba72cb-e427-479b-a824-7e703598e17c\",\"roots\":{\"1648\":\"e90bf0f0-f36c-4ffd-95df-f7781067c67d\"}}];\n",
       "  root.Bokeh.embed.embed_items_notebook(docs_json, render_items);\n",
       "\n",
       "  }\n",
       "  if (root.Bokeh !== undefined) {\n",
       "    embed_document(root);\n",
       "  } else {\n",
       "    var attempts = 0;\n",
       "    var timer = setInterval(function(root) {\n",
       "      if (root.Bokeh !== undefined) {\n",
       "        clearInterval(timer);\n",
       "        embed_document(root);\n",
       "      } else {\n",
       "        attempts++;\n",
       "        if (attempts > 100) {\n",
       "          clearInterval(timer);\n",
       "          console.log(\"Bokeh: ERROR: Unable to run BokehJS code because BokehJS library is missing\");\n",
       "        }\n",
       "      }\n",
       "    }, 10, root)\n",
       "  }\n",
       "})(window);"
      ],
      "application/vnd.bokehjs_exec.v0+json": ""
     },
     "metadata": {
      "application/vnd.bokehjs_exec.v0+json": {
       "id": "1648"
      }
     },
     "output_type": "display_data"
    }
   ],
   "source": [
    "from bokeh.layouts import widgetbox\n",
    "from bokeh.models.widgets import Slider\n",
    "\n",
    "\n",
    "slider = Slider(start=0, end=10, value=1, step=.1, title=\"foo\")\n",
    "\n",
    "show(widgetbox(slider))"
   ]
  },
  {
   "cell_type": "code",
   "execution_count": 8,
   "metadata": {},
   "outputs": [],
   "source": [
    "# EXERCISE: create and show a Select widget \n"
   ]
  },
  {
   "cell_type": "markdown",
   "metadata": {},
   "source": [
    "# CustomJS Callbacks\n",
    "\n",
    "In order for a widget to be useful, it needs to be able to perform some action. Using the Bokeh server, it is possible to have widgets trigger real Python code. That possibuility will be explored in the Bokeh server chapter of the turorial. Here, we look at how widgets can be configured with `CustomJS` callbacks that execute snippets of JavaScript code. "
   ]
  },
  {
   "cell_type": "code",
   "execution_count": 9,
   "metadata": {},
   "outputs": [
    {
     "data": {
      "text/html": [
       "\n",
       "\n",
       "\n",
       "\n",
       "\n",
       "\n",
       "  <div class=\"bk-root\" id=\"054f15f4-0737-430b-88a0-945a33ff1593\" data-root-id=\"1700\"></div>\n"
      ]
     },
     "metadata": {},
     "output_type": "display_data"
    },
    {
     "data": {
      "application/javascript": [
       "(function(root) {\n",
       "  function embed_document(root) {\n",
       "    \n",
       "  var docs_json = {\"b0ef2a56-0698-46ef-888f-d6527e7013ab\":{\"roots\":{\"references\":[{\"attributes\":{\"below\":[{\"id\":\"1709\",\"type\":\"LinearAxis\"}],\"center\":[{\"id\":\"1713\",\"type\":\"Grid\"},{\"id\":\"1718\",\"type\":\"Grid\"}],\"left\":[{\"id\":\"1714\",\"type\":\"LinearAxis\"}],\"plot_height\":300,\"renderers\":[{\"id\":\"1724\",\"type\":\"GlyphRenderer\"}],\"title\":{\"id\":\"1775\",\"type\":\"Title\"},\"toolbar\":{\"id\":\"1719\",\"type\":\"Toolbar\"},\"x_range\":{\"id\":\"1701\",\"type\":\"DataRange1d\"},\"x_scale\":{\"id\":\"1705\",\"type\":\"LinearScale\"},\"y_range\":{\"id\":\"1703\",\"type\":\"DataRange1d\"},\"y_scale\":{\"id\":\"1707\",\"type\":\"LinearScale\"}},\"id\":\"1700\",\"subtype\":\"Figure\",\"type\":\"Plot\"},{\"attributes\":{\"callback\":null,\"data\":{\"x\":[1,2,3,4,5],\"y\":[2,5,8,2,7]},\"selected\":{\"id\":\"1782\",\"type\":\"Selection\"},\"selection_policy\":{\"id\":\"1781\",\"type\":\"UnionRenderers\"}},\"id\":\"1721\",\"type\":\"ColumnDataSource\"},{\"attributes\":{\"fill_alpha\":{\"value\":0.1},\"fill_color\":{\"value\":\"#1f77b4\"},\"line_alpha\":{\"value\":0.1},\"line_color\":{\"value\":\"#1f77b4\"},\"size\":{\"units\":\"screen\",\"value\":20},\"x\":{\"field\":\"x\"},\"y\":{\"field\":\"y\"}},\"id\":\"1723\",\"type\":\"Circle\"},{\"attributes\":{\"data_source\":{\"id\":\"1721\",\"type\":\"ColumnDataSource\"},\"glyph\":{\"id\":\"1722\",\"type\":\"Circle\"},\"hover_glyph\":null,\"muted_glyph\":null,\"nonselection_glyph\":{\"id\":\"1723\",\"type\":\"Circle\"},\"selection_glyph\":null,\"view\":{\"id\":\"1725\",\"type\":\"CDSView\"}},\"id\":\"1724\",\"type\":\"GlyphRenderer\"},{\"attributes\":{\"callback\":null},\"id\":\"1701\",\"type\":\"DataRange1d\"},{\"attributes\":{},\"id\":\"1705\",\"type\":\"LinearScale\"},{\"attributes\":{\"code\":\"alert('you tapped a circle!')\"},\"id\":\"1698\",\"type\":\"CustomJS\"},{\"attributes\":{\"callback\":{\"id\":\"1698\",\"type\":\"CustomJS\"}},\"id\":\"1699\",\"type\":\"TapTool\"},{\"attributes\":{\"active_drag\":\"auto\",\"active_inspect\":\"auto\",\"active_multi\":null,\"active_scroll\":\"auto\",\"active_tap\":\"auto\",\"tools\":[{\"id\":\"1699\",\"type\":\"TapTool\"}]},\"id\":\"1719\",\"type\":\"Toolbar\"},{\"attributes\":{\"source\":{\"id\":\"1721\",\"type\":\"ColumnDataSource\"}},\"id\":\"1725\",\"type\":\"CDSView\"},{\"attributes\":{\"ticker\":{\"id\":\"1710\",\"type\":\"BasicTicker\"}},\"id\":\"1713\",\"type\":\"Grid\"},{\"attributes\":{\"dimension\":1,\"ticker\":{\"id\":\"1715\",\"type\":\"BasicTicker\"}},\"id\":\"1718\",\"type\":\"Grid\"},{\"attributes\":{\"text\":\"\"},\"id\":\"1775\",\"type\":\"Title\"},{\"attributes\":{},\"id\":\"1710\",\"type\":\"BasicTicker\"},{\"attributes\":{\"callback\":null},\"id\":\"1703\",\"type\":\"DataRange1d\"},{\"attributes\":{},\"id\":\"1779\",\"type\":\"BasicTickFormatter\"},{\"attributes\":{},\"id\":\"1777\",\"type\":\"BasicTickFormatter\"},{\"attributes\":{},\"id\":\"1715\",\"type\":\"BasicTicker\"},{\"attributes\":{},\"id\":\"1781\",\"type\":\"UnionRenderers\"},{\"attributes\":{},\"id\":\"1782\",\"type\":\"Selection\"},{\"attributes\":{\"formatter\":{\"id\":\"1779\",\"type\":\"BasicTickFormatter\"},\"ticker\":{\"id\":\"1715\",\"type\":\"BasicTicker\"}},\"id\":\"1714\",\"type\":\"LinearAxis\"},{\"attributes\":{\"fill_color\":{\"value\":\"#1f77b4\"},\"line_color\":{\"value\":\"#1f77b4\"},\"size\":{\"units\":\"screen\",\"value\":20},\"x\":{\"field\":\"x\"},\"y\":{\"field\":\"y\"}},\"id\":\"1722\",\"type\":\"Circle\"},{\"attributes\":{\"formatter\":{\"id\":\"1777\",\"type\":\"BasicTickFormatter\"},\"ticker\":{\"id\":\"1710\",\"type\":\"BasicTicker\"}},\"id\":\"1709\",\"type\":\"LinearAxis\"},{\"attributes\":{},\"id\":\"1707\",\"type\":\"LinearScale\"}],\"root_ids\":[\"1700\"]},\"title\":\"Bokeh Application\",\"version\":\"1.4.0\"}};\n",
       "  var render_items = [{\"docid\":\"b0ef2a56-0698-46ef-888f-d6527e7013ab\",\"roots\":{\"1700\":\"054f15f4-0737-430b-88a0-945a33ff1593\"}}];\n",
       "  root.Bokeh.embed.embed_items_notebook(docs_json, render_items);\n",
       "\n",
       "  }\n",
       "  if (root.Bokeh !== undefined) {\n",
       "    embed_document(root);\n",
       "  } else {\n",
       "    var attempts = 0;\n",
       "    var timer = setInterval(function(root) {\n",
       "      if (root.Bokeh !== undefined) {\n",
       "        clearInterval(timer);\n",
       "        embed_document(root);\n",
       "      } else {\n",
       "        attempts++;\n",
       "        if (attempts > 100) {\n",
       "          clearInterval(timer);\n",
       "          console.log(\"Bokeh: ERROR: Unable to run BokehJS code because BokehJS library is missing\");\n",
       "        }\n",
       "      }\n",
       "    }, 10, root)\n",
       "  }\n",
       "})(window);"
      ],
      "application/vnd.bokehjs_exec.v0+json": ""
     },
     "metadata": {
      "application/vnd.bokehjs_exec.v0+json": {
       "id": "1700"
      }
     },
     "output_type": "display_data"
    }
   ],
   "source": [
    "from bokeh.models import TapTool, CustomJS, ColumnDataSource\n",
    "\n",
    "callback = CustomJS(code=\"alert('you tapped a circle!')\")\n",
    "tap = TapTool(callback=callback)\n",
    "\n",
    "p = figure(plot_width=600, plot_height=300, tools=[tap])\n",
    "\n",
    "p.circle(x=[1, 2, 3, 4, 5], y=[2, 5, 8, 2, 7], size=20)\n",
    "\n",
    "show(p)"
   ]
  },
  {
   "cell_type": "markdown",
   "metadata": {},
   "source": [
    "## CustomJS for Property changes\n",
    "\n",
    "Bokeh objects that have values associated can have small JavaScript actions attached to them using the `js_on_change` method. These actions (also referred to as \"callbacks\") are executed whenever the widget's value is changed. In order to make it easier to refer to specific Bokeh models (e.g., a data source, or a glyhph) from JavaScript, the ``CustomJS`` obejct also accepts a dictionary of \"args\" that map names to Python Bokeh models. The corresponding JavaScript models are made available automaticaly to the ``CustomJS`` code:\n",
    "\n",
    "```python\n",
    "CustomJS(args=dict(source=source, slider=slider), code=\"\"\"\n",
    "    // easily refer to BokehJS source and slider objects in this JS code\n",
    "    var data = source.data;\n",
    "    var f = slider.value;\n",
    "\"\"\")\n",
    "```"
   ]
  },
  {
   "cell_type": "markdown",
   "metadata": {},
   "source": [
    "### Slider widget example\n",
    "\n",
    "The example below shows an action attached to a slider that updates a data source whenever the slider is moved.  "
   ]
  },
  {
   "cell_type": "code",
   "execution_count": 10,
   "metadata": {},
   "outputs": [
    {
     "data": {
      "text/html": [
       "\n",
       "\n",
       "\n",
       "\n",
       "\n",
       "\n",
       "  <div class=\"bk-root\" id=\"b0086d84-2c1e-484b-b6cb-037f0d1b5046\" data-root-id=\"1871\"></div>\n"
      ]
     },
     "metadata": {},
     "output_type": "display_data"
    },
    {
     "data": {
      "application/javascript": [
       "(function(root) {\n",
       "  function embed_document(root) {\n",
       "    \n",
       "  var docs_json = {\"7907ec54-347b-4f0c-a1bf-48f9a4f933b9\":{\"roots\":{\"references\":[{\"attributes\":{\"children\":[{\"id\":\"1869\",\"type\":\"Slider\"},{\"id\":\"1832\",\"subtype\":\"Figure\",\"type\":\"Plot\"}]},\"id\":\"1871\",\"type\":\"Column\"},{\"attributes\":{\"below\":[{\"id\":\"1841\",\"type\":\"LinearAxis\"}],\"center\":[{\"id\":\"1845\",\"type\":\"Grid\"},{\"id\":\"1850\",\"type\":\"Grid\"}],\"left\":[{\"id\":\"1846\",\"type\":\"LinearAxis\"}],\"plot_height\":400,\"plot_width\":400,\"renderers\":[{\"id\":\"1867\",\"type\":\"GlyphRenderer\"}],\"title\":{\"id\":\"1929\",\"type\":\"Title\"},\"toolbar\":{\"id\":\"1857\",\"type\":\"Toolbar\"},\"x_range\":{\"id\":\"1833\",\"type\":\"DataRange1d\"},\"x_scale\":{\"id\":\"1837\",\"type\":\"LinearScale\"},\"y_range\":{\"id\":\"1835\",\"type\":\"DataRange1d\"},\"y_scale\":{\"id\":\"1839\",\"type\":\"LinearScale\"}},\"id\":\"1832\",\"subtype\":\"Figure\",\"type\":\"Plot\"},{\"attributes\":{\"active_drag\":\"auto\",\"active_inspect\":\"auto\",\"active_multi\":null,\"active_scroll\":\"auto\",\"active_tap\":\"auto\",\"tools\":[{\"id\":\"1851\",\"type\":\"PanTool\"},{\"id\":\"1852\",\"type\":\"WheelZoomTool\"},{\"id\":\"1853\",\"type\":\"BoxZoomTool\"},{\"id\":\"1854\",\"type\":\"SaveTool\"},{\"id\":\"1855\",\"type\":\"ResetTool\"},{\"id\":\"1856\",\"type\":\"HelpTool\"}]},\"id\":\"1857\",\"type\":\"Toolbar\"},{\"attributes\":{\"line_alpha\":0.1,\"line_color\":\"#1f77b4\",\"line_width\":3,\"x\":{\"field\":\"x\"},\"y\":{\"field\":\"y\"}},\"id\":\"1866\",\"type\":\"Line\"},{\"attributes\":{\"args\":{\"slider\":{\"id\":\"1869\",\"type\":\"Slider\"},\"source\":{\"id\":\"1831\",\"type\":\"ColumnDataSource\"}},\"code\":\"\\n    var data = source.data;\\n    var f = slider.value;\\n    x = data['x']\\n    y = data['y']\\n    for (i = 0; i < x.length; i++) {\\n        y[i] = Math.pow(x[i], f)\\n    }\\n    \\n    // necessary becasue we mutated source.data in-place\\n    source.change.emit();\\n\"},\"id\":\"1870\",\"type\":\"CustomJS\"},{\"attributes\":{\"data_source\":{\"id\":\"1831\",\"type\":\"ColumnDataSource\"},\"glyph\":{\"id\":\"1865\",\"type\":\"Line\"},\"hover_glyph\":null,\"muted_glyph\":null,\"nonselection_glyph\":{\"id\":\"1866\",\"type\":\"Line\"},\"selection_glyph\":null,\"view\":{\"id\":\"1868\",\"type\":\"CDSView\"}},\"id\":\"1867\",\"type\":\"GlyphRenderer\"},{\"attributes\":{\"callback\":null},\"id\":\"1835\",\"type\":\"DataRange1d\"},{\"attributes\":{},\"id\":\"1851\",\"type\":\"PanTool\"},{\"attributes\":{},\"id\":\"1936\",\"type\":\"Selection\"},{\"attributes\":{\"callback\":null,\"data\":{\"x\":[0.0,0.005,0.01,0.015,0.02,0.025,0.03,0.035,0.04,0.045,0.05,0.055,0.06,0.065,0.07,0.075,0.08,0.085,0.09,0.095,0.1,0.105,0.11,0.115,0.12,0.125,0.13,0.135,0.14,0.145,0.15,0.155,0.16,0.165,0.17,0.17500000000000002,0.18,0.185,0.19,0.195,0.2,0.20500000000000002,0.21,0.215,0.22,0.225,0.23,0.23500000000000001,0.24,0.245,0.25,0.255,0.26,0.265,0.27,0.275,0.28,0.28500000000000003,0.29,0.295,0.3,0.305,0.31,0.315,0.32,0.325,0.33,0.335,0.34,0.34500000000000003,0.35000000000000003,0.355,0.36,0.365,0.37,0.375,0.38,0.385,0.39,0.395,0.4,0.405,0.41000000000000003,0.41500000000000004,0.42,0.425,0.43,0.435,0.44,0.445,0.45,0.455,0.46,0.465,0.47000000000000003,0.47500000000000003,0.48,0.485,0.49,0.495,0.5,0.505,0.51,0.515,0.52,0.525,0.53,0.535,0.54,0.545,0.55,0.555,0.56,0.5650000000000001,0.5700000000000001,0.5750000000000001,0.58,0.585,0.59,0.595,0.6,0.605,0.61,0.615,0.62,0.625,0.63,0.635,0.64,0.645,0.65,0.655,0.66,0.665,0.67,0.675,0.68,0.685,0.6900000000000001,0.6950000000000001,0.7000000000000001,0.705,0.71,0.715,0.72,0.725,0.73,0.735,0.74,0.745,0.75,0.755,0.76,0.765,0.77,0.775,0.78,0.785,0.79,0.795,0.8,0.805,0.81,0.8150000000000001,0.8200000000000001,0.8250000000000001,0.8300000000000001,0.835,0.84,0.845,0.85,0.855,0.86,0.865,0.87,0.875,0.88,0.885,0.89,0.895,0.9,0.905,0.91,0.915,0.92,0.925,0.93,0.935,0.9400000000000001,0.9450000000000001,0.9500000000000001,0.9550000000000001,0.96,0.965,0.97,0.975,0.98,0.985,0.99,0.995,1.0],\"y\":[0.0,0.005,0.01,0.015,0.02,0.025,0.03,0.035,0.04,0.045,0.05,0.055,0.06,0.065,0.07,0.075,0.08,0.085,0.09,0.095,0.1,0.105,0.11,0.115,0.12,0.125,0.13,0.135,0.14,0.145,0.15,0.155,0.16,0.165,0.17,0.17500000000000002,0.18,0.185,0.19,0.195,0.2,0.20500000000000002,0.21,0.215,0.22,0.225,0.23,0.23500000000000001,0.24,0.245,0.25,0.255,0.26,0.265,0.27,0.275,0.28,0.28500000000000003,0.29,0.295,0.3,0.305,0.31,0.315,0.32,0.325,0.33,0.335,0.34,0.34500000000000003,0.35000000000000003,0.355,0.36,0.365,0.37,0.375,0.38,0.385,0.39,0.395,0.4,0.405,0.41000000000000003,0.41500000000000004,0.42,0.425,0.43,0.435,0.44,0.445,0.45,0.455,0.46,0.465,0.47000000000000003,0.47500000000000003,0.48,0.485,0.49,0.495,0.5,0.505,0.51,0.515,0.52,0.525,0.53,0.535,0.54,0.545,0.55,0.555,0.56,0.5650000000000001,0.5700000000000001,0.5750000000000001,0.58,0.585,0.59,0.595,0.6,0.605,0.61,0.615,0.62,0.625,0.63,0.635,0.64,0.645,0.65,0.655,0.66,0.665,0.67,0.675,0.68,0.685,0.6900000000000001,0.6950000000000001,0.7000000000000001,0.705,0.71,0.715,0.72,0.725,0.73,0.735,0.74,0.745,0.75,0.755,0.76,0.765,0.77,0.775,0.78,0.785,0.79,0.795,0.8,0.805,0.81,0.8150000000000001,0.8200000000000001,0.8250000000000001,0.8300000000000001,0.835,0.84,0.845,0.85,0.855,0.86,0.865,0.87,0.875,0.88,0.885,0.89,0.895,0.9,0.905,0.91,0.915,0.92,0.925,0.93,0.935,0.9400000000000001,0.9450000000000001,0.9500000000000001,0.9550000000000001,0.96,0.965,0.97,0.975,0.98,0.985,0.99,0.995,1.0]},\"selected\":{\"id\":\"1936\",\"type\":\"Selection\"},\"selection_policy\":{\"id\":\"1935\",\"type\":\"UnionRenderers\"}},\"id\":\"1831\",\"type\":\"ColumnDataSource\"},{\"attributes\":{},\"id\":\"1852\",\"type\":\"WheelZoomTool\"},{\"attributes\":{\"overlay\":{\"id\":\"1937\",\"type\":\"BoxAnnotation\"}},\"id\":\"1853\",\"type\":\"BoxZoomTool\"},{\"attributes\":{},\"id\":\"1854\",\"type\":\"SaveTool\"},{\"attributes\":{},\"id\":\"1935\",\"type\":\"UnionRenderers\"},{\"attributes\":{\"callback\":null,\"end\":6,\"js_property_callbacks\":{\"change:value\":[{\"id\":\"1870\",\"type\":\"CustomJS\"}]},\"start\":0.1,\"step\":0.1,\"title\":\"power\",\"value\":1},\"id\":\"1869\",\"type\":\"Slider\"},{\"attributes\":{},\"id\":\"1855\",\"type\":\"ResetTool\"},{\"attributes\":{},\"id\":\"1856\",\"type\":\"HelpTool\"},{\"attributes\":{\"ticker\":{\"id\":\"1842\",\"type\":\"BasicTicker\"}},\"id\":\"1845\",\"type\":\"Grid\"},{\"attributes\":{},\"id\":\"1931\",\"type\":\"BasicTickFormatter\"},{\"attributes\":{},\"id\":\"1842\",\"type\":\"BasicTicker\"},{\"attributes\":{},\"id\":\"1847\",\"type\":\"BasicTicker\"},{\"attributes\":{\"formatter\":{\"id\":\"1931\",\"type\":\"BasicTickFormatter\"},\"ticker\":{\"id\":\"1842\",\"type\":\"BasicTicker\"}},\"id\":\"1841\",\"type\":\"LinearAxis\"},{\"attributes\":{},\"id\":\"1839\",\"type\":\"LinearScale\"},{\"attributes\":{\"bottom_units\":\"screen\",\"fill_alpha\":{\"value\":0.5},\"fill_color\":{\"value\":\"lightgrey\"},\"left_units\":\"screen\",\"level\":\"overlay\",\"line_alpha\":{\"value\":1.0},\"line_color\":{\"value\":\"black\"},\"line_dash\":[4,4],\"line_width\":{\"value\":2},\"render_mode\":\"css\",\"right_units\":\"screen\",\"top_units\":\"screen\"},\"id\":\"1937\",\"type\":\"BoxAnnotation\"},{\"attributes\":{\"source\":{\"id\":\"1831\",\"type\":\"ColumnDataSource\"}},\"id\":\"1868\",\"type\":\"CDSView\"},{\"attributes\":{\"dimension\":1,\"ticker\":{\"id\":\"1847\",\"type\":\"BasicTicker\"}},\"id\":\"1850\",\"type\":\"Grid\"},{\"attributes\":{},\"id\":\"1837\",\"type\":\"LinearScale\"},{\"attributes\":{\"text\":\"\"},\"id\":\"1929\",\"type\":\"Title\"},{\"attributes\":{\"callback\":null},\"id\":\"1833\",\"type\":\"DataRange1d\"},{\"attributes\":{},\"id\":\"1933\",\"type\":\"BasicTickFormatter\"},{\"attributes\":{\"line_alpha\":0.6,\"line_color\":\"#1f77b4\",\"line_width\":3,\"x\":{\"field\":\"x\"},\"y\":{\"field\":\"y\"}},\"id\":\"1865\",\"type\":\"Line\"},{\"attributes\":{\"formatter\":{\"id\":\"1933\",\"type\":\"BasicTickFormatter\"},\"ticker\":{\"id\":\"1847\",\"type\":\"BasicTicker\"}},\"id\":\"1846\",\"type\":\"LinearAxis\"}],\"root_ids\":[\"1871\"]},\"title\":\"Bokeh Application\",\"version\":\"1.4.0\"}};\n",
       "  var render_items = [{\"docid\":\"7907ec54-347b-4f0c-a1bf-48f9a4f933b9\",\"roots\":{\"1871\":\"b0086d84-2c1e-484b-b6cb-037f0d1b5046\"}}];\n",
       "  root.Bokeh.embed.embed_items_notebook(docs_json, render_items);\n",
       "\n",
       "  }\n",
       "  if (root.Bokeh !== undefined) {\n",
       "    embed_document(root);\n",
       "  } else {\n",
       "    var attempts = 0;\n",
       "    var timer = setInterval(function(root) {\n",
       "      if (root.Bokeh !== undefined) {\n",
       "        clearInterval(timer);\n",
       "        embed_document(root);\n",
       "      } else {\n",
       "        attempts++;\n",
       "        if (attempts > 100) {\n",
       "          clearInterval(timer);\n",
       "          console.log(\"Bokeh: ERROR: Unable to run BokehJS code because BokehJS library is missing\");\n",
       "        }\n",
       "      }\n",
       "    }, 10, root)\n",
       "  }\n",
       "})(window);"
      ],
      "application/vnd.bokehjs_exec.v0+json": ""
     },
     "metadata": {
      "application/vnd.bokehjs_exec.v0+json": {
       "id": "1871"
      }
     },
     "output_type": "display_data"
    }
   ],
   "source": [
    "from bokeh.layouts import column\n",
    "from bokeh.models import CustomJS, ColumnDataSource, Slider\n",
    "\n",
    "x = [x*0.005 for x in range(0, 201)]\n",
    "\n",
    "source = ColumnDataSource(data=dict(x=x, y=x))\n",
    "\n",
    "plot = figure(plot_width=400, plot_height=400)\n",
    "plot.line('x', 'y', source=source, line_width=3, line_alpha=0.6)\n",
    "\n",
    "slider = Slider(start=0.1, end=6, value=1, step=.1, title=\"power\")\n",
    "\n",
    "update_curve = CustomJS(args=dict(source=source, slider=slider), code=\"\"\"\n",
    "    var data = source.data;\n",
    "    var f = slider.value;\n",
    "    x = data['x']\n",
    "    y = data['y']\n",
    "    for (i = 0; i < x.length; i++) {\n",
    "        y[i] = Math.pow(x[i], f)\n",
    "    }\n",
    "    \n",
    "    // necessary becasue we mutated source.data in-place\n",
    "    source.change.emit();\n",
    "\"\"\")\n",
    "slider.js_on_change('value', update_curve)\n",
    "\n",
    "\n",
    "show(column(slider, plot))"
   ]
  },
  {
   "cell_type": "code",
   "execution_count": 11,
   "metadata": {},
   "outputs": [],
   "source": [
    "# Exercise: Create a plot that updates based on a Select widget\n",
    "\n"
   ]
  },
  {
   "cell_type": "markdown",
   "metadata": {},
   "source": [
    "### Data selection example\n",
    "\n",
    "It's also possible to make JavaScript actions that execute whenever a user selection (e.g., box, point, lasso) changes. This is done by attaching the same kind of CustomJS object to whatever data source the selection is made on.\n",
    "\n",
    "The example below is a bit more sophisticated, and demonstrates updating one glyph's data source in response to another glyph's selection: "
   ]
  },
  {
   "cell_type": "code",
   "execution_count": 12,
   "metadata": {},
   "outputs": [
    {
     "data": {
      "text/html": [
       "\n",
       "\n",
       "\n",
       "\n",
       "\n",
       "\n",
       "  <div class=\"bk-root\" id=\"b744f254-9303-4c97-a252-ed97a9cc6202\" data-root-id=\"1993\"></div>\n"
      ]
     },
     "metadata": {},
     "output_type": "display_data"
    },
    {
     "data": {
      "application/javascript": [
       "(function(root) {\n",
       "  function embed_document(root) {\n",
       "    \n",
       "  var docs_json = {\"11ea3fc1-e28f-441b-8af4-20ea93273229\":{\"roots\":{\"references\":[{\"attributes\":{\"below\":[{\"id\":\"2004\",\"type\":\"LinearAxis\"}],\"center\":[{\"id\":\"2008\",\"type\":\"Grid\"},{\"id\":\"2013\",\"type\":\"Grid\"}],\"left\":[{\"id\":\"2009\",\"type\":\"LinearAxis\"}],\"plot_height\":400,\"plot_width\":400,\"renderers\":[{\"id\":\"2021\",\"type\":\"GlyphRenderer\"},{\"id\":\"2027\",\"type\":\"GlyphRenderer\"}],\"title\":{\"id\":\"1994\",\"type\":\"Title\"},\"toolbar\":{\"id\":\"2015\",\"type\":\"Toolbar\"},\"x_range\":{\"id\":\"1996\",\"type\":\"DataRange1d\"},\"x_scale\":{\"id\":\"2000\",\"type\":\"LinearScale\"},\"y_range\":{\"id\":\"1998\",\"type\":\"DataRange1d\"},\"y_scale\":{\"id\":\"2002\",\"type\":\"LinearScale\"}},\"id\":\"1993\",\"subtype\":\"Figure\",\"type\":\"Plot\"},{\"attributes\":{\"callback\":null,\"overlay\":{\"id\":\"2105\",\"type\":\"PolyAnnotation\"}},\"id\":\"2014\",\"type\":\"LassoSelectTool\"},{\"attributes\":{\"active_drag\":\"auto\",\"active_inspect\":\"auto\",\"active_multi\":null,\"active_scroll\":\"auto\",\"active_tap\":\"auto\",\"tools\":[{\"id\":\"2014\",\"type\":\"LassoSelectTool\"}]},\"id\":\"2015\",\"type\":\"Toolbar\"},{\"attributes\":{\"callback\":{\"id\":\"2029\",\"type\":\"CustomJS\"},\"data\":{\"color\":[\"navy\",\"navy\",\"navy\",\"navy\",\"navy\",\"navy\",\"navy\",\"navy\",\"navy\",\"navy\",\"navy\",\"navy\",\"navy\",\"navy\",\"navy\",\"navy\",\"navy\",\"navy\",\"navy\",\"navy\",\"navy\",\"navy\",\"navy\",\"navy\",\"navy\",\"navy\",\"navy\",\"navy\",\"navy\",\"navy\",\"navy\",\"navy\",\"navy\",\"navy\",\"navy\",\"navy\",\"navy\",\"navy\",\"navy\",\"navy\",\"navy\",\"navy\",\"navy\",\"navy\",\"navy\",\"navy\",\"navy\",\"navy\",\"navy\",\"navy\",\"navy\",\"navy\",\"navy\",\"navy\",\"navy\",\"navy\",\"navy\",\"navy\",\"navy\",\"navy\",\"navy\",\"navy\",\"navy\",\"navy\",\"navy\",\"navy\",\"navy\",\"navy\",\"navy\",\"navy\",\"navy\",\"navy\",\"navy\",\"navy\",\"navy\",\"navy\",\"navy\",\"navy\",\"navy\",\"navy\",\"navy\",\"navy\",\"navy\",\"navy\",\"navy\",\"navy\",\"navy\",\"navy\",\"navy\",\"navy\",\"navy\",\"navy\",\"navy\",\"navy\",\"navy\",\"navy\",\"navy\",\"navy\",\"navy\",\"navy\",\"navy\",\"navy\",\"navy\",\"navy\",\"navy\",\"navy\",\"navy\",\"navy\",\"navy\",\"navy\",\"navy\",\"navy\",\"navy\",\"navy\",\"navy\",\"navy\",\"navy\",\"navy\",\"navy\",\"navy\",\"navy\",\"navy\",\"navy\",\"navy\",\"navy\",\"navy\",\"navy\",\"navy\",\"navy\",\"navy\",\"navy\",\"navy\",\"navy\",\"navy\",\"navy\",\"navy\",\"navy\",\"navy\",\"navy\",\"navy\",\"navy\",\"navy\",\"navy\",\"navy\",\"navy\",\"navy\",\"navy\",\"navy\",\"navy\",\"navy\",\"navy\",\"navy\",\"navy\",\"navy\",\"navy\",\"navy\",\"navy\",\"navy\",\"navy\",\"navy\",\"navy\",\"navy\",\"navy\",\"navy\",\"navy\",\"navy\",\"navy\",\"navy\",\"navy\",\"navy\",\"navy\",\"navy\",\"navy\",\"navy\",\"navy\",\"navy\",\"navy\",\"navy\",\"navy\",\"navy\",\"navy\",\"navy\",\"navy\",\"navy\",\"navy\",\"navy\",\"navy\",\"navy\",\"navy\",\"navy\",\"navy\",\"navy\",\"navy\",\"navy\",\"navy\",\"navy\",\"navy\",\"navy\",\"navy\",\"navy\",\"navy\",\"navy\",\"navy\",\"navy\",\"navy\",\"navy\",\"navy\",\"navy\",\"navy\",\"navy\",\"navy\",\"navy\",\"navy\",\"navy\",\"navy\",\"navy\",\"navy\",\"navy\",\"navy\",\"navy\",\"navy\",\"navy\",\"navy\",\"navy\",\"navy\",\"navy\",\"navy\",\"navy\",\"navy\",\"navy\",\"navy\",\"navy\",\"navy\",\"navy\",\"navy\",\"navy\",\"navy\",\"navy\",\"navy\",\"navy\",\"navy\",\"navy\",\"navy\",\"navy\",\"navy\",\"navy\",\"navy\",\"navy\",\"navy\",\"navy\",\"navy\",\"navy\",\"navy\",\"navy\",\"navy\",\"navy\",\"navy\",\"navy\",\"navy\",\"navy\",\"navy\",\"navy\",\"navy\",\"navy\",\"navy\",\"navy\",\"navy\",\"navy\",\"navy\",\"navy\",\"navy\",\"navy\",\"navy\",\"navy\",\"navy\",\"navy\",\"navy\",\"navy\",\"navy\",\"navy\",\"navy\",\"navy\",\"navy\",\"navy\",\"navy\",\"navy\",\"navy\",\"navy\",\"navy\",\"navy\",\"navy\",\"navy\",\"navy\",\"navy\",\"navy\",\"navy\",\"navy\",\"navy\",\"navy\",\"navy\",\"navy\",\"navy\",\"navy\",\"navy\",\"navy\",\"navy\",\"navy\",\"navy\",\"navy\",\"navy\",\"navy\",\"navy\",\"navy\",\"navy\",\"navy\",\"navy\",\"navy\",\"navy\",\"navy\",\"navy\",\"navy\",\"navy\",\"navy\",\"navy\",\"navy\",\"navy\",\"navy\",\"navy\",\"navy\",\"navy\",\"navy\",\"navy\",\"navy\",\"navy\",\"navy\",\"navy\",\"navy\",\"navy\",\"navy\",\"navy\",\"navy\",\"navy\",\"navy\",\"navy\",\"navy\",\"navy\",\"navy\",\"navy\",\"navy\",\"navy\",\"navy\",\"navy\",\"navy\",\"navy\",\"navy\",\"navy\",\"navy\",\"navy\",\"navy\",\"navy\",\"navy\",\"navy\",\"navy\",\"navy\",\"navy\",\"navy\",\"navy\",\"navy\",\"navy\",\"navy\",\"navy\",\"navy\",\"navy\",\"navy\",\"navy\",\"navy\",\"navy\",\"navy\",\"navy\",\"navy\",\"navy\",\"navy\",\"navy\",\"navy\",\"navy\",\"navy\",\"navy\",\"navy\",\"navy\",\"navy\",\"navy\",\"navy\",\"navy\",\"navy\",\"navy\",\"navy\",\"navy\",\"navy\",\"navy\",\"navy\",\"navy\",\"navy\",\"navy\",\"navy\",\"navy\",\"navy\",\"navy\",\"navy\",\"navy\",\"navy\",\"navy\",\"navy\",\"navy\",\"navy\",\"navy\",\"navy\",\"navy\",\"navy\",\"navy\",\"navy\",\"navy\",\"navy\",\"navy\",\"navy\",\"navy\",\"navy\",\"navy\",\"navy\",\"navy\",\"navy\",\"navy\",\"navy\",\"navy\",\"navy\",\"navy\",\"navy\",\"navy\",\"navy\",\"navy\",\"navy\",\"navy\",\"navy\",\"navy\",\"navy\",\"navy\",\"navy\",\"navy\",\"navy\",\"navy\",\"navy\",\"navy\",\"navy\",\"navy\",\"navy\",\"navy\",\"navy\",\"navy\",\"navy\",\"navy\",\"navy\",\"navy\",\"navy\",\"navy\",\"navy\",\"navy\",\"navy\",\"navy\",\"navy\",\"navy\",\"navy\",\"navy\",\"navy\",\"navy\",\"navy\",\"navy\",\"navy\",\"navy\",\"navy\",\"navy\",\"navy\",\"navy\",\"navy\",\"navy\",\"navy\",\"navy\",\"navy\",\"navy\",\"navy\",\"navy\",\"navy\",\"navy\",\"navy\",\"navy\",\"navy\",\"navy\",\"navy\",\"navy\",\"navy\",\"navy\",\"navy\"],\"x\":[0.19061142789981012,0.8989650852759068,0.6403962176895163,0.9454175629865332,0.03020069841904094,0.5092693671066946,0.8252913794507104,0.6941919270975283,0.2882206633188218,0.3904150915743716,0.5472134791883824,0.1409727793562312,0.9792708365645804,0.2528849710952028,0.02578539252719836,0.8515671535810134,0.39765135708083355,0.8335620137573279,0.8609372195156628,0.5456305602482618,0.006630167492685635,0.6206533590280353,0.21813615231631034,0.8522015126236847,0.44575641531032517,0.9752185681101088,0.689736104222128,0.9627250012891229,0.7216320791103057,0.16256639846296395,0.9161500720402437,0.2203773471538879,0.7464454143295743,0.06648619527674293,0.749697716536719,0.9106207121894525,0.06023502621225052,0.6107715886111184,0.7485639390280056,0.23934424583395764,0.29915418031878593,0.09917883440192432,0.8503066443131845,0.1462563756304316,0.5357480984216322,0.5853486914619525,0.46831607185825197,0.4317838569479262,0.549848374146311,0.7479000932521782,0.16120348667849194,0.7982049368667514,0.4931167986471815,0.8578747967512685,0.33346127420203,0.21612533972717962,0.3807295942914064,0.6514579942748542,0.21579083324800563,0.4148913206853424,0.6943217755308473,0.8706997664597806,0.5104303979401728,0.6058000855126388,0.29582537696777733,0.16479578229721237,0.011739227371355021,0.7535987570814153,0.6241666545340301,0.32066674447968424,0.3657178067300292,0.3159782435991999,0.4601297808728648,0.12138105696713908,0.9006938760350964,0.3032500417508063,0.8617051313057166,0.2157362537040377,0.7362162290012103,0.9318842444859805,0.02532791176270388,0.2984607331342003,0.12242639060694283,0.9597532437851596,0.7471132671391715,0.41969283741286967,0.17423044732731763,0.17656218495798914,0.3544560427036222,0.8113119087203121,0.8963765100957647,0.7649185850985369,0.4235575082829812,0.23939347271131817,0.9707525261238659,0.9920277189185137,0.23462932656706315,0.5813221306020995,0.5962831408849426,0.5967664845030747,0.3938236034906847,0.3250125131862076,0.9478526543056048,0.0021925334080592496,0.12315778527922605,0.9238990172646442,0.9162696807524262,0.18555240020955754,0.7562582265750507,0.03426927292627624,0.9409432241070396,0.3094456348864172,0.3453859713349098,0.5278442307788003,0.8081286275541614,0.5059528402633127,0.5377271985575078,0.18983345914823568,0.4756768422714055,0.5959159737598329,0.9238605401854004,0.26666332591909103,0.1857220031638911,0.8502428716074675,0.5575009422683417,0.16632136124052221,0.6517542977595504,0.7844039721740692,0.30480987084154465,0.6329858277657932,0.20986891498955484,0.05120161177750837,0.3552189908743324,0.8801998783192936,0.43973791797607276,0.46881350119634946,0.5123455229171106,0.7857667807558187,0.37723239240328765,0.9004432359292703,0.8647593019377435,0.9540081682273914,0.897477052703619,0.20771817609649057,0.8305033450454111,0.29149553070449163,0.08197862397480493,0.056672848559292444,0.6246791368172461,0.3153971135291569,0.13277470350595744,0.43795207486233534,0.4661590159519402,0.07803428040278182,0.09948054246254467,0.6666652702824651,0.6072677116852779,0.26421270178408773,0.9106502818980083,0.1751772094712033,0.5059899394777984,0.5657182932712711,0.014234513281783934,0.2707762934211183,0.1546159411204353,0.7880390080209865,0.1579962388633609,0.5682258193540494,0.4959565214049626,0.8112347634697723,0.9140133370634508,0.11266949781196367,0.4981632364504359,0.03401102320954219,0.45598234886950195,0.07777184959906347,0.08727015189743381,0.3313631582823794,0.5316561507552013,0.05569182867178857,0.022297947779589933,0.5499864438300491,0.4258864152039664,0.6798176077844557,0.15983332478555867,0.7669370760504034,0.043196833782530586,0.6488862399927107,0.1425597192519379,0.1337218420852999,0.0787334190663127,0.30010742981159333,0.8434324906028662,0.5037141709414219,0.026125523552434804,0.9239877570358987,0.7246065206660743,0.25878104774633015,0.20597435274786624,0.6867657186353675,0.9690429302965989,0.3626618264701714,0.7714507410182526,0.9074382241368218,0.6708707122540287,0.5421153670544352,0.01554815675115273,0.35992441500715555,0.1474794538950801,0.8073731588712233,0.9033708877143424,0.8924360333255834,0.6520413744106672,0.8564614502282482,0.27248199023731656,0.3158207289448254,0.2800772242283367,0.2385681856453703,0.1985142910732104,0.6981442779834677,0.06327734304159305,0.6844717719399964,0.8732410445760843,0.9680921562798579,0.40815090170474155,0.5526006797933714,0.11344089590771289,0.03829585769000399,0.09797321515243096,0.627026441918547,0.7749821910128162,0.1552178503361349,0.026133174793747327,0.3307660051287703,0.10838135127761095,0.11355868199366548,0.8484475367367784,0.9770622393620235,0.5482353574423109,0.2603469828465791,0.7758251186237596,0.6928565912324257,0.12441740941402835,0.3803620773526486,0.04376243927516077,0.21971859009854344,0.3570674640405199,0.9472096216911406,0.8812248957617065,0.8074712635898965,0.08566540076188245,0.9034423556186305,0.7608313480157382,0.8637430595548076,0.9401169714611187,0.10869535288341592,0.7673346318737432,0.5585851854257622,0.43282140690352777,0.9438606714857474,0.1440232104919379,0.8393619035805038,0.8361280617638228,0.8352890661146286,0.35623075917166325,0.611804354404935,0.7559644835627837,0.7770089388738131,0.5386572230713959,0.6037212312435295,0.8903256973562919,0.015650561214439973,0.35329491031110993,0.7400530202213825,0.4211169486990681,0.38053665049890617,0.6051145324644162,0.06712442850852463,0.30722290534680696,0.4867547519855976,0.6621471109805201,0.5334243815577154,0.6949654282137392,0.8102647420590479,0.6824954566939513,0.7249727663104464,0.022496147825463608,0.7597244945901265,0.7339934388998663,0.10168463203904066,0.4011129042332222,0.7761148062901924,0.26239818998845643,0.4586517222015921,0.9950384173051363,0.3335758899407769,0.42468452240107013,0.0008746345772696618,0.6941173847617896,0.16983711602043328,0.7836273198368424,0.09333675031064437,0.02039011274754443,0.17865040748887362,0.7421964620297068,0.9379541176046611,0.9866209908207488,0.5373021762464433,0.3746972094034041,0.2667913013345411,0.9985784385760763,0.209031198179905,0.9783094938621283,0.18041132129725157,0.27490957234104285,0.144042479034313,0.31229876348031127,0.5767829727782802,0.7271076837589331,0.4945760357932726,0.9554246039447201,0.5021354737021658,0.822227848385658,0.7479047826386773,0.4099939857778402,0.03261075068121666,0.36775824636853904,0.31548688356416854,0.6759787358974294,0.0022349918121903345,0.017086210060107798,0.0936362387159515,0.7551677521616074,0.04222867552889831,0.7001580342286469,0.22129903908610182,0.9093605766199814,0.8454346791837253,0.12339730366314561,0.7887717204643419,0.038522379612872526,0.33236454474911037,0.4953483367236542,0.15774952294801703,0.6024826765036995,0.7276688318968468,0.6619556643836308,0.4584991240079105,0.261433430261204,0.6756533939488306,0.2795319023716073,0.7655005523067833,0.9915033236701574,0.10965496189980584,0.22793242871103936,0.7192207669148974,0.352434172575377,0.22650292799357352,0.8650490658140054,0.09187881397142827,0.6880150678690935,0.4338944064134199,0.6916860158151769,0.6094447068956347,0.555122945915857,0.5667419071308043,0.6297597380935573,0.5016695340661063,0.09923540118854335,0.46408261755598734,0.8265778453935477,0.8629045409768413,0.318453900740033,0.4065726853813415,0.4377603221591557,0.5514911684218652,0.8247575917826745,0.274856406318693,0.33248337302431896,0.6180075289865987,0.26423591686102965,0.18576294866070464,0.9922494227315831,0.2810712360560099,0.392193154390318,0.7309303305887118,0.4385495889088221,0.3869179283108318,0.7545710137534433,0.18980643977672762,0.2511957914666515,0.1318061578272106,0.5100372561159296,0.9072125230343299,0.3208752228766446,0.4740674025521886,0.7889058756148096,0.4817735538690463,0.5628045346423237,0.8324371426200613,0.7805530781988985,0.6413144420289685,0.7882873341356846,0.8995217162995969,0.9286768344963597,0.22919224281974815,0.6445390960419664,0.7335333923978126,0.5794632287465311,0.36855047716750444,0.5391056639540095,0.8551253137634759,0.058764003144922694,0.02852479259571783,0.31525356298311225,0.8695688732746538,0.8751277564524068,0.5991322449062952,0.9237209419746331,0.8211574004814719,0.8377390919182922,0.7674337291572978,0.2605544923150179,0.8375098935368792,0.019446227523529536,0.43173236844269824,0.6654351625584602,0.7417845984149625,0.11920487520595657,0.5434409094633011,0.15463163834175553,0.12249787635758813,0.7086875835433588,0.09923696529340043,0.2522460642570862,0.06605953163619038,0.978259214456806,0.500796093841737,0.9710261123744315,0.7100958067393016,0.6372948628215466,0.8611937278089233,0.27809542432888124,0.6510509358872212,0.09905699413211322,0.3225707862134436,0.5175444403216681,0.43761479785264823,0.6228655577280884,0.3248728618299941,0.4412970122553528,0.032356399176084794,0.4125493977942152,0.8117793036840739,0.9740683178096007,0.7393594409785766,0.22291103875223206,0.8220691511418152,0.6195575566980628,0.5157914662769654,0.8225027665497926,0.8765746694579148,0.04078654801997894,0.8779623709607349,0.45192234776237994,0.003948908151738317,0.1400200745655984,0.8426763889085929,0.2619090986002077,0.6104557214687304,0.24570317185044033,0.03803979196202578,0.13852105552657024,0.903468398693553,0.04354901819440382,0.7264136627127338,0.36452671861000197,0.5681714698798811,0.9452507036821567,0.24271717813925198,0.8476506802322172,0.8019090055290012,0.5724598709481667,0.6533567895173968,0.9905725291696449,0.504772084484772,0.4249314527980851,0.7602702767853983,0.3480938949597484,0.9051936741917685,0.4507545917462945,0.4895691352088647,0.8941266934237371,0.6390497345131616,0.16560151127363865,0.06631232546436006,0.352419511510461,0.22028629995027116,0.9971170771395149,0.0991211842300076],\"y\":[0.6197060059808844,0.011975643820925641,0.3923981798816486,0.4292818746548388,0.9639885504176349,0.13682084676306416,0.9150275264601371,0.47157317730761283,0.7878190100384925,0.16586137585573002,0.20003175338284163,0.7535651232733881,0.7085182363112006,0.10858405711628816,0.4681866708974215,0.8141526253270027,0.613486092732822,0.4984803953100648,0.043934334210289694,0.14751406133389344,0.4911692709085681,0.24231867662996953,0.7441779737273989,0.22265593986678467,0.9641406507221426,0.7834313246389364,0.6331320468661195,0.41518266860774555,0.7255828044521475,0.24246717463243495,0.6240879058798325,0.19897527202411258,0.611575574266344,0.19721497381470365,0.88939438316582,0.9095326466135302,0.5299157205655587,0.3222759101961403,0.9729226670078025,0.10120787865933734,0.4213091709778922,0.49684971638581366,0.31471567889799257,0.8056134888097879,0.821308106305739,0.2602599833817584,0.23204467181686173,0.997614465276391,0.5841079845914423,0.5013938774888367,0.5201394464602058,0.26587377826489744,0.1564097837641143,0.6269443363612719,0.8201216385635307,0.055651887266077504,0.0257908635225228,0.011293453573337331,0.054715558766471606,0.9717781367462528,0.7181004512712604,0.14992806882715748,0.6661181815553774,0.7868203227181653,0.665759262955659,0.5184663258752953,0.14259842034119652,0.1551024614321661,0.9744006691430057,0.5759762390518163,0.7296286687955403,0.4556975987495111,0.41636709223962287,0.5058672668219163,0.7738953743461107,0.37289354146801423,0.13075176485771123,0.9676562424881434,0.18685201134057738,0.6948489230350137,0.06175349347762471,0.8312888874032296,0.7713884220961839,0.6405357882782614,0.19256019748220843,0.9809420067733493,0.408567426216189,0.8450784331515525,0.4114885077549285,0.1407792949237665,0.8491703301838595,0.046665991472157,0.1433730277069677,0.9363056933105691,0.03886467695709661,0.5959693488262449,0.3035896306758563,0.518931860330263,0.508697124265997,0.49638967875877604,0.9582077396716643,0.499081325114725,0.6025610087809232,0.7678585811439311,0.611312278798496,0.03287060007979148,0.5696359938375534,0.930303247794406,0.8592437097134926,0.49841497541722257,0.4363772477809156,0.5355864212839163,0.22436658833261047,0.5167732949615865,0.8643002178579603,0.3083050346521162,0.8664999443250916,0.7102011444314347,0.2358907442907322,0.14691346034368313,0.26988427982826435,0.5436802660688854,0.16432641702075723,0.9756704072436707,0.6212359856994036,0.662582311870478,0.973078016896228,0.9200249569875616,0.8887545775556498,0.6327661295636762,0.9412190622593481,0.9645986205913895,0.8095424484914967,0.8626598406949156,0.8631277776567695,0.9187728520873131,0.8557203107120505,0.22723776299557064,0.7572209981424967,0.7114986859514153,0.3433523936441202,0.40474252388834464,0.8442348070353991,0.9802724024784141,0.5563010561834039,0.8438611179638922,0.693686510051795,0.38981161631866834,0.44598104994556265,0.31305876718308456,0.9257892150042877,0.8504168515165851,0.12442367117890107,0.11825850057695864,0.04520071535704906,0.5874803575574872,0.11997987725320891,0.626645059037103,0.47139743467289297,0.7859058431107031,0.7767035424039997,0.0219920765726217,0.7127650264650962,0.8348716577404077,0.5338144924673915,0.9401247655070892,0.8339463443279436,0.7144232123326631,0.7391156060679028,0.8403435131575834,0.02279138717607998,0.08307111915173615,0.8519141970774453,0.704801654842776,0.920352015122146,0.9799838822785807,0.23713241120283668,0.4269550944302949,0.10389525075499939,0.9234996934035841,0.5296194092339295,0.992306559351673,0.8840200088302891,0.899761726436695,0.5071881323045404,0.9765081519240171,0.942082560963117,0.37243097946233406,0.12789557807408747,0.5026263946220954,0.6594747189033725,0.8870438212131031,0.19013980173027645,0.562863650282028,0.8935142388626275,0.7486652693980778,0.4446147102456751,0.1087891714424476,0.8518392899225203,0.0931007315899437,0.048374796435857514,0.4755814135404839,0.17140449617999087,0.7740173381725189,0.08185032571693085,0.6105726353736997,0.8311553322597725,0.352186575340965,0.45625524930411143,0.2394680991202106,0.6148711870414247,0.15137462407655577,0.09014561905204965,0.22704245391180589,0.6708754610468951,0.25807182378358107,0.2712219629178386,0.665075211600713,0.031312253188001016,0.37226380898604083,0.044926528572706736,0.42297156294590155,0.002882825103522113,0.6030911009222066,0.8265315542872926,0.4094684093353983,0.4533947113382234,0.6367166553995574,0.3449743556404966,0.6890945412640952,0.7648400145983136,0.695837814644649,0.7568549073262536,0.9717260160591673,0.4964328202832735,0.13601928159542476,0.7937583841265136,0.25877349293888663,0.3330232319223442,0.29861524924074734,0.7598636081962422,0.5453737181462499,0.7746466775970525,0.875998942533624,0.09300135539443422,0.44672492488775695,0.8223786406351296,0.6591564352325197,0.6239573801714863,0.23579144853159195,0.6819228765480824,0.08688127141593815,0.693907549314373,0.15111888555887365,0.2241871345448525,0.9285468473289022,0.3038548109065522,0.6205537206856379,0.28082013772200143,0.5905221823357788,0.20387233774388813,0.885556869954941,0.9451820866013365,0.2575649970207401,0.7611341578360415,0.1578567036167018,0.30398648158217534,0.5929432248467248,0.5990257021502234,0.1074427320095257,0.20134130536119244,0.7018526635836952,0.2497906256879181,0.49312937973746995,0.5256166042902678,0.8402496242754707,0.5677037332343291,0.8145780347884488,0.6969074577883544,0.9943452907305944,0.8168093896654232,0.9605745078361289,0.842107560666842,0.43660073594038606,0.8030683377416453,0.12223279719621716,0.6099018068608921,0.06302640164599016,0.8955992889521837,0.37712247802835586,0.03718500854118545,0.4552772842942159,0.21381438003608055,0.001409711262853497,0.0327448758678317,0.7543013609400546,0.7014747232960075,0.5025850940252844,0.8529859178937685,0.7652165027429824,0.17068316560844454,0.5510202906808478,0.6220508386495541,0.8407836617350867,0.47225573739244564,0.08537496048886228,0.8949388552018898,0.8365977731830693,0.47557524707505694,0.910691524141213,0.8886743487335141,0.2238505418591007,0.30053377257369773,0.16836865149805325,0.7682592680627621,0.3214162114702134,0.7097014085765504,0.04060913257278975,0.2916733084130738,0.834697745604721,0.1780820475043159,0.7832808803598291,0.6799253702819046,0.40174981778631313,0.8782911817035371,0.00044474656138460134,0.1759038654183367,0.5750670417067719,0.6253573405814188,0.5677007142774965,0.5219402820112186,0.04550650833677383,0.6995126115253613,0.055543554081754154,0.9740751396948386,0.7679967820495499,0.35200639440819204,0.026980233235062157,0.22748059897539874,0.47359499084926326,0.05822930185474784,0.7632555809168428,0.3892097215621225,0.09001395195556772,0.5981983363312702,0.9298707169946445,0.7468346288596941,0.3602755544034292,0.0072523767276444495,0.490158219635471,0.9327416342385272,0.4666152347928545,0.10715860066374927,0.8743267468139216,0.24153105782068707,0.2435032921469079,0.24129601346851925,0.40647874123295336,0.31559150066398356,0.4639341402207229,0.8520909328087427,0.30661166703547116,0.5068459423267719,0.6156942921786128,0.19110222843000502,0.911159618354747,0.21363399857240328,0.7216684994849806,0.04138810719747554,0.09703140879558092,0.1423805034590946,0.0679230702558068,0.8503283866563889,0.44036592094422355,0.48605082725142856,0.22931876052475364,0.32394531061708676,0.12431114773296759,0.5100053717729638,0.015344940030001641,0.3712909271699707,0.4587520280915176,0.5568601165342938,0.49613928412991737,0.9241681806901413,0.7272255634148296,0.5322004050046318,0.820268631022091,0.09792117629813879,0.7852230240316025,0.17795260129160406,0.25630905547778704,0.6997733462769957,0.9556506180121256,0.6305358035743395,0.6997432212977766,0.46240219644436864,0.17133196121156724,0.9462085922837736,0.7861200359664643,0.6481802274869467,0.8800453716020532,0.8326166446356028,0.07312648776454933,0.18271728713313706,0.24827818979377836,0.6985717931099857,0.3967265214831198,0.12796498793368283,0.6544056571564844,0.923894241282638,0.9187694987167914,0.22455670204433476,0.1342655380641915,0.6319633762574786,0.01122258571247714,0.08243809584574735,0.6970314091341765,0.7737054424971513,0.05772545186544642,0.31820670035603194,0.2720240931484722,0.8354500627583991,0.6778229303629544,0.7356241349020983,0.6535641519335935,0.874948148262665,0.5664418979883568,0.8772504165205187,0.7652941939355,0.7821918943231088,0.6488664287463614,0.37029674948836644,0.3363914696244602,0.8127067090276249,0.4594220348651129,0.039002086815615455,0.8212612967377474,0.8392167732632883,0.9209725548671719,0.46006596498715435,0.6650742107945263,0.953738717119793,0.9722493387776766,0.9953217098670545,0.06527582650725572,0.5496278482350594,0.5502501572324284,0.2655231931979871,0.9258632034322171,0.36882303532868854,0.9673406093733999,0.6989366593667665,0.041713779557706165,0.37420018406765543,0.925085195498843,0.8926449914146728,0.9692636938396076,0.3186964081767192,0.3522144720024585,0.6007357137921594,0.9639472391730568,0.10157032378640074,0.11261721975999583,0.03231589589775252,0.20349647051912967,0.28538562638721354,0.7874716106140073,0.7697866628628175,0.5126689585673934,0.17191055250706389,0.5984582549282864,0.08460529862815358,0.1304095322523411,0.9784597943411707,0.3959406749656963,0.7541106632222756,0.710267822506583,0.30993898713169044,0.6790184600769663,0.6414119999918362,0.21073824331198532,0.928114590108491,0.3921092812324305,0.9536016501230351,0.5628927078503196,0.8728198941380153,0.23115956977964458,0.38173001011775365,0.10302197591066797,0.5928528789748758,0.19311957546993386,0.5793338548898556,0.22299076803433537,0.6707686212381754,0.7455125135563506,0.24494937409795436,0.1405234256210114,0.328186753626706,0.4730317426624615]},\"selected\":{\"id\":\"2102\",\"type\":\"Selection\"},\"selection_policy\":{\"id\":\"2101\",\"type\":\"UnionRenderers\"}},\"id\":\"1992\",\"type\":\"ColumnDataSource\"},{\"attributes\":{\"callback\":null,\"data\":{\"xm\":[0,1],\"ym\":[0.5,0.5]},\"selected\":{\"id\":\"2104\",\"type\":\"Selection\"},\"selection_policy\":{\"id\":\"2103\",\"type\":\"UnionRenderers\"}},\"id\":\"2023\",\"type\":\"ColumnDataSource\"},{\"attributes\":{\"args\":{\"s1\":{\"id\":\"1992\",\"type\":\"ColumnDataSource\"},\"s2\":{\"id\":\"2023\",\"type\":\"ColumnDataSource\"}},\"code\":\"\\n    var inds = s1.selected.indices;\\n    if (inds.length == 0)\\n        return;\\n\\n    var ym = 0\\n    for (var i = 0; i < inds.length; i++) {\\n        ym += s1.data.y[inds[i]]\\n    }\\n    \\n    ym /= inds.length\\n    s2.data.ym = [ym, ym]\\n\\n    // necessary becasue we mutated source.data in-place\\n    s2.change.emit();  \\n\"},\"id\":\"2029\",\"type\":\"CustomJS\"},{\"attributes\":{\"callback\":null},\"id\":\"1996\",\"type\":\"DataRange1d\"},{\"attributes\":{},\"id\":\"2103\",\"type\":\"UnionRenderers\"},{\"attributes\":{},\"id\":\"2102\",\"type\":\"Selection\"},{\"attributes\":{\"fill_alpha\":{\"value\":0.4},\"fill_color\":{\"field\":\"color\"},\"line_alpha\":{\"value\":0.4},\"line_color\":{\"field\":\"color\"},\"size\":{\"units\":\"screen\",\"value\":8},\"x\":{\"field\":\"x\"},\"y\":{\"field\":\"y\"}},\"id\":\"2018\",\"type\":\"Circle\"},{\"attributes\":{},\"id\":\"2101\",\"type\":\"UnionRenderers\"},{\"attributes\":{},\"id\":\"2099\",\"type\":\"BasicTickFormatter\"},{\"attributes\":{\"text\":\"Select Here\"},\"id\":\"1994\",\"type\":\"Title\"},{\"attributes\":{},\"id\":\"2104\",\"type\":\"Selection\"},{\"attributes\":{\"fill_alpha\":{\"value\":0.5},\"fill_color\":{\"value\":\"lightgrey\"},\"level\":\"overlay\",\"line_alpha\":{\"value\":1.0},\"line_color\":{\"value\":\"black\"},\"line_dash\":[4,4],\"line_width\":{\"value\":2},\"xs_units\":\"screen\",\"ys_units\":\"screen\"},\"id\":\"2105\",\"type\":\"PolyAnnotation\"},{\"attributes\":{},\"id\":\"2000\",\"type\":\"LinearScale\"},{\"attributes\":{\"callback\":null},\"id\":\"1998\",\"type\":\"DataRange1d\"},{\"attributes\":{\"source\":{\"id\":\"1992\",\"type\":\"ColumnDataSource\"}},\"id\":\"2022\",\"type\":\"CDSView\"},{\"attributes\":{\"line_alpha\":0.6,\"line_color\":\"orange\",\"line_width\":5,\"x\":{\"field\":\"xm\"},\"y\":{\"field\":\"ym\"}},\"id\":\"2025\",\"type\":\"Line\"},{\"attributes\":{\"line_alpha\":0.1,\"line_color\":\"#1f77b4\",\"line_width\":5,\"x\":{\"field\":\"xm\"},\"y\":{\"field\":\"ym\"}},\"id\":\"2026\",\"type\":\"Line\"},{\"attributes\":{},\"id\":\"2002\",\"type\":\"LinearScale\"},{\"attributes\":{\"fill_alpha\":{\"value\":0.1},\"fill_color\":{\"value\":\"#1f77b4\"},\"line_alpha\":{\"value\":0.1},\"line_color\":{\"value\":\"#1f77b4\"},\"size\":{\"units\":\"screen\",\"value\":8},\"x\":{\"field\":\"x\"},\"y\":{\"field\":\"y\"}},\"id\":\"2019\",\"type\":\"Circle\"},{\"attributes\":{\"data_source\":{\"id\":\"2023\",\"type\":\"ColumnDataSource\"},\"glyph\":{\"id\":\"2025\",\"type\":\"Line\"},\"hover_glyph\":null,\"muted_glyph\":null,\"nonselection_glyph\":{\"id\":\"2026\",\"type\":\"Line\"},\"selection_glyph\":null,\"view\":{\"id\":\"2028\",\"type\":\"CDSView\"}},\"id\":\"2027\",\"type\":\"GlyphRenderer\"},{\"attributes\":{\"formatter\":{\"id\":\"2097\",\"type\":\"BasicTickFormatter\"},\"ticker\":{\"id\":\"2005\",\"type\":\"BasicTicker\"}},\"id\":\"2004\",\"type\":\"LinearAxis\"},{\"attributes\":{},\"id\":\"2010\",\"type\":\"BasicTicker\"},{\"attributes\":{},\"id\":\"2005\",\"type\":\"BasicTicker\"},{\"attributes\":{\"ticker\":{\"id\":\"2005\",\"type\":\"BasicTicker\"}},\"id\":\"2008\",\"type\":\"Grid\"},{\"attributes\":{\"dimension\":1,\"ticker\":{\"id\":\"2010\",\"type\":\"BasicTicker\"}},\"id\":\"2013\",\"type\":\"Grid\"},{\"attributes\":{\"data_source\":{\"id\":\"1992\",\"type\":\"ColumnDataSource\"},\"glyph\":{\"id\":\"2018\",\"type\":\"Circle\"},\"hover_glyph\":null,\"muted_glyph\":null,\"nonselection_glyph\":{\"id\":\"2019\",\"type\":\"Circle\"},\"selection_glyph\":{\"id\":\"2020\",\"type\":\"Circle\"},\"view\":{\"id\":\"2022\",\"type\":\"CDSView\"}},\"id\":\"2021\",\"type\":\"GlyphRenderer\"},{\"attributes\":{\"formatter\":{\"id\":\"2099\",\"type\":\"BasicTickFormatter\"},\"ticker\":{\"id\":\"2010\",\"type\":\"BasicTicker\"}},\"id\":\"2009\",\"type\":\"LinearAxis\"},{\"attributes\":{\"fill_alpha\":{\"value\":0.4},\"fill_color\":{\"value\":\"firebrick\"},\"line_alpha\":{\"value\":0.4},\"line_color\":{\"value\":\"firebrick\"},\"size\":{\"units\":\"screen\",\"value\":8},\"x\":{\"field\":\"x\"},\"y\":{\"field\":\"y\"}},\"id\":\"2020\",\"type\":\"Circle\"},{\"attributes\":{},\"id\":\"2097\",\"type\":\"BasicTickFormatter\"},{\"attributes\":{\"source\":{\"id\":\"2023\",\"type\":\"ColumnDataSource\"}},\"id\":\"2028\",\"type\":\"CDSView\"}],\"root_ids\":[\"1993\"]},\"title\":\"Bokeh Application\",\"version\":\"1.4.0\"}};\n",
       "  var render_items = [{\"docid\":\"11ea3fc1-e28f-441b-8af4-20ea93273229\",\"roots\":{\"1993\":\"b744f254-9303-4c97-a252-ed97a9cc6202\"}}];\n",
       "  root.Bokeh.embed.embed_items_notebook(docs_json, render_items);\n",
       "\n",
       "  }\n",
       "  if (root.Bokeh !== undefined) {\n",
       "    embed_document(root);\n",
       "  } else {\n",
       "    var attempts = 0;\n",
       "    var timer = setInterval(function(root) {\n",
       "      if (root.Bokeh !== undefined) {\n",
       "        clearInterval(timer);\n",
       "        embed_document(root);\n",
       "      } else {\n",
       "        attempts++;\n",
       "        if (attempts > 100) {\n",
       "          clearInterval(timer);\n",
       "          console.log(\"Bokeh: ERROR: Unable to run BokehJS code because BokehJS library is missing\");\n",
       "        }\n",
       "      }\n",
       "    }, 10, root)\n",
       "  }\n",
       "})(window);"
      ],
      "application/vnd.bokehjs_exec.v0+json": ""
     },
     "metadata": {
      "application/vnd.bokehjs_exec.v0+json": {
       "id": "1993"
      }
     },
     "output_type": "display_data"
    }
   ],
   "source": [
    "from random import random\n",
    "\n",
    "x = [random() for x in range(500)]\n",
    "y = [random() for y in range(500)]\n",
    "color = [\"navy\"] * len(x)\n",
    "\n",
    "s1 = ColumnDataSource(data=dict(x=x, y=y, color=color))\n",
    "p = figure(plot_width=400, plot_height=400, tools=\"lasso_select\", title=\"Select Here\")\n",
    "p.circle('x', 'y', color='color', size=8, alpha=0.4, source=s1, \n",
    "         selection_color=\"firebrick\", selection_alpha=0.4)\n",
    "\n",
    "s2 = ColumnDataSource(data=dict(xm=[0,1],ym=[0.5, 0.5]))\n",
    "p.line(x='xm', y='ym', color=\"orange\", line_width=5, alpha=0.6, source=s2)\n",
    "\n",
    "s1.callback = CustomJS(args=dict(s1=s1, s2=s2), code=\"\"\"\n",
    "    var inds = s1.selected.indices;\n",
    "    if (inds.length == 0)\n",
    "        return;\n",
    "\n",
    "    var ym = 0\n",
    "    for (var i = 0; i < inds.length; i++) {\n",
    "        ym += s1.data.y[inds[i]]\n",
    "    }\n",
    "    \n",
    "    ym /= inds.length\n",
    "    s2.data.ym = [ym, ym]\n",
    "\n",
    "    // necessary becasue we mutated source.data in-place\n",
    "    s2.change.emit();  \n",
    "\"\"\")\n",
    "\n",
    "show(p)"
   ]
  },
  {
   "cell_type": "code",
   "execution_count": 13,
   "metadata": {},
   "outputs": [],
   "source": [
    "# Exercise: Experiment with selection callbacks\n",
    "\n"
   ]
  },
  {
   "cell_type": "markdown",
   "metadata": {},
   "source": [
    "## CustomJS for UI Events\n",
    "\n",
    "Bokeh also has a general events system\n",
    "\n",
    "All of the available UI events, and their properties, are listed in the Reference Guide section for [bokeh.events](https://bokeh.pydata.org/en/latest/docs/reference/events.html)"
   ]
  },
  {
   "cell_type": "code",
   "execution_count": 14,
   "metadata": {},
   "outputs": [
    {
     "data": {
      "text/html": [
       "\n",
       "\n",
       "\n",
       "\n",
       "\n",
       "\n",
       "  <div class=\"bk-root\" id=\"c79720b6-58e0-4415-a001-9f1c71e3dc71\" data-root-id=\"2196\"></div>\n"
      ]
     },
     "metadata": {},
     "output_type": "display_data"
    },
    {
     "data": {
      "application/javascript": [
       "(function(root) {\n",
       "  function embed_document(root) {\n",
       "    \n",
       "  var docs_json = {\"1df79bf7-a23d-4c6e-a41d-58119cbf3756\":{\"roots\":{\"references\":[{\"attributes\":{\"children\":[{\"id\":\"2194\",\"type\":\"Button\"},{\"id\":\"2195\",\"type\":\"Row\"}]},\"id\":\"2196\",\"type\":\"Column\"},{\"attributes\":{},\"id\":\"2176\",\"type\":\"BasicTicker\"},{\"attributes\":{\"fill_alpha\":{\"value\":0.6},\"fill_color\":{\"value\":\"#1f77b4\"},\"line_color\":{\"value\":null},\"radius\":{\"units\":\"data\",\"value\":1},\"x\":{\"field\":\"x\"},\"y\":{\"field\":\"y\"}},\"id\":\"2189\",\"type\":\"Circle\"},{\"attributes\":{\"formatter\":{\"id\":\"2277\",\"type\":\"BasicTickFormatter\"},\"ticker\":{\"id\":\"2176\",\"type\":\"BasicTicker\"}},\"id\":\"2175\",\"type\":\"LinearAxis\"},{\"attributes\":{},\"id\":\"2173\",\"type\":\"LinearScale\"},{\"attributes\":{\"args\":{\"div\":{\"id\":\"2193\",\"type\":\"Div\"}},\"code\":\"\\ndiv.text = \\\"Button!\\\";\\n\"},\"id\":\"2197\",\"type\":\"CustomJS\"},{\"attributes\":{},\"id\":\"2282\",\"type\":\"Selection\"},{\"attributes\":{\"bottom_units\":\"screen\",\"fill_alpha\":{\"value\":0.5},\"fill_color\":{\"value\":\"lightgrey\"},\"left_units\":\"screen\",\"level\":\"overlay\",\"line_alpha\":{\"value\":1.0},\"line_color\":{\"value\":\"black\"},\"line_dash\":[4,4],\"line_width\":{\"value\":2},\"render_mode\":\"css\",\"right_units\":\"screen\",\"top_units\":\"screen\"},\"id\":\"2283\",\"type\":\"BoxAnnotation\"},{\"attributes\":{\"below\":[{\"id\":\"2175\",\"type\":\"LinearAxis\"}],\"center\":[{\"id\":\"2179\",\"type\":\"Grid\"},{\"id\":\"2184\",\"type\":\"Grid\"}],\"js_event_callbacks\":{\"selectiongeometry\":[{\"id\":\"2198\",\"type\":\"CustomJS\"}]},\"left\":[{\"id\":\"2180\",\"type\":\"LinearAxis\"}],\"renderers\":[{\"id\":\"2191\",\"type\":\"GlyphRenderer\"}],\"title\":{\"id\":\"2275\",\"type\":\"Title\"},\"toolbar\":{\"id\":\"2186\",\"type\":\"Toolbar\"},\"x_range\":{\"id\":\"2167\",\"type\":\"DataRange1d\"},\"x_scale\":{\"id\":\"2171\",\"type\":\"LinearScale\"},\"y_range\":{\"id\":\"2169\",\"type\":\"DataRange1d\"},\"y_scale\":{\"id\":\"2173\",\"type\":\"LinearScale\"}},\"id\":\"2166\",\"subtype\":\"Figure\",\"type\":\"Plot\"},{\"attributes\":{\"source\":{\"id\":\"2188\",\"type\":\"ColumnDataSource\"}},\"id\":\"2192\",\"type\":\"CDSView\"},{\"attributes\":{},\"id\":\"2181\",\"type\":\"BasicTicker\"},{\"attributes\":{\"callback\":null,\"overlay\":{\"id\":\"2283\",\"type\":\"BoxAnnotation\"}},\"id\":\"2185\",\"type\":\"BoxSelectTool\"},{\"attributes\":{\"callback\":null,\"icon\":null,\"js_event_callbacks\":{\"button_click\":[{\"id\":\"2197\",\"type\":\"CustomJS\"}]},\"width\":300},\"id\":\"2194\",\"type\":\"Button\"},{\"attributes\":{},\"id\":\"2279\",\"type\":\"BasicTickFormatter\"},{\"attributes\":{},\"id\":\"2171\",\"type\":\"LinearScale\"},{\"attributes\":{\"fill_alpha\":{\"value\":0.1},\"fill_color\":{\"value\":\"#1f77b4\"},\"line_alpha\":{\"value\":0.1},\"line_color\":{\"value\":\"#1f77b4\"},\"radius\":{\"units\":\"data\",\"value\":1},\"x\":{\"field\":\"x\"},\"y\":{\"field\":\"y\"}},\"id\":\"2190\",\"type\":\"Circle\"},{\"attributes\":{},\"id\":\"2281\",\"type\":\"UnionRenderers\"},{\"attributes\":{\"callback\":null},\"id\":\"2169\",\"type\":\"DataRange1d\"},{\"attributes\":{\"active_drag\":\"auto\",\"active_inspect\":\"auto\",\"active_multi\":null,\"active_scroll\":\"auto\",\"active_tap\":\"auto\",\"tools\":[{\"id\":\"2185\",\"type\":\"BoxSelectTool\"}]},\"id\":\"2186\",\"type\":\"Toolbar\"},{\"attributes\":{\"formatter\":{\"id\":\"2279\",\"type\":\"BasicTickFormatter\"},\"ticker\":{\"id\":\"2181\",\"type\":\"BasicTicker\"}},\"id\":\"2180\",\"type\":\"LinearAxis\"},{\"attributes\":{\"args\":{\"div\":{\"id\":\"2193\",\"type\":\"Div\"}},\"code\":\"\\ndiv.text = \\\"Selection! <p> <p>\\\" + JSON.stringify(cb_obj.geometry, undefined, 2);\\n\"},\"id\":\"2198\",\"type\":\"CustomJS\"},{\"attributes\":{\"callback\":null,\"data\":{\"x\":{\"__ndarray__\":\"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\",\"dtype\":\"float64\",\"shape\":[2000]},\"y\":{\"__ndarray__\":\"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\",\"dtype\":\"float64\",\"shape\":[2000]}},\"selected\":{\"id\":\"2282\",\"type\":\"Selection\"},\"selection_policy\":{\"id\":\"2281\",\"type\":\"UnionRenderers\"}},\"id\":\"2188\",\"type\":\"ColumnDataSource\"},{\"attributes\":{},\"id\":\"2277\",\"type\":\"BasicTickFormatter\"},{\"attributes\":{\"width\":400},\"id\":\"2193\",\"type\":\"Div\"},{\"attributes\":{\"children\":[{\"id\":\"2166\",\"subtype\":\"Figure\",\"type\":\"Plot\"},{\"id\":\"2193\",\"type\":\"Div\"}]},\"id\":\"2195\",\"type\":\"Row\"},{\"attributes\":{\"ticker\":{\"id\":\"2176\",\"type\":\"BasicTicker\"}},\"id\":\"2179\",\"type\":\"Grid\"},{\"attributes\":{\"dimension\":1,\"ticker\":{\"id\":\"2181\",\"type\":\"BasicTicker\"}},\"id\":\"2184\",\"type\":\"Grid\"},{\"attributes\":{\"callback\":null},\"id\":\"2167\",\"type\":\"DataRange1d\"},{\"attributes\":{\"text\":\"\"},\"id\":\"2275\",\"type\":\"Title\"},{\"attributes\":{\"data_source\":{\"id\":\"2188\",\"type\":\"ColumnDataSource\"},\"glyph\":{\"id\":\"2189\",\"type\":\"Circle\"},\"hover_glyph\":null,\"muted_glyph\":null,\"nonselection_glyph\":{\"id\":\"2190\",\"type\":\"Circle\"},\"selection_glyph\":null,\"view\":{\"id\":\"2192\",\"type\":\"CDSView\"}},\"id\":\"2191\",\"type\":\"GlyphRenderer\"}],\"root_ids\":[\"2196\"]},\"title\":\"Bokeh Application\",\"version\":\"1.4.0\"}};\n",
       "  var render_items = [{\"docid\":\"1df79bf7-a23d-4c6e-a41d-58119cbf3756\",\"roots\":{\"2196\":\"c79720b6-58e0-4415-a001-9f1c71e3dc71\"}}];\n",
       "  root.Bokeh.embed.embed_items_notebook(docs_json, render_items);\n",
       "\n",
       "  }\n",
       "  if (root.Bokeh !== undefined) {\n",
       "    embed_document(root);\n",
       "  } else {\n",
       "    var attempts = 0;\n",
       "    var timer = setInterval(function(root) {\n",
       "      if (root.Bokeh !== undefined) {\n",
       "        clearInterval(timer);\n",
       "        embed_document(root);\n",
       "      } else {\n",
       "        attempts++;\n",
       "        if (attempts > 100) {\n",
       "          clearInterval(timer);\n",
       "          console.log(\"Bokeh: ERROR: Unable to run BokehJS code because BokehJS library is missing\");\n",
       "        }\n",
       "      }\n",
       "    }, 10, root)\n",
       "  }\n",
       "})(window);"
      ],
      "application/vnd.bokehjs_exec.v0+json": ""
     },
     "metadata": {
      "application/vnd.bokehjs_exec.v0+json": {
       "id": "2196"
      }
     },
     "output_type": "display_data"
    }
   ],
   "source": [
    "from bokeh.plotting import figure\n",
    "from bokeh import events\n",
    "from bokeh.models import CustomJS, Div, Button\n",
    "from bokeh.layouts import column, row\n",
    "\n",
    "import numpy as np\n",
    "x = np.random.random(size=2000) * 100\n",
    "y = np.random.random(size=2000) * 100\n",
    "\n",
    "p = figure(tools=\"box_select\")\n",
    "p.scatter(x, y, radius=1, fill_alpha=0.6, line_color=None)\n",
    "\n",
    "div = Div(width=400)\n",
    "button = Button(label=\"Button\", width=300)\n",
    "layout = column(button, row(p, div))\n",
    "\n",
    "# Events with no attributes\n",
    "button.js_on_event(events.ButtonClick,  CustomJS(args=dict(div=div), code=\"\"\"\n",
    "div.text = \"Button!\";\n",
    "\"\"\")) \n",
    "\n",
    "p.js_on_event(events.SelectionGeometry, CustomJS(args=dict(div=div), code=\"\"\"\n",
    "div.text = \"Selection! <p> <p>\" + JSON.stringify(cb_obj.geometry, undefined, 2);\n",
    "\"\"\"))\n",
    "\n",
    "show(layout)"
   ]
  },
  {
   "cell_type": "code",
   "execution_count": 15,
   "metadata": {},
   "outputs": [],
   "source": [
    "# Exercise: Create a plot that responds to different events from bokeh.events\n",
    "\n"
   ]
  },
  {
   "cell_type": "markdown",
   "metadata": {},
   "source": [
    "## Additional Information\n",
    "\n",
    "There are many kinds of interactions and events that can be connected to `CustomJS` callbacks. \n",
    "\n",
    "\n",
    "* Widgets - Button, Toggle, Dropdown, TextInput, AutocompleteInput, Select, Multiselect, Slider, (DateRangeSlider), DatePicker,\n",
    "* Tools - TapTool, BoxSelectTool, HoverTool,\n",
    "* Selection - ColumnDataSource, AjaxDataSource, BlazeDataSource, ServerDataSource\n",
    "* Ranges - Range1d, DataRange1d, FactorRange\n",
    "\n",
    "\n",
    "For more complete examples the User Guide section on [JavaScript Interactions](https://bokeh.pydata.org/en/latest/docs/user_guide/interaction.html)"
   ]
  },
  {
   "cell_type": "markdown",
   "metadata": {},
   "source": [
    "# Next Section"
   ]
  },
  {
   "cell_type": "markdown",
   "metadata": {},
   "source": [
    "Click on this link to go to the next notebook: [07 - Bar and Categorical Data Plots](07%20-%20Bar%20and%20Categorical%20Data%20Plots.ipynb).\n",
    "\n",
    "To go back to the overview, click [here](00%20-%20Introduction%20and%20Setup.ipynb)."
   ]
  },
  {
   "cell_type": "code",
   "execution_count": null,
   "metadata": {},
   "outputs": [],
   "source": []
  }
 ],
 "metadata": {
  "anaconda-cloud": {},
  "kernelspec": {
   "display_name": "Python 3",
   "language": "python",
   "name": "python3"
  },
  "language_info": {
   "codemirror_mode": {
    "name": "ipython",
    "version": 3
   },
   "file_extension": ".py",
   "mimetype": "text/x-python",
   "name": "python",
   "nbconvert_exporter": "python",
   "pygments_lexer": "ipython3",
   "version": "3.7.6"
  }
 },
 "nbformat": 4,
 "nbformat_minor": 4
}
