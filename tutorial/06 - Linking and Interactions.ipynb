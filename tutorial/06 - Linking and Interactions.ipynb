{
 "cells": [
  {
   "cell_type": "markdown",
   "metadata": {},
   "source": [
    "<table style=\"float:left; border:none\">\n",
    "   <tr style=\"border:none; background-color: #ffffff\">\n",
    "       <td style=\"border:none\">\n",
    "           <a href=\"http://bokeh.org/\">     \n",
    "           <img \n",
    "               src=\"assets/bokeh-transparent.png\" \n",
    "               style=\"width:50px\"\n",
    "           >\n",
    "           </a>    \n",
    "       </td>\n",
    "       <td style=\"border:none\">\n",
    "           <h1>Bokeh Tutorial</h1>\n",
    "       </td>\n",
    "   </tr>\n",
    "</table>\n",
    "\n",
    "<div style=\"float:right;\"><h2>06. Linking and Interactions</h2></div>"
   ]
  },
  {
   "cell_type": "code",
   "execution_count": 1,
   "metadata": {},
   "outputs": [
    {
     "data": {
      "text/html": [
       "\n",
       "    <div class=\"bk-root\">\n",
       "        <a href=\"https://bokeh.pydata.org\" target=\"_blank\" class=\"bk-logo bk-logo-small bk-logo-notebook\"></a>\n",
       "        <span id=\"1001\">Loading BokehJS ...</span>\n",
       "    </div>"
      ]
     },
     "metadata": {},
     "output_type": "display_data"
    },
    {
     "data": {
      "application/javascript": [
       "\n",
       "(function(root) {\n",
       "  function now() {\n",
       "    return new Date();\n",
       "  }\n",
       "\n",
       "  var force = true;\n",
       "\n",
       "  if (typeof root._bokeh_onload_callbacks === \"undefined\" || force === true) {\n",
       "    root._bokeh_onload_callbacks = [];\n",
       "    root._bokeh_is_loading = undefined;\n",
       "  }\n",
       "\n",
       "  var JS_MIME_TYPE = 'application/javascript';\n",
       "  var HTML_MIME_TYPE = 'text/html';\n",
       "  var EXEC_MIME_TYPE = 'application/vnd.bokehjs_exec.v0+json';\n",
       "  var CLASS_NAME = 'output_bokeh rendered_html';\n",
       "\n",
       "  /**\n",
       "   * Render data to the DOM node\n",
       "   */\n",
       "  function render(props, node) {\n",
       "    var script = document.createElement(\"script\");\n",
       "    node.appendChild(script);\n",
       "  }\n",
       "\n",
       "  /**\n",
       "   * Handle when an output is cleared or removed\n",
       "   */\n",
       "  function handleClearOutput(event, handle) {\n",
       "    var cell = handle.cell;\n",
       "\n",
       "    var id = cell.output_area._bokeh_element_id;\n",
       "    var server_id = cell.output_area._bokeh_server_id;\n",
       "    // Clean up Bokeh references\n",
       "    if (id != null && id in Bokeh.index) {\n",
       "      Bokeh.index[id].model.document.clear();\n",
       "      delete Bokeh.index[id];\n",
       "    }\n",
       "\n",
       "    if (server_id !== undefined) {\n",
       "      // Clean up Bokeh references\n",
       "      var cmd = \"from bokeh.io.state import curstate; print(curstate().uuid_to_server['\" + server_id + \"'].get_sessions()[0].document.roots[0]._id)\";\n",
       "      cell.notebook.kernel.execute(cmd, {\n",
       "        iopub: {\n",
       "          output: function(msg) {\n",
       "            var id = msg.content.text.trim();\n",
       "            if (id in Bokeh.index) {\n",
       "              Bokeh.index[id].model.document.clear();\n",
       "              delete Bokeh.index[id];\n",
       "            }\n",
       "          }\n",
       "        }\n",
       "      });\n",
       "      // Destroy server and session\n",
       "      var cmd = \"import bokeh.io.notebook as ion; ion.destroy_server('\" + server_id + \"')\";\n",
       "      cell.notebook.kernel.execute(cmd);\n",
       "    }\n",
       "  }\n",
       "\n",
       "  /**\n",
       "   * Handle when a new output is added\n",
       "   */\n",
       "  function handleAddOutput(event, handle) {\n",
       "    var output_area = handle.output_area;\n",
       "    var output = handle.output;\n",
       "\n",
       "    // limit handleAddOutput to display_data with EXEC_MIME_TYPE content only\n",
       "    if ((output.output_type != \"display_data\") || (!output.data.hasOwnProperty(EXEC_MIME_TYPE))) {\n",
       "      return\n",
       "    }\n",
       "\n",
       "    var toinsert = output_area.element.find(\".\" + CLASS_NAME.split(' ')[0]);\n",
       "\n",
       "    if (output.metadata[EXEC_MIME_TYPE][\"id\"] !== undefined) {\n",
       "      toinsert[toinsert.length - 1].firstChild.textContent = output.data[JS_MIME_TYPE];\n",
       "      // store reference to embed id on output_area\n",
       "      output_area._bokeh_element_id = output.metadata[EXEC_MIME_TYPE][\"id\"];\n",
       "    }\n",
       "    if (output.metadata[EXEC_MIME_TYPE][\"server_id\"] !== undefined) {\n",
       "      var bk_div = document.createElement(\"div\");\n",
       "      bk_div.innerHTML = output.data[HTML_MIME_TYPE];\n",
       "      var script_attrs = bk_div.children[0].attributes;\n",
       "      for (var i = 0; i < script_attrs.length; i++) {\n",
       "        toinsert[toinsert.length - 1].firstChild.setAttribute(script_attrs[i].name, script_attrs[i].value);\n",
       "      }\n",
       "      // store reference to server id on output_area\n",
       "      output_area._bokeh_server_id = output.metadata[EXEC_MIME_TYPE][\"server_id\"];\n",
       "    }\n",
       "  }\n",
       "\n",
       "  function register_renderer(events, OutputArea) {\n",
       "\n",
       "    function append_mime(data, metadata, element) {\n",
       "      // create a DOM node to render to\n",
       "      var toinsert = this.create_output_subarea(\n",
       "        metadata,\n",
       "        CLASS_NAME,\n",
       "        EXEC_MIME_TYPE\n",
       "      );\n",
       "      this.keyboard_manager.register_events(toinsert);\n",
       "      // Render to node\n",
       "      var props = {data: data, metadata: metadata[EXEC_MIME_TYPE]};\n",
       "      render(props, toinsert[toinsert.length - 1]);\n",
       "      element.append(toinsert);\n",
       "      return toinsert\n",
       "    }\n",
       "\n",
       "    /* Handle when an output is cleared or removed */\n",
       "    events.on('clear_output.CodeCell', handleClearOutput);\n",
       "    events.on('delete.Cell', handleClearOutput);\n",
       "\n",
       "    /* Handle when a new output is added */\n",
       "    events.on('output_added.OutputArea', handleAddOutput);\n",
       "\n",
       "    /**\n",
       "     * Register the mime type and append_mime function with output_area\n",
       "     */\n",
       "    OutputArea.prototype.register_mime_type(EXEC_MIME_TYPE, append_mime, {\n",
       "      /* Is output safe? */\n",
       "      safe: true,\n",
       "      /* Index of renderer in `output_area.display_order` */\n",
       "      index: 0\n",
       "    });\n",
       "  }\n",
       "\n",
       "  // register the mime type if in Jupyter Notebook environment and previously unregistered\n",
       "  if (root.Jupyter !== undefined) {\n",
       "    var events = require('base/js/events');\n",
       "    var OutputArea = require('notebook/js/outputarea').OutputArea;\n",
       "\n",
       "    if (OutputArea.prototype.mime_types().indexOf(EXEC_MIME_TYPE) == -1) {\n",
       "      register_renderer(events, OutputArea);\n",
       "    }\n",
       "  }\n",
       "\n",
       "  \n",
       "  if (typeof (root._bokeh_timeout) === \"undefined\" || force === true) {\n",
       "    root._bokeh_timeout = Date.now() + 5000;\n",
       "    root._bokeh_failed_load = false;\n",
       "  }\n",
       "\n",
       "  var NB_LOAD_WARNING = {'data': {'text/html':\n",
       "     \"<div style='background-color: #fdd'>\\n\"+\n",
       "     \"<p>\\n\"+\n",
       "     \"BokehJS does not appear to have successfully loaded. If loading BokehJS from CDN, this \\n\"+\n",
       "     \"may be due to a slow or bad network connection. Possible fixes:\\n\"+\n",
       "     \"</p>\\n\"+\n",
       "     \"<ul>\\n\"+\n",
       "     \"<li>re-rerun `output_notebook()` to attempt to load from CDN again, or</li>\\n\"+\n",
       "     \"<li>use INLINE resources instead, as so:</li>\\n\"+\n",
       "     \"</ul>\\n\"+\n",
       "     \"<code>\\n\"+\n",
       "     \"from bokeh.resources import INLINE\\n\"+\n",
       "     \"output_notebook(resources=INLINE)\\n\"+\n",
       "     \"</code>\\n\"+\n",
       "     \"</div>\"}};\n",
       "\n",
       "  function display_loaded() {\n",
       "    var el = document.getElementById(\"1001\");\n",
       "    if (el != null) {\n",
       "      el.textContent = \"BokehJS is loading...\";\n",
       "    }\n",
       "    if (root.Bokeh !== undefined) {\n",
       "      if (el != null) {\n",
       "        el.textContent = \"BokehJS \" + root.Bokeh.version + \" successfully loaded.\";\n",
       "      }\n",
       "    } else if (Date.now() < root._bokeh_timeout) {\n",
       "      setTimeout(display_loaded, 100)\n",
       "    }\n",
       "  }\n",
       "\n",
       "\n",
       "  function run_callbacks() {\n",
       "    try {\n",
       "      root._bokeh_onload_callbacks.forEach(function(callback) {\n",
       "        if (callback != null)\n",
       "          callback();\n",
       "      });\n",
       "    } finally {\n",
       "      delete root._bokeh_onload_callbacks\n",
       "    }\n",
       "    console.debug(\"Bokeh: all callbacks have finished\");\n",
       "  }\n",
       "\n",
       "  function load_libs(css_urls, js_urls, callback) {\n",
       "    if (css_urls == null) css_urls = [];\n",
       "    if (js_urls == null) js_urls = [];\n",
       "\n",
       "    root._bokeh_onload_callbacks.push(callback);\n",
       "    if (root._bokeh_is_loading > 0) {\n",
       "      console.debug(\"Bokeh: BokehJS is being loaded, scheduling callback at\", now());\n",
       "      return null;\n",
       "    }\n",
       "    if (js_urls == null || js_urls.length === 0) {\n",
       "      run_callbacks();\n",
       "      return null;\n",
       "    }\n",
       "    console.debug(\"Bokeh: BokehJS not loaded, scheduling load and callback at\", now());\n",
       "    root._bokeh_is_loading = css_urls.length + js_urls.length;\n",
       "\n",
       "    function on_load() {\n",
       "      root._bokeh_is_loading--;\n",
       "      if (root._bokeh_is_loading === 0) {\n",
       "        console.debug(\"Bokeh: all BokehJS libraries/stylesheets loaded\");\n",
       "        run_callbacks()\n",
       "      }\n",
       "    }\n",
       "\n",
       "    function on_error() {\n",
       "      console.error(\"failed to load \" + url);\n",
       "    }\n",
       "\n",
       "    for (var i = 0; i < css_urls.length; i++) {\n",
       "      var url = css_urls[i];\n",
       "      const element = document.createElement(\"link\");\n",
       "      element.onload = on_load;\n",
       "      element.onerror = on_error;\n",
       "      element.rel = \"stylesheet\";\n",
       "      element.type = \"text/css\";\n",
       "      element.href = url;\n",
       "      console.debug(\"Bokeh: injecting link tag for BokehJS stylesheet: \", url);\n",
       "      document.body.appendChild(element);\n",
       "    }\n",
       "\n",
       "    for (var i = 0; i < js_urls.length; i++) {\n",
       "      var url = js_urls[i];\n",
       "      var element = document.createElement('script');\n",
       "      element.onload = on_load;\n",
       "      element.onerror = on_error;\n",
       "      element.async = false;\n",
       "      element.src = url;\n",
       "      console.debug(\"Bokeh: injecting script tag for BokehJS library: \", url);\n",
       "      document.head.appendChild(element);\n",
       "    }\n",
       "  };var element = document.getElementById(\"1001\");\n",
       "  if (element == null) {\n",
       "    console.error(\"Bokeh: ERROR: autoload.js configured with elementid '1001' but no matching script tag was found. \")\n",
       "    return false;\n",
       "  }\n",
       "\n",
       "  function inject_raw_css(css) {\n",
       "    const element = document.createElement(\"style\");\n",
       "    element.appendChild(document.createTextNode(css));\n",
       "    document.body.appendChild(element);\n",
       "  }\n",
       "\n",
       "  var js_urls = [\"https://cdn.pydata.org/bokeh/release/bokeh-1.2.0.min.js\", \"https://cdn.pydata.org/bokeh/release/bokeh-widgets-1.2.0.min.js\", \"https://cdn.pydata.org/bokeh/release/bokeh-tables-1.2.0.min.js\", \"https://cdn.pydata.org/bokeh/release/bokeh-gl-1.2.0.min.js\"];\n",
       "  var css_urls = [\"https://cdn.pydata.org/bokeh/release/bokeh-1.2.0.min.css\", \"https://cdn.pydata.org/bokeh/release/bokeh-widgets-1.2.0.min.css\", \"https://cdn.pydata.org/bokeh/release/bokeh-tables-1.2.0.min.css\"];\n",
       "\n",
       "  var inline_js = [\n",
       "    function(Bokeh) {\n",
       "      Bokeh.set_log_level(\"info\");\n",
       "    },\n",
       "    \n",
       "    function(Bokeh) {\n",
       "      \n",
       "    },\n",
       "    function(Bokeh) {} // ensure no trailing comma for IE\n",
       "  ];\n",
       "\n",
       "  function run_inline_js() {\n",
       "    \n",
       "    if ((root.Bokeh !== undefined) || (force === true)) {\n",
       "      for (var i = 0; i < inline_js.length; i++) {\n",
       "        inline_js[i].call(root, root.Bokeh);\n",
       "      }if (force === true) {\n",
       "        display_loaded();\n",
       "      }} else if (Date.now() < root._bokeh_timeout) {\n",
       "      setTimeout(run_inline_js, 100);\n",
       "    } else if (!root._bokeh_failed_load) {\n",
       "      console.log(\"Bokeh: BokehJS failed to load within specified timeout.\");\n",
       "      root._bokeh_failed_load = true;\n",
       "    } else if (force !== true) {\n",
       "      var cell = $(document.getElementById(\"1001\")).parents('.cell').data().cell;\n",
       "      cell.output_area.append_execute_result(NB_LOAD_WARNING)\n",
       "    }\n",
       "\n",
       "  }\n",
       "\n",
       "  if (root._bokeh_is_loading === 0) {\n",
       "    console.debug(\"Bokeh: BokehJS loaded, going straight to plotting\");\n",
       "    run_inline_js();\n",
       "  } else {\n",
       "    load_libs(css_urls, js_urls, function() {\n",
       "      console.debug(\"Bokeh: BokehJS plotting callback run at\", now());\n",
       "      run_inline_js();\n",
       "    });\n",
       "  }\n",
       "}(window));"
      ],
      "application/vnd.bokehjs_load.v0+json": "\n(function(root) {\n  function now() {\n    return new Date();\n  }\n\n  var force = true;\n\n  if (typeof root._bokeh_onload_callbacks === \"undefined\" || force === true) {\n    root._bokeh_onload_callbacks = [];\n    root._bokeh_is_loading = undefined;\n  }\n\n  \n\n  \n  if (typeof (root._bokeh_timeout) === \"undefined\" || force === true) {\n    root._bokeh_timeout = Date.now() + 5000;\n    root._bokeh_failed_load = false;\n  }\n\n  var NB_LOAD_WARNING = {'data': {'text/html':\n     \"<div style='background-color: #fdd'>\\n\"+\n     \"<p>\\n\"+\n     \"BokehJS does not appear to have successfully loaded. If loading BokehJS from CDN, this \\n\"+\n     \"may be due to a slow or bad network connection. Possible fixes:\\n\"+\n     \"</p>\\n\"+\n     \"<ul>\\n\"+\n     \"<li>re-rerun `output_notebook()` to attempt to load from CDN again, or</li>\\n\"+\n     \"<li>use INLINE resources instead, as so:</li>\\n\"+\n     \"</ul>\\n\"+\n     \"<code>\\n\"+\n     \"from bokeh.resources import INLINE\\n\"+\n     \"output_notebook(resources=INLINE)\\n\"+\n     \"</code>\\n\"+\n     \"</div>\"}};\n\n  function display_loaded() {\n    var el = document.getElementById(\"1001\");\n    if (el != null) {\n      el.textContent = \"BokehJS is loading...\";\n    }\n    if (root.Bokeh !== undefined) {\n      if (el != null) {\n        el.textContent = \"BokehJS \" + root.Bokeh.version + \" successfully loaded.\";\n      }\n    } else if (Date.now() < root._bokeh_timeout) {\n      setTimeout(display_loaded, 100)\n    }\n  }\n\n\n  function run_callbacks() {\n    try {\n      root._bokeh_onload_callbacks.forEach(function(callback) {\n        if (callback != null)\n          callback();\n      });\n    } finally {\n      delete root._bokeh_onload_callbacks\n    }\n    console.debug(\"Bokeh: all callbacks have finished\");\n  }\n\n  function load_libs(css_urls, js_urls, callback) {\n    if (css_urls == null) css_urls = [];\n    if (js_urls == null) js_urls = [];\n\n    root._bokeh_onload_callbacks.push(callback);\n    if (root._bokeh_is_loading > 0) {\n      console.debug(\"Bokeh: BokehJS is being loaded, scheduling callback at\", now());\n      return null;\n    }\n    if (js_urls == null || js_urls.length === 0) {\n      run_callbacks();\n      return null;\n    }\n    console.debug(\"Bokeh: BokehJS not loaded, scheduling load and callback at\", now());\n    root._bokeh_is_loading = css_urls.length + js_urls.length;\n\n    function on_load() {\n      root._bokeh_is_loading--;\n      if (root._bokeh_is_loading === 0) {\n        console.debug(\"Bokeh: all BokehJS libraries/stylesheets loaded\");\n        run_callbacks()\n      }\n    }\n\n    function on_error() {\n      console.error(\"failed to load \" + url);\n    }\n\n    for (var i = 0; i < css_urls.length; i++) {\n      var url = css_urls[i];\n      const element = document.createElement(\"link\");\n      element.onload = on_load;\n      element.onerror = on_error;\n      element.rel = \"stylesheet\";\n      element.type = \"text/css\";\n      element.href = url;\n      console.debug(\"Bokeh: injecting link tag for BokehJS stylesheet: \", url);\n      document.body.appendChild(element);\n    }\n\n    for (var i = 0; i < js_urls.length; i++) {\n      var url = js_urls[i];\n      var element = document.createElement('script');\n      element.onload = on_load;\n      element.onerror = on_error;\n      element.async = false;\n      element.src = url;\n      console.debug(\"Bokeh: injecting script tag for BokehJS library: \", url);\n      document.head.appendChild(element);\n    }\n  };var element = document.getElementById(\"1001\");\n  if (element == null) {\n    console.error(\"Bokeh: ERROR: autoload.js configured with elementid '1001' but no matching script tag was found. \")\n    return false;\n  }\n\n  function inject_raw_css(css) {\n    const element = document.createElement(\"style\");\n    element.appendChild(document.createTextNode(css));\n    document.body.appendChild(element);\n  }\n\n  var js_urls = [\"https://cdn.pydata.org/bokeh/release/bokeh-1.2.0.min.js\", \"https://cdn.pydata.org/bokeh/release/bokeh-widgets-1.2.0.min.js\", \"https://cdn.pydata.org/bokeh/release/bokeh-tables-1.2.0.min.js\", \"https://cdn.pydata.org/bokeh/release/bokeh-gl-1.2.0.min.js\"];\n  var css_urls = [\"https://cdn.pydata.org/bokeh/release/bokeh-1.2.0.min.css\", \"https://cdn.pydata.org/bokeh/release/bokeh-widgets-1.2.0.min.css\", \"https://cdn.pydata.org/bokeh/release/bokeh-tables-1.2.0.min.css\"];\n\n  var inline_js = [\n    function(Bokeh) {\n      Bokeh.set_log_level(\"info\");\n    },\n    \n    function(Bokeh) {\n      \n    },\n    function(Bokeh) {} // ensure no trailing comma for IE\n  ];\n\n  function run_inline_js() {\n    \n    if ((root.Bokeh !== undefined) || (force === true)) {\n      for (var i = 0; i < inline_js.length; i++) {\n        inline_js[i].call(root, root.Bokeh);\n      }if (force === true) {\n        display_loaded();\n      }} else if (Date.now() < root._bokeh_timeout) {\n      setTimeout(run_inline_js, 100);\n    } else if (!root._bokeh_failed_load) {\n      console.log(\"Bokeh: BokehJS failed to load within specified timeout.\");\n      root._bokeh_failed_load = true;\n    } else if (force !== true) {\n      var cell = $(document.getElementById(\"1001\")).parents('.cell').data().cell;\n      cell.output_area.append_execute_result(NB_LOAD_WARNING)\n    }\n\n  }\n\n  if (root._bokeh_is_loading === 0) {\n    console.debug(\"Bokeh: BokehJS loaded, going straight to plotting\");\n    run_inline_js();\n  } else {\n    load_libs(css_urls, js_urls, function() {\n      console.debug(\"Bokeh: BokehJS plotting callback run at\", now());\n      run_inline_js();\n    });\n  }\n}(window));"
     },
     "metadata": {},
     "output_type": "display_data"
    }
   ],
   "source": [
    "from bokeh.io import output_notebook, show\n",
    "from bokeh.plotting import figure\n",
    "output_notebook()"
   ]
  },
  {
   "cell_type": "markdown",
   "metadata": {},
   "source": [
    "Now that we know from the previous chapter how multiple plots can be placed together in a layout, we can start to look at how different plots can be linked togeher, or how plots can be linked to widgets. "
   ]
  },
  {
   "cell_type": "markdown",
   "metadata": {},
   "source": [
    "# Linked Interactions\n",
    "\n",
    "It is possible to link various interactions between different Bokeh plots. For instance, the ranges of two (or more) plots can be linked, so that when one of the plots is panned (or zoomed, or otherwise has its range changed) the other plots will update in unison. It is also possible to link selections between two plots, so that when items are selected on one plot, the corresponding items on the second plot also become selected. "
   ]
  },
  {
   "cell_type": "markdown",
   "metadata": {},
   "source": [
    "## Linked panning\n",
    "\n",
    "Linked panning (when multiple plots have ranges that stay in sync) is simple to spell with Bokeh. You simply share the appropriate range objects between two (or more) plots. The example below shows how to accomplish this by linking the ranges of three plots in various ways:"
   ]
  },
  {
   "cell_type": "code",
   "execution_count": 2,
   "metadata": {},
   "outputs": [
    {
     "data": {
      "text/html": [
       "\n",
       "\n",
       "\n",
       "\n",
       "\n",
       "\n",
       "  <div class=\"bk-root\" id=\"aa9fde91-1430-457d-b572-0849e804a964\" data-root-id=\"1116\"></div>\n"
      ]
     },
     "metadata": {},
     "output_type": "display_data"
    },
    {
     "data": {
      "application/javascript": [
       "(function(root) {\n",
       "  function embed_document(root) {\n",
       "    \n",
       "  var docs_json = {\"48249dde-6b15-4898-9c91-1b1e5ad4ac9d\":{\"roots\":{\"references\":[{\"attributes\":{\"children\":[{\"id\":\"1115\",\"type\":\"ToolbarBox\"},{\"id\":\"1113\",\"type\":\"GridBox\"}]},\"id\":\"1116\",\"type\":\"Column\"},{\"attributes\":{\"formatter\":{\"id\":\"1090\",\"type\":\"BasicTickFormatter\"},\"ticker\":{\"id\":\"1012\",\"type\":\"BasicTicker\"}},\"id\":\"1011\",\"type\":\"LinearAxis\"},{\"attributes\":{},\"id\":\"1067\",\"type\":\"BasicTicker\"},{\"attributes\":{},\"id\":\"1039\",\"type\":\"BasicTicker\"},{\"attributes\":{},\"id\":\"1093\",\"type\":\"Selection\"},{\"attributes\":{\"ticker\":{\"id\":\"1067\",\"type\":\"BasicTicker\"}},\"id\":\"1070\",\"type\":\"Grid\"},{\"attributes\":{},\"id\":\"1012\",\"type\":\"BasicTicker\"},{\"attributes\":{\"ticker\":{\"id\":\"1039\",\"type\":\"BasicTicker\"}},\"id\":\"1042\",\"type\":\"Grid\"},{\"attributes\":{\"text\":\"\"},\"id\":\"1095\",\"type\":\"Title\"},{\"attributes\":{\"ticker\":{\"id\":\"1012\",\"type\":\"BasicTicker\"}},\"id\":\"1015\",\"type\":\"Grid\"},{\"attributes\":{\"formatter\":{\"id\":\"1106\",\"type\":\"BasicTickFormatter\"},\"ticker\":{\"id\":\"1072\",\"type\":\"BasicTicker\"}},\"id\":\"1071\",\"type\":\"LinearAxis\"},{\"attributes\":{\"formatter\":{\"id\":\"1097\",\"type\":\"BasicTickFormatter\"},\"ticker\":{\"id\":\"1044\",\"type\":\"BasicTicker\"}},\"id\":\"1043\",\"type\":\"LinearAxis\"},{\"attributes\":{},\"id\":\"1097\",\"type\":\"BasicTickFormatter\"},{\"attributes\":{\"formatter\":{\"id\":\"1088\",\"type\":\"BasicTickFormatter\"},\"ticker\":{\"id\":\"1017\",\"type\":\"BasicTicker\"}},\"id\":\"1016\",\"type\":\"LinearAxis\"},{\"attributes\":{},\"id\":\"1072\",\"type\":\"BasicTicker\"},{\"attributes\":{},\"id\":\"1044\",\"type\":\"BasicTicker\"},{\"attributes\":{},\"id\":\"1099\",\"type\":\"BasicTickFormatter\"},{\"attributes\":{\"dimension\":1,\"ticker\":{\"id\":\"1072\",\"type\":\"BasicTicker\"}},\"id\":\"1075\",\"type\":\"Grid\"},{\"attributes\":{},\"id\":\"1017\",\"type\":\"BasicTicker\"},{\"attributes\":{\"dimension\":1,\"ticker\":{\"id\":\"1044\",\"type\":\"BasicTicker\"}},\"id\":\"1047\",\"type\":\"Grid\"},{\"attributes\":{},\"id\":\"1101\",\"type\":\"UnionRenderers\"},{\"attributes\":{\"children\":[[{\"id\":\"1002\",\"subtype\":\"Figure\",\"type\":\"Plot\"},0,0],[{\"id\":\"1031\",\"subtype\":\"Figure\",\"type\":\"Plot\"},0,1],[{\"id\":\"1058\",\"subtype\":\"Figure\",\"type\":\"Plot\"},0,2]]},\"id\":\"1113\",\"type\":\"GridBox\"},{\"attributes\":{\"dimension\":1,\"ticker\":{\"id\":\"1017\",\"type\":\"BasicTicker\"}},\"id\":\"1020\",\"type\":\"Grid\"},{\"attributes\":{},\"id\":\"1102\",\"type\":\"Selection\"},{\"attributes\":{\"active_drag\":\"auto\",\"active_inspect\":\"auto\",\"active_multi\":null,\"active_scroll\":\"auto\",\"active_tap\":\"auto\",\"tools\":[{\"id\":\"1076\",\"type\":\"PanTool\"},{\"id\":\"1077\",\"type\":\"WheelZoomTool\"}]},\"id\":\"1078\",\"type\":\"Toolbar\"},{\"attributes\":{\"active_drag\":\"auto\",\"active_inspect\":\"auto\",\"active_multi\":null,\"active_scroll\":\"auto\",\"active_tap\":\"auto\",\"tools\":[{\"id\":\"1048\",\"type\":\"PanTool\"},{\"id\":\"1049\",\"type\":\"WheelZoomTool\"}]},\"id\":\"1050\",\"type\":\"Toolbar\"},{\"attributes\":{},\"id\":\"1022\",\"type\":\"WheelZoomTool\"},{\"attributes\":{},\"id\":\"1076\",\"type\":\"PanTool\"},{\"attributes\":{},\"id\":\"1048\",\"type\":\"PanTool\"},{\"attributes\":{\"text\":\"\"},\"id\":\"1104\",\"type\":\"Title\"},{\"attributes\":{\"active_drag\":\"auto\",\"active_inspect\":\"auto\",\"active_multi\":null,\"active_scroll\":\"auto\",\"active_tap\":\"auto\",\"tools\":[{\"id\":\"1021\",\"type\":\"PanTool\"},{\"id\":\"1022\",\"type\":\"WheelZoomTool\"}]},\"id\":\"1023\",\"type\":\"Toolbar\"},{\"attributes\":{\"fill_alpha\":{\"value\":0.1},\"fill_color\":{\"value\":\"#1f77b4\"},\"line_alpha\":{\"value\":0.1},\"line_color\":{\"value\":\"#1f77b4\"},\"size\":{\"units\":\"screen\",\"value\":10},\"x\":{\"field\":\"x\"},\"y\":{\"field\":\"y\"}},\"id\":\"1028\",\"type\":\"Circle\"},{\"attributes\":{},\"id\":\"1021\",\"type\":\"PanTool\"},{\"attributes\":{},\"id\":\"1077\",\"type\":\"WheelZoomTool\"},{\"attributes\":{},\"id\":\"1049\",\"type\":\"WheelZoomTool\"},{\"attributes\":{},\"id\":\"1106\",\"type\":\"BasicTickFormatter\"},{\"attributes\":{\"below\":[{\"id\":\"1038\",\"type\":\"LinearAxis\"}],\"center\":[{\"id\":\"1042\",\"type\":\"Grid\"},{\"id\":\"1047\",\"type\":\"Grid\"}],\"left\":[{\"id\":\"1043\",\"type\":\"LinearAxis\"}],\"plot_height\":250,\"plot_width\":250,\"renderers\":[{\"id\":\"1056\",\"type\":\"GlyphRenderer\"}],\"title\":{\"id\":\"1095\",\"type\":\"Title\"},\"toolbar\":{\"id\":\"1050\",\"type\":\"Toolbar\"},\"toolbar_location\":null,\"x_range\":{\"id\":\"1003\",\"type\":\"DataRange1d\"},\"x_scale\":{\"id\":\"1034\",\"type\":\"LinearScale\"},\"y_range\":{\"id\":\"1005\",\"type\":\"DataRange1d\"},\"y_scale\":{\"id\":\"1036\",\"type\":\"LinearScale\"}},\"id\":\"1031\",\"subtype\":\"Figure\",\"type\":\"Plot\"},{\"attributes\":{},\"id\":\"1108\",\"type\":\"BasicTickFormatter\"},{\"attributes\":{\"fill_color\":{\"value\":\"olive\"},\"line_color\":{\"value\":\"olive\"},\"size\":{\"units\":\"screen\",\"value\":10},\"x\":{\"field\":\"x\"},\"y\":{\"field\":\"y\"}},\"id\":\"1082\",\"type\":\"Square\"},{\"attributes\":{\"fill_color\":{\"value\":\"firebrick\"},\"line_color\":{\"value\":\"firebrick\"},\"size\":{\"units\":\"screen\",\"value\":10},\"x\":{\"field\":\"x\"},\"y\":{\"field\":\"y\"}},\"id\":\"1054\",\"type\":\"Triangle\"},{\"attributes\":{},\"id\":\"1110\",\"type\":\"UnionRenderers\"},{\"attributes\":{\"source\":{\"id\":\"1026\",\"type\":\"ColumnDataSource\"}},\"id\":\"1030\",\"type\":\"CDSView\"},{\"attributes\":{\"fill_alpha\":{\"value\":0.1},\"fill_color\":{\"value\":\"#1f77b4\"},\"line_alpha\":{\"value\":0.1},\"line_color\":{\"value\":\"#1f77b4\"},\"size\":{\"units\":\"screen\",\"value\":10},\"x\":{\"field\":\"x\"},\"y\":{\"field\":\"y\"}},\"id\":\"1083\",\"type\":\"Square\"},{\"attributes\":{\"fill_alpha\":{\"value\":0.1},\"fill_color\":{\"value\":\"#1f77b4\"},\"line_alpha\":{\"value\":0.1},\"line_color\":{\"value\":\"#1f77b4\"},\"size\":{\"units\":\"screen\",\"value\":10},\"x\":{\"field\":\"x\"},\"y\":{\"field\":\"y\"}},\"id\":\"1055\",\"type\":\"Triangle\"},{\"attributes\":{},\"id\":\"1111\",\"type\":\"Selection\"},{\"attributes\":{},\"id\":\"1092\",\"type\":\"UnionRenderers\"},{\"attributes\":{\"data_source\":{\"id\":\"1081\",\"type\":\"ColumnDataSource\"},\"glyph\":{\"id\":\"1082\",\"type\":\"Square\"},\"hover_glyph\":null,\"muted_glyph\":null,\"nonselection_glyph\":{\"id\":\"1083\",\"type\":\"Square\"},\"selection_glyph\":null,\"view\":{\"id\":\"1085\",\"type\":\"CDSView\"}},\"id\":\"1084\",\"type\":\"GlyphRenderer\"},{\"attributes\":{\"tools\":[{\"id\":\"1021\",\"type\":\"PanTool\"},{\"id\":\"1022\",\"type\":\"WheelZoomTool\"},{\"id\":\"1048\",\"type\":\"PanTool\"},{\"id\":\"1049\",\"type\":\"WheelZoomTool\"},{\"id\":\"1076\",\"type\":\"PanTool\"},{\"id\":\"1077\",\"type\":\"WheelZoomTool\"}]},\"id\":\"1114\",\"type\":\"ProxyToolbar\"},{\"attributes\":{\"data_source\":{\"id\":\"1053\",\"type\":\"ColumnDataSource\"},\"glyph\":{\"id\":\"1054\",\"type\":\"Triangle\"},\"hover_glyph\":null,\"muted_glyph\":null,\"nonselection_glyph\":{\"id\":\"1055\",\"type\":\"Triangle\"},\"selection_glyph\":null,\"view\":{\"id\":\"1057\",\"type\":\"CDSView\"}},\"id\":\"1056\",\"type\":\"GlyphRenderer\"},{\"attributes\":{\"formatter\":{\"id\":\"1108\",\"type\":\"BasicTickFormatter\"},\"ticker\":{\"id\":\"1067\",\"type\":\"BasicTicker\"}},\"id\":\"1066\",\"type\":\"LinearAxis\"},{\"attributes\":{\"source\":{\"id\":\"1081\",\"type\":\"ColumnDataSource\"}},\"id\":\"1085\",\"type\":\"CDSView\"},{\"attributes\":{\"toolbar\":{\"id\":\"1114\",\"type\":\"ProxyToolbar\"},\"toolbar_location\":\"above\"},\"id\":\"1115\",\"type\":\"ToolbarBox\"},{\"attributes\":{\"callback\":null,\"data\":{\"x\":[0,1,2,3,4,5,6,7,8,9,10],\"y\":[0,1,2,3,4,5,6,7,8,9,10]},\"selected\":{\"id\":\"1093\",\"type\":\"Selection\"},\"selection_policy\":{\"id\":\"1092\",\"type\":\"UnionRenderers\"}},\"id\":\"1026\",\"type\":\"ColumnDataSource\"},{\"attributes\":{\"source\":{\"id\":\"1053\",\"type\":\"ColumnDataSource\"}},\"id\":\"1057\",\"type\":\"CDSView\"},{\"attributes\":{\"below\":[{\"id\":\"1011\",\"type\":\"LinearAxis\"}],\"center\":[{\"id\":\"1015\",\"type\":\"Grid\"},{\"id\":\"1020\",\"type\":\"Grid\"}],\"left\":[{\"id\":\"1016\",\"type\":\"LinearAxis\"}],\"plot_height\":250,\"plot_width\":250,\"renderers\":[{\"id\":\"1029\",\"type\":\"GlyphRenderer\"}],\"title\":{\"id\":\"1086\",\"type\":\"Title\"},\"toolbar\":{\"id\":\"1023\",\"type\":\"Toolbar\"},\"toolbar_location\":null,\"x_range\":{\"id\":\"1003\",\"type\":\"DataRange1d\"},\"x_scale\":{\"id\":\"1007\",\"type\":\"LinearScale\"},\"y_range\":{\"id\":\"1005\",\"type\":\"DataRange1d\"},\"y_scale\":{\"id\":\"1009\",\"type\":\"LinearScale\"}},\"id\":\"1002\",\"subtype\":\"Figure\",\"type\":\"Plot\"},{\"attributes\":{\"callback\":null,\"data\":{\"x\":[0,1,2,3,4,5,6,7,8,9,10],\"y\":[5,4,3,2,1,0,1,2,3,4,5]},\"selected\":{\"id\":\"1111\",\"type\":\"Selection\"},\"selection_policy\":{\"id\":\"1110\",\"type\":\"UnionRenderers\"}},\"id\":\"1081\",\"type\":\"ColumnDataSource\"},{\"attributes\":{\"text\":\"\"},\"id\":\"1086\",\"type\":\"Title\"},{\"attributes\":{\"callback\":null},\"id\":\"1005\",\"type\":\"DataRange1d\"},{\"attributes\":{\"callback\":null,\"data\":{\"x\":[0,1,2,3,4,5,6,7,8,9,10],\"y\":[10,9,8,7,6,5,4,3,2,1,0]},\"selected\":{\"id\":\"1102\",\"type\":\"Selection\"},\"selection_policy\":{\"id\":\"1101\",\"type\":\"UnionRenderers\"}},\"id\":\"1053\",\"type\":\"ColumnDataSource\"},{\"attributes\":{\"callback\":null},\"id\":\"1003\",\"type\":\"DataRange1d\"},{\"attributes\":{\"callback\":null},\"id\":\"1060\",\"type\":\"DataRange1d\"},{\"attributes\":{\"below\":[{\"id\":\"1066\",\"type\":\"LinearAxis\"}],\"center\":[{\"id\":\"1070\",\"type\":\"Grid\"},{\"id\":\"1075\",\"type\":\"Grid\"}],\"left\":[{\"id\":\"1071\",\"type\":\"LinearAxis\"}],\"plot_height\":250,\"plot_width\":250,\"renderers\":[{\"id\":\"1084\",\"type\":\"GlyphRenderer\"}],\"title\":{\"id\":\"1104\",\"type\":\"Title\"},\"toolbar\":{\"id\":\"1078\",\"type\":\"Toolbar\"},\"toolbar_location\":null,\"x_range\":{\"id\":\"1003\",\"type\":\"DataRange1d\"},\"x_scale\":{\"id\":\"1062\",\"type\":\"LinearScale\"},\"y_range\":{\"id\":\"1060\",\"type\":\"DataRange1d\"},\"y_scale\":{\"id\":\"1064\",\"type\":\"LinearScale\"}},\"id\":\"1058\",\"subtype\":\"Figure\",\"type\":\"Plot\"},{\"attributes\":{},\"id\":\"1034\",\"type\":\"LinearScale\"},{\"attributes\":{},\"id\":\"1088\",\"type\":\"BasicTickFormatter\"},{\"attributes\":{},\"id\":\"1062\",\"type\":\"LinearScale\"},{\"attributes\":{\"fill_color\":{\"value\":\"navy\"},\"line_color\":{\"value\":\"navy\"},\"size\":{\"units\":\"screen\",\"value\":10},\"x\":{\"field\":\"x\"},\"y\":{\"field\":\"y\"}},\"id\":\"1027\",\"type\":\"Circle\"},{\"attributes\":{},\"id\":\"1036\",\"type\":\"LinearScale\"},{\"attributes\":{},\"id\":\"1090\",\"type\":\"BasicTickFormatter\"},{\"attributes\":{},\"id\":\"1007\",\"type\":\"LinearScale\"},{\"attributes\":{},\"id\":\"1064\",\"type\":\"LinearScale\"},{\"attributes\":{\"formatter\":{\"id\":\"1099\",\"type\":\"BasicTickFormatter\"},\"ticker\":{\"id\":\"1039\",\"type\":\"BasicTicker\"}},\"id\":\"1038\",\"type\":\"LinearAxis\"},{\"attributes\":{},\"id\":\"1009\",\"type\":\"LinearScale\"},{\"attributes\":{\"data_source\":{\"id\":\"1026\",\"type\":\"ColumnDataSource\"},\"glyph\":{\"id\":\"1027\",\"type\":\"Circle\"},\"hover_glyph\":null,\"muted_glyph\":null,\"nonselection_glyph\":{\"id\":\"1028\",\"type\":\"Circle\"},\"selection_glyph\":null,\"view\":{\"id\":\"1030\",\"type\":\"CDSView\"}},\"id\":\"1029\",\"type\":\"GlyphRenderer\"}],\"root_ids\":[\"1116\"]},\"title\":\"Bokeh Application\",\"version\":\"1.2.0\"}};\n",
       "  var render_items = [{\"docid\":\"48249dde-6b15-4898-9c91-1b1e5ad4ac9d\",\"roots\":{\"1116\":\"aa9fde91-1430-457d-b572-0849e804a964\"}}];\n",
       "  root.Bokeh.embed.embed_items_notebook(docs_json, render_items);\n",
       "\n",
       "  }\n",
       "  if (root.Bokeh !== undefined) {\n",
       "    embed_document(root);\n",
       "  } else {\n",
       "    var attempts = 0;\n",
       "    var timer = setInterval(function(root) {\n",
       "      if (root.Bokeh !== undefined) {\n",
       "        embed_document(root);\n",
       "        clearInterval(timer);\n",
       "      }\n",
       "      attempts++;\n",
       "      if (attempts > 100) {\n",
       "        console.log(\"Bokeh: ERROR: Unable to run BokehJS code because BokehJS library is missing\");\n",
       "        clearInterval(timer);\n",
       "      }\n",
       "    }, 10, root)\n",
       "  }\n",
       "})(window);"
      ],
      "application/vnd.bokehjs_exec.v0+json": ""
     },
     "metadata": {
      "application/vnd.bokehjs_exec.v0+json": {
       "id": "1116"
      }
     },
     "output_type": "display_data"
    }
   ],
   "source": [
    "from bokeh.layouts import gridplot\n",
    "\n",
    "x = list(range(11))\n",
    "y0, y1, y2 = x, [10-i for i in x], [abs(i-5) for i in x]\n",
    "\n",
    "plot_options = dict(width=250, plot_height=250, tools='pan,wheel_zoom')\n",
    "\n",
    "# create a new plot\n",
    "s1 = figure(**plot_options)\n",
    "s1.circle(x, y0, size=10, color=\"navy\")\n",
    "\n",
    "# create a new plot and share both ranges\n",
    "s2 = figure(x_range=s1.x_range, y_range=s1.y_range, **plot_options)\n",
    "s2.triangle(x, y1, size=10, color=\"firebrick\")\n",
    "\n",
    "# create a new plot and share only one range\n",
    "s3 = figure(x_range=s1.x_range, **plot_options)\n",
    "s3.square(x, y2, size=10, color=\"olive\")\n",
    "\n",
    "p = gridplot([[s1, s2, s3]])\n",
    "\n",
    "# show the results\n",
    "show(p)"
   ]
  },
  {
   "cell_type": "code",
   "execution_count": 3,
   "metadata": {},
   "outputs": [],
   "source": [
    "# EXERCISE: create two plots in a gridplot, and link their ranges\n"
   ]
  },
  {
   "cell_type": "markdown",
   "metadata": {},
   "source": [
    "## Linked brushing\n",
    "\n",
    "Linking selections is accomplished in a similar way, by sharing data sources between plots. Note that normally with ``bokeh.plotting`` and ``bokeh.charts`` creating a default data source for simple plots is handled automatically. However to share a data source, we must create them by hand and pass them explicitly. This is illustrated in the example below:"
   ]
  },
  {
   "cell_type": "code",
   "execution_count": 4,
   "metadata": {},
   "outputs": [
    {
     "data": {
      "text/html": [
       "\n",
       "\n",
       "\n",
       "\n",
       "\n",
       "\n",
       "  <div class=\"bk-root\" id=\"bc96da7f-b819-4925-904a-76df50d0f5f3\" data-root-id=\"1373\"></div>\n"
      ]
     },
     "metadata": {},
     "output_type": "display_data"
    },
    {
     "data": {
      "application/javascript": [
       "(function(root) {\n",
       "  function embed_document(root) {\n",
       "    \n",
       "  var docs_json = {\"89d69bb1-cb9a-4760-9452-99be43eede77\":{\"roots\":{\"references\":[{\"attributes\":{\"children\":[{\"id\":\"1372\",\"type\":\"ToolbarBox\"},{\"id\":\"1370\",\"type\":\"GridBox\"}]},\"id\":\"1373\",\"type\":\"Column\"},{\"attributes\":{\"text\":\"\"},\"id\":\"1348\",\"type\":\"Title\"},{\"attributes\":{\"callback\":null},\"id\":\"1320\",\"type\":\"DataRange1d\"},{\"attributes\":{},\"id\":\"1327\",\"type\":\"BasicTicker\"},{\"attributes\":{},\"id\":\"1296\",\"type\":\"BasicTicker\"},{\"attributes\":{},\"id\":\"1352\",\"type\":\"BasicTickFormatter\"},{\"attributes\":{\"ticker\":{\"id\":\"1327\",\"type\":\"BasicTicker\"}},\"id\":\"1330\",\"type\":\"Grid\"},{\"attributes\":{},\"id\":\"1301\",\"type\":\"BasicTicker\"},{\"attributes\":{},\"id\":\"1354\",\"type\":\"UnionRenderers\"},{\"attributes\":{},\"id\":\"1332\",\"type\":\"BasicTicker\"},{\"attributes\":{\"fill_alpha\":{\"value\":0.5},\"fill_color\":{\"value\":\"lightgrey\"},\"level\":\"overlay\",\"line_alpha\":{\"value\":1.0},\"line_color\":{\"value\":\"black\"},\"line_dash\":[4,4],\"line_width\":{\"value\":2},\"xs_units\":\"screen\",\"ys_units\":\"screen\"},\"id\":\"1357\",\"type\":\"PolyAnnotation\"},{\"attributes\":{},\"id\":\"1293\",\"type\":\"LinearScale\"},{\"attributes\":{\"formatter\":{\"id\":\"1361\",\"type\":\"BasicTickFormatter\"},\"ticker\":{\"id\":\"1332\",\"type\":\"BasicTicker\"}},\"id\":\"1331\",\"type\":\"LinearAxis\"},{\"attributes\":{\"bottom_units\":\"screen\",\"fill_alpha\":{\"value\":0.5},\"fill_color\":{\"value\":\"lightgrey\"},\"left_units\":\"screen\",\"level\":\"overlay\",\"line_alpha\":{\"value\":1.0},\"line_color\":{\"value\":\"black\"},\"line_dash\":[4,4],\"line_width\":{\"value\":2},\"render_mode\":\"css\",\"right_units\":\"screen\",\"top_units\":\"screen\"},\"id\":\"1356\",\"type\":\"BoxAnnotation\"},{\"attributes\":{\"dimension\":1,\"ticker\":{\"id\":\"1332\",\"type\":\"BasicTicker\"}},\"id\":\"1335\",\"type\":\"Grid\"},{\"attributes\":{\"formatter\":{\"id\":\"1350\",\"type\":\"BasicTickFormatter\"},\"ticker\":{\"id\":\"1301\",\"type\":\"BasicTicker\"}},\"id\":\"1300\",\"type\":\"LinearAxis\"},{\"attributes\":{\"formatter\":{\"id\":\"1352\",\"type\":\"BasicTickFormatter\"},\"ticker\":{\"id\":\"1296\",\"type\":\"BasicTicker\"}},\"id\":\"1295\",\"type\":\"LinearAxis\"},{\"attributes\":{\"fill_alpha\":{\"value\":0.1},\"fill_color\":{\"value\":\"#1f77b4\"},\"line_alpha\":{\"value\":0.1},\"line_color\":{\"value\":\"#1f77b4\"},\"x\":{\"field\":\"x\"},\"y\":{\"field\":\"y1\"}},\"id\":\"1345\",\"type\":\"Circle\"},{\"attributes\":{\"ticker\":{\"id\":\"1296\",\"type\":\"BasicTicker\"}},\"id\":\"1299\",\"type\":\"Grid\"},{\"attributes\":{\"active_drag\":\"auto\",\"active_inspect\":\"auto\",\"active_multi\":null,\"active_scroll\":\"auto\",\"active_tap\":\"auto\",\"tools\":[{\"id\":\"1336\",\"type\":\"BoxSelectTool\"},{\"id\":\"1337\",\"type\":\"LassoSelectTool\"},{\"id\":\"1338\",\"type\":\"HelpTool\"}]},\"id\":\"1339\",\"type\":\"Toolbar\"},{\"attributes\":{\"active_drag\":\"auto\",\"active_inspect\":\"auto\",\"active_multi\":null,\"active_scroll\":\"auto\",\"active_tap\":\"auto\",\"tools\":[{\"id\":\"1305\",\"type\":\"BoxSelectTool\"},{\"id\":\"1306\",\"type\":\"LassoSelectTool\"},{\"id\":\"1307\",\"type\":\"HelpTool\"}]},\"id\":\"1308\",\"type\":\"Toolbar\"},{\"attributes\":{\"callback\":null,\"overlay\":{\"id\":\"1368\",\"type\":\"PolyAnnotation\"}},\"id\":\"1337\",\"type\":\"LassoSelectTool\"},{\"attributes\":{\"callback\":null,\"data\":{\"x\":[-20,-19,-18,-17,-16,-15,-14,-13,-12,-11,-10,-9,-8,-7,-6,-5,-4,-3,-2,-1,0,1,2,3,4,5,6,7,8,9,10,11,12,13,14,15,16,17,18,19,20],\"y0\":[20,19,18,17,16,15,14,13,12,11,10,9,8,7,6,5,4,3,2,1,0,1,2,3,4,5,6,7,8,9,10,11,12,13,14,15,16,17,18,19,20],\"y1\":[400,361,324,289,256,225,196,169,144,121,100,81,64,49,36,25,16,9,4,1,0,1,4,9,16,25,36,49,64,81,100,121,144,169,196,225,256,289,324,361,400]},\"selected\":{\"id\":\"1355\",\"type\":\"Selection\"},\"selection_policy\":{\"id\":\"1354\",\"type\":\"UnionRenderers\"}},\"id\":\"1285\",\"type\":\"ColumnDataSource\"},{\"attributes\":{\"callback\":null,\"overlay\":{\"id\":\"1357\",\"type\":\"PolyAnnotation\"}},\"id\":\"1306\",\"type\":\"LassoSelectTool\"},{\"attributes\":{},\"id\":\"1350\",\"type\":\"BasicTickFormatter\"},{\"attributes\":{\"callback\":null,\"overlay\":{\"id\":\"1367\",\"type\":\"BoxAnnotation\"}},\"id\":\"1336\",\"type\":\"BoxSelectTool\"},{\"attributes\":{\"dimension\":1,\"ticker\":{\"id\":\"1301\",\"type\":\"BasicTicker\"}},\"id\":\"1304\",\"type\":\"Grid\"},{\"attributes\":{\"below\":[{\"id\":\"1326\",\"type\":\"LinearAxis\"}],\"center\":[{\"id\":\"1330\",\"type\":\"Grid\"},{\"id\":\"1335\",\"type\":\"Grid\"}],\"left\":[{\"id\":\"1331\",\"type\":\"LinearAxis\"}],\"plot_height\":300,\"plot_width\":300,\"renderers\":[{\"id\":\"1346\",\"type\":\"GlyphRenderer\"}],\"title\":{\"id\":\"1359\",\"type\":\"Title\"},\"toolbar\":{\"id\":\"1339\",\"type\":\"Toolbar\"},\"toolbar_location\":null,\"x_range\":{\"id\":\"1318\",\"type\":\"DataRange1d\"},\"x_scale\":{\"id\":\"1322\",\"type\":\"LinearScale\"},\"y_range\":{\"id\":\"1320\",\"type\":\"DataRange1d\"},\"y_scale\":{\"id\":\"1324\",\"type\":\"LinearScale\"}},\"id\":\"1317\",\"subtype\":\"Figure\",\"type\":\"Plot\"},{\"attributes\":{},\"id\":\"1355\",\"type\":\"Selection\"},{\"attributes\":{\"callback\":null},\"id\":\"1287\",\"type\":\"DataRange1d\"},{\"attributes\":{\"fill_color\":{\"value\":\"#1f77b4\"},\"line_color\":{\"value\":\"#1f77b4\"},\"x\":{\"field\":\"x\"},\"y\":{\"field\":\"y0\"}},\"id\":\"1313\",\"type\":\"Circle\"},{\"attributes\":{\"text\":\"\"},\"id\":\"1359\",\"type\":\"Title\"},{\"attributes\":{\"children\":[[{\"id\":\"1286\",\"subtype\":\"Figure\",\"type\":\"Plot\"},0,0],[{\"id\":\"1317\",\"subtype\":\"Figure\",\"type\":\"Plot\"},0,1]]},\"id\":\"1370\",\"type\":\"GridBox\"},{\"attributes\":{\"source\":{\"id\":\"1285\",\"type\":\"ColumnDataSource\"}},\"id\":\"1347\",\"type\":\"CDSView\"},{\"attributes\":{\"callback\":null,\"overlay\":{\"id\":\"1356\",\"type\":\"BoxAnnotation\"}},\"id\":\"1305\",\"type\":\"BoxSelectTool\"},{\"attributes\":{},\"id\":\"1361\",\"type\":\"BasicTickFormatter\"},{\"attributes\":{\"below\":[{\"id\":\"1295\",\"type\":\"LinearAxis\"}],\"center\":[{\"id\":\"1299\",\"type\":\"Grid\"},{\"id\":\"1304\",\"type\":\"Grid\"}],\"left\":[{\"id\":\"1300\",\"type\":\"LinearAxis\"}],\"plot_height\":300,\"plot_width\":300,\"renderers\":[{\"id\":\"1315\",\"type\":\"GlyphRenderer\"}],\"title\":{\"id\":\"1348\",\"type\":\"Title\"},\"toolbar\":{\"id\":\"1308\",\"type\":\"Toolbar\"},\"toolbar_location\":null,\"x_range\":{\"id\":\"1287\",\"type\":\"DataRange1d\"},\"x_scale\":{\"id\":\"1291\",\"type\":\"LinearScale\"},\"y_range\":{\"id\":\"1289\",\"type\":\"DataRange1d\"},\"y_scale\":{\"id\":\"1293\",\"type\":\"LinearScale\"}},\"id\":\"1286\",\"subtype\":\"Figure\",\"type\":\"Plot\"},{\"attributes\":{\"callback\":null},\"id\":\"1289\",\"type\":\"DataRange1d\"},{\"attributes\":{\"data_source\":{\"id\":\"1285\",\"type\":\"ColumnDataSource\"},\"glyph\":{\"id\":\"1344\",\"type\":\"Circle\"},\"hover_glyph\":null,\"muted_glyph\":null,\"nonselection_glyph\":{\"id\":\"1345\",\"type\":\"Circle\"},\"selection_glyph\":null,\"view\":{\"id\":\"1347\",\"type\":\"CDSView\"}},\"id\":\"1346\",\"type\":\"GlyphRenderer\"},{\"attributes\":{},\"id\":\"1307\",\"type\":\"HelpTool\"},{\"attributes\":{},\"id\":\"1363\",\"type\":\"BasicTickFormatter\"},{\"attributes\":{},\"id\":\"1291\",\"type\":\"LinearScale\"},{\"attributes\":{\"bottom_units\":\"screen\",\"fill_alpha\":{\"value\":0.5},\"fill_color\":{\"value\":\"lightgrey\"},\"left_units\":\"screen\",\"level\":\"overlay\",\"line_alpha\":{\"value\":1.0},\"line_color\":{\"value\":\"black\"},\"line_dash\":[4,4],\"line_width\":{\"value\":2},\"render_mode\":\"css\",\"right_units\":\"screen\",\"top_units\":\"screen\"},\"id\":\"1367\",\"type\":\"BoxAnnotation\"},{\"attributes\":{},\"id\":\"1338\",\"type\":\"HelpTool\"},{\"attributes\":{},\"id\":\"1324\",\"type\":\"LinearScale\"},{\"attributes\":{\"formatter\":{\"id\":\"1363\",\"type\":\"BasicTickFormatter\"},\"ticker\":{\"id\":\"1327\",\"type\":\"BasicTicker\"}},\"id\":\"1326\",\"type\":\"LinearAxis\"},{\"attributes\":{\"data_source\":{\"id\":\"1285\",\"type\":\"ColumnDataSource\"},\"glyph\":{\"id\":\"1313\",\"type\":\"Circle\"},\"hover_glyph\":null,\"muted_glyph\":null,\"nonselection_glyph\":{\"id\":\"1314\",\"type\":\"Circle\"},\"selection_glyph\":null,\"view\":{\"id\":\"1316\",\"type\":\"CDSView\"}},\"id\":\"1315\",\"type\":\"GlyphRenderer\"},{\"attributes\":{\"toolbar\":{\"id\":\"1371\",\"type\":\"ProxyToolbar\"},\"toolbar_location\":\"above\"},\"id\":\"1372\",\"type\":\"ToolbarBox\"},{\"attributes\":{\"fill_alpha\":{\"value\":0.5},\"fill_color\":{\"value\":\"lightgrey\"},\"level\":\"overlay\",\"line_alpha\":{\"value\":1.0},\"line_color\":{\"value\":\"black\"},\"line_dash\":[4,4],\"line_width\":{\"value\":2},\"xs_units\":\"screen\",\"ys_units\":\"screen\"},\"id\":\"1368\",\"type\":\"PolyAnnotation\"},{\"attributes\":{\"fill_alpha\":{\"value\":0.1},\"fill_color\":{\"value\":\"#1f77b4\"},\"line_alpha\":{\"value\":0.1},\"line_color\":{\"value\":\"#1f77b4\"},\"x\":{\"field\":\"x\"},\"y\":{\"field\":\"y0\"}},\"id\":\"1314\",\"type\":\"Circle\"},{\"attributes\":{\"tools\":[{\"id\":\"1305\",\"type\":\"BoxSelectTool\"},{\"id\":\"1306\",\"type\":\"LassoSelectTool\"},{\"id\":\"1307\",\"type\":\"HelpTool\"},{\"id\":\"1336\",\"type\":\"BoxSelectTool\"},{\"id\":\"1337\",\"type\":\"LassoSelectTool\"},{\"id\":\"1338\",\"type\":\"HelpTool\"}]},\"id\":\"1371\",\"type\":\"ProxyToolbar\"},{\"attributes\":{\"fill_color\":{\"value\":\"#1f77b4\"},\"line_color\":{\"value\":\"#1f77b4\"},\"x\":{\"field\":\"x\"},\"y\":{\"field\":\"y1\"}},\"id\":\"1344\",\"type\":\"Circle\"},{\"attributes\":{},\"id\":\"1322\",\"type\":\"LinearScale\"},{\"attributes\":{\"source\":{\"id\":\"1285\",\"type\":\"ColumnDataSource\"}},\"id\":\"1316\",\"type\":\"CDSView\"},{\"attributes\":{\"callback\":null},\"id\":\"1318\",\"type\":\"DataRange1d\"}],\"root_ids\":[\"1373\"]},\"title\":\"Bokeh Application\",\"version\":\"1.2.0\"}};\n",
       "  var render_items = [{\"docid\":\"89d69bb1-cb9a-4760-9452-99be43eede77\",\"roots\":{\"1373\":\"bc96da7f-b819-4925-904a-76df50d0f5f3\"}}];\n",
       "  root.Bokeh.embed.embed_items_notebook(docs_json, render_items);\n",
       "\n",
       "  }\n",
       "  if (root.Bokeh !== undefined) {\n",
       "    embed_document(root);\n",
       "  } else {\n",
       "    var attempts = 0;\n",
       "    var timer = setInterval(function(root) {\n",
       "      if (root.Bokeh !== undefined) {\n",
       "        embed_document(root);\n",
       "        clearInterval(timer);\n",
       "      }\n",
       "      attempts++;\n",
       "      if (attempts > 100) {\n",
       "        console.log(\"Bokeh: ERROR: Unable to run BokehJS code because BokehJS library is missing\");\n",
       "        clearInterval(timer);\n",
       "      }\n",
       "    }, 10, root)\n",
       "  }\n",
       "})(window);"
      ],
      "application/vnd.bokehjs_exec.v0+json": ""
     },
     "metadata": {
      "application/vnd.bokehjs_exec.v0+json": {
       "id": "1373"
      }
     },
     "output_type": "display_data"
    }
   ],
   "source": [
    "from bokeh.models import ColumnDataSource\n",
    "\n",
    "x = list(range(-20, 21))\n",
    "y0, y1 = [abs(xx) for xx in x], [xx**2 for xx in x]\n",
    "\n",
    "# create a column data source for the plots to share\n",
    "source = ColumnDataSource(data=dict(x=x, y0=y0, y1=y1))\n",
    "\n",
    "TOOLS = \"box_select,lasso_select,help\"\n",
    "\n",
    "# create a new plot and add a renderer\n",
    "left = figure(tools=TOOLS, width=300, height=300)\n",
    "left.circle('x', 'y0', source=source)\n",
    "\n",
    "# create another new plot and add a renderer\n",
    "right = figure(tools=TOOLS, width=300, height=300)\n",
    "right.circle('x', 'y1', source=source)\n",
    "\n",
    "p = gridplot([[left, right]])\n",
    "\n",
    "show(p)"
   ]
  },
  {
   "cell_type": "code",
   "execution_count": 5,
   "metadata": {},
   "outputs": [],
   "source": [
    "# EXERCISE: create two plots in a gridplot, and link their data sources\n",
    "\n"
   ]
  },
  {
   "cell_type": "markdown",
   "metadata": {},
   "source": [
    "# Hover Tools\n",
    "\n",
    "Bokeh has a Hover Tool that allows additional information to be displayed in a popup whenever the user hovers over a specific glyph. Basic hover tool configuration amounts to providing a list of ``(name, format)`` tuples. The full details can be found in the User's Guide [here](http://bokeh.pydata.org/en/latest/docs/user_guide/tools.html#hovertool).\n",
    "\n",
    "The example below shows some basic usage of the Hover tool with a circle glyph, using hover information defined in utils.py:"
   ]
  },
  {
   "cell_type": "code",
   "execution_count": 6,
   "metadata": {},
   "outputs": [
    {
     "data": {
      "text/html": [
       "\n",
       "\n",
       "\n",
       "\n",
       "\n",
       "\n",
       "  <div class=\"bk-root\" id=\"a9cb894e-9f0d-4427-b3f8-46970c1873d8\" data-root-id=\"1528\"></div>\n"
      ]
     },
     "metadata": {},
     "output_type": "display_data"
    },
    {
     "data": {
      "application/javascript": [
       "(function(root) {\n",
       "  function embed_document(root) {\n",
       "    \n",
       "  var docs_json = {\"b5d8e574-e31f-4ca0-bd3a-38a4746316da\":{\"roots\":{\"references\":[{\"attributes\":{\"below\":[{\"id\":\"1539\",\"type\":\"LinearAxis\"}],\"center\":[{\"id\":\"1543\",\"type\":\"Grid\"},{\"id\":\"1548\",\"type\":\"Grid\"}],\"left\":[{\"id\":\"1544\",\"type\":\"LinearAxis\"}],\"plot_height\":300,\"plot_width\":300,\"renderers\":[{\"id\":\"1554\",\"type\":\"GlyphRenderer\"}],\"title\":{\"id\":\"1529\",\"type\":\"Title\"},\"toolbar\":{\"id\":\"1549\",\"type\":\"Toolbar\"},\"x_range\":{\"id\":\"1531\",\"type\":\"DataRange1d\"},\"x_scale\":{\"id\":\"1535\",\"type\":\"LinearScale\"},\"y_range\":{\"id\":\"1533\",\"type\":\"DataRange1d\"},\"y_scale\":{\"id\":\"1537\",\"type\":\"LinearScale\"}},\"id\":\"1528\",\"subtype\":\"Figure\",\"type\":\"Plot\"},{\"attributes\":{\"formatter\":{\"id\":\"1599\",\"type\":\"BasicTickFormatter\"},\"ticker\":{\"id\":\"1545\",\"type\":\"BasicTicker\"}},\"id\":\"1544\",\"type\":\"LinearAxis\"},{\"attributes\":{\"callback\":null},\"id\":\"1533\",\"type\":\"DataRange1d\"},{\"attributes\":{},\"id\":\"1545\",\"type\":\"BasicTicker\"},{\"attributes\":{\"dimension\":1,\"ticker\":{\"id\":\"1545\",\"type\":\"BasicTicker\"}},\"id\":\"1548\",\"type\":\"Grid\"},{\"attributes\":{\"callback\":null},\"id\":\"1531\",\"type\":\"DataRange1d\"},{\"attributes\":{\"active_drag\":\"auto\",\"active_inspect\":\"auto\",\"active_multi\":null,\"active_scroll\":\"auto\",\"active_tap\":\"auto\",\"tools\":[{\"id\":\"1527\",\"type\":\"HoverTool\"}]},\"id\":\"1549\",\"type\":\"Toolbar\"},{\"attributes\":{\"fill_color\":{\"value\":\"#1f77b4\"},\"line_color\":{\"value\":\"#1f77b4\"},\"size\":{\"units\":\"screen\",\"value\":20},\"x\":{\"field\":\"x\"},\"y\":{\"field\":\"y\"}},\"id\":\"1552\",\"type\":\"Circle\"},{\"attributes\":{\"text\":\"Mouse over the dots\"},\"id\":\"1529\",\"type\":\"Title\"},{\"attributes\":{\"callback\":null,\"tooltips\":[[\"index\",\"$index\"],[\"(x,y)\",\"($x, $y)\"],[\"desc\",\"@desc\"]]},\"id\":\"1527\",\"type\":\"HoverTool\"},{\"attributes\":{},\"id\":\"1599\",\"type\":\"BasicTickFormatter\"},{\"attributes\":{\"callback\":null,\"data\":{\"desc\":[\"A\",\"b\",\"C\",\"d\",\"E\"],\"x\":[1,2,3,4,5],\"y\":[2,5,8,2,7]},\"selected\":{\"id\":\"1604\",\"type\":\"Selection\"},\"selection_policy\":{\"id\":\"1603\",\"type\":\"UnionRenderers\"}},\"id\":\"1526\",\"type\":\"ColumnDataSource\"},{\"attributes\":{\"fill_alpha\":{\"value\":0.1},\"fill_color\":{\"value\":\"#1f77b4\"},\"line_alpha\":{\"value\":0.1},\"line_color\":{\"value\":\"#1f77b4\"},\"size\":{\"units\":\"screen\",\"value\":20},\"x\":{\"field\":\"x\"},\"y\":{\"field\":\"y\"}},\"id\":\"1553\",\"type\":\"Circle\"},{\"attributes\":{\"data_source\":{\"id\":\"1526\",\"type\":\"ColumnDataSource\"},\"glyph\":{\"id\":\"1552\",\"type\":\"Circle\"},\"hover_glyph\":null,\"muted_glyph\":null,\"nonselection_glyph\":{\"id\":\"1553\",\"type\":\"Circle\"},\"selection_glyph\":null,\"view\":{\"id\":\"1555\",\"type\":\"CDSView\"}},\"id\":\"1554\",\"type\":\"GlyphRenderer\"},{\"attributes\":{\"source\":{\"id\":\"1526\",\"type\":\"ColumnDataSource\"}},\"id\":\"1555\",\"type\":\"CDSView\"},{\"attributes\":{},\"id\":\"1601\",\"type\":\"BasicTickFormatter\"},{\"attributes\":{},\"id\":\"1603\",\"type\":\"UnionRenderers\"},{\"attributes\":{},\"id\":\"1604\",\"type\":\"Selection\"},{\"attributes\":{},\"id\":\"1537\",\"type\":\"LinearScale\"},{\"attributes\":{\"ticker\":{\"id\":\"1540\",\"type\":\"BasicTicker\"}},\"id\":\"1543\",\"type\":\"Grid\"},{\"attributes\":{},\"id\":\"1540\",\"type\":\"BasicTicker\"},{\"attributes\":{},\"id\":\"1535\",\"type\":\"LinearScale\"},{\"attributes\":{\"formatter\":{\"id\":\"1601\",\"type\":\"BasicTickFormatter\"},\"ticker\":{\"id\":\"1540\",\"type\":\"BasicTicker\"}},\"id\":\"1539\",\"type\":\"LinearAxis\"}],\"root_ids\":[\"1528\"]},\"title\":\"Bokeh Application\",\"version\":\"1.2.0\"}};\n",
       "  var render_items = [{\"docid\":\"b5d8e574-e31f-4ca0-bd3a-38a4746316da\",\"roots\":{\"1528\":\"a9cb894e-9f0d-4427-b3f8-46970c1873d8\"}}];\n",
       "  root.Bokeh.embed.embed_items_notebook(docs_json, render_items);\n",
       "\n",
       "  }\n",
       "  if (root.Bokeh !== undefined) {\n",
       "    embed_document(root);\n",
       "  } else {\n",
       "    var attempts = 0;\n",
       "    var timer = setInterval(function(root) {\n",
       "      if (root.Bokeh !== undefined) {\n",
       "        embed_document(root);\n",
       "        clearInterval(timer);\n",
       "      }\n",
       "      attempts++;\n",
       "      if (attempts > 100) {\n",
       "        console.log(\"Bokeh: ERROR: Unable to run BokehJS code because BokehJS library is missing\");\n",
       "        clearInterval(timer);\n",
       "      }\n",
       "    }, 10, root)\n",
       "  }\n",
       "})(window);"
      ],
      "application/vnd.bokehjs_exec.v0+json": ""
     },
     "metadata": {
      "application/vnd.bokehjs_exec.v0+json": {
       "id": "1528"
      }
     },
     "output_type": "display_data"
    }
   ],
   "source": [
    "from bokeh.models import HoverTool\n",
    "\n",
    "source = ColumnDataSource(\n",
    "        data=dict(\n",
    "            x=[1, 2, 3, 4, 5],\n",
    "            y=[2, 5, 8, 2, 7],\n",
    "            desc=['A', 'b', 'C', 'd', 'E'],\n",
    "        )\n",
    "    )\n",
    "\n",
    "hover = HoverTool(\n",
    "        tooltips=[\n",
    "            (\"index\", \"$index\"),\n",
    "            (\"(x,y)\", \"($x, $y)\"),\n",
    "            (\"desc\", \"@desc\"),\n",
    "        ]\n",
    "    )\n",
    "\n",
    "p = figure(plot_width=300, plot_height=300, tools=[hover], title=\"Mouse over the dots\")\n",
    "\n",
    "p.circle('x', 'y', size=20, source=source)\n",
    "\n",
    "show(p)"
   ]
  },
  {
   "cell_type": "markdown",
   "metadata": {},
   "source": [
    "# Widgets"
   ]
  },
  {
   "cell_type": "markdown",
   "metadata": {},
   "source": [
    "Bokeh supports direct integration with a small basic widget set. Thse can be used in conjunction with a Bokeh Server, or with ``CustomJS`` models to add more interactive capability to your documents. You can see a complete list, with example code in the [Adding Widgets](http://bokeh.pydata.org/en/latest/docs/user_guide/interaction.html#adding-widgets) section of the User's Guide. \n",
    "\n",
    "\n",
    "\n",
    "*NOTE: In this Tutorial chapter, we will focus on using widgets with JavaScript callbacks. The Tutorial chapter on Bokeh server applications covers using Bokeh widgets with real Python callbacks*\n",
    "\n",
    "\n",
    "\n",
    "\n",
    "To use the widgets, include them in a layout like you would a plot object:"
   ]
  },
  {
   "cell_type": "code",
   "execution_count": 7,
   "metadata": {},
   "outputs": [
    {
     "data": {
      "text/html": [
       "\n",
       "\n",
       "\n",
       "\n",
       "\n",
       "\n",
       "  <div class=\"bk-root\" id=\"36db1ebc-cef5-4a25-b1f4-3fef7ca38d58\" data-root-id=\"1648\"></div>\n"
      ]
     },
     "metadata": {},
     "output_type": "display_data"
    },
    {
     "data": {
      "application/javascript": [
       "(function(root) {\n",
       "  function embed_document(root) {\n",
       "    \n",
       "  var docs_json = {\"6a1f1a94-310a-4c2d-9b1f-be4b7c4cc376\":{\"roots\":{\"references\":[{\"attributes\":{\"children\":[{\"id\":\"1647\",\"type\":\"Slider\"}]},\"id\":\"1648\",\"type\":\"WidgetBox\"},{\"attributes\":{\"callback\":null,\"end\":10,\"start\":0,\"step\":0.1,\"title\":\"foo\",\"value\":1},\"id\":\"1647\",\"type\":\"Slider\"}],\"root_ids\":[\"1648\"]},\"title\":\"Bokeh Application\",\"version\":\"1.2.0\"}};\n",
       "  var render_items = [{\"docid\":\"6a1f1a94-310a-4c2d-9b1f-be4b7c4cc376\",\"roots\":{\"1648\":\"36db1ebc-cef5-4a25-b1f4-3fef7ca38d58\"}}];\n",
       "  root.Bokeh.embed.embed_items_notebook(docs_json, render_items);\n",
       "\n",
       "  }\n",
       "  if (root.Bokeh !== undefined) {\n",
       "    embed_document(root);\n",
       "  } else {\n",
       "    var attempts = 0;\n",
       "    var timer = setInterval(function(root) {\n",
       "      if (root.Bokeh !== undefined) {\n",
       "        embed_document(root);\n",
       "        clearInterval(timer);\n",
       "      }\n",
       "      attempts++;\n",
       "      if (attempts > 100) {\n",
       "        console.log(\"Bokeh: ERROR: Unable to run BokehJS code because BokehJS library is missing\");\n",
       "        clearInterval(timer);\n",
       "      }\n",
       "    }, 10, root)\n",
       "  }\n",
       "})(window);"
      ],
      "application/vnd.bokehjs_exec.v0+json": ""
     },
     "metadata": {
      "application/vnd.bokehjs_exec.v0+json": {
       "id": "1648"
      }
     },
     "output_type": "display_data"
    }
   ],
   "source": [
    "from bokeh.layouts import widgetbox\n",
    "from bokeh.models.widgets import Slider\n",
    "\n",
    "\n",
    "slider = Slider(start=0, end=10, value=1, step=.1, title=\"foo\")\n",
    "\n",
    "show(widgetbox(slider))"
   ]
  },
  {
   "cell_type": "code",
   "execution_count": 8,
   "metadata": {},
   "outputs": [],
   "source": [
    "# EXERCISE: create and show a Select widget \n"
   ]
  },
  {
   "cell_type": "markdown",
   "metadata": {},
   "source": [
    "# CustomJS Callbacks\n",
    "\n",
    "In order for a widget to be useful, it needs to be able to perform some action. Using the Bokeh server, it is possible to have widgets trigger real Python code. That possibuility will be explored in the Bokeh server chapter of the turorial. Here, we look at how widgets can be configured with `CustomJS` callbacks that execute snippets of JavaScript code. "
   ]
  },
  {
   "cell_type": "code",
   "execution_count": 9,
   "metadata": {},
   "outputs": [
    {
     "data": {
      "text/html": [
       "\n",
       "\n",
       "\n",
       "\n",
       "\n",
       "\n",
       "  <div class=\"bk-root\" id=\"07934988-b500-475d-8313-deb455481cf7\" data-root-id=\"1700\"></div>\n"
      ]
     },
     "metadata": {},
     "output_type": "display_data"
    },
    {
     "data": {
      "application/javascript": [
       "(function(root) {\n",
       "  function embed_document(root) {\n",
       "    \n",
       "  var docs_json = {\"6543597b-d37c-4a3e-a116-229381d25af2\":{\"roots\":{\"references\":[{\"attributes\":{\"below\":[{\"id\":\"1709\",\"type\":\"LinearAxis\"}],\"center\":[{\"id\":\"1713\",\"type\":\"Grid\"},{\"id\":\"1718\",\"type\":\"Grid\"}],\"left\":[{\"id\":\"1714\",\"type\":\"LinearAxis\"}],\"plot_height\":300,\"renderers\":[{\"id\":\"1724\",\"type\":\"GlyphRenderer\"}],\"title\":{\"id\":\"1775\",\"type\":\"Title\"},\"toolbar\":{\"id\":\"1719\",\"type\":\"Toolbar\"},\"x_range\":{\"id\":\"1701\",\"type\":\"DataRange1d\"},\"x_scale\":{\"id\":\"1705\",\"type\":\"LinearScale\"},\"y_range\":{\"id\":\"1703\",\"type\":\"DataRange1d\"},\"y_scale\":{\"id\":\"1707\",\"type\":\"LinearScale\"}},\"id\":\"1700\",\"subtype\":\"Figure\",\"type\":\"Plot\"},{\"attributes\":{},\"id\":\"1779\",\"type\":\"BasicTickFormatter\"},{\"attributes\":{\"text\":\"\"},\"id\":\"1775\",\"type\":\"Title\"},{\"attributes\":{},\"id\":\"1777\",\"type\":\"BasicTickFormatter\"},{\"attributes\":{\"formatter\":{\"id\":\"1779\",\"type\":\"BasicTickFormatter\"},\"ticker\":{\"id\":\"1710\",\"type\":\"BasicTicker\"}},\"id\":\"1709\",\"type\":\"LinearAxis\"},{\"attributes\":{\"source\":{\"id\":\"1721\",\"type\":\"ColumnDataSource\"}},\"id\":\"1725\",\"type\":\"CDSView\"},{\"attributes\":{\"fill_alpha\":{\"value\":0.1},\"fill_color\":{\"value\":\"#1f77b4\"},\"line_alpha\":{\"value\":0.1},\"line_color\":{\"value\":\"#1f77b4\"},\"size\":{\"units\":\"screen\",\"value\":20},\"x\":{\"field\":\"x\"},\"y\":{\"field\":\"y\"}},\"id\":\"1723\",\"type\":\"Circle\"},{\"attributes\":{\"data_source\":{\"id\":\"1721\",\"type\":\"ColumnDataSource\"},\"glyph\":{\"id\":\"1722\",\"type\":\"Circle\"},\"hover_glyph\":null,\"muted_glyph\":null,\"nonselection_glyph\":{\"id\":\"1723\",\"type\":\"Circle\"},\"selection_glyph\":null,\"view\":{\"id\":\"1725\",\"type\":\"CDSView\"}},\"id\":\"1724\",\"type\":\"GlyphRenderer\"},{\"attributes\":{\"callback\":null},\"id\":\"1703\",\"type\":\"DataRange1d\"},{\"attributes\":{\"fill_color\":{\"value\":\"#1f77b4\"},\"line_color\":{\"value\":\"#1f77b4\"},\"size\":{\"units\":\"screen\",\"value\":20},\"x\":{\"field\":\"x\"},\"y\":{\"field\":\"y\"}},\"id\":\"1722\",\"type\":\"Circle\"},{\"attributes\":{},\"id\":\"1705\",\"type\":\"LinearScale\"},{\"attributes\":{\"active_drag\":\"auto\",\"active_inspect\":\"auto\",\"active_multi\":null,\"active_scroll\":\"auto\",\"active_tap\":\"auto\",\"tools\":[{\"id\":\"1699\",\"type\":\"TapTool\"}]},\"id\":\"1719\",\"type\":\"Toolbar\"},{\"attributes\":{\"dimension\":1,\"ticker\":{\"id\":\"1715\",\"type\":\"BasicTicker\"}},\"id\":\"1718\",\"type\":\"Grid\"},{\"attributes\":{},\"id\":\"1715\",\"type\":\"BasicTicker\"},{\"attributes\":{\"code\":\"alert('you tapped a circle!')\"},\"id\":\"1698\",\"type\":\"CustomJS\"},{\"attributes\":{\"callback\":null},\"id\":\"1701\",\"type\":\"DataRange1d\"},{\"attributes\":{},\"id\":\"1710\",\"type\":\"BasicTicker\"},{\"attributes\":{\"ticker\":{\"id\":\"1710\",\"type\":\"BasicTicker\"}},\"id\":\"1713\",\"type\":\"Grid\"},{\"attributes\":{},\"id\":\"1782\",\"type\":\"Selection\"},{\"attributes\":{},\"id\":\"1707\",\"type\":\"LinearScale\"},{\"attributes\":{\"callback\":null,\"data\":{\"x\":[1,2,3,4,5],\"y\":[2,5,8,2,7]},\"selected\":{\"id\":\"1782\",\"type\":\"Selection\"},\"selection_policy\":{\"id\":\"1781\",\"type\":\"UnionRenderers\"}},\"id\":\"1721\",\"type\":\"ColumnDataSource\"},{\"attributes\":{},\"id\":\"1781\",\"type\":\"UnionRenderers\"},{\"attributes\":{\"callback\":{\"id\":\"1698\",\"type\":\"CustomJS\"}},\"id\":\"1699\",\"type\":\"TapTool\"},{\"attributes\":{\"formatter\":{\"id\":\"1777\",\"type\":\"BasicTickFormatter\"},\"ticker\":{\"id\":\"1715\",\"type\":\"BasicTicker\"}},\"id\":\"1714\",\"type\":\"LinearAxis\"}],\"root_ids\":[\"1700\"]},\"title\":\"Bokeh Application\",\"version\":\"1.2.0\"}};\n",
       "  var render_items = [{\"docid\":\"6543597b-d37c-4a3e-a116-229381d25af2\",\"roots\":{\"1700\":\"07934988-b500-475d-8313-deb455481cf7\"}}];\n",
       "  root.Bokeh.embed.embed_items_notebook(docs_json, render_items);\n",
       "\n",
       "  }\n",
       "  if (root.Bokeh !== undefined) {\n",
       "    embed_document(root);\n",
       "  } else {\n",
       "    var attempts = 0;\n",
       "    var timer = setInterval(function(root) {\n",
       "      if (root.Bokeh !== undefined) {\n",
       "        embed_document(root);\n",
       "        clearInterval(timer);\n",
       "      }\n",
       "      attempts++;\n",
       "      if (attempts > 100) {\n",
       "        console.log(\"Bokeh: ERROR: Unable to run BokehJS code because BokehJS library is missing\");\n",
       "        clearInterval(timer);\n",
       "      }\n",
       "    }, 10, root)\n",
       "  }\n",
       "})(window);"
      ],
      "application/vnd.bokehjs_exec.v0+json": ""
     },
     "metadata": {
      "application/vnd.bokehjs_exec.v0+json": {
       "id": "1700"
      }
     },
     "output_type": "display_data"
    }
   ],
   "source": [
    "from bokeh.models import TapTool, CustomJS, ColumnDataSource\n",
    "\n",
    "callback = CustomJS(code=\"alert('you tapped a circle!')\")\n",
    "tap = TapTool(callback=callback)\n",
    "\n",
    "p = figure(plot_width=600, plot_height=300, tools=[tap])\n",
    "\n",
    "p.circle(x=[1, 2, 3, 4, 5], y=[2, 5, 8, 2, 7], size=20)\n",
    "\n",
    "show(p)"
   ]
  },
  {
   "cell_type": "markdown",
   "metadata": {},
   "source": [
    "## CustomJS for Property changes\n",
    "\n",
    "Bokeh objects that have values associated can have small JavaScript actions attached to them using the `js_on_change` method. These actions (also referred to as \"callbacks\") are executed whenever the widget's value is changed. In order to make it easier to refer to specific Bokeh models (e.g., a data source, or a glyhph) from JavaScript, the ``CustomJS`` obejct also accepts a dictionary of \"args\" that map names to Python Bokeh models. The corresponding JavaScript models are made available automaticaly to the ``CustomJS`` code:\n",
    "\n",
    "```python\n",
    "CustomJS(args=dict(source=source, slider=slider), code=\"\"\"\n",
    "    // easily refer to BokehJS source and slider objects in this JS code\n",
    "    var data = source.data;\n",
    "    var f = slider.value;\n",
    "\"\"\")\n",
    "```"
   ]
  },
  {
   "cell_type": "markdown",
   "metadata": {},
   "source": [
    "### Slider widget example\n",
    "\n",
    "The example below shows an action attached to a slider that updates a data source whenever the slider is moved.  "
   ]
  },
  {
   "cell_type": "code",
   "execution_count": 10,
   "metadata": {},
   "outputs": [
    {
     "data": {
      "text/html": [
       "\n",
       "\n",
       "\n",
       "\n",
       "\n",
       "\n",
       "  <div class=\"bk-root\" id=\"85dda563-c224-46f3-8efd-963c80252f89\" data-root-id=\"1871\"></div>\n"
      ]
     },
     "metadata": {},
     "output_type": "display_data"
    },
    {
     "data": {
      "application/javascript": [
       "(function(root) {\n",
       "  function embed_document(root) {\n",
       "    \n",
       "  var docs_json = {\"229f0a57-62a6-4682-b91f-1c3bc6269161\":{\"roots\":{\"references\":[{\"attributes\":{\"children\":[{\"id\":\"1869\",\"type\":\"Slider\"},{\"id\":\"1832\",\"subtype\":\"Figure\",\"type\":\"Plot\"}]},\"id\":\"1871\",\"type\":\"Column\"},{\"attributes\":{},\"id\":\"1856\",\"type\":\"HelpTool\"},{\"attributes\":{\"callback\":null},\"id\":\"1833\",\"type\":\"DataRange1d\"},{\"attributes\":{\"callback\":null},\"id\":\"1835\",\"type\":\"DataRange1d\"},{\"attributes\":{\"active_drag\":\"auto\",\"active_inspect\":\"auto\",\"active_multi\":null,\"active_scroll\":\"auto\",\"active_tap\":\"auto\",\"tools\":[{\"id\":\"1851\",\"type\":\"PanTool\"},{\"id\":\"1852\",\"type\":\"WheelZoomTool\"},{\"id\":\"1853\",\"type\":\"BoxZoomTool\"},{\"id\":\"1854\",\"type\":\"SaveTool\"},{\"id\":\"1855\",\"type\":\"ResetTool\"},{\"id\":\"1856\",\"type\":\"HelpTool\"}]},\"id\":\"1857\",\"type\":\"Toolbar\"},{\"attributes\":{\"source\":{\"id\":\"1831\",\"type\":\"ColumnDataSource\"}},\"id\":\"1868\",\"type\":\"CDSView\"},{\"attributes\":{},\"id\":\"1837\",\"type\":\"LinearScale\"},{\"attributes\":{},\"id\":\"1839\",\"type\":\"LinearScale\"},{\"attributes\":{\"args\":{\"slider\":{\"id\":\"1869\",\"type\":\"Slider\"},\"source\":{\"id\":\"1831\",\"type\":\"ColumnDataSource\"}},\"code\":\"\\n    var data = source.data;\\n    var f = slider.value;\\n    x = data['x']\\n    y = data['y']\\n    for (i = 0; i < x.length; i++) {\\n        y[i] = Math.pow(x[i], f)\\n    }\\n    \\n    // necessary becasue we mutated source.data in-place\\n    source.change.emit();\\n\"},\"id\":\"1870\",\"type\":\"CustomJS\"},{\"attributes\":{\"formatter\":{\"id\":\"1933\",\"type\":\"BasicTickFormatter\"},\"ticker\":{\"id\":\"1842\",\"type\":\"BasicTicker\"}},\"id\":\"1841\",\"type\":\"LinearAxis\"},{\"attributes\":{},\"id\":\"1842\",\"type\":\"BasicTicker\"},{\"attributes\":{\"ticker\":{\"id\":\"1842\",\"type\":\"BasicTicker\"}},\"id\":\"1845\",\"type\":\"Grid\"},{\"attributes\":{\"formatter\":{\"id\":\"1931\",\"type\":\"BasicTickFormatter\"},\"ticker\":{\"id\":\"1847\",\"type\":\"BasicTicker\"}},\"id\":\"1846\",\"type\":\"LinearAxis\"},{\"attributes\":{\"text\":\"\"},\"id\":\"1929\",\"type\":\"Title\"},{\"attributes\":{},\"id\":\"1847\",\"type\":\"BasicTicker\"},{\"attributes\":{},\"id\":\"1933\",\"type\":\"BasicTickFormatter\"},{\"attributes\":{\"dimension\":1,\"ticker\":{\"id\":\"1847\",\"type\":\"BasicTicker\"}},\"id\":\"1850\",\"type\":\"Grid\"},{\"attributes\":{},\"id\":\"1935\",\"type\":\"UnionRenderers\"},{\"attributes\":{\"line_alpha\":0.1,\"line_color\":\"#1f77b4\",\"line_width\":3,\"x\":{\"field\":\"x\"},\"y\":{\"field\":\"y\"}},\"id\":\"1866\",\"type\":\"Line\"},{\"attributes\":{},\"id\":\"1936\",\"type\":\"Selection\"},{\"attributes\":{\"line_alpha\":0.6,\"line_color\":\"#1f77b4\",\"line_width\":3,\"x\":{\"field\":\"x\"},\"y\":{\"field\":\"y\"}},\"id\":\"1865\",\"type\":\"Line\"},{\"attributes\":{\"bottom_units\":\"screen\",\"fill_alpha\":{\"value\":0.5},\"fill_color\":{\"value\":\"lightgrey\"},\"left_units\":\"screen\",\"level\":\"overlay\",\"line_alpha\":{\"value\":1.0},\"line_color\":{\"value\":\"black\"},\"line_dash\":[4,4],\"line_width\":{\"value\":2},\"render_mode\":\"css\",\"right_units\":\"screen\",\"top_units\":\"screen\"},\"id\":\"1937\",\"type\":\"BoxAnnotation\"},{\"attributes\":{\"callback\":null,\"end\":6,\"js_property_callbacks\":{\"change:value\":[{\"id\":\"1870\",\"type\":\"CustomJS\"}]},\"start\":0.1,\"step\":0.1,\"title\":\"power\",\"value\":1},\"id\":\"1869\",\"type\":\"Slider\"},{\"attributes\":{\"data_source\":{\"id\":\"1831\",\"type\":\"ColumnDataSource\"},\"glyph\":{\"id\":\"1865\",\"type\":\"Line\"},\"hover_glyph\":null,\"muted_glyph\":null,\"nonselection_glyph\":{\"id\":\"1866\",\"type\":\"Line\"},\"selection_glyph\":null,\"view\":{\"id\":\"1868\",\"type\":\"CDSView\"}},\"id\":\"1867\",\"type\":\"GlyphRenderer\"},{\"attributes\":{},\"id\":\"1851\",\"type\":\"PanTool\"},{\"attributes\":{},\"id\":\"1852\",\"type\":\"WheelZoomTool\"},{\"attributes\":{\"overlay\":{\"id\":\"1937\",\"type\":\"BoxAnnotation\"}},\"id\":\"1853\",\"type\":\"BoxZoomTool\"},{\"attributes\":{\"callback\":null,\"data\":{\"x\":[0.0,0.005,0.01,0.015,0.02,0.025,0.03,0.035,0.04,0.045,0.05,0.055,0.06,0.065,0.07,0.075,0.08,0.085,0.09,0.095,0.1,0.105,0.11,0.115,0.12,0.125,0.13,0.135,0.14,0.145,0.15,0.155,0.16,0.165,0.17,0.17500000000000002,0.18,0.185,0.19,0.195,0.2,0.20500000000000002,0.21,0.215,0.22,0.225,0.23,0.23500000000000001,0.24,0.245,0.25,0.255,0.26,0.265,0.27,0.275,0.28,0.28500000000000003,0.29,0.295,0.3,0.305,0.31,0.315,0.32,0.325,0.33,0.335,0.34,0.34500000000000003,0.35000000000000003,0.355,0.36,0.365,0.37,0.375,0.38,0.385,0.39,0.395,0.4,0.405,0.41000000000000003,0.41500000000000004,0.42,0.425,0.43,0.435,0.44,0.445,0.45,0.455,0.46,0.465,0.47000000000000003,0.47500000000000003,0.48,0.485,0.49,0.495,0.5,0.505,0.51,0.515,0.52,0.525,0.53,0.535,0.54,0.545,0.55,0.555,0.56,0.5650000000000001,0.5700000000000001,0.5750000000000001,0.58,0.585,0.59,0.595,0.6,0.605,0.61,0.615,0.62,0.625,0.63,0.635,0.64,0.645,0.65,0.655,0.66,0.665,0.67,0.675,0.68,0.685,0.6900000000000001,0.6950000000000001,0.7000000000000001,0.705,0.71,0.715,0.72,0.725,0.73,0.735,0.74,0.745,0.75,0.755,0.76,0.765,0.77,0.775,0.78,0.785,0.79,0.795,0.8,0.805,0.81,0.8150000000000001,0.8200000000000001,0.8250000000000001,0.8300000000000001,0.835,0.84,0.845,0.85,0.855,0.86,0.865,0.87,0.875,0.88,0.885,0.89,0.895,0.9,0.905,0.91,0.915,0.92,0.925,0.93,0.935,0.9400000000000001,0.9450000000000001,0.9500000000000001,0.9550000000000001,0.96,0.965,0.97,0.975,0.98,0.985,0.99,0.995,1.0],\"y\":[0.0,0.005,0.01,0.015,0.02,0.025,0.03,0.035,0.04,0.045,0.05,0.055,0.06,0.065,0.07,0.075,0.08,0.085,0.09,0.095,0.1,0.105,0.11,0.115,0.12,0.125,0.13,0.135,0.14,0.145,0.15,0.155,0.16,0.165,0.17,0.17500000000000002,0.18,0.185,0.19,0.195,0.2,0.20500000000000002,0.21,0.215,0.22,0.225,0.23,0.23500000000000001,0.24,0.245,0.25,0.255,0.26,0.265,0.27,0.275,0.28,0.28500000000000003,0.29,0.295,0.3,0.305,0.31,0.315,0.32,0.325,0.33,0.335,0.34,0.34500000000000003,0.35000000000000003,0.355,0.36,0.365,0.37,0.375,0.38,0.385,0.39,0.395,0.4,0.405,0.41000000000000003,0.41500000000000004,0.42,0.425,0.43,0.435,0.44,0.445,0.45,0.455,0.46,0.465,0.47000000000000003,0.47500000000000003,0.48,0.485,0.49,0.495,0.5,0.505,0.51,0.515,0.52,0.525,0.53,0.535,0.54,0.545,0.55,0.555,0.56,0.5650000000000001,0.5700000000000001,0.5750000000000001,0.58,0.585,0.59,0.595,0.6,0.605,0.61,0.615,0.62,0.625,0.63,0.635,0.64,0.645,0.65,0.655,0.66,0.665,0.67,0.675,0.68,0.685,0.6900000000000001,0.6950000000000001,0.7000000000000001,0.705,0.71,0.715,0.72,0.725,0.73,0.735,0.74,0.745,0.75,0.755,0.76,0.765,0.77,0.775,0.78,0.785,0.79,0.795,0.8,0.805,0.81,0.8150000000000001,0.8200000000000001,0.8250000000000001,0.8300000000000001,0.835,0.84,0.845,0.85,0.855,0.86,0.865,0.87,0.875,0.88,0.885,0.89,0.895,0.9,0.905,0.91,0.915,0.92,0.925,0.93,0.935,0.9400000000000001,0.9450000000000001,0.9500000000000001,0.9550000000000001,0.96,0.965,0.97,0.975,0.98,0.985,0.99,0.995,1.0]},\"selected\":{\"id\":\"1936\",\"type\":\"Selection\"},\"selection_policy\":{\"id\":\"1935\",\"type\":\"UnionRenderers\"}},\"id\":\"1831\",\"type\":\"ColumnDataSource\"},{\"attributes\":{\"below\":[{\"id\":\"1841\",\"type\":\"LinearAxis\"}],\"center\":[{\"id\":\"1845\",\"type\":\"Grid\"},{\"id\":\"1850\",\"type\":\"Grid\"}],\"left\":[{\"id\":\"1846\",\"type\":\"LinearAxis\"}],\"plot_height\":400,\"plot_width\":400,\"renderers\":[{\"id\":\"1867\",\"type\":\"GlyphRenderer\"}],\"title\":{\"id\":\"1929\",\"type\":\"Title\"},\"toolbar\":{\"id\":\"1857\",\"type\":\"Toolbar\"},\"x_range\":{\"id\":\"1833\",\"type\":\"DataRange1d\"},\"x_scale\":{\"id\":\"1837\",\"type\":\"LinearScale\"},\"y_range\":{\"id\":\"1835\",\"type\":\"DataRange1d\"},\"y_scale\":{\"id\":\"1839\",\"type\":\"LinearScale\"}},\"id\":\"1832\",\"subtype\":\"Figure\",\"type\":\"Plot\"},{\"attributes\":{},\"id\":\"1854\",\"type\":\"SaveTool\"},{\"attributes\":{},\"id\":\"1931\",\"type\":\"BasicTickFormatter\"},{\"attributes\":{},\"id\":\"1855\",\"type\":\"ResetTool\"}],\"root_ids\":[\"1871\"]},\"title\":\"Bokeh Application\",\"version\":\"1.2.0\"}};\n",
       "  var render_items = [{\"docid\":\"229f0a57-62a6-4682-b91f-1c3bc6269161\",\"roots\":{\"1871\":\"85dda563-c224-46f3-8efd-963c80252f89\"}}];\n",
       "  root.Bokeh.embed.embed_items_notebook(docs_json, render_items);\n",
       "\n",
       "  }\n",
       "  if (root.Bokeh !== undefined) {\n",
       "    embed_document(root);\n",
       "  } else {\n",
       "    var attempts = 0;\n",
       "    var timer = setInterval(function(root) {\n",
       "      if (root.Bokeh !== undefined) {\n",
       "        embed_document(root);\n",
       "        clearInterval(timer);\n",
       "      }\n",
       "      attempts++;\n",
       "      if (attempts > 100) {\n",
       "        console.log(\"Bokeh: ERROR: Unable to run BokehJS code because BokehJS library is missing\");\n",
       "        clearInterval(timer);\n",
       "      }\n",
       "    }, 10, root)\n",
       "  }\n",
       "})(window);"
      ],
      "application/vnd.bokehjs_exec.v0+json": ""
     },
     "metadata": {
      "application/vnd.bokehjs_exec.v0+json": {
       "id": "1871"
      }
     },
     "output_type": "display_data"
    }
   ],
   "source": [
    "from bokeh.layouts import column\n",
    "from bokeh.models import CustomJS, ColumnDataSource, Slider\n",
    "\n",
    "x = [x*0.005 for x in range(0, 201)]\n",
    "\n",
    "source = ColumnDataSource(data=dict(x=x, y=x))\n",
    "\n",
    "plot = figure(plot_width=400, plot_height=400)\n",
    "plot.line('x', 'y', source=source, line_width=3, line_alpha=0.6)\n",
    "\n",
    "slider = Slider(start=0.1, end=6, value=1, step=.1, title=\"power\")\n",
    "\n",
    "update_curve = CustomJS(args=dict(source=source, slider=slider), code=\"\"\"\n",
    "    var data = source.data;\n",
    "    var f = slider.value;\n",
    "    x = data['x']\n",
    "    y = data['y']\n",
    "    for (i = 0; i < x.length; i++) {\n",
    "        y[i] = Math.pow(x[i], f)\n",
    "    }\n",
    "    \n",
    "    // necessary becasue we mutated source.data in-place\n",
    "    source.change.emit();\n",
    "\"\"\")\n",
    "slider.js_on_change('value', update_curve)\n",
    "\n",
    "\n",
    "show(column(slider, plot))"
   ]
  },
  {
   "cell_type": "code",
   "execution_count": 11,
   "metadata": {},
   "outputs": [],
   "source": [
    "# Exercise: Create a plot that updates based on a Select widget\n",
    "\n"
   ]
  },
  {
   "cell_type": "markdown",
   "metadata": {},
   "source": [
    "### Data selection example\n",
    "\n",
    "It's also possible to make JavaScript actions that execute whenever a user selection (e.g., box, point, lasso) changes. This is done by attaching the same kind of CustomJS object to whatever data source the selection is made on.\n",
    "\n",
    "The example below is a bit more sophisticated, and demonstrates updating one glyph's data source in response to another glyph's selection: "
   ]
  },
  {
   "cell_type": "code",
   "execution_count": 12,
   "metadata": {},
   "outputs": [
    {
     "data": {
      "text/html": [
       "\n",
       "\n",
       "\n",
       "\n",
       "\n",
       "\n",
       "  <div class=\"bk-root\" id=\"1e362972-0894-47b0-8ff4-d48bca0e78d4\" data-root-id=\"1993\"></div>\n"
      ]
     },
     "metadata": {},
     "output_type": "display_data"
    },
    {
     "data": {
      "application/javascript": [
       "(function(root) {\n",
       "  function embed_document(root) {\n",
       "    \n",
       "  var docs_json = {\"7927c47a-ded1-4e9e-a63a-69d620f7c867\":{\"roots\":{\"references\":[{\"attributes\":{\"below\":[{\"id\":\"2004\",\"type\":\"LinearAxis\"}],\"center\":[{\"id\":\"2008\",\"type\":\"Grid\"},{\"id\":\"2013\",\"type\":\"Grid\"}],\"left\":[{\"id\":\"2009\",\"type\":\"LinearAxis\"}],\"plot_height\":400,\"plot_width\":400,\"renderers\":[{\"id\":\"2021\",\"type\":\"GlyphRenderer\"},{\"id\":\"2027\",\"type\":\"GlyphRenderer\"}],\"title\":{\"id\":\"1994\",\"type\":\"Title\"},\"toolbar\":{\"id\":\"2015\",\"type\":\"Toolbar\"},\"x_range\":{\"id\":\"1996\",\"type\":\"DataRange1d\"},\"x_scale\":{\"id\":\"2000\",\"type\":\"LinearScale\"},\"y_range\":{\"id\":\"1998\",\"type\":\"DataRange1d\"},\"y_scale\":{\"id\":\"2002\",\"type\":\"LinearScale\"}},\"id\":\"1993\",\"subtype\":\"Figure\",\"type\":\"Plot\"},{\"attributes\":{},\"id\":\"2097\",\"type\":\"BasicTickFormatter\"},{\"attributes\":{\"text\":\"Select Here\"},\"id\":\"1994\",\"type\":\"Title\"},{\"attributes\":{\"callback\":null},\"id\":\"1996\",\"type\":\"DataRange1d\"},{\"attributes\":{\"line_alpha\":0.6,\"line_color\":\"orange\",\"line_width\":5,\"x\":{\"field\":\"xm\"},\"y\":{\"field\":\"ym\"}},\"id\":\"2025\",\"type\":\"Line\"},{\"attributes\":{\"callback\":null},\"id\":\"1998\",\"type\":\"DataRange1d\"},{\"attributes\":{\"line_alpha\":0.1,\"line_color\":\"#1f77b4\",\"line_width\":5,\"x\":{\"field\":\"xm\"},\"y\":{\"field\":\"ym\"}},\"id\":\"2026\",\"type\":\"Line\"},{\"attributes\":{},\"id\":\"2000\",\"type\":\"LinearScale\"},{\"attributes\":{\"callback\":{\"id\":\"2029\",\"type\":\"CustomJS\"},\"data\":{\"color\":[\"navy\",\"navy\",\"navy\",\"navy\",\"navy\",\"navy\",\"navy\",\"navy\",\"navy\",\"navy\",\"navy\",\"navy\",\"navy\",\"navy\",\"navy\",\"navy\",\"navy\",\"navy\",\"navy\",\"navy\",\"navy\",\"navy\",\"navy\",\"navy\",\"navy\",\"navy\",\"navy\",\"navy\",\"navy\",\"navy\",\"navy\",\"navy\",\"navy\",\"navy\",\"navy\",\"navy\",\"navy\",\"navy\",\"navy\",\"navy\",\"navy\",\"navy\",\"navy\",\"navy\",\"navy\",\"navy\",\"navy\",\"navy\",\"navy\",\"navy\",\"navy\",\"navy\",\"navy\",\"navy\",\"navy\",\"navy\",\"navy\",\"navy\",\"navy\",\"navy\",\"navy\",\"navy\",\"navy\",\"navy\",\"navy\",\"navy\",\"navy\",\"navy\",\"navy\",\"navy\",\"navy\",\"navy\",\"navy\",\"navy\",\"navy\",\"navy\",\"navy\",\"navy\",\"navy\",\"navy\",\"navy\",\"navy\",\"navy\",\"navy\",\"navy\",\"navy\",\"navy\",\"navy\",\"navy\",\"navy\",\"navy\",\"navy\",\"navy\",\"navy\",\"navy\",\"navy\",\"navy\",\"navy\",\"navy\",\"navy\",\"navy\",\"navy\",\"navy\",\"navy\",\"navy\",\"navy\",\"navy\",\"navy\",\"navy\",\"navy\",\"navy\",\"navy\",\"navy\",\"navy\",\"navy\",\"navy\",\"navy\",\"navy\",\"navy\",\"navy\",\"navy\",\"navy\",\"navy\",\"navy\",\"navy\",\"navy\",\"navy\",\"navy\",\"navy\",\"navy\",\"navy\",\"navy\",\"navy\",\"navy\",\"navy\",\"navy\",\"navy\",\"navy\",\"navy\",\"navy\",\"navy\",\"navy\",\"navy\",\"navy\",\"navy\",\"navy\",\"navy\",\"navy\",\"navy\",\"navy\",\"navy\",\"navy\",\"navy\",\"navy\",\"navy\",\"navy\",\"navy\",\"navy\",\"navy\",\"navy\",\"navy\",\"navy\",\"navy\",\"navy\",\"navy\",\"navy\",\"navy\",\"navy\",\"navy\",\"navy\",\"navy\",\"navy\",\"navy\",\"navy\",\"navy\",\"navy\",\"navy\",\"navy\",\"navy\",\"navy\",\"navy\",\"navy\",\"navy\",\"navy\",\"navy\",\"navy\",\"navy\",\"navy\",\"navy\",\"navy\",\"navy\",\"navy\",\"navy\",\"navy\",\"navy\",\"navy\",\"navy\",\"navy\",\"navy\",\"navy\",\"navy\",\"navy\",\"navy\",\"navy\",\"navy\",\"navy\",\"navy\",\"navy\",\"navy\",\"navy\",\"navy\",\"navy\",\"navy\",\"navy\",\"navy\",\"navy\",\"navy\",\"navy\",\"navy\",\"navy\",\"navy\",\"navy\",\"navy\",\"navy\",\"navy\",\"navy\",\"navy\",\"navy\",\"navy\",\"navy\",\"navy\",\"navy\",\"navy\",\"navy\",\"navy\",\"navy\",\"navy\",\"navy\",\"navy\",\"navy\",\"navy\",\"navy\",\"navy\",\"navy\",\"navy\",\"navy\",\"navy\",\"navy\",\"navy\",\"navy\",\"navy\",\"navy\",\"navy\",\"navy\",\"navy\",\"navy\",\"navy\",\"navy\",\"navy\",\"navy\",\"navy\",\"navy\",\"navy\",\"navy\",\"navy\",\"navy\",\"navy\",\"navy\",\"navy\",\"navy\",\"navy\",\"navy\",\"navy\",\"navy\",\"navy\",\"navy\",\"navy\",\"navy\",\"navy\",\"navy\",\"navy\",\"navy\",\"navy\",\"navy\",\"navy\",\"navy\",\"navy\",\"navy\",\"navy\",\"navy\",\"navy\",\"navy\",\"navy\",\"navy\",\"navy\",\"navy\",\"navy\",\"navy\",\"navy\",\"navy\",\"navy\",\"navy\",\"navy\",\"navy\",\"navy\",\"navy\",\"navy\",\"navy\",\"navy\",\"navy\",\"navy\",\"navy\",\"navy\",\"navy\",\"navy\",\"navy\",\"navy\",\"navy\",\"navy\",\"navy\",\"navy\",\"navy\",\"navy\",\"navy\",\"navy\",\"navy\",\"navy\",\"navy\",\"navy\",\"navy\",\"navy\",\"navy\",\"navy\",\"navy\",\"navy\",\"navy\",\"navy\",\"navy\",\"navy\",\"navy\",\"navy\",\"navy\",\"navy\",\"navy\",\"navy\",\"navy\",\"navy\",\"navy\",\"navy\",\"navy\",\"navy\",\"navy\",\"navy\",\"navy\",\"navy\",\"navy\",\"navy\",\"navy\",\"navy\",\"navy\",\"navy\",\"navy\",\"navy\",\"navy\",\"navy\",\"navy\",\"navy\",\"navy\",\"navy\",\"navy\",\"navy\",\"navy\",\"navy\",\"navy\",\"navy\",\"navy\",\"navy\",\"navy\",\"navy\",\"navy\",\"navy\",\"navy\",\"navy\",\"navy\",\"navy\",\"navy\",\"navy\",\"navy\",\"navy\",\"navy\",\"navy\",\"navy\",\"navy\",\"navy\",\"navy\",\"navy\",\"navy\",\"navy\",\"navy\",\"navy\",\"navy\",\"navy\",\"navy\",\"navy\",\"navy\",\"navy\",\"navy\",\"navy\",\"navy\",\"navy\",\"navy\",\"navy\",\"navy\",\"navy\",\"navy\",\"navy\",\"navy\",\"navy\",\"navy\",\"navy\",\"navy\",\"navy\",\"navy\",\"navy\",\"navy\",\"navy\",\"navy\",\"navy\",\"navy\",\"navy\",\"navy\",\"navy\",\"navy\",\"navy\",\"navy\",\"navy\",\"navy\",\"navy\",\"navy\",\"navy\",\"navy\",\"navy\",\"navy\",\"navy\",\"navy\",\"navy\",\"navy\",\"navy\",\"navy\",\"navy\",\"navy\",\"navy\",\"navy\",\"navy\",\"navy\",\"navy\",\"navy\",\"navy\",\"navy\",\"navy\",\"navy\",\"navy\",\"navy\",\"navy\",\"navy\",\"navy\",\"navy\",\"navy\",\"navy\",\"navy\",\"navy\",\"navy\",\"navy\",\"navy\",\"navy\",\"navy\",\"navy\",\"navy\",\"navy\",\"navy\",\"navy\",\"navy\",\"navy\",\"navy\",\"navy\",\"navy\",\"navy\",\"navy\",\"navy\",\"navy\",\"navy\",\"navy\",\"navy\",\"navy\",\"navy\",\"navy\",\"navy\",\"navy\",\"navy\",\"navy\"],\"x\":[0.06592273647937863,0.3150961944903834,0.20681027836620003,0.638834570111582,0.708340051002062,0.3967418958328861,0.8543279473818172,0.8416464893167586,0.5909740425213458,0.7865779525418013,0.9279664192836475,0.2615671366094888,0.026310363970559414,0.02105614077189477,0.17947426968640146,0.5268385399630093,0.6728697106761641,0.5819990957500013,0.5573101779958672,0.2334940264682278,0.8086866416696799,0.7745450672957158,0.9079270620875592,0.1452219745605169,0.6211704621275134,0.32943195618145527,0.05183889730892499,0.43247816989744003,0.8502395830301667,0.6957431696859974,0.3291929897597907,0.7335485699827795,0.06351358122319783,0.7800090199659977,0.67135473577435,0.928882294854617,0.30099730279693704,0.8592811210250895,0.7093028584997515,0.1832049659454268,0.6062518459637891,0.44081388763558893,0.29794469622104824,0.9923267025387253,0.5380730485661109,0.0701212378320889,0.3113184651719859,0.3125920034798906,0.2166403008417277,0.48085080249910384,0.09222454349289744,0.5074120281367251,0.22776628437800095,0.5557875540409691,0.666618233620385,0.6518533943325592,0.3542416573485023,0.6044651376459012,0.2482819441894455,0.07465833682139267,0.3911509378782423,0.3533714672914162,0.6924212541262657,0.31253553453991,0.33586263453223575,0.7208676608575266,0.030501729381512188,0.07473519979352639,0.048534682788204164,0.5479268523593686,0.526491897658922,0.9298507809983801,0.08897637005901993,0.4582245441445766,0.9082192934556043,0.22824581365579732,0.33998908919808013,0.39003310291651305,0.05079546326196693,0.5622185614489248,0.012105311408023955,0.09059401873387618,0.7261647068151323,0.2500841398731145,0.7800729416348275,0.0310602401658725,0.931437291628438,0.13154437310519784,0.47426887434263254,0.09184052491424832,0.37361842979290394,0.7455361589272156,0.864336752914411,0.966183272835831,0.006321511089194876,0.9826109662396553,0.4653737170754859,0.12217941209992078,0.5475521129556506,0.6257259282343511,0.5559380861365839,0.7202915673623604,0.36049829167127734,0.5355507481894511,0.6716414503780852,0.18003763070135825,0.5395189356115602,0.5831034089752738,0.9829151023845218,0.10845510400067826,0.19778522808916077,0.914106179141226,0.38435655244239797,0.33734808051913345,0.03654802343329322,0.24960445669052334,0.2898311794376406,0.5450201607753921,0.9512559707537538,0.747412596649703,0.7151825907114505,0.2165071456649087,0.23115574748083445,0.3450634097683961,0.3508555555950066,0.8257011324393475,0.9199302970341673,0.18709022641420014,0.8296042428434339,0.5980632789548281,0.9392059868786535,0.02800656170597804,0.22945148970756613,0.6733147879140061,0.9478794033880151,0.2002005004479923,0.9956985013916273,0.7084417572308176,0.8522115445459438,0.984383729359098,0.6421271472412902,0.9851907510031765,0.9550676205681858,0.6402470524732563,0.4831952343319049,0.03491682550540032,0.4061430872441929,0.12842501649436222,0.1358580432775256,0.14611564624382956,0.8727406499965619,0.45041422071654125,0.47650794865138724,0.5220968713481995,0.06570926002070121,0.49388785126060364,0.5238661346916366,0.27337620830164844,0.8581510718851028,0.6404446940785646,0.36809698464494334,0.23269814896197805,0.04103754714208985,0.82440174901839,0.6107341882828895,0.05924949618219322,0.5925509275192005,0.9006723056465541,0.2987317970632768,0.11174211814893154,0.525692376499085,0.28184452506353164,0.21996581350679634,0.0718864239337027,0.17649875768414958,0.05743223973900147,0.24932013339066406,0.3679292734840717,0.871943965684087,0.4200784793460628,0.8500383693332121,0.02625659536464653,0.04079025510762324,0.24948359900700612,0.5879223029996167,0.15590301942566132,0.2994365994754611,0.5046107314809212,0.9083636949357522,0.8795747151178746,0.945595071975934,0.8440027671059428,0.13746185736055616,0.48142640387753854,0.942055003923003,0.8538645169696433,0.5354311199814553,0.8856041014149747,0.5575166375567995,0.07304687539318155,0.22370683687412862,0.6941040945448425,0.6782656498703976,0.23491123720046492,0.5548478096985766,0.7235687322633662,0.6060625390398613,0.09747676729987387,0.6026315308299721,0.615483398553956,0.7193790807291198,0.3999720994275233,0.7813257597655424,0.3573917544573725,0.09906998178625492,0.5355760942826704,0.2231484821378945,0.2770132030325726,0.4545230632147129,0.5780649695715672,0.5703516897578572,0.056566118105137786,0.6863737336254366,0.5851005145098013,0.09353306185054044,0.9155499128038547,0.658587144925048,0.007677174167247669,0.11133113882574941,0.4996607075360906,0.6834746618897971,0.5983252121480224,0.4337896289632346,0.20664962776956142,0.053634720779818124,0.392104823616649,0.839172684160832,0.7490794659397684,0.8511437401508171,0.12180466056799721,0.8015856718955828,0.429681791753744,0.5991423372714559,0.9760345887937436,0.9741634481049282,0.8551255598652484,0.4088707937437146,0.18443950469978043,0.5660587875177745,0.8626163019990984,0.014578978272351106,0.6649136668681793,0.7060079556968178,0.06169592551919445,0.800101481500736,0.6235510911831521,0.3382247536336668,0.2787203848803247,0.8973601240420144,0.5841012812977324,0.8772145875874424,0.08839880074532769,0.34270445513976766,0.9624219974278352,0.7733570954231586,0.6726914443902892,0.8645831439414563,0.09864147002031898,0.19936059665801398,0.9017534160378959,0.6023017200127216,0.3399485009006936,0.6810512729484067,0.45491762443670636,0.6984657226833311,0.41134297903983497,0.34729177373714704,0.7828797304042716,0.6748539664621351,0.6064671591198678,0.4102523584236766,0.988555931722081,0.5743648740612952,0.07772033360375086,0.09968989843305454,0.251975713534798,0.7807684436010481,0.1473824395281823,0.46337958078153874,0.09449700604364586,0.8856300733544691,0.6540532974539096,0.30023643359792573,0.5730501240064666,0.09897372077412248,0.9369424174356167,0.5741245966247194,0.7007931317248826,0.9047452166205825,0.8831651524551191,0.439111481043985,0.6800931732313962,0.7291202500743903,0.496872813158587,0.10342456041456927,0.6343486869292695,0.7553429376210478,0.8820965714604279,0.6191374176544701,0.1315778580511887,0.07834007970210444,0.9882198256448188,0.10567552840141758,0.44929968386706864,0.9746836607330431,0.22472052519097951,0.530836139107452,0.21417111052207893,0.7403287969527175,0.7695643571267745,0.8812582576241946,0.7026011433443504,0.5908593426813252,0.9806862003658431,0.6217676377680581,0.4885651130560438,0.15701947412767991,0.17595558080763296,0.16053088977546526,0.9473401440530337,0.4458480835703478,0.7504138754868289,0.16974534376382489,0.37782552976130057,0.9035009549887478,0.7387541573211024,0.9842305920569461,0.4574958008622848,0.885311467436936,0.6419735417374289,0.27102637024977116,0.11143669404531165,0.867636583198768,0.8214906868018159,0.38434985649786935,0.8941566699204146,0.18087531708271176,0.8249514190908397,0.12793482297752234,0.9747837906657656,0.3201648377489805,0.9786104852686126,0.4587151482334919,0.2313380348927193,0.5877767389775795,0.18194923486893377,0.15642259578890805,0.9658635520754101,0.714861204993645,0.7796886249420758,0.5849575116808007,0.9370398335534144,0.5213754531519164,0.7139049097897946,0.4735637401609164,0.11364943423139429,0.12654531206243325,0.9667980323046651,0.1467443835073502,0.7228760619286408,0.35763050151935505,0.351244894221568,0.569342837216892,0.49471042719796743,0.1136917886827522,0.237785531330706,0.6230548173580134,0.27502143238442733,0.2512207850162791,0.16541445901028629,0.1348571431983525,0.9664659511401954,0.7071865130072901,0.7410699873872997,0.9411246020808578,0.7941072266349525,0.4377974787915745,0.9567559356522897,0.5012465281373694,0.11099173597202006,0.22628674347932576,0.5301726296165448,0.22805361292373105,0.5146069584328937,0.5022362365146388,0.9282002362332953,0.37360931601176983,0.47875491600386544,0.19344542583679525,0.8312176483058268,0.17340317035870367,0.3951686646982645,0.8870209386486017,0.04894460348774077,0.32860428649521045,0.1674840635851117,0.1713268527271885,0.6705739982646532,0.1816359277154992,0.5709658349499716,0.33292195988937534,0.25854216498393323,0.36664685234155436,0.45706418082551403,0.24267445196513127,0.7911991948564859,0.7383098993952996,0.15727003916497384,0.361320982124705,0.9968361808511298,0.8306912070477048,0.12478435237441632,0.07140801464601909,0.8549706355401667,0.6409600574428436,0.4167942240961898,0.8432155550021511,0.5159859721354652,0.9947838051762565,0.215279357191002,0.49639878399323933,0.4567459074421252,0.49555278815700854,0.45173772912234844,0.9024509983549761,0.006487885317120412,0.4380949021506495,0.14433702949189642,0.1044119601793867,0.9218677978291445,0.6593650954487157,0.11680654495750142,0.18577181974627632,0.12727815065775172,0.046816654869444085,0.1116373701384219,0.4313151463476885,0.60738922969638,0.7091315388431085,0.4726837717817868,0.1287459464844396,0.05874187066738801,0.016494154239433012,0.11880156164878386,0.5417379131253214,0.4977170234101287,0.39952365153756864,0.2572911134800422,0.82022619598154,0.015612721698445742,0.06794300989283886,0.2552583777910701,0.5611802465336484,0.4209804353271832,0.2919084156371704,0.26297319722080825,0.10679201490418755,0.5698011350276138,0.008291688536696595,0.5718085803368967,0.8375761022009377,0.378022132235346,0.49939572162074475,0.49439696674289524,0.670668415976617,0.07863604567804716,0.8405752937533276,0.3343924170816658,0.6397099528060318,0.41418719465178244,0.07670465018981121,0.248829321234469,0.8961231482144205,0.5157154267345536,0.3064027437408804,0.5300052321655288,0.9913018853384815,0.1835369264409079,0.6607123687774152,0.1883135104362903,0.03344679690878627,0.8209231347068933,0.19709825238423662,0.868017608742385,0.21896219226604896,0.17644351478180909,0.9462710080575992,0.2581846565859638,0.5720570469866125,0.9478937186653029],\"y\":[0.13485978572558,0.7432954442674872,0.3341076082690918,0.781935244125755,0.5776280233045767,0.1937085523180695,0.017573298471186383,0.6212972306514934,0.2717111554315573,0.09783616559735075,0.17232735230035146,0.009879945753212271,0.9957256740499616,0.8838022322049349,0.9459628835030452,0.09654573115387377,0.06293868387156676,0.995985697338004,0.33739178918587753,0.25811216613834487,0.8169213341351107,0.4378170535249186,0.4582499783083652,0.6417453250846309,0.3303217761206353,0.41228473145124545,0.9233384241456732,0.2440052047255593,0.14509084509612535,0.8372802939106755,0.8572343251340725,0.491583676024838,0.8637753997334306,0.840015714720421,0.546254285717574,0.5624016474006945,0.5842433901752875,0.7186823015055586,0.8281210452104292,0.6490841329058736,0.375046804789525,0.9080905750949383,0.1527914872413203,0.5095051682238912,0.6818074998942396,0.20084379063416657,0.5150499900691614,0.6153259292432169,0.5955958251307243,0.8682210761603827,0.9849063906625459,0.7822355373325691,0.726171666200825,0.035272630738220956,0.21062562569888954,0.9154353642496764,0.9407151640250199,0.9562645173543158,0.007495367950344889,0.5825450543038775,0.43849364345871134,0.04125168812730451,0.43821321131804225,0.6524424369109543,0.4060523822260954,0.5999812470144709,0.13848073639409197,0.3043040315843253,0.1476554087249876,0.7224048674245404,0.9262258879280394,0.5426737967144666,0.11316025311369549,0.6610911223975346,0.5856769480718627,0.46637173952286937,0.6585394114957144,0.5268916523368384,0.8985018621689028,0.9048878944609821,0.1801157023357105,0.5974833949651926,0.07786402868584497,0.25438828202432795,0.28495812728071834,0.033260208967937244,0.36714630194953546,0.7913681085424682,0.8022403414560325,0.6762013235198555,0.9878967901139231,0.2746487817236043,0.19697637313511507,0.07739155920790086,0.7020443676477445,0.28529339032989753,0.7378568098908566,0.8432338130524009,0.06337806436363758,0.4324104905524562,0.13824806785804944,0.6574922117470952,0.007061223047288179,0.2412480778574464,0.8647906719629636,0.7084163825888193,0.789814175845315,0.35506009205663924,0.8014095644693228,0.8987062922521711,0.30468703992892376,0.7519642449173611,0.9317631263751416,0.9287423815173655,0.2206091812070804,0.7710668658641258,0.7341351582618265,0.6208477441472166,0.7037989048943285,0.5497447713741052,0.3040519543361495,0.481709231770148,0.9176598521537475,0.6211684952726183,0.5468799802727596,0.32995306440210226,0.03762267922747953,0.3103144400139105,0.9555292475113883,0.025305555377802325,0.6361936936556318,0.3314727903861744,0.9470761514498803,0.605494218722132,0.3280419393988644,0.788520865049445,0.31937117115517655,0.27508237450552686,0.4621274035949261,0.3102842467910728,0.3646715636710658,0.9148580226160914,0.5497721318725025,0.5720769881338249,0.10549794579546545,0.6468747670950106,0.34643222346374614,0.4792912316396075,0.181109162086996,0.17321889765032028,0.6546117504442437,0.033933034685526664,0.8507678609227114,0.5907793465644285,0.9700181637897495,0.9863534153517833,0.029077881100354364,0.3457303457809612,0.4597435609127323,0.44349436584600777,0.9390692898983043,0.92288403533699,0.08179252700813466,0.8495112261979487,0.7333940254030683,0.3862713478984181,0.13357071714634527,0.25768850536016064,0.7029098330584173,0.965582452294216,0.8211307627094235,0.5632819023923695,0.6946321588441611,0.3077996784680904,0.5298154279123677,0.9563690089822355,0.9491193077702358,0.6964125033081858,0.5040841491762951,0.658435092103406,0.780757200416855,0.17115658604158845,0.1947137931953522,0.5317726819225347,0.5682643903624106,0.7150063062481093,0.8422517042697159,0.5385073776089138,0.31941495919236385,0.372082719285041,0.3698295851379275,0.5388390054094575,0.13523913038604252,0.6092185994917007,0.6594966376302259,0.624520390150208,0.5872882226091063,0.8363834764757666,0.6408751944807314,0.009012120664351975,0.4471941357193576,0.4463532390337891,0.3613058428043463,0.5758419204846491,0.898381065714585,0.4956818186027515,0.9462503808488908,0.8883587964492051,0.7163666785097319,0.19473656030316688,0.574005536411144,0.11048174675058775,0.5073669525746551,0.21231268217789845,0.8251637966226125,0.9031165414355365,0.3710048936995316,0.565755368808198,0.5547380567477921,0.9094442917422068,0.0925183725756642,0.08190413059820745,0.023113442919203364,0.2582366264153301,0.19288149599130255,0.6704133010554427,0.9334722353176668,0.6966768014663863,0.5222011150523885,0.29686608280154725,0.6767836429426806,0.9744672495741935,0.3977517075280278,0.7319077282530742,0.5457137185018942,0.4549918685885249,0.13768810163394285,0.8748819673656035,0.813832614927454,0.9908587756700662,0.6679352569839214,0.16475339150639667,0.45094296861946925,0.168265320154508,0.2998935830685817,0.3414003169607276,0.7089658605973467,0.8475030822515865,0.7336196027779417,0.9666449576690377,0.2309589075764963,0.6713550974317439,0.8081813466918688,0.6694990398092764,0.47642862388330565,0.4780561799978327,0.7328265953153532,0.30834313160259197,0.9805540706946178,0.18358751547082774,0.7717712005156211,0.3335615668042484,0.4535423145882934,0.5969760894546372,0.13052658650324012,0.9629056502614167,0.06209313592918975,0.03069944272064673,0.2697332202420186,0.21490844831938005,0.9526166125516026,0.24508175064995708,0.953902539488659,0.2915473228420572,0.30266170231098266,0.29261513753592105,0.9699360188659836,0.4002758108244837,0.5526780304277683,0.7828049286409389,0.7324708478232484,0.8414202404364368,0.7202976341761358,0.0032755072406468466,0.5678004260628076,0.7400941062722094,0.48583840556178515,0.1494718579031309,0.6498830111537625,0.3414153653468791,0.674394988502611,0.5126304869287188,0.14553804722520447,0.21080580440665497,0.9336561577494148,0.3092701569215426,0.26212921858986404,0.6715766675702165,0.7393848525662092,0.4107561700160619,0.7637163733031416,0.2998003980721894,0.4839993960521468,0.4877084529672364,0.08316150204225692,0.3293167250554139,0.5657064364069055,0.5516033228205788,0.5248361122492031,0.09660354134092664,0.9341074269625436,0.58250916685413,0.17765488146511488,0.052817968544961014,0.7750995024610468,0.9379491959533827,0.39794556341813814,0.18540193682264727,0.5467102365425262,0.7913282121649516,0.5567157270210685,0.8072682084926834,0.21990798978591786,0.30300431723293786,0.4045249683636928,0.4987978290035825,0.6164491073632749,0.539873967468578,0.722828853629067,0.7564551839040838,0.17747716505173672,0.43656236288384753,0.5906413724067653,0.620117571925781,0.09849598372804913,0.021337722761586964,0.4927277221846402,0.7101206620984474,0.8376023704028958,0.9944918329508963,0.0948202031222698,0.9489879127508335,0.5060030863893041,0.03511852354289169,0.9506337853462167,0.3072817439787382,0.09910865243838862,0.4827955536154065,0.679247758948237,0.2439988699456026,0.594874648542597,0.7810338124038066,0.637834538807711,0.8553087716862368,0.19992372358092447,0.9875821766842972,0.5984417577681286,0.7973672526392038,0.5623420142708883,0.18710541336771402,0.7681138684405732,0.09262447943125462,0.6776381981692727,0.15303022945228184,0.7806742079144555,0.13587488700556094,0.8941953113654455,0.9117128299858482,0.5299150189011482,0.5446348191388007,0.053070609190275286,0.5587584544355324,0.13315151692459892,0.9436483624393875,0.9559022791545766,0.09205782051781186,0.28605392685843534,0.9588914327672285,0.5927348251952019,0.0666611381709189,0.6856996180483756,0.8353431699564908,0.27575228739761937,0.3676296840782499,0.6788849136215775,0.01350191812739332,0.3536836878902446,0.671790417963933,0.6347860912111674,0.27875303837462995,0.07666961963761876,0.34492607465824,0.5218058501796943,0.8358086603143373,0.16233714565223634,0.9315626457902042,0.35734680286352305,0.22896913221725967,0.7880564800990385,0.2944839875801756,0.245121174581997,0.034870485248319705,0.6212698392122924,0.2835708533654293,0.8585908245338651,0.10675755962622524,0.8148033235981091,0.9728991139020491,0.030786718919484812,0.9632143795814296,0.09694712190219856,0.08114067371743428,0.0659749964947699,0.3325624651817878,0.22221317207955027,0.1004016306980231,0.014522563037494773,0.47365832786167605,0.5194976146791278,0.26843580560962055,0.789132109220171,0.8454093949277195,0.10341206627057609,0.9110248627785414,0.7114762227578638,0.8710264791466743,0.31912252112013473,0.09253742881210447,0.654121047913237,0.2536127802243764,0.7345807112879814,0.4996571348397253,0.7651926328542652,0.599746691616749,0.7856611038070898,0.5283916522745509,0.9921378416529911,0.07483769854516775,0.06038324104988446,0.48513435831035456,0.7721344648764152,0.23921306422212618,0.047086044641803104,0.6922003703109861,0.8164504809339047,0.2650461419560871,0.1283635941347725,0.6863738455655823,0.08895664189466967,0.05520001118722395,0.08271971290491487,0.8866837717260236,0.49987689930466983,0.5252696358470409,0.24193357938444848,0.07606602991017541,0.6637744888766246,0.5940212462060445,0.4318263224009121,0.5545884029323204,0.34070787787120105,0.23880741877903922,0.1886223473178188,0.2636565193273934,0.3030506578781751,0.721818674820691,0.3792998869208911,0.3148275620228774,0.24194365986804844,0.7779074423681727,0.6806342754992922,0.78048954689972,0.525690801845771,0.15642034034323116,0.04418725335412177,0.16793553211938173,0.9851934507659053,0.6569529617103546,0.6955603566146674,0.7220561549125843,0.6559134231067657,0.24925449662116883,0.33000313690384164,0.6093616830361186,0.28079219650840903,0.09916035600836448,0.20800499503157155,0.9256708889152104,0.3050618589326439,0.5670996712191064,0.11103464743111491,0.9535036933528984,0.0002905786157607615,0.43717134492497367,0.6099510515885674,0.25163573564493935,0.4008588447915682,0.4569203203983805,0.10218073983068632,0.7446606803796496]},\"selected\":{\"id\":\"2102\",\"type\":\"Selection\"},\"selection_policy\":{\"id\":\"2101\",\"type\":\"UnionRenderers\"}},\"id\":\"1992\",\"type\":\"ColumnDataSource\"},{\"attributes\":{\"data_source\":{\"id\":\"2023\",\"type\":\"ColumnDataSource\"},\"glyph\":{\"id\":\"2025\",\"type\":\"Line\"},\"hover_glyph\":null,\"muted_glyph\":null,\"nonselection_glyph\":{\"id\":\"2026\",\"type\":\"Line\"},\"selection_glyph\":null,\"view\":{\"id\":\"2028\",\"type\":\"CDSView\"}},\"id\":\"2027\",\"type\":\"GlyphRenderer\"},{\"attributes\":{},\"id\":\"2002\",\"type\":\"LinearScale\"},{\"attributes\":{\"formatter\":{\"id\":\"2099\",\"type\":\"BasicTickFormatter\"},\"ticker\":{\"id\":\"2005\",\"type\":\"BasicTicker\"}},\"id\":\"2004\",\"type\":\"LinearAxis\"},{\"attributes\":{},\"id\":\"2099\",\"type\":\"BasicTickFormatter\"},{\"attributes\":{},\"id\":\"2005\",\"type\":\"BasicTicker\"},{\"attributes\":{},\"id\":\"2101\",\"type\":\"UnionRenderers\"},{\"attributes\":{\"ticker\":{\"id\":\"2005\",\"type\":\"BasicTicker\"}},\"id\":\"2008\",\"type\":\"Grid\"},{\"attributes\":{},\"id\":\"2102\",\"type\":\"Selection\"},{\"attributes\":{\"formatter\":{\"id\":\"2097\",\"type\":\"BasicTickFormatter\"},\"ticker\":{\"id\":\"2010\",\"type\":\"BasicTicker\"}},\"id\":\"2009\",\"type\":\"LinearAxis\"},{\"attributes\":{},\"id\":\"2103\",\"type\":\"UnionRenderers\"},{\"attributes\":{},\"id\":\"2010\",\"type\":\"BasicTicker\"},{\"attributes\":{},\"id\":\"2104\",\"type\":\"Selection\"},{\"attributes\":{\"dimension\":1,\"ticker\":{\"id\":\"2010\",\"type\":\"BasicTicker\"}},\"id\":\"2013\",\"type\":\"Grid\"},{\"attributes\":{\"fill_alpha\":{\"value\":0.5},\"fill_color\":{\"value\":\"lightgrey\"},\"level\":\"overlay\",\"line_alpha\":{\"value\":1.0},\"line_color\":{\"value\":\"black\"},\"line_dash\":[4,4],\"line_width\":{\"value\":2},\"xs_units\":\"screen\",\"ys_units\":\"screen\"},\"id\":\"2105\",\"type\":\"PolyAnnotation\"},{\"attributes\":{\"active_drag\":\"auto\",\"active_inspect\":\"auto\",\"active_multi\":null,\"active_scroll\":\"auto\",\"active_tap\":\"auto\",\"tools\":[{\"id\":\"2014\",\"type\":\"LassoSelectTool\"}]},\"id\":\"2015\",\"type\":\"Toolbar\"},{\"attributes\":{\"source\":{\"id\":\"2023\",\"type\":\"ColumnDataSource\"}},\"id\":\"2028\",\"type\":\"CDSView\"},{\"attributes\":{\"callback\":null,\"overlay\":{\"id\":\"2105\",\"type\":\"PolyAnnotation\"}},\"id\":\"2014\",\"type\":\"LassoSelectTool\"},{\"attributes\":{\"callback\":null,\"data\":{\"xm\":[0,1],\"ym\":[0.5,0.5]},\"selected\":{\"id\":\"2104\",\"type\":\"Selection\"},\"selection_policy\":{\"id\":\"2103\",\"type\":\"UnionRenderers\"}},\"id\":\"2023\",\"type\":\"ColumnDataSource\"},{\"attributes\":{\"fill_alpha\":{\"value\":0.4},\"fill_color\":{\"field\":\"color\"},\"line_alpha\":{\"value\":0.4},\"line_color\":{\"field\":\"color\"},\"size\":{\"units\":\"screen\",\"value\":8},\"x\":{\"field\":\"x\"},\"y\":{\"field\":\"y\"}},\"id\":\"2018\",\"type\":\"Circle\"},{\"attributes\":{\"args\":{\"s1\":{\"id\":\"1992\",\"type\":\"ColumnDataSource\"},\"s2\":{\"id\":\"2023\",\"type\":\"ColumnDataSource\"}},\"code\":\"\\n    var inds = s1.selected.indices;\\n    if (inds.length == 0)\\n        return;\\n\\n    var ym = 0\\n    for (var i = 0; i < inds.length; i++) {\\n        ym += s1.data.y[inds[i]]\\n    }\\n    \\n    ym /= inds.length\\n    s2.data.ym = [ym, ym]\\n\\n    // necessary becasue we mutated source.data in-place\\n    s2.change.emit();  \\n\"},\"id\":\"2029\",\"type\":\"CustomJS\"},{\"attributes\":{\"fill_alpha\":{\"value\":0.1},\"fill_color\":{\"value\":\"#1f77b4\"},\"line_alpha\":{\"value\":0.1},\"line_color\":{\"value\":\"#1f77b4\"},\"size\":{\"units\":\"screen\",\"value\":8},\"x\":{\"field\":\"x\"},\"y\":{\"field\":\"y\"}},\"id\":\"2019\",\"type\":\"Circle\"},{\"attributes\":{\"fill_alpha\":{\"value\":0.4},\"fill_color\":{\"value\":\"firebrick\"},\"line_alpha\":{\"value\":0.4},\"line_color\":{\"value\":\"firebrick\"},\"size\":{\"units\":\"screen\",\"value\":8},\"x\":{\"field\":\"x\"},\"y\":{\"field\":\"y\"}},\"id\":\"2020\",\"type\":\"Circle\"},{\"attributes\":{\"data_source\":{\"id\":\"1992\",\"type\":\"ColumnDataSource\"},\"glyph\":{\"id\":\"2018\",\"type\":\"Circle\"},\"hover_glyph\":null,\"muted_glyph\":null,\"nonselection_glyph\":{\"id\":\"2019\",\"type\":\"Circle\"},\"selection_glyph\":{\"id\":\"2020\",\"type\":\"Circle\"},\"view\":{\"id\":\"2022\",\"type\":\"CDSView\"}},\"id\":\"2021\",\"type\":\"GlyphRenderer\"},{\"attributes\":{\"source\":{\"id\":\"1992\",\"type\":\"ColumnDataSource\"}},\"id\":\"2022\",\"type\":\"CDSView\"}],\"root_ids\":[\"1993\"]},\"title\":\"Bokeh Application\",\"version\":\"1.2.0\"}};\n",
       "  var render_items = [{\"docid\":\"7927c47a-ded1-4e9e-a63a-69d620f7c867\",\"roots\":{\"1993\":\"1e362972-0894-47b0-8ff4-d48bca0e78d4\"}}];\n",
       "  root.Bokeh.embed.embed_items_notebook(docs_json, render_items);\n",
       "\n",
       "  }\n",
       "  if (root.Bokeh !== undefined) {\n",
       "    embed_document(root);\n",
       "  } else {\n",
       "    var attempts = 0;\n",
       "    var timer = setInterval(function(root) {\n",
       "      if (root.Bokeh !== undefined) {\n",
       "        embed_document(root);\n",
       "        clearInterval(timer);\n",
       "      }\n",
       "      attempts++;\n",
       "      if (attempts > 100) {\n",
       "        console.log(\"Bokeh: ERROR: Unable to run BokehJS code because BokehJS library is missing\");\n",
       "        clearInterval(timer);\n",
       "      }\n",
       "    }, 10, root)\n",
       "  }\n",
       "})(window);"
      ],
      "application/vnd.bokehjs_exec.v0+json": ""
     },
     "metadata": {
      "application/vnd.bokehjs_exec.v0+json": {
       "id": "1993"
      }
     },
     "output_type": "display_data"
    }
   ],
   "source": [
    "from random import random\n",
    "\n",
    "x = [random() for x in range(500)]\n",
    "y = [random() for y in range(500)]\n",
    "color = [\"navy\"] * len(x)\n",
    "\n",
    "s1 = ColumnDataSource(data=dict(x=x, y=y, color=color))\n",
    "p = figure(plot_width=400, plot_height=400, tools=\"lasso_select\", title=\"Select Here\")\n",
    "p.circle('x', 'y', color='color', size=8, alpha=0.4, source=s1, \n",
    "         selection_color=\"firebrick\", selection_alpha=0.4)\n",
    "\n",
    "s2 = ColumnDataSource(data=dict(xm=[0,1],ym=[0.5, 0.5]))\n",
    "p.line(x='xm', y='ym', color=\"orange\", line_width=5, alpha=0.6, source=s2)\n",
    "\n",
    "s1.callback = CustomJS(args=dict(s1=s1, s2=s2), code=\"\"\"\n",
    "    var inds = s1.selected.indices;\n",
    "    if (inds.length == 0)\n",
    "        return;\n",
    "\n",
    "    var ym = 0\n",
    "    for (var i = 0; i < inds.length; i++) {\n",
    "        ym += s1.data.y[inds[i]]\n",
    "    }\n",
    "    \n",
    "    ym /= inds.length\n",
    "    s2.data.ym = [ym, ym]\n",
    "\n",
    "    // necessary becasue we mutated source.data in-place\n",
    "    s2.change.emit();  \n",
    "\"\"\")\n",
    "\n",
    "show(p)"
   ]
  },
  {
   "cell_type": "code",
   "execution_count": 13,
   "metadata": {},
   "outputs": [],
   "source": [
    "# Exercise: Experiment with selection callbacks\n",
    "\n"
   ]
  },
  {
   "cell_type": "markdown",
   "metadata": {},
   "source": [
    "## CustomJS for UI Events\n",
    "\n",
    "Bokeh also has a general events system\n",
    "\n",
    "All of the available UI events, and their properties, are listed in the Reference Guide section for [bokeh.events](https://bokeh.pydata.org/en/latest/docs/reference/events.html)"
   ]
  },
  {
   "cell_type": "code",
   "execution_count": 14,
   "metadata": {},
   "outputs": [
    {
     "data": {
      "text/html": [
       "\n",
       "\n",
       "\n",
       "\n",
       "\n",
       "\n",
       "  <div class=\"bk-root\" id=\"5d9e29e8-2de9-4d0e-b114-a20fef6c79b2\" data-root-id=\"2196\"></div>\n"
      ]
     },
     "metadata": {},
     "output_type": "display_data"
    },
    {
     "data": {
      "application/javascript": [
       "(function(root) {\n",
       "  function embed_document(root) {\n",
       "    \n",
       "  var docs_json = {\"ec76548c-ef5f-4791-9bb2-d10549c724c8\":{\"roots\":{\"references\":[{\"attributes\":{\"children\":[{\"id\":\"2194\",\"type\":\"Button\"},{\"id\":\"2195\",\"type\":\"Row\"}]},\"id\":\"2196\",\"type\":\"Column\"},{\"attributes\":{\"active_drag\":\"auto\",\"active_inspect\":\"auto\",\"active_multi\":null,\"active_scroll\":\"auto\",\"active_tap\":\"auto\",\"tools\":[{\"id\":\"2185\",\"type\":\"BoxSelectTool\"}]},\"id\":\"2186\",\"type\":\"Toolbar\"},{\"attributes\":{\"fill_alpha\":{\"value\":0.6},\"fill_color\":{\"value\":\"#1f77b4\"},\"line_color\":{\"value\":null},\"radius\":{\"units\":\"data\",\"value\":1},\"x\":{\"field\":\"x\"},\"y\":{\"field\":\"y\"}},\"id\":\"2189\",\"type\":\"Circle\"},{\"attributes\":{\"fill_alpha\":{\"value\":0.1},\"fill_color\":{\"value\":\"#1f77b4\"},\"line_alpha\":{\"value\":0.1},\"line_color\":{\"value\":\"#1f77b4\"},\"radius\":{\"units\":\"data\",\"value\":1},\"x\":{\"field\":\"x\"},\"y\":{\"field\":\"y\"}},\"id\":\"2190\",\"type\":\"Circle\"},{\"attributes\":{\"data_source\":{\"id\":\"2188\",\"type\":\"ColumnDataSource\"},\"glyph\":{\"id\":\"2189\",\"type\":\"Circle\"},\"hover_glyph\":null,\"muted_glyph\":null,\"nonselection_glyph\":{\"id\":\"2190\",\"type\":\"Circle\"},\"selection_glyph\":null,\"view\":{\"id\":\"2192\",\"type\":\"CDSView\"}},\"id\":\"2191\",\"type\":\"GlyphRenderer\"},{\"attributes\":{\"callback\":null},\"id\":\"2167\",\"type\":\"DataRange1d\"},{\"attributes\":{\"source\":{\"id\":\"2188\",\"type\":\"ColumnDataSource\"}},\"id\":\"2192\",\"type\":\"CDSView\"},{\"attributes\":{\"width\":400},\"id\":\"2193\",\"type\":\"Div\"},{\"attributes\":{\"callback\":null,\"data\":{\"x\":{\"__ndarray__\":\"AqmOyabnWEB6LyWzoB5XQM9/F4YC8DJAXq5Spk+VTEDa0ZUPG2hKQKIBpAxQEkJAuIFmLL1GUECrqE7rxnMvQMBOuPDO7k1AfekdQoCxUkA5ZzBZpGpSQKee4+AodjFATtdr2GaUREDSNXjW3cdMQKRY42IrMiBAYAdNgb15H0Ag37JkxidYQD3xH54WJlJAPuMeo8pVTkAJ80KwbDpXQL4++AltMVdAB+coDpu3Q0AKbbemrT02QLYR70mUjk5AZkPB+r8/H0DAkG/1CGxWQDStD6Hbf01ArhYsKvv9T0BMNjOH/tBVQC64Ih7WbFRAJXAl4qiWS0CgtbqHBvFLQH6yUU6kxkFASMNHiF6/H0Ay3FUVkdlUQD8ESoh9IlhAZ4HCm+TCU0A619tPJrYtQNjlFewJXtQ/6vVC4+/cK0CEyUcxYXo2QJX/z3p4llhAK3I+oSqoUEA1v2ECP/BWQCt7EvrNQUxAHc7fXgBwV0DgBrK7LS0ZQOY/Ma/OcSFARfPAzDB+N0B0D+0Qss0pQALZEGSCp0VA+gm5LNZkSEAlF6VK6QFNQItTrgTa205A9Odj8AhWSUBYTU6/sCkNQCGD7zyxT1JAhyuDbZWEV0Ax6rgftSNXQOBYqfAjf0pAupAb1GeKVUCw3ut+4DAyQOqwQIeaXitALApoAcCNKEDeJqbJFNMTQFCadW3nrDNArks4Sei2RUDpC7iL85FAQCSmg2VqbklAzfNy1jYCUECKJV+wInZKQLRoo7elUB5AZN613mhFRECCwmNmaBQ5QLYojnWo8zNAqvsUW5LBUUBMqd+okkc1QIn41/8XSUhA1TcSVCY2TUBFLfaDV+kuQLBgtN+H0VJA+ompORleRUBPtdGJ1I1EQAaSaeBcdDhAEKoEigqWTEAcwZzPSHDrP2E8RlUFpFBAGHIG7gUXRUCFn465kYJTQNqvNXVaAT1Affa4VfKEJEAR03QTVrlBQLTV0TEELUhA2LT1v5u3VUCH8nQfZlEtQJsBBazadVFAw6Kytmr7TkCIeaWRWPlQQCSu9t224jxABST92D0HRkD/HD4rYA9QQOq4SjHDoERASA121yQmV0CAsUeyPNRTQHzifNmBxEBAIObUy1qTSEDArT9RXFtAQIpLvuu0fDJARhHxOh9jWEBKDQzShnNTQLLZKyjbf0RAFL0l+za8RUC144UdPZlAQPOBioAgfU9At3ClcR2ZVkDwK7WzR6InQMH6EukYXVZADYqHEOa7FUBoGhYeYR5QQFqEAm7oQPk/Wf63Xl2HJkCl711iIQ01QA87Y8eAzgNA98HkvGEFRECGHBRtWmdRQCMH2StOqENAbWHre1IgEUBrKZPZiBkgQKHbzFMTCFRAdoJikKs+WEB3jMrv7+ovQLrwo03ekDxAte0hCLzwK0Dk2rPpaKc3QDagFY2qwVhAOKZ/TrHnQEDU3EkPwlpRQBRbZEMqe0xAnOkv13OpVkBOdRbRBJsmQP22PrOgMTlAbZyYLHjBUUCPNIgs0LlDQBPmLJ9ZeDlAN4xnwNNeUEC+56sNv3xQQFCrB0GaXFRAqGvwWkJbTkBSOh17MuBVQAQQQaErNlBAZIX5HRzO/j/2qDfqeW4SQMHmEFo0oE9AlHmLkExAJED26zASQNk+QFnuIIezSypA8PFItsqCUUDIa2+H9OxWQNZ99mOsk1hA0fd5lITENEAv6mF+gGlXQAnfkzBll05Aw263RvRTMUCwei+emBlYQAkDoYD97jtAzvNz5s9WU0BO4X4yC+Q9QPiKI5fXV1JAXTk+Vc9wWECGB1f3f/hEQIH8BZMoeVBApnl0WZL3IkBelxSaK2PzPzQQm9DtDkhA5akTR7/xQkDPkBaxXkBSQEpB3gRnGUlASISCZ+loUkDDmhaZrg5DQLMq5UhJEFVAUCyA3eWkIUB4nad2nmMhQO12Z8ICykdAl5/fKVyKUkAK5OsN9ywvQITGVfTI40RAlBqPkN58TUBE6L4v3YxJQE7Ydpek2BNA9jlV6R6rL0B0Wlr5gDpQQG/EeitjBlhAXle7vmolMEBQXJXEN2rGPyTRNNvKalFAXqF01WlOTEAwBiTabHIoQGWZWFnK2ERArlK7ijrEV0D3AM4JBCNAQKAofbryY7w/ZPfwUyBVDEDJTtii/2A6QDRawxsoxipAkxMkyCx+RUBBWVTcJmJIQE2Qux2RCiNAINiuQklCO0DNcS6nMPNNQESzh/OiOhlAAEwSfbeYNkAu8C+l5/tRQPMAxLbO4VVAHpJoisbXVECNqD0v9asrQPe6RwQaQ0RAIz5QPdX1UED+IrqVvCw1QKuLZ112o0JAf2XWelCRSkBqbXnjDhlXQPAIY6ELD0ZAiZ2Ulh+yUECxpDdt2+FWQMTSvpctfDpA6sHHqbh5VkCRa8wqQxdTQNHSHLTq4ldAucGq12c+SEAGwzxVeCJUQJzeNQ+qYVRAoCrZcTGOV0DgcT4j239WQBsHSP8Q81NAdYdrJN2sJUDkAvKDj/c9QAYiWUu3wixAWtbIt34aNEBgHa0rnEwwQJr0JvngeCxAdPhgyMi2IEAN+JSBMmI7QEzrUkC4glRAb2TYWUTzU0AU041DBjY/QON8ZTAiwFRAcReq2qAFNkA9PwzDeIhWQFek9Jijt1FAJqQMjTNGTUC4f5aIvdVMQERtMfGmBVNAsV8JyRMVPEABK/zNuppNQOIFDbcW7EJA+kppFNnsSED4zV0VSJAUQPdbxin09zBAX7elxhsOUkCJFsdChqdUQKC0Jw1xdFBAsPl0I/CQS0BzS6nxHvlQQPPO6zWaSj9AW+bTFBTAVUCvw8zMS/BRQPl0zBgPXFFAYI+DOM9vNUAm6LAg49FYQDJKnRF2DTlAC82A3+81Q0A/SFEHm7dUQOICjdtMvlJA6Ug8DEzrVUC6v3XhDw5PQBobGGMqv0dASb13BQxOWECuWXBDYbhEQLcQAcpQQElA5nbIJh0xWEDK1OkHYSJUQD2BGuVzflBAyCcMaXKiU0AUzvcIleRSQK54Fqkt5AtATNfuf1BTIkAaNxnwXNcnQJCnMKRYS1dABNAR7bABTUB2aeam8NhAQK+SNKR+hU1AHOLRtpb8TkC6SH/VVLlKQJ0f2ELZOVVA4kstzrN+TED1a+T6gDJJQLsmUl3ZmUFAisxEz2gtLkDO+ylLhOhJQOy8Du8H5VZAem0mdA6JJkDQAeW/QXlXQILe110VpFBA2DHqctooSEAJjcz9I7JLQF7kYpUXz1VA+CNe9hE6UEB7ddgteg8gQBM+alMk1ktA8yqenyBcSUBHPk039kgvQHXZO+6ZLFBAcxWV0+PUVkDhEQU8z3pKQPnUgz2rvk9A6W9jST/gOUCy/HmzF0soQPQvf+uYhS5A+8YNg4iMU0Bumpx5fgAxQH+oDGTtwTZACiXO6zJ5UUD0zv6o/AgHQEnzmro8LTlAwKlvoYQKMUCVh8t6KuZDQFkhv76iclVAndGUWg2pVkApK6mKuhZXQM74InZ5IDJA1ZYlUbppU0DuDCAvqLBNQPwd10nBnShAULB+Nnh4QECQwJfTgdw3QNLtKyLucxdAke7bUbGXVEBywDBTyKAsQAPj0CI1zFVA/7jRC/whU0AydWRLgT9VQJ2EpQm5d0dAIsG4fn8RSkA5GDOS/NdXQBFxELXhQlNA3MtdZB/yQUASibO6uJVIQM5W4w0/EFFAOeN94BzCR0BkUSIIyfNSQK/tl16eQjdA5ZZ9rqcgREAJIJiFEoRUQDOr7ml8GUBAZYyWLRVBT0B6SBKxMgNQQNodBTd2d0BAmZ5PnO4FSkBDdfDiy/JMQEcdPP6DhUpA8GVvslf3VUCj+BgjzNNVQGG2SLaOkVFAz5jCh9PuS0DhE5gmVmpQQNinyoSwjD1AvcKKzsEWUUDQTkWwuE9KQBxtr3uXa1FAfxg1IdbsTkA8Qo8aJdVMQELCUyRgVBxAyW3KeOH1V0Bim4118xxXQMl1MQFkhydAw3ymyGz2AEAuiGLJAX1KQMKkbgEr51BAKZEx6v1QVkBok1XO+mlYQCz4H+bbEj1ALa4GZYH+UEAlgB316pBXQMVatfPyBERAVZoq6dkNUUB5rhDqU+dAQGpwvXwKuzBAn8+VqGLMUEBSGjrPUjpHQDZeCECH/VBA+/PYHX4+UUDeASqBfqc+QGA06StyD0RAI5Di3avAWEDE/tyXSHRSQJ/fQhxrMwpAnypWq/ANTEB4yz8E9/UfQIGVS7V1wklAavXujYvUUEAlODpofoVQQEzugtkQXVFAqCqOCYgtWEA+PtgH9atUQG1ApJjEpEFAvv5RIXoJQUBAH0L2ZL1BQOXmJN/3GkpAxAuAtx+lL0BGOUIKYF9XQJBIkbcP4jhAIuckaZKLUkBtuMmijqQ3QF5JzXU/uDlABxKCSsGMQkADOCHVVjdXQI0dsFqyqFhAiyH3X7JXNEC+jIB3SzFXQNNLK6GCckBA3reuF08+MUAhm14Nyu5RQOMjWvT0I1RA32lPMCp3SkAVesi7Yd8lQL0Rx4/OuVFAujtTby10N0B9wsRDgbJNQFw/9NdmbFJAR15UcU2LPEBltIWQudJSQPTjYrzztVVAVGQNEbS0QkDIItXUn9VQQP3eY4Tc9EpASsPJJ58OSkAEm6S5KwdKQNeSLBmXE1dABF4TH/obV0CWmiqZ5YRWQJj3PhdIz0NA5dxyV47CTEAPrOzXWxJAQJzmJEeTRkRA/BconR3sUECv/5fto7NUQHb05jz6FBRA6GUs0q2SP0AB/YDq9e9RQPpZ+Phpmk9ApmPDfWMjVUBtor5u2LtXQPEqss75U0JAwFy6tJHtVUA2i5rEU4tJQIrCe0GKXklAlFMRsbiTPkAP4fmDUn9TQPSqufWqIUVAZCPeeyR2V0COqEUwMfNRQIAUjW1ZnSxAjsUDayICTUCZHaGLDltAQPdrX0MtEzBAEvgcuZTEOEDnpP3jMG80QKBKLJoBNFNANFNpYMUuNUCigYfRjhwbQOoWQTJA4TpAZmFdx7+1SEDDhhZV9LA8QFIaHhiYklJAn3QSC9cZVEBx8B/DPhVSQOnpqDndFlBAvK2uoeDgQ0C3/Y6rwnZDQEraBYEf2StAK+tFyM6BV0DA5g1jifQwQFyEl+HDb0ZAc6+eWigPTkDZKXj1ulZNQIWIx/1lMlBAA4PqRGwUV0A66STQWh4qQNpfi1xx31NAeQR2jBVKUEAl2niUWztXQA/z7Dg33j5A6VHe6LEUR0ABmYWKb51RQPYtNrRPjUtA2pW6NaJqQ0BLsnb+NRFMQKCDIJlP3VRA11j4vzNLVkAu+qrYGStFQL3EWQhf4ktAm1A7ttO/UEAnMKeQZgVWQP95jKrJ4VNAK3rM/pNmUkDff68qHeZYQHx/F1m8tkxAjwYh0vOnUUATsoQ8fwo+QNB0W+/Cd1FA2h7UkEpFUUBV2VJXxLhHQKbDcSnU0DJAwwcldNvfSEB87FeVisonQPmdFaYcDSBAKe+q2cBdVUBolFZ518c8QISl+JOS0UBAvgXZ6Ll2TkD+f6sjlPEmQIfqWSv1Hy1A7Wv/ubnQJ0DRhkHGtNdYQMHL/HqD+UBAjkRr9Go3F0BhsRwWijtOQNXZki2gWFNAGzqhx7b7WED2Kf2QyDhBQBf8L31PFFNAHjIrDeR5TEA08XbZ20UhQIJ+KGmAuT5AQj9WPZ5yU0DDogY0yNRGQL1aTG5zWFFAnu5C8MTYQ0AKccNfOhYUQE6EjkFcWThAyHVvSETdJ0C0Cig64aRYQIrZy06h7FRAd5KJEYqEVEBwkr95REQ3QPBdnyZUXk1ALtfgK7Ul/T9+W39zR09VQC6QODJTNzdAwh3NS4adK0CXZcbE5QRYQI70KizNq1ZAL+2ICH43OkBCIfgF0Q75P+Wx0QZtQlRAYnvXfOJCVUBNxVwEBOZNQGqbYblAERNAJw7lCGo+WEBv+R+jil0OQGBYHVdxCkFANxLOFBsoR0AmUfqBejkeQM2eRXVJYFVAPUjE95aoCkBd7lEqnbJVQOrU19g4AUdASKI6V5PnSUAmiHUwmcMxQMKw1d99s0ZAdrb6GpdFMEDg6/NN2JlNQJx2L76K+kVA/k6bDmDc9z8HYKbu539VQMoxJCKyJFhAnoFlIOXQOkCLTvcWT6FSQCmEBLpQLldAqoJ2HCgGPUA4MrRZlY1WQM4LQBX4yVRArgeIBeMWQUD5nXZVG0JVQAyYgIIloSlAXrv/DgsWIUDIYDaWDvBYQKbuYLwHwldAgCBD0joWUUAA1OEBReBDQKCANRq2MxtAr1mzveDxUkAfGCkgMStRQLC3Ib71OtQ/xP3sUOtBSEBzNPAbWT9PQG5gd0j59DNAkB+QlgP+SUDvIMgO1edBQOjSQW+9jVRAZKOITLkLMkAep2Ht6es7QBxH8y4hSRBA6MzAVnc5SUC6SsdH6lVFQIKZpjs2sTJA1x6nCMWHV0BKMP8B1lctQJ4DXFajG1ZAt2y079e9V0BtxoYX2Bc9QFwOsNu2AlNAcx4XgFeHMkDECdvXS9tLQNJhh5VR5EZAcMmP8Ii9UkAmMZX9Nks5QOK3Rx/T+ENAMhpi1MdjRUB0zti9m9IhQMu9ilFZtlhA03znHYRFR0CBlM2qMlgzQNYIQ/KjZ1ZAvGRE5YbuU0CE+NA3Ig5AQL9/Vbu44E5A9ucWPyexSEB25y2Bp/8nQD0ATnL0mkpArCQXcd44EEBiJfxrjldWQAedaseaz1VAmvx2ev9aIUCafbZ65Gn9PwE0eUuQ6VhAYap7PSOvU0BGYf0BlgYaQCRR+A0s8jdAVGr8W5u1U0BgE0biAzxIQGWl0wK0AzNAzZo2tYShU0DX44alISZOQFLj2xiLH1FAKhsj8l3qTkBFCRuVsEAvQBRgrZQOukJAg4t7VtC2CkDD4bFkzL01QFPIWuOCHVFAzFis/0LwM0DYnfTpY6giQOTnQsNCC1JAYDepmcGP4D/TCGTAXeFRQCDAuZCwLkJAocMMluqtU0DyJF/DLqtWQD8gDBqGejJA8drz4+xaQUDv1rxUZKBOQLQ/XJOqwk9A5GWAEqoR4j/ltxnvim1EQOQdt0cSVTRAlOApP7F1VEB++T3anwxMQAhlgm/uj1FAO5nj/TQGT0AqVuTFhoJRQAsBurp6kTRAnCqjx7YsTkDJPRFjSGhQQNjDTE5xGx5AE2PvlN6+T0BMmlpj5dtWQAE3qwDrykxAHqwqJP6bV0A2vyjV+6P8P/gymE7I4VVACMmqNMaV0T8jU1+ZOwopQOwZEtp4FUNAvupWVe6AWEAnvwAgRBE9QIXnNJZ7405A3/hm4vLxT0CEJw1B/m1OQEd0Z28W0FdA4jZJd2LYTkBW5QxxDiA7QHsTccNsEDlAiHPn+HTUQ0AC6EHGmTUYQDAprOGJx0ZA7u/JYjL5OUAVh4dXGmhVQAVQh5zzf0dAXpNuI4iTE0C/VQH1cFwsQCerJxcxVFRA+oLW961ySUAseNqOe9hLQNw8zgLvXDJAl/jWeHC2VEAoyPM2OwQvQDTfMMzasCVAYMYjxacyUEDCkgjZaQg2QJmLRq99hVNAWgavwfiZOkBKfj2KQJZBQO85KPlZfklAOjnFYh94+D+4gGe9xts1QHQWPxoS5U9AFohY5RoMQ0BmVAnZL1NVQCzz8ise/zhAGOfx3erBTEAxXeI4tpNIQOW0M34HlENAu0rCg2zUU0C9AmcD47BDQF2/yzmgGFdAaaxA0U35TED4qNFSqW1XQBtGrArfBEtAcKQpzNQyLUBqMrhaK2pXQC7fNcfuZkFAWakqiMckV0Az5ksxGpM/QAMW0y2BHlhANgCkPDYBQUCjDN3yHZlUQG64hS8ry1BAeAN4V3dzREBhTUWNvYJVQJ5Cs+CApj5AVZuy1N5BAkC0FmV29XUTQAOXlaSUiEZATQUwjEt4VUB4h8DbeQlUQN8uvFaMi0NARs5VtCQtOUBN7TTwkBo0QNkVFHMjqj9A8rkQUt29MUAzT9MCiOYxQPwooUjQ31BAfNCbTnQYV0BCeLpHlXxFQMgdvDqCnlNAIGJYgHFcMUDz/+kwNe9WQH0GqcV5ZEBA4p6H4IRvLEAFuiwVqHNJQExMzgurClFA5rD5V4HaUkAE1uKp74pAQKsDPVNuvVhAmclTa12RV0DAvz0/sf67P1ZrHujAaDZAXXvcIDxQQUB8O4OGHFhOQCY3cItc01BAaMdBthH1S0BxmLJr/qlBQNiserA8jlNAAUGgLRDYTEBZNecgJsJAQEUfbWW9gklAxxq4s21jR0AOCpj9lDsjQG8TQHGVVVBA4EcjRh9tRkBetcdlYBYjQMDlkJ7WOktAy2QuJJD2S0Ds0VNLPB8pQOXpRRgWIwJAtOLuv36oUkA4PE9REGtEQK5AavdpRBVAAJy52UZyNEALmyYeGkAmQAwLQEtSTSlAZPFzdxyTU0DGSg3duAhOQOH+BMz0mC9ALZ8Ksz+tS0AVlLmdGH9BQN1VwTZJd0ZAMWf76b7gLUDMZI/LLLpAQB7RnyzymVVAjlouvmmCU0BhRguRlfpYQCjZvg0yoFBAhEMqDQA4SkBPL3y7/tVKQJFcgemTMjhAFf2r5cVfRkBJjOIMs80kQGAmA1IltDJA8v91YzfiVUAY6CIeOyxDQHfNrbjs1UFA4VGZE2iDG0AgXiC455ZQQPdV0Bx3QE5A7LlrgoM4OkBVNsNG6QYiQFjvjF1imkFAnmqxvGnXQ0CClFXnfcBJQNy0hY1kbUdA/L6XvOmmMUAO6/truJBRQLiL+zznsdI/AKZbXwEONEDp3MrId5FCQDTxrz9zRFJADGJN+8RLPEDBHw/9ux4kQK37r2IO9lhAWbo3WYgiTUArpxXYiwRXQE1NZN7Ds0tAwzL0GZyuUkCsdc5mMrk8QGYn2LVo41ZABseuXjfRUUCV1VTEyUQuQDRFMYPhDldAVsERuUrHUkCPz/ZROQ4iQADYFCXMO09A4EgLEP3RJEAnduJyQpQ5QGVMde39DzJAU1qlRgm+OEDZRpjHQp5SQMr7hhuaVCtAsm5LGGSsKkDLt+wHGNxKQAhRCBa3QRBAnOXJctAGV0ArCjtXbv9WQB1iXmvhg1JAX4WkQIQFTUCWW+klnRNOQBx9kHDIrjlAgpRJgK1qL0BLQMPD469RQMhnjxJxChdAq4/+j2sDWEBxHIgT6F5PQIwpFKy8R1NAfaNBJISsV0A6atICC+9AQApoTrjJkjpAH6vFGyzxV0BceyYuLd5XQCxF8lkpqFBAEwWsOrLBUkCJk2d5X2NEQHv28d1mgjNAEcA3qZk9RUC3CzxNJe8MQASqZW5IiSpANGokPrJYV0D28C7TGylCQMqxhvYlYkpAIEEjC7M0QkA+ZvZutoBVQGt0a8hIwVdAFHT4kuwjSkAtLJq7T0UgQPfp/hNLbzFAF7Fxgfh2S0A/UAF82RNTQEWvRuFsQ1hAXMCmsjuaIUCm79wQcO5WQOc1SuFnI1RApSHUEzufOUASFbp5BFpBQMKLmlD/sENA3uhSqmw0OEBFvW67jptKQPgduHoF+UxA0ztu7fWuA0CBcwI9KudSQNxW4Z7G1FhAHzFuPeiJMEBeb1JP3BsjQFEaO2fd/FZAoPRyBabUQ0Cq+2IHHEg/QGsNqVc8WUpANfpGPe0tQUA3p2QQXkwsQD5Fd7J5sSxAPL6zVIyEIEDJ/Y3Ke5lWQAzem18QRzxAnIrhQxV1UkBKtwcyqq9LQPCD+A791TBAk60lWEtlPUCLbuUxLR9IQFAH+Mr0nVdA5566RZ1NVECFZJPC2M1IQK5mXyCsV1dAHO08nzgwUUAa0gcseHEJQADT3W5ydEBAiOwZQX5jJkAy0tcizIVVQBdr5KSQSCVAui0cmPQlRkCCp4Yrwqs9QBY4pANhaFZABG7pAK3OUEB2Jylj7sMiQF6UkmV8YDJAo0xCYP/WSUD8hn9mPTc2QBHg+CbmK0FApVGIWmOBRkBYmF+JO9NMQCECh167FUdA9jdaQvhyUkB0R9r/ZfhQQBSOTtHaxVZALKtXI1u+LECb8P092p5AQP66paUbWk5ABIUlHDFtUkABlHqBUD9EQLb8EbiEfyNAQBDeRecyK0CreTcTA8dQQLEPE6N5vFVAjjfm1fjIOEAh/UnL5rI8QCnqm01gij9At9PF/mBmSECYZguqohZFQCvVOtABE1BA0J8x/eyJUECJJNlZfllMQJcVTPe7QTxAudJ85WM7SEDouB+2w89LQEEXfvMu+UlA/PcIL36WTkDE+UN9IeFSQGrCTxrbHVVAtmWQXtUSIkDzHLAAioAhQDAHJyLTNkdAHKrtuE7XVUBvqZK7S+BOQEm8tvRsSEpA+NPWp3TxVECH0ezyfhBLQM0bOhf/MkdAoVVJUqTSQUDWz1yOLbE2QOL3y+gH7lVAgJXYT2boVUBwkqdAYvRVQBCuXjMvrU5A973vQ7v4UEC9PihbzC1RQI60j/hzZDpAEgP6AIUDPkBMBong+oxAQEUC+7IRxUVA9kJ5HLVMVEAAENq4SIlVQL6LFWvijUxAAuQpQtBRSEAW8Pvx0gVXQPq0CSXOQCRAqEvSSVq9QkC68KAfLeEfQAMTG70a10VA+ePN5FLvGUBZ0WIGHW9GQKNpL4GhZERA7NIFuFDSMECgQMKrx0AtQAp5pz10OFNAj6ChI8RGMEDbXqqDL61BQO1UIr+nK1FA3HGitcN2M0BVaKnecC41QCG9Q5QYHlBA6naKni/9SUBT6daxBvlCQGC++9JT+dU/PDeMuSyHRkDmDlyU4oc7QBZo2HkJAiRAM+HY4InRUkD/9FieVMpHQAKlS2vTkvg/HScbZOUAV0DA+qi+d7lKQEajWSIjo1JAddqNWwe1TEDmFlAsuhZUQBSFPVmDmzpALFWOh0wwPEBKkpv+/ZNQQDbQPjcOczBA2U6HRlHXUEB0+KGBh5hWQASOWcHwaDFAcxsSO3nCMEBVfbMmt/BIQPC6M274wTdABGL9Y7xDUEDg40bL93NRQAatNTJzG1JA0wxYktW7SUCxEbP0FBRTQDVCb2QRL1NASPCPUYX8LEDbZOrVc8pNQCHDoekGblZA4KA6kJjsIkCrwaFh4NpMQJAkFo7DdRFATHmTnuH/RUAzhYzqYTlTQHSzf//1IzhAaVx1WuXHT0Brkp4+cK5IQJL9spLz4VVAA/fczjbcV0CEpKwxvK06QHqHWyKQ7jJAclNMiURYR0Apua3biqI3QEZmn5KxAUZAU9DORwuaVUAs+YDRKqZSQLEBjUfzMVhAa5Ml5acATkCBOUq89SBRQM9fW1P9CTpANpUQUq80O0CDcnH3rV1WQBqDzRJMqztAu9cqD4M2Q0BaZaVghXBRQIWpmWRxFEBAcCTs/xpLT0Arg17cAw5MQL2nFwWdbUtArJTtAK+/UkDP1k5P+6wnQLjQTH/KB0NAGsvESMe0Q0DvOHAE6a9PQIyJVGlTsRVAnpTVRwldGkCmthl/DZtXQGTO1nYHaypAs8uIVuP0VkDFZTWXHOMxQC/drMWoUVZA22BeJzaAWECDWQOqFgNVQAESckNo61NAy4JZ33OvLUD+856JBixMQBjvYvW/2jBAfH1r4DULTECiWQIW2B0RQAewTlRcUlRARIvgjSQ1CEA2EYj4GQZYQLAYQD1xF1FA3XJgvxxVSEDaUiqQzZJKQIv8cFnXB1FAWuNQt44bVkCgCZzQEfJHQMKWMV/SRUdAwATV73roQ0Acw7WzdLA2QFqI9xPf/CZA9M5en6VCSkCjJsZcreMNQH5kJueOnUZA5G0lkXlTHkBEoBx9r2xDQHvV+m7ZZk9AL4mRPXzIV0AN9dmw74BDQOXzwz9u+lhATnZCe65PUUAsz9H4e7tOQPVZt05uAUBAJu77wlZeOUD5NBWAwsYXQL1E4CZw2kJApyTrRDJ2UECzJK01cFpRQDLuXb7MwCBAT2AoPeg+U0CeCoxksoVAQHcUPU7mnUhABPTQotIxTkB5fKBmkmdYQObacMbewVVAYyXhditPU0C9b/r1UEhGQBYILdDoEFZAzPF5GV7rOEDKtZsGq5VNQH4bUHheazpA7q8Kz67VRkAA8OyFYHJ6PyGJmkmS21hAcnDX49fUIECuGubxpC87QC1O2AInzkFAvRhMY9uNTUBfJA3NCbtUQKZh+v8g0yRA2tiomrhdSkCaeK7Zxv8gQPhndHra7UhAw5blmOuqUEDvVTABT3Q3QMZx4BJ8WVhAcEYkd91HUUByBFu5D/VYQGU6ISFCG1BAr5d+oSOUMUD8pfzGdrtSQBz6ZfP7ATVATPWYXHOqCUDuWoT0xEb+P5gxQP6ZAVRAiSLcSQkkSED60KFJ7hVVQErbDPoYik1AzDPbXJZGRECIVMh37FtWQMPJXsBCrVJAWzROTGz5VUAWr7FkogREQO5qWezcTldAwTJ5xPIRV0BJQy/IBmFFQEmP07ue11BAt6pNncq3SEDPL7sHK5A/QCA4lZD1dtU/mKLPJyCdO0B4xbIU6J9VQF8pLmUDIU5AJUtrcVhUQECzbtf51thVQAy3OTZwQEFAurkpwGl7S0A9oOyZWDBJQKAH6wmf5TZAylpff19uI0AG819ipIFQQDp0PvC6dy1Ajr8hLvmcVUD9u0NS9vxUQDTRAJUlMVBA+84WDia8NEB1JT94HapRQKu1/yerVU9AHTaU0YtnOUCsFQa1YNE7QKWU5B73DlhAuhbq1OehNkCcU2AMedhHQBPsI+11g0FAlEYNyNYUOkCScVeiNCBUQKnAd2fCdUJAeibnmTdAUkC4QegZdz5XQJMFPpNgMzpAEk36GWDGOEDQZJRy1VYsQGUKisRSsCxAUmfg9dF/Q0AMIinZCmpRQAZUem3IeDxAL0HS8axZRkDt3Bv49ilIQCASWqvh4j1AQxEiwiALBEC5CLHo4gtAQAHAbH5HmFRAZIPDMo+/QUB2hZvENGNBQHuSVLzbk0BA2qBsjw2MTkDEbDxczzdPQC5jw5KJaVFAlha0ejGwU0CFv5iPI6hIQODl0zqgKlNA3tpg/KrePEA3LnQDhb5TQF6y2c662zJAhX/lOeDxTUBTpGFjVspMQHXyomVTpkdAKDwxJ1AwMECoP6zYBvFCQPTRarSTNEJA7QrLfZpXMUAUF8QUz8wgQL/IWrI34FZAqa1kgBtTBEANSzZ7opRQQDkIqAkigz9AUNbP/ZB7UEAvQlJQsjZBQBua6c60iFhAHnOQCSPSTkCsu/pysnBBQNlQ07MhEFZAynndf0pk/j+TcYLAG8c2QKnZ1nrYtStA3fRS4nbVK0CD72DznCEWQPWrl4rvy0dA+mEiuBRLQUDl1BA/PXtIQPB3/6ELEMw/1NlR2IEMMUC6K1i6Ls1WQC1i7sSXsUtAJ460lFn5HECyjSssy2FYQHyCFAl4KFJAVk30KjXV9D9Nk/PjqqJLQNPI2hV2nFRANpNp0c5VREAR7Lf/qNAnQGSPQMMnVztAmuCWwRfhT0CTZ6P45uFIQG4lixtroT1A/+N4RgyXPEC3sXLASYhMQI4XfiW+DlBAVUvRPKC0R0As8ecjCzpTQNcetotcKlNAwPLZbBk1FUC0ESJleJgqQOHvZU3ffDlAJSj3eiHRVUATuaCWOWFQQEuCMTv4yVJAIJiB/O7B8z9yUCGBGjpLQF0pXjEC50VAuMKj/rehQ0DPAMSJqmhQQJgStaWsbFdAclOBoNuZR0CMEZ0WbD9FQCBq1YYV5UtAZ6oql43TTUCcTEKkhOwtQP9BkonUx1JAK/uvx4X/SECT85uGJzc4QHBIbgvrmVhAxumoCxCAOECcVQGtTPIzQHzAPuGfk1hABk6Py7jAP0BDgV8PE31OQKCdOLwaD0hAVXES23BTVUBw6tEiq5tDQN+xmUBKZTpAIFEWloW3IUDB0bFJ0mhYQF4QlkZ5PFFAZBsFBCckMUAfxOKmaIo2QC4IPgKQ60hAmj7Fx/rqUEAdB4TX+u9TQH8IKj9dEVZA/dvJASdqSkDf1+DsWy5SQLTp49a1kTJAl/G2oB9kRkCCRzj139FQQN8o/nsEPEpACLp8wgCEI0ABh1y8gthLQHQBELvveUxALeT/9LmrTUB1d7+ZKnpAQH+7qgKOs1FAdcA0ZYvCU0AShelULypWQCzoNKb/xEFAx0AusyndU0CZPLjS6mNMQPgNZdHwF0tANwngBFtFAkAk900UXGAbQOazfyWU8BBAUPFZghR+QECwAUzjWtJPQMXKAskUkipAyb3tB+RSV0AKwjCXrSomQCDqNkpu8lNAcsHAdDQN/j8h5u81UVgQQNMZO8EwAVFAmttGsbxHM0CrWQdAzQpRQBvjMfxywjJAWMZN/7+zS0CAPniavhM0QHcdteVbdEpALoUvZJWHS0AMFnlNvwNAQObTfB7DqUBAFFgvJFaGUEB0B2fMcxVPQJYlTEcgVEpAoq/KRvyDM0CXX1tGUUI5QDFxtkKuVU1A6U1Z/wBZTkBZo/uxs6pXQMiV65ikWERAldJiWY4xIkDC9zUleHFYQPuoUDOrF09AyGfZVScWCECw0euL2B9KQKyfiWOWoVBA64KT7ecTUEBfBk/awnM2QA6w1exrOFVA6K45zhWOLkBJDlNg85ZQQDoh1DtNovM/OBQHw4G5SECMxvL6qeBEQBU6FlG/zUJAaNH6GZQUNEB74gMjs+xCQKNCBVx2sldAMe5v4bCuVUCEdFaAWKZTQNq5ODTNuDhAaI1vkp2ITEBtdnlvHjRYQNFX8zCJ5VFALFm2bcZlL0APshR1OkJBQOxHNBgLzEJArgc78ZdMFkCSQUrz8TZXQBZNAHRXzUtAeCP+DDRhQ0DRfLh3u9JYQOyLbdhe5kVAmx4PrqjeU0BqCg8aH05NQOxLknwa4j1AIlzj5wCbVUCrQujSg7cwQDJwx6E6fjhAFwPBGShEOkAOgzNSrnc0QN6lxIq2H1RA9d+g1c8zRECX8XMWyT5JQC4/xawT5EhAHOir/su7S0CyPRjilltSQGs9MoOxM0hAH39TNPCZKEBxJgn2dFRAQN4zT8JpczdA9kzh/R5mLkDgO7lEDAgDQB6QxnnwnUtAzbnjOPtCPkDlfwXsLWdVQEeM6uhgwVRAlGJO9r6IT0Ah6Ao6wWxUQJsR04UJr1VAgAIKSz4Lqz/pWAhJntsgQDVXlFV2+VJAKUc3f+uDVEDjfR1ALmo/QDbqDv4Nyj1A6ThPmCuJSkAym08pEmpTQGkxuXQNa1BAxw057BiMJUBay6o4GNVTQE4QCDxCI0VAUAbUPO76UUBQ7wQfSWJWQGpzh5d00wpAZcfM4XerVUBaYtxqaUE0QJZzq421xExAUBdfIKigSkDWXVy3HEhPQLvi1NiNIEtADYP9euXUSkCPp3zB2bVLQJsJTao5aiFABVIVzcnuIUAouq+5wbZYQMHrWgyiWFZAC7xKlm/GDEDOYfMtRJo9QHWf3pQVg0lA0ioKKMgJQUAHvGLPtD4xQCuTW7DBr0NAPfn8uC4TU0C4MrU1F5VDQEHI21mkBk1A8MM7mND/HUDMnDXGDiNXQClaPd3bWUxANgLY08ZhTkB9g9UiffRRQN+7LBF3ojhAlZk2wOkDVUAUSyFx6LZGQGQLXUqkxf8/UezHAbfOR0DRs/TNNulCQOnL5jVxd0pAZ7DvtOOtWEDijZnySRtVQPIXxvQs1hlAqypp/dqqUkBKU3iYNd5GQCAbrLxbBkpAxaX2I0W4T0AWjugaFgASQK6rI9f/eFVAaNzYmOEr6T9/lmswFe9JQLzu2wk+8FhAWZ8K5Lu3VkDvhTJmTC5YQF9GxCC8LkNAemiKbw7QUkD7x9/W0dlIQDXrx9D+i1RA30l1PJ5YV0DW+6Sis3NSQA5xEbQ6lSxAxKr7xs3mVkBtmhYoyoBEQNU0U6kbvU1AAavJlWswTkB68qcxkOguQJjbUCDEsUhAqltCF18rMECw/nIxSqJSQCiGbxwxWldATHFtjAQLQ0APK0GaXCEhQGpW6Xru3FJARUaYMsguUkDgUwObltsAQAV0BQqB40pABFEjLUgcQUAZsQq3EKdNQLg/+l+3MhtAh+z5TglKVUBdQ9z1MHFTQODjuOmJzjdA+BizD07JQkD/ALdISIBUQEIlnfSYyVJA1todndRtVEDYJYzEJOZQQCyCoJdRIU9Ab2b+DvIWPUCKtCuUjPNIQEIrpbGjxVdAWHYvrMSCS0DNgo4woX1KQA37WaLjuFZAd6GZjJJAQ0DqBWRZzmk5QK3yJfMVICVApPOe4oxEQEA2uew6h7tBQKzMQTtiEztAw4hyuz54IEAaE0/HioFVQGX42fVKxzZA26u2k8MVNUBA/W3/K+A7QKTyBXw8nklAv6tR9Bf9QUDZOp5SFXsgQD6iN6RzAUJAhrZ/m3iZMkD9BKZj0FRCQOfvyYKCb09ABjlKI0e2MUAVY/BbpgRMQOLprnaskjZAqDfAh79lVUAfbm45eytVQDEvyVJN+VJAoApSCXy/EUDEXYOasPBIQOltmvwMJFJAkPMJcYFtH0Dj3cJyq3sJQPAghKe0PjxAe9NY+S9mJUB0fpjFUxFRQGM3LyfiKE9AxSt5xitAWEBkcFomkitHQM38sMnyHjdARAG4SGFAWEDsukJy5d82QCCX8sn0P1FAbPtcsueNTEDKSqVa0XISQMtRfIEW50dAykWhavuYFkCjlsVARTRVQPFtFf5+Oy9ADX6jJDG8TED64faeroZYQCbHWjw3X/w/cFCR3st6VUCYDHPVQQQgQPrGYfEMa1NALY6PaU7NJ0AdvzRpaGo9QLPvf8MjcEpA79zHbpE4QED/ja64IcBEQKrrjWDB0RJA9yf8BdtEQUCu+aYmoStSQHSSHOAqw0FABBiHP3XaS0A1wENg9UhNQMa+EdoLp0lAKcoLCvK2IkDZuRDzr4Y4QM3L12OHckpAwLZOb/fHSECXtii87ORWQEUIS2n0XlhAsYUOMKq9QkABDNA+w4NFQHaO+5OhZ0hAJdvO3vz/RkAEC3EcmrX9P9nQzMTSzgNAysgDvwWwQ0BR3ySvgghRQCVOZmefCE5AKl8cH/S0QECdMPWTVUg0QM9c/li0D05A4JrMX5hVP0D87DHmdndWQOEJ2wF4ZlJAhgciJG6JQ0BS/HIV6P81QIgBgt/A8ldAaTM8FOY0RkDMMjV3v8EyQK4nZChcAx5AzvjuGJ9jOEDSPNAhDiFWQLRLlQ0KU05AsOGvN2MtJUDXciDSfsYzQFPpqh/F6ztAaR/uhJt3LkBUnYES39VOQMHV/aR3bytAQE0VfSxVO0AldBheaGAnQCo6VlFct0VAbHxOKdsDJUD8ti3aAFVXQNWXGzIvtFZAqJBCYCXsPkAoJ7R5zCVCQDRQ/ql8REZAv+kivW10I0Clga44PmZHQOl3yGWrV0VAQKpui7EKTEDHMv0wvrRVQAS8IL1l31FAD3ecaxsVPUAiTjnh5VhTQAw/pyO6e1ZASBbYn4IkWECIDca4wX3fP+JZjdvvTEZAwys5E2G0V0Ano3hTtSpEQH5rufCpJVNANt3mmbnxV0CVLgPWiDBUQKeJhSgFfkJAbuisRVLTVUChjTnVPlNWQGFEBMrGJlRArccDwhzLU0B7JoxHy4VWQHbJF46tKktAH6CywNpwU0DAMFvaoTxNQEotS0jlDENAcexNaupHTUCwvPHWuUNOQL7MtHyvAFBAASeZyQJsVECn/+bsbXxPQOJeZNYlJVdAY6myMUDdU0Cqw+aZiSgwQLYSfQAPslFAeZ++21xZWEBFJR6D8opGQLt8dD0z/zhAa//AUpZmU0D16L+4kOpYQFr1CQhgkFZAsoBlo+EBSUAVFoYz9EFSQM7I530HnChAl1SJMT0oM0Cfg4eLLZxUQGRFyaBc0EtAZyWnZ983IEBYMZrlpioUQG0Sr7aO3VFA59l57X2WT0BwIvdp2MFBQJNqkmLXvFRAlYq2sQ7rSECPItnJV5dBQH4n86HlTTBARr90Fn4xD0A7AMjc2BlUQDStV5TgNiFABwvTdqenCEDXJVDMU4sqQCQyll6Ke0tA1OkRJLTnTEDHO+r8Bz8qQO+toErvkFBAWErIzRGEUkDe/Y7u6ddMQLsjXJniLlBAeQEBoL9QNEBbNWup3Mg8QHWPt1oUcSNA9WonaPItTEAYkwG8BXRWQLiUeIkytjxAx1S3BRVOUkAULZBjIKxQQEPEokkrDERAm18ray2vVUA5qFlpQg5GQHN0/bA2lUBATcVq+F0PSUByV43CnhH9P+G35KnROFZAONUFeBqRT0BpaF/B+aokQBZSZ//DMTVAIocAKDeiV0APOqfLCNdQQB+aPWalmUZA2psC6gCeQkDJs2ITMPNYQCwkj6QbLzdAm/GLlrp2PEAwBaXA471XQPLEPZBE/vk/e2+HxAgVJUCWdujaXORYQPFwotqpgERAp4Ph+PVUKkDEF14syFBWQLNz4JvGuSlA8yh3ydxfWEDRx2NOvwtWQEJz7d8LzFNA7EORw6PZN0D8lq0kEqxQQPrv/144PytASu9arNxOVEAkjpBzsP86QIBFI8j8upQ/+yPB3u4vKEAEqkPyd51UQJVxvrC/pVJAxabR+GhrUEDEhx5mNR9VQKjsP1AO6ldA6d89KSBZQEB9ZixIIhJUQA8BI3OELkRAdgWcl6BYU0BEuQ1JyfpRQBR96iksQDpAB3xPA6k7MECqere6wAQ/QOEA2w8sfzhAuUIgdptUTUDBZGjMbnVUQNPZ8dth2iFAaRXMWET7WEDbHC7MUv9DQC08XIeM8T9AfWOShFB6Q0BTe3GZVYENQHJlLMkA5y1AvAMFnNq1RkDjCwsoAuZIQBq0GduLDUJA53cLd7cYVEB5J4fnEmcjQDb53XUCuThAVf1qaPwfGEByosldy5RWQLC4LtkNtCRASeMUOWMTVUBqRL2Y6gtXQATWR0yQ01NA/FG5W5yWT0BhfITj/iRQQMpqOo/Jb1hA8JyyoGxSREBx8yQcvlNQQHRyXw/dy1hAmAPD3+tmUEAnRmHuwXBVQPGwwbG6uUxAv108gmphUkDV+Lc0R8JPQAt054nKaCRAnaD0J563RkBmCS75E8RGQONDMGCfiEVAOWMXsg07UEATTeQZedpRQLP5F71YNVVA8J0TQ4N+UEDwSrnvuNJYQPR/vs6TXj9APMcYjUkr+T8QAAfc5xfHP3Yqk5nUm1RAacurjMnlVUA12ZxrPIhVQMDqL9cf5DtAAsxI03vhWECVXZBmjL1EQBmFErW5zDdAKuTA3n8mUUCBGJXigO81QLSs1OPb+1VAfaB0nWRvTkB00nP1Xa9OQCz4j/HK2S1ATTx4zO6CJUA0DPn4EJZVQIixYAMKk01AewRoWIQSL0BxDxzsIpBVQLt7vFtpmlJADKHI686TMkC2jLFsSzAuQH5OBJWC3VZA1kYbpnigMkBqvZv42ddSQP7PpSHNOkZAyn2E6VqULkCiZTPSfJYoQCEKOGe03kxAIsUIdG/cRUB4Lx+XRt1IQMgn8gCe81dAZgCSe70YO0CokI9Q2yhXQJXfKEJclFhAS3MhUxxQNUByRyHOQHIxQKuFAuyVoj9AJUnOudf2V0CdWWN+Pm84QHTnn/6s8FFAUkAZ4SGOUEA8bHjbnL5SQHD1yeLe8VZArwimg6V1WEBWUaMiPgpXQC1uJMrQxTxA6IIYujYfSkCwKWLeyE3QP1YQLCsVG09AUP28jXLDP0CmbknmrKg/QA7l9NfIrEBAtLL0ieWgRECuKBbjq2VKQKHNs5k15jJAUmNaKdCcVECsRJrLMy1TQNi5jIj8bzxAM9u+HfG7P0DMf7slKMVYQE3nSJwYIlVAmQV/2hFoU0D0aV8r91BRQC+NuqYElVFAk1Y/+gFpVkDqYMRWC2g1QNsLpTWyQlNAKcZZJyfqPEA87QH/8NIzQNn2fMlKk1BAA+XPC1PdUUAwWpqomQRAQDYmYG8xNE9AzICmfb69L0AqToZpND5SQGTxJ6aTnDZA9ByK6i7s7T+s7C8WlVlPQNKpMaBtoUFAACKj7luJOUAVXpXTdHg4QEvZmErASklATpZqy2T1UEDB0OBXSktWQJqfEPagMVRAr4PVGsoxREARAhisLCRYQGitxYmTwFJAJIwADLO4QUCaQX8UYss6QDqwsv2t8lVAI+Ax9tAGQUBHYZrc7AZMQIxlFzbBsklAfNK8BiwHUkCddK14mdIVQCmcz2isX1FAP97N5Sw0V0BJpGBmFBhIQGRt4l4VizZAUCembcDJVEDG9BoAVShGQBr3TvcXrlFAHnrrD7zmQkBs7D2oNug1QFh+iXeXT0pAiCIcl7qZTEDU9+Yj7RFQQLlOmAr0uTpAIrVGG8+sU0BlXZfzVxxXQEIK3m+lEEtA3u+lIrryV0BYNV19175MQDvGGR/BElBAfNkNKHreUkA+o3XSEp5SQPm6kyOgQldAsOjB9u3sTUAMW9r2QDhNQNAJLMku6xtAJifBKLs0P0DArMmkW25VQKc3chxD4EpAvXVM3jvbOECC/Hs271RYQAiQOlF//ClAQvuZI8R/SEDON/FlHIslQPxNW+AgUCtAPx/LlHmFFUANvm3Wk/tPQJNnZYeCFkBAFL9iHjFHUUAd5RtOyuAyQGakDbEBlUFA9F6qxOHoSkBfOSt9ON1LQJFr0tk4J0FAvgmqVzajUUCh2DbH8VZUQFr46tGpOTVA7btRHW45N0BC8xIMjmhEQLWCJ8DH8FBAlRwZEqKNU0Cn646fx2QXQDD742ey8U1AFP1RioLCRUAGu1wIUfBJQDOd1z9b90RAk/lMVmYWSUAadJWfUKRVQNgHg03+skRAdnrA8W4WQUAd3R1uarJXQKR3zPOROFBAupgj5inPKkCw2SOZo1pHQIzbJLra/EBAra1G8lGaWEAaz9SsXvFXQF+tKDXsik5AWmTQboA4R0BmBMjpxrpPQH46+0x6bFVAnNVJmxawFEBesJTPQ1RQQDyw2n2dGExAwQ2IJnZzU0C4VJ3q3yRBQMstyfdeclJA96Ctkj0lVEBOeyzIwQ5XQF/IXu0HMVBAyDDWYHcRGED02JsrQwtSQItUPu8Gx1RANXDuM6lVUUDp7uoCpVlSQDxNmU+5GVNABP9eWEiNPED6fkXWPND8P5crHl2hIFRALYKWFBQdS0Axd00t7QNGQCQk4U6Db0JACzYdova8UUAryfCjVEgyQNyc4kmFVE1AIUX10jnSNkDhGabJVP1BQNYD3mmP5lNAkFzDbAMdU0Bq66iGgilOQP7r2lzKuUtAoJrH96JCtj+bMIq68kVDQA==\",\"dtype\":\"float64\",\"shape\":[2000]},\"y\":{\"__ndarray__\":\"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\",\"dtype\":\"float64\",\"shape\":[2000]}},\"selected\":{\"id\":\"2282\",\"type\":\"Selection\"},\"selection_policy\":{\"id\":\"2281\",\"type\":\"UnionRenderers\"}},\"id\":\"2188\",\"type\":\"ColumnDataSource\"},{\"attributes\":{\"callback\":null,\"icon\":null,\"js_event_callbacks\":{\"button_click\":[{\"id\":\"2197\",\"type\":\"CustomJS\"}]},\"width\":300},\"id\":\"2194\",\"type\":\"Button\"},{\"attributes\":{\"below\":[{\"id\":\"2175\",\"type\":\"LinearAxis\"}],\"center\":[{\"id\":\"2179\",\"type\":\"Grid\"},{\"id\":\"2184\",\"type\":\"Grid\"}],\"js_event_callbacks\":{\"selectiongeometry\":[{\"id\":\"2198\",\"type\":\"CustomJS\"}]},\"left\":[{\"id\":\"2180\",\"type\":\"LinearAxis\"}],\"renderers\":[{\"id\":\"2191\",\"type\":\"GlyphRenderer\"}],\"title\":{\"id\":\"2275\",\"type\":\"Title\"},\"toolbar\":{\"id\":\"2186\",\"type\":\"Toolbar\"},\"x_range\":{\"id\":\"2167\",\"type\":\"DataRange1d\"},\"x_scale\":{\"id\":\"2171\",\"type\":\"LinearScale\"},\"y_range\":{\"id\":\"2169\",\"type\":\"DataRange1d\"},\"y_scale\":{\"id\":\"2173\",\"type\":\"LinearScale\"}},\"id\":\"2166\",\"subtype\":\"Figure\",\"type\":\"Plot\"},{\"attributes\":{\"children\":[{\"id\":\"2166\",\"subtype\":\"Figure\",\"type\":\"Plot\"},{\"id\":\"2193\",\"type\":\"Div\"}]},\"id\":\"2195\",\"type\":\"Row\"},{\"attributes\":{\"args\":{\"div\":{\"id\":\"2193\",\"type\":\"Div\"}},\"code\":\"\\ndiv.text = \\\"Button!\\\";\\n\"},\"id\":\"2197\",\"type\":\"CustomJS\"},{\"attributes\":{\"callback\":null,\"overlay\":{\"id\":\"2283\",\"type\":\"BoxAnnotation\"}},\"id\":\"2185\",\"type\":\"BoxSelectTool\"},{\"attributes\":{\"formatter\":{\"id\":\"2279\",\"type\":\"BasicTickFormatter\"},\"ticker\":{\"id\":\"2176\",\"type\":\"BasicTicker\"}},\"id\":\"2175\",\"type\":\"LinearAxis\"},{\"attributes\":{},\"id\":\"2173\",\"type\":\"LinearScale\"},{\"attributes\":{\"args\":{\"div\":{\"id\":\"2193\",\"type\":\"Div\"}},\"code\":\"\\ndiv.text = \\\"Selection! <p> <p>\\\" + JSON.stringify(cb_obj.geometry, undefined, 2);\\n\"},\"id\":\"2198\",\"type\":\"CustomJS\"},{\"attributes\":{},\"id\":\"2277\",\"type\":\"BasicTickFormatter\"},{\"attributes\":{\"text\":\"\"},\"id\":\"2275\",\"type\":\"Title\"},{\"attributes\":{\"callback\":null},\"id\":\"2169\",\"type\":\"DataRange1d\"},{\"attributes\":{},\"id\":\"2279\",\"type\":\"BasicTickFormatter\"},{\"attributes\":{\"dimension\":1,\"ticker\":{\"id\":\"2181\",\"type\":\"BasicTicker\"}},\"id\":\"2184\",\"type\":\"Grid\"},{\"attributes\":{},\"id\":\"2171\",\"type\":\"LinearScale\"},{\"attributes\":{},\"id\":\"2281\",\"type\":\"UnionRenderers\"},{\"attributes\":{\"formatter\":{\"id\":\"2277\",\"type\":\"BasicTickFormatter\"},\"ticker\":{\"id\":\"2181\",\"type\":\"BasicTicker\"}},\"id\":\"2180\",\"type\":\"LinearAxis\"},{\"attributes\":{},\"id\":\"2282\",\"type\":\"Selection\"},{\"attributes\":{},\"id\":\"2181\",\"type\":\"BasicTicker\"},{\"attributes\":{\"ticker\":{\"id\":\"2176\",\"type\":\"BasicTicker\"}},\"id\":\"2179\",\"type\":\"Grid\"},{\"attributes\":{\"bottom_units\":\"screen\",\"fill_alpha\":{\"value\":0.5},\"fill_color\":{\"value\":\"lightgrey\"},\"left_units\":\"screen\",\"level\":\"overlay\",\"line_alpha\":{\"value\":1.0},\"line_color\":{\"value\":\"black\"},\"line_dash\":[4,4],\"line_width\":{\"value\":2},\"render_mode\":\"css\",\"right_units\":\"screen\",\"top_units\":\"screen\"},\"id\":\"2283\",\"type\":\"BoxAnnotation\"},{\"attributes\":{},\"id\":\"2176\",\"type\":\"BasicTicker\"}],\"root_ids\":[\"2196\"]},\"title\":\"Bokeh Application\",\"version\":\"1.2.0\"}};\n",
       "  var render_items = [{\"docid\":\"ec76548c-ef5f-4791-9bb2-d10549c724c8\",\"roots\":{\"2196\":\"5d9e29e8-2de9-4d0e-b114-a20fef6c79b2\"}}];\n",
       "  root.Bokeh.embed.embed_items_notebook(docs_json, render_items);\n",
       "\n",
       "  }\n",
       "  if (root.Bokeh !== undefined) {\n",
       "    embed_document(root);\n",
       "  } else {\n",
       "    var attempts = 0;\n",
       "    var timer = setInterval(function(root) {\n",
       "      if (root.Bokeh !== undefined) {\n",
       "        embed_document(root);\n",
       "        clearInterval(timer);\n",
       "      }\n",
       "      attempts++;\n",
       "      if (attempts > 100) {\n",
       "        console.log(\"Bokeh: ERROR: Unable to run BokehJS code because BokehJS library is missing\");\n",
       "        clearInterval(timer);\n",
       "      }\n",
       "    }, 10, root)\n",
       "  }\n",
       "})(window);"
      ],
      "application/vnd.bokehjs_exec.v0+json": ""
     },
     "metadata": {
      "application/vnd.bokehjs_exec.v0+json": {
       "id": "2196"
      }
     },
     "output_type": "display_data"
    }
   ],
   "source": [
    "from bokeh.plotting import figure\n",
    "from bokeh import events\n",
    "from bokeh.models import CustomJS, Div, Button\n",
    "from bokeh.layouts import column, row\n",
    "\n",
    "import numpy as np\n",
    "x = np.random.random(size=2000) * 100\n",
    "y = np.random.random(size=2000) * 100\n",
    "\n",
    "p = figure(tools=\"box_select\")\n",
    "p.scatter(x, y, radius=1, fill_alpha=0.6, line_color=None)\n",
    "\n",
    "div = Div(width=400)\n",
    "button = Button(label=\"Button\", width=300)\n",
    "layout = column(button, row(p, div))\n",
    "\n",
    "# Events with no attributes\n",
    "button.js_on_event(events.ButtonClick,  CustomJS(args=dict(div=div), code=\"\"\"\n",
    "div.text = \"Button!\";\n",
    "\"\"\")) \n",
    "\n",
    "p.js_on_event(events.SelectionGeometry, CustomJS(args=dict(div=div), code=\"\"\"\n",
    "div.text = \"Selection! <p> <p>\" + JSON.stringify(cb_obj.geometry, undefined, 2);\n",
    "\"\"\"))\n",
    "\n",
    "show(layout)"
   ]
  },
  {
   "cell_type": "code",
   "execution_count": 15,
   "metadata": {},
   "outputs": [],
   "source": [
    "# Exercise: Create a plot that responds to different events from bokeh.events\n",
    "\n"
   ]
  },
  {
   "cell_type": "markdown",
   "metadata": {},
   "source": [
    "## Additional Information\n",
    "\n",
    "There are many kinds of interactions and events that can be connected to `CustomJS` callbacks. \n",
    "\n",
    "\n",
    "* Widgets - Button, Toggle, Dropdown, TextInput, AutocompleteInput, Select, Multiselect, Slider, (DateRangeSlider), DatePicker,\n",
    "* Tools - TapTool, BoxSelectTool, HoverTool,\n",
    "* Selection - ColumnDataSource, AjaxDataSource, BlazeDataSource, ServerDataSource\n",
    "* Ranges - Range1d, DataRange1d, FactorRange\n",
    "\n",
    "\n",
    "For more complete examples the User Guide section on [JavaScript Interactions](http://bokeh.pydata.org/en/latest/docs/user_guide/interaction.html)"
   ]
  },
  {
   "cell_type": "code",
   "execution_count": null,
   "metadata": {},
   "outputs": [],
   "source": []
  }
 ],
 "metadata": {
  "anaconda-cloud": {},
  "kernelspec": {
   "display_name": "Python 3",
   "language": "python",
   "name": "python3"
  },
  "language_info": {
   "codemirror_mode": {
    "name": "ipython",
    "version": 3
   },
   "file_extension": ".py",
   "mimetype": "text/x-python",
   "name": "python",
   "nbconvert_exporter": "python",
   "pygments_lexer": "ipython3",
   "version": "3.6.7"
  }
 },
 "nbformat": 4,
 "nbformat_minor": 1
}
