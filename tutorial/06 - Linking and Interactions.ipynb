{
 "cells": [
  {
   "cell_type": "markdown",
   "metadata": {},
   "source": [
    "<table style=\"float:left; border:none\">\n",
    "   <tr style=\"border:none\">\n",
    "       <td style=\"border:none\">\n",
    "           <a href=\"https://bokeh.org/\">     \n",
    "           <img \n",
    "               src=\"assets/bokeh-transparent.png\" \n",
    "               style=\"width:50px\"\n",
    "           >\n",
    "           </a>    \n",
    "       </td>\n",
    "       <td style=\"border:none\">\n",
    "           <h1>Bokeh Tutorial</h1>\n",
    "       </td>\n",
    "   </tr>\n",
    "</table>\n",
    "\n",
    "<div style=\"float:right;\"><h2>06. Linking and Interactions</h2></div>"
   ]
  },
  {
   "cell_type": "code",
   "execution_count": 1,
   "metadata": {},
   "outputs": [
    {
     "data": {
      "text/html": [
       "\n",
       "    <div class=\"bk-root\">\n",
       "        <a href=\"https://bokeh.org\" target=\"_blank\" class=\"bk-logo bk-logo-small bk-logo-notebook\"></a>\n",
       "        <span id=\"1001\">Loading BokehJS ...</span>\n",
       "    </div>"
      ]
     },
     "metadata": {},
     "output_type": "display_data"
    },
    {
     "data": {
      "application/javascript": [
       "\n",
       "(function(root) {\n",
       "  function now() {\n",
       "    return new Date();\n",
       "  }\n",
       "\n",
       "  var force = true;\n",
       "\n",
       "  if (typeof root._bokeh_onload_callbacks === \"undefined\" || force === true) {\n",
       "    root._bokeh_onload_callbacks = [];\n",
       "    root._bokeh_is_loading = undefined;\n",
       "  }\n",
       "\n",
       "  var JS_MIME_TYPE = 'application/javascript';\n",
       "  var HTML_MIME_TYPE = 'text/html';\n",
       "  var EXEC_MIME_TYPE = 'application/vnd.bokehjs_exec.v0+json';\n",
       "  var CLASS_NAME = 'output_bokeh rendered_html';\n",
       "\n",
       "  /**\n",
       "   * Render data to the DOM node\n",
       "   */\n",
       "  function render(props, node) {\n",
       "    var script = document.createElement(\"script\");\n",
       "    node.appendChild(script);\n",
       "  }\n",
       "\n",
       "  /**\n",
       "   * Handle when an output is cleared or removed\n",
       "   */\n",
       "  function handleClearOutput(event, handle) {\n",
       "    var cell = handle.cell;\n",
       "\n",
       "    var id = cell.output_area._bokeh_element_id;\n",
       "    var server_id = cell.output_area._bokeh_server_id;\n",
       "    // Clean up Bokeh references\n",
       "    if (id != null && id in Bokeh.index) {\n",
       "      Bokeh.index[id].model.document.clear();\n",
       "      delete Bokeh.index[id];\n",
       "    }\n",
       "\n",
       "    if (server_id !== undefined) {\n",
       "      // Clean up Bokeh references\n",
       "      var cmd = \"from bokeh.io.state import curstate; print(curstate().uuid_to_server['\" + server_id + \"'].get_sessions()[0].document.roots[0]._id)\";\n",
       "      cell.notebook.kernel.execute(cmd, {\n",
       "        iopub: {\n",
       "          output: function(msg) {\n",
       "            var id = msg.content.text.trim();\n",
       "            if (id in Bokeh.index) {\n",
       "              Bokeh.index[id].model.document.clear();\n",
       "              delete Bokeh.index[id];\n",
       "            }\n",
       "          }\n",
       "        }\n",
       "      });\n",
       "      // Destroy server and session\n",
       "      var cmd = \"import bokeh.io.notebook as ion; ion.destroy_server('\" + server_id + \"')\";\n",
       "      cell.notebook.kernel.execute(cmd);\n",
       "    }\n",
       "  }\n",
       "\n",
       "  /**\n",
       "   * Handle when a new output is added\n",
       "   */\n",
       "  function handleAddOutput(event, handle) {\n",
       "    var output_area = handle.output_area;\n",
       "    var output = handle.output;\n",
       "\n",
       "    // limit handleAddOutput to display_data with EXEC_MIME_TYPE content only\n",
       "    if ((output.output_type != \"display_data\") || (!output.data.hasOwnProperty(EXEC_MIME_TYPE))) {\n",
       "      return\n",
       "    }\n",
       "\n",
       "    var toinsert = output_area.element.find(\".\" + CLASS_NAME.split(' ')[0]);\n",
       "\n",
       "    if (output.metadata[EXEC_MIME_TYPE][\"id\"] !== undefined) {\n",
       "      toinsert[toinsert.length - 1].firstChild.textContent = output.data[JS_MIME_TYPE];\n",
       "      // store reference to embed id on output_area\n",
       "      output_area._bokeh_element_id = output.metadata[EXEC_MIME_TYPE][\"id\"];\n",
       "    }\n",
       "    if (output.metadata[EXEC_MIME_TYPE][\"server_id\"] !== undefined) {\n",
       "      var bk_div = document.createElement(\"div\");\n",
       "      bk_div.innerHTML = output.data[HTML_MIME_TYPE];\n",
       "      var script_attrs = bk_div.children[0].attributes;\n",
       "      for (var i = 0; i < script_attrs.length; i++) {\n",
       "        toinsert[toinsert.length - 1].firstChild.setAttribute(script_attrs[i].name, script_attrs[i].value);\n",
       "        toinsert[toinsert.length - 1].firstChild.textContent = bk_div.children[0].textContent\n",
       "      }\n",
       "      // store reference to server id on output_area\n",
       "      output_area._bokeh_server_id = output.metadata[EXEC_MIME_TYPE][\"server_id\"];\n",
       "    }\n",
       "  }\n",
       "\n",
       "  function register_renderer(events, OutputArea) {\n",
       "\n",
       "    function append_mime(data, metadata, element) {\n",
       "      // create a DOM node to render to\n",
       "      var toinsert = this.create_output_subarea(\n",
       "        metadata,\n",
       "        CLASS_NAME,\n",
       "        EXEC_MIME_TYPE\n",
       "      );\n",
       "      this.keyboard_manager.register_events(toinsert);\n",
       "      // Render to node\n",
       "      var props = {data: data, metadata: metadata[EXEC_MIME_TYPE]};\n",
       "      render(props, toinsert[toinsert.length - 1]);\n",
       "      element.append(toinsert);\n",
       "      return toinsert\n",
       "    }\n",
       "\n",
       "    /* Handle when an output is cleared or removed */\n",
       "    events.on('clear_output.CodeCell', handleClearOutput);\n",
       "    events.on('delete.Cell', handleClearOutput);\n",
       "\n",
       "    /* Handle when a new output is added */\n",
       "    events.on('output_added.OutputArea', handleAddOutput);\n",
       "\n",
       "    /**\n",
       "     * Register the mime type and append_mime function with output_area\n",
       "     */\n",
       "    OutputArea.prototype.register_mime_type(EXEC_MIME_TYPE, append_mime, {\n",
       "      /* Is output safe? */\n",
       "      safe: true,\n",
       "      /* Index of renderer in `output_area.display_order` */\n",
       "      index: 0\n",
       "    });\n",
       "  }\n",
       "\n",
       "  // register the mime type if in Jupyter Notebook environment and previously unregistered\n",
       "  if (root.Jupyter !== undefined) {\n",
       "    var events = require('base/js/events');\n",
       "    var OutputArea = require('notebook/js/outputarea').OutputArea;\n",
       "\n",
       "    if (OutputArea.prototype.mime_types().indexOf(EXEC_MIME_TYPE) == -1) {\n",
       "      register_renderer(events, OutputArea);\n",
       "    }\n",
       "  }\n",
       "\n",
       "  \n",
       "  if (typeof (root._bokeh_timeout) === \"undefined\" || force === true) {\n",
       "    root._bokeh_timeout = Date.now() + 5000;\n",
       "    root._bokeh_failed_load = false;\n",
       "  }\n",
       "\n",
       "  var NB_LOAD_WARNING = {'data': {'text/html':\n",
       "     \"<div style='background-color: #fdd'>\\n\"+\n",
       "     \"<p>\\n\"+\n",
       "     \"BokehJS does not appear to have successfully loaded. If loading BokehJS from CDN, this \\n\"+\n",
       "     \"may be due to a slow or bad network connection. Possible fixes:\\n\"+\n",
       "     \"</p>\\n\"+\n",
       "     \"<ul>\\n\"+\n",
       "     \"<li>re-rerun `output_notebook()` to attempt to load from CDN again, or</li>\\n\"+\n",
       "     \"<li>use INLINE resources instead, as so:</li>\\n\"+\n",
       "     \"</ul>\\n\"+\n",
       "     \"<code>\\n\"+\n",
       "     \"from bokeh.resources import INLINE\\n\"+\n",
       "     \"output_notebook(resources=INLINE)\\n\"+\n",
       "     \"</code>\\n\"+\n",
       "     \"</div>\"}};\n",
       "\n",
       "  function display_loaded() {\n",
       "    var el = document.getElementById(\"1001\");\n",
       "    if (el != null) {\n",
       "      el.textContent = \"BokehJS is loading...\";\n",
       "    }\n",
       "    if (root.Bokeh !== undefined) {\n",
       "      if (el != null) {\n",
       "        el.textContent = \"BokehJS \" + root.Bokeh.version + \" successfully loaded.\";\n",
       "      }\n",
       "    } else if (Date.now() < root._bokeh_timeout) {\n",
       "      setTimeout(display_loaded, 100)\n",
       "    }\n",
       "  }\n",
       "\n",
       "\n",
       "  function run_callbacks() {\n",
       "    try {\n",
       "      root._bokeh_onload_callbacks.forEach(function(callback) {\n",
       "        if (callback != null)\n",
       "          callback();\n",
       "      });\n",
       "    } finally {\n",
       "      delete root._bokeh_onload_callbacks\n",
       "    }\n",
       "    console.debug(\"Bokeh: all callbacks have finished\");\n",
       "  }\n",
       "\n",
       "  function load_libs(css_urls, js_urls, callback) {\n",
       "    if (css_urls == null) css_urls = [];\n",
       "    if (js_urls == null) js_urls = [];\n",
       "\n",
       "    root._bokeh_onload_callbacks.push(callback);\n",
       "    if (root._bokeh_is_loading > 0) {\n",
       "      console.debug(\"Bokeh: BokehJS is being loaded, scheduling callback at\", now());\n",
       "      return null;\n",
       "    }\n",
       "    if (js_urls == null || js_urls.length === 0) {\n",
       "      run_callbacks();\n",
       "      return null;\n",
       "    }\n",
       "    console.debug(\"Bokeh: BokehJS not loaded, scheduling load and callback at\", now());\n",
       "    root._bokeh_is_loading = css_urls.length + js_urls.length;\n",
       "\n",
       "    function on_load() {\n",
       "      root._bokeh_is_loading--;\n",
       "      if (root._bokeh_is_loading === 0) {\n",
       "        console.debug(\"Bokeh: all BokehJS libraries/stylesheets loaded\");\n",
       "        run_callbacks()\n",
       "      }\n",
       "    }\n",
       "\n",
       "    function on_error() {\n",
       "      console.error(\"failed to load \" + url);\n",
       "    }\n",
       "\n",
       "    for (var i = 0; i < css_urls.length; i++) {\n",
       "      var url = css_urls[i];\n",
       "      const element = document.createElement(\"link\");\n",
       "      element.onload = on_load;\n",
       "      element.onerror = on_error;\n",
       "      element.rel = \"stylesheet\";\n",
       "      element.type = \"text/css\";\n",
       "      element.href = url;\n",
       "      console.debug(\"Bokeh: injecting link tag for BokehJS stylesheet: \", url);\n",
       "      document.body.appendChild(element);\n",
       "    }\n",
       "\n",
       "    for (var i = 0; i < js_urls.length; i++) {\n",
       "      var url = js_urls[i];\n",
       "      var element = document.createElement('script');\n",
       "      element.onload = on_load;\n",
       "      element.onerror = on_error;\n",
       "      element.async = false;\n",
       "      element.src = url;\n",
       "      \n",
       "      console.debug(\"Bokeh: injecting script tag for BokehJS library: \", url);\n",
       "      document.head.appendChild(element);\n",
       "    }\n",
       "  };var element = document.getElementById(\"1001\");\n",
       "  if (element == null) {\n",
       "    console.error(\"Bokeh: ERROR: autoload.js configured with elementid '1001' but no matching script tag was found. \")\n",
       "    return false;\n",
       "  }\n",
       "\n",
       "  function inject_raw_css(css) {\n",
       "    const element = document.createElement(\"style\");\n",
       "    element.appendChild(document.createTextNode(css));\n",
       "    document.body.appendChild(element);\n",
       "  }\n",
       "\n",
       "  \n",
       "  var js_urls = [\"https://cdn.bokeh.org/bokeh/release/bokeh-2.0.0.min.js\", \"https://cdn.bokeh.org/bokeh/release/bokeh-widgets-2.0.0.min.js\", \"https://cdn.bokeh.org/bokeh/release/bokeh-tables-2.0.0.min.js\", \"https://cdn.bokeh.org/bokeh/release/bokeh-gl-2.0.0.min.js\"];\n",
       "  var css_urls = [];\n",
       "  \n",
       "\n",
       "  var inline_js = [\n",
       "    function(Bokeh) {\n",
       "      Bokeh.set_log_level(\"info\");\n",
       "    },\n",
       "    function(Bokeh) {\n",
       "    \n",
       "    \n",
       "    }\n",
       "  ];\n",
       "\n",
       "  function run_inline_js() {\n",
       "    \n",
       "    if (root.Bokeh !== undefined || force === true) {\n",
       "      \n",
       "    for (var i = 0; i < inline_js.length; i++) {\n",
       "      inline_js[i].call(root, root.Bokeh);\n",
       "    }\n",
       "    if (force === true) {\n",
       "        display_loaded();\n",
       "      }} else if (Date.now() < root._bokeh_timeout) {\n",
       "      setTimeout(run_inline_js, 100);\n",
       "    } else if (!root._bokeh_failed_load) {\n",
       "      console.log(\"Bokeh: BokehJS failed to load within specified timeout.\");\n",
       "      root._bokeh_failed_load = true;\n",
       "    } else if (force !== true) {\n",
       "      var cell = $(document.getElementById(\"1001\")).parents('.cell').data().cell;\n",
       "      cell.output_area.append_execute_result(NB_LOAD_WARNING)\n",
       "    }\n",
       "\n",
       "  }\n",
       "\n",
       "  if (root._bokeh_is_loading === 0) {\n",
       "    console.debug(\"Bokeh: BokehJS loaded, going straight to plotting\");\n",
       "    run_inline_js();\n",
       "  } else {\n",
       "    load_libs(css_urls, js_urls, function() {\n",
       "      console.debug(\"Bokeh: BokehJS plotting callback run at\", now());\n",
       "      run_inline_js();\n",
       "    });\n",
       "  }\n",
       "}(window));"
      ],
      "application/vnd.bokehjs_load.v0+json": "\n(function(root) {\n  function now() {\n    return new Date();\n  }\n\n  var force = true;\n\n  if (typeof root._bokeh_onload_callbacks === \"undefined\" || force === true) {\n    root._bokeh_onload_callbacks = [];\n    root._bokeh_is_loading = undefined;\n  }\n\n  \n\n  \n  if (typeof (root._bokeh_timeout) === \"undefined\" || force === true) {\n    root._bokeh_timeout = Date.now() + 5000;\n    root._bokeh_failed_load = false;\n  }\n\n  var NB_LOAD_WARNING = {'data': {'text/html':\n     \"<div style='background-color: #fdd'>\\n\"+\n     \"<p>\\n\"+\n     \"BokehJS does not appear to have successfully loaded. If loading BokehJS from CDN, this \\n\"+\n     \"may be due to a slow or bad network connection. Possible fixes:\\n\"+\n     \"</p>\\n\"+\n     \"<ul>\\n\"+\n     \"<li>re-rerun `output_notebook()` to attempt to load from CDN again, or</li>\\n\"+\n     \"<li>use INLINE resources instead, as so:</li>\\n\"+\n     \"</ul>\\n\"+\n     \"<code>\\n\"+\n     \"from bokeh.resources import INLINE\\n\"+\n     \"output_notebook(resources=INLINE)\\n\"+\n     \"</code>\\n\"+\n     \"</div>\"}};\n\n  function display_loaded() {\n    var el = document.getElementById(\"1001\");\n    if (el != null) {\n      el.textContent = \"BokehJS is loading...\";\n    }\n    if (root.Bokeh !== undefined) {\n      if (el != null) {\n        el.textContent = \"BokehJS \" + root.Bokeh.version + \" successfully loaded.\";\n      }\n    } else if (Date.now() < root._bokeh_timeout) {\n      setTimeout(display_loaded, 100)\n    }\n  }\n\n\n  function run_callbacks() {\n    try {\n      root._bokeh_onload_callbacks.forEach(function(callback) {\n        if (callback != null)\n          callback();\n      });\n    } finally {\n      delete root._bokeh_onload_callbacks\n    }\n    console.debug(\"Bokeh: all callbacks have finished\");\n  }\n\n  function load_libs(css_urls, js_urls, callback) {\n    if (css_urls == null) css_urls = [];\n    if (js_urls == null) js_urls = [];\n\n    root._bokeh_onload_callbacks.push(callback);\n    if (root._bokeh_is_loading > 0) {\n      console.debug(\"Bokeh: BokehJS is being loaded, scheduling callback at\", now());\n      return null;\n    }\n    if (js_urls == null || js_urls.length === 0) {\n      run_callbacks();\n      return null;\n    }\n    console.debug(\"Bokeh: BokehJS not loaded, scheduling load and callback at\", now());\n    root._bokeh_is_loading = css_urls.length + js_urls.length;\n\n    function on_load() {\n      root._bokeh_is_loading--;\n      if (root._bokeh_is_loading === 0) {\n        console.debug(\"Bokeh: all BokehJS libraries/stylesheets loaded\");\n        run_callbacks()\n      }\n    }\n\n    function on_error() {\n      console.error(\"failed to load \" + url);\n    }\n\n    for (var i = 0; i < css_urls.length; i++) {\n      var url = css_urls[i];\n      const element = document.createElement(\"link\");\n      element.onload = on_load;\n      element.onerror = on_error;\n      element.rel = \"stylesheet\";\n      element.type = \"text/css\";\n      element.href = url;\n      console.debug(\"Bokeh: injecting link tag for BokehJS stylesheet: \", url);\n      document.body.appendChild(element);\n    }\n\n    for (var i = 0; i < js_urls.length; i++) {\n      var url = js_urls[i];\n      var element = document.createElement('script');\n      element.onload = on_load;\n      element.onerror = on_error;\n      element.async = false;\n      element.src = url;\n      \n      console.debug(\"Bokeh: injecting script tag for BokehJS library: \", url);\n      document.head.appendChild(element);\n    }\n  };var element = document.getElementById(\"1001\");\n  if (element == null) {\n    console.error(\"Bokeh: ERROR: autoload.js configured with elementid '1001' but no matching script tag was found. \")\n    return false;\n  }\n\n  function inject_raw_css(css) {\n    const element = document.createElement(\"style\");\n    element.appendChild(document.createTextNode(css));\n    document.body.appendChild(element);\n  }\n\n  \n  var js_urls = [\"https://cdn.bokeh.org/bokeh/release/bokeh-2.0.0.min.js\", \"https://cdn.bokeh.org/bokeh/release/bokeh-widgets-2.0.0.min.js\", \"https://cdn.bokeh.org/bokeh/release/bokeh-tables-2.0.0.min.js\", \"https://cdn.bokeh.org/bokeh/release/bokeh-gl-2.0.0.min.js\"];\n  var css_urls = [];\n  \n\n  var inline_js = [\n    function(Bokeh) {\n      Bokeh.set_log_level(\"info\");\n    },\n    function(Bokeh) {\n    \n    \n    }\n  ];\n\n  function run_inline_js() {\n    \n    if (root.Bokeh !== undefined || force === true) {\n      \n    for (var i = 0; i < inline_js.length; i++) {\n      inline_js[i].call(root, root.Bokeh);\n    }\n    if (force === true) {\n        display_loaded();\n      }} else if (Date.now() < root._bokeh_timeout) {\n      setTimeout(run_inline_js, 100);\n    } else if (!root._bokeh_failed_load) {\n      console.log(\"Bokeh: BokehJS failed to load within specified timeout.\");\n      root._bokeh_failed_load = true;\n    } else if (force !== true) {\n      var cell = $(document.getElementById(\"1001\")).parents('.cell').data().cell;\n      cell.output_area.append_execute_result(NB_LOAD_WARNING)\n    }\n\n  }\n\n  if (root._bokeh_is_loading === 0) {\n    console.debug(\"Bokeh: BokehJS loaded, going straight to plotting\");\n    run_inline_js();\n  } else {\n    load_libs(css_urls, js_urls, function() {\n      console.debug(\"Bokeh: BokehJS plotting callback run at\", now());\n      run_inline_js();\n    });\n  }\n}(window));"
     },
     "metadata": {},
     "output_type": "display_data"
    }
   ],
   "source": [
    "from bokeh.io import output_notebook, show\n",
    "from bokeh.plotting import figure\n",
    "output_notebook()"
   ]
  },
  {
   "cell_type": "markdown",
   "metadata": {},
   "source": [
    "Now that we know from the previous chapter how multiple plots can be placed together in a layout, we can start to look at how different plots can be linked togeher, or how plots can be linked to widgets. "
   ]
  },
  {
   "cell_type": "markdown",
   "metadata": {},
   "source": [
    "# Linked Interactions\n",
    "\n",
    "It is possible to link various interactions between different Bokeh plots. For instance, the ranges of two (or more) plots can be linked, so that when one of the plots is panned (or zoomed, or otherwise has its range changed) the other plots will update in unison. It is also possible to link selections between two plots, so that when items are selected on one plot, the corresponding items on the second plot also become selected. "
   ]
  },
  {
   "cell_type": "markdown",
   "metadata": {},
   "source": [
    "## Linked panning\n",
    "\n",
    "Linked panning (when multiple plots have ranges that stay in sync) is simple to spell with Bokeh. You simply share the appropriate range objects between two (or more) plots. The example below shows how to accomplish this by linking the ranges of three plots in various ways:"
   ]
  },
  {
   "cell_type": "code",
   "execution_count": 2,
   "metadata": {},
   "outputs": [
    {
     "data": {
      "text/html": [
       "\n",
       "\n",
       "\n",
       "\n",
       "\n",
       "\n",
       "  <div class=\"bk-root\" id=\"da6f08ae-674b-4d0b-8c45-3b1fae98cd77\" data-root-id=\"1110\"></div>\n"
      ]
     },
     "metadata": {},
     "output_type": "display_data"
    },
    {
     "data": {
      "application/javascript": [
       "(function(root) {\n",
       "  function embed_document(root) {\n",
       "    \n",
       "  var docs_json = {\"433f7c04-4817-4c1a-a5b4-15589788e94e\":{\"roots\":{\"references\":[{\"attributes\":{\"children\":[{\"id\":\"1109\"},{\"id\":\"1107\"}]},\"id\":\"1110\",\"type\":\"Column\"},{\"attributes\":{\"formatter\":{\"id\":\"1085\"},\"ticker\":{\"id\":\"1012\"}},\"id\":\"1011\",\"type\":\"LinearAxis\"},{\"attributes\":{\"formatter\":{\"id\":\"1103\"},\"ticker\":{\"id\":\"1063\"}},\"id\":\"1062\",\"type\":\"LinearAxis\"},{\"attributes\":{\"formatter\":{\"id\":\"1094\"},\"ticker\":{\"id\":\"1037\"}},\"id\":\"1036\",\"type\":\"LinearAxis\"},{\"attributes\":{},\"id\":\"1012\",\"type\":\"BasicTicker\"},{\"attributes\":{},\"id\":\"1086\",\"type\":\"UnionRenderers\"},{\"attributes\":{},\"id\":\"1063\",\"type\":\"BasicTicker\"},{\"attributes\":{},\"id\":\"1037\",\"type\":\"BasicTicker\"},{\"attributes\":{\"axis\":{\"id\":\"1011\"},\"ticker\":null},\"id\":\"1014\",\"type\":\"Grid\"},{\"attributes\":{},\"id\":\"1087\",\"type\":\"Selection\"},{\"attributes\":{\"axis\":{\"id\":\"1062\"},\"ticker\":null},\"id\":\"1065\",\"type\":\"Grid\"},{\"attributes\":{\"text\":\"\"},\"id\":\"1089\",\"type\":\"Title\"},{\"attributes\":{\"formatter\":{\"id\":\"1083\"},\"ticker\":{\"id\":\"1016\"}},\"id\":\"1015\",\"type\":\"LinearAxis\"},{\"attributes\":{\"axis\":{\"id\":\"1036\"},\"ticker\":null},\"id\":\"1039\",\"type\":\"Grid\"},{\"attributes\":{},\"id\":\"1085\",\"type\":\"BasicTickFormatter\"},{\"attributes\":{\"formatter\":{\"id\":\"1101\"},\"ticker\":{\"id\":\"1067\"}},\"id\":\"1066\",\"type\":\"LinearAxis\"},{\"attributes\":{\"formatter\":{\"id\":\"1092\"},\"ticker\":{\"id\":\"1041\"}},\"id\":\"1040\",\"type\":\"LinearAxis\"},{\"attributes\":{},\"id\":\"1016\",\"type\":\"BasicTicker\"},{\"attributes\":{},\"id\":\"1092\",\"type\":\"BasicTickFormatter\"},{\"attributes\":{},\"id\":\"1067\",\"type\":\"BasicTicker\"},{\"attributes\":{},\"id\":\"1041\",\"type\":\"BasicTicker\"},{\"attributes\":{\"axis\":{\"id\":\"1015\"},\"dimension\":1,\"ticker\":null},\"id\":\"1018\",\"type\":\"Grid\"},{\"attributes\":{},\"id\":\"1094\",\"type\":\"BasicTickFormatter\"},{\"attributes\":{\"axis\":{\"id\":\"1066\"},\"dimension\":1,\"ticker\":null},\"id\":\"1069\",\"type\":\"Grid\"},{\"attributes\":{\"axis\":{\"id\":\"1040\"},\"dimension\":1,\"ticker\":null},\"id\":\"1043\",\"type\":\"Grid\"},{\"attributes\":{},\"id\":\"1020\",\"type\":\"WheelZoomTool\"},{\"attributes\":{\"fill_color\":{\"value\":\"navy\"},\"line_color\":{\"value\":\"navy\"},\"size\":{\"units\":\"screen\",\"value\":10},\"x\":{\"field\":\"x\"},\"y\":{\"field\":\"y\"}},\"id\":\"1025\",\"type\":\"Circle\"},{\"attributes\":{},\"id\":\"1095\",\"type\":\"UnionRenderers\"},{\"attributes\":{\"active_drag\":\"auto\",\"active_inspect\":\"auto\",\"active_multi\":null,\"active_scroll\":\"auto\",\"active_tap\":\"auto\",\"tools\":[{\"id\":\"1019\"},{\"id\":\"1020\"}]},\"id\":\"1021\",\"type\":\"Toolbar\"},{\"attributes\":{},\"id\":\"1096\",\"type\":\"Selection\"},{\"attributes\":{},\"id\":\"1019\",\"type\":\"PanTool\"},{\"attributes\":{\"active_drag\":\"auto\",\"active_inspect\":\"auto\",\"active_multi\":null,\"active_scroll\":\"auto\",\"active_tap\":\"auto\",\"tools\":[{\"id\":\"1070\"},{\"id\":\"1071\"}]},\"id\":\"1072\",\"type\":\"Toolbar\"},{\"attributes\":{\"active_drag\":\"auto\",\"active_inspect\":\"auto\",\"active_multi\":null,\"active_scroll\":\"auto\",\"active_tap\":\"auto\",\"tools\":[{\"id\":\"1044\"},{\"id\":\"1045\"}]},\"id\":\"1046\",\"type\":\"Toolbar\"},{\"attributes\":{},\"id\":\"1070\",\"type\":\"PanTool\"},{\"attributes\":{},\"id\":\"1044\",\"type\":\"PanTool\"},{\"attributes\":{\"text\":\"\"},\"id\":\"1098\",\"type\":\"Title\"},{\"attributes\":{},\"id\":\"1071\",\"type\":\"WheelZoomTool\"},{\"attributes\":{},\"id\":\"1045\",\"type\":\"WheelZoomTool\"},{\"attributes\":{},\"id\":\"1101\",\"type\":\"BasicTickFormatter\"},{\"attributes\":{\"below\":[{\"id\":\"1036\"}],\"center\":[{\"id\":\"1039\"},{\"id\":\"1043\"}],\"left\":[{\"id\":\"1040\"}],\"plot_height\":250,\"plot_width\":250,\"renderers\":[{\"id\":\"1052\"}],\"title\":{\"id\":\"1089\"},\"toolbar\":{\"id\":\"1046\"},\"toolbar_location\":null,\"x_range\":{\"id\":\"1003\"},\"x_scale\":{\"id\":\"1032\"},\"y_range\":{\"id\":\"1005\"},\"y_scale\":{\"id\":\"1034\"}},\"id\":\"1029\",\"subtype\":\"Figure\",\"type\":\"Plot\"},{\"attributes\":{},\"id\":\"1103\",\"type\":\"BasicTickFormatter\"},{\"attributes\":{\"children\":[[{\"id\":\"1002\"},0,0],[{\"id\":\"1029\"},0,1],[{\"id\":\"1054\"},0,2]]},\"id\":\"1107\",\"type\":\"GridBox\"},{\"attributes\":{\"text\":\"\"},\"id\":\"1080\",\"type\":\"Title\"},{\"attributes\":{},\"id\":\"1056\",\"type\":\"DataRange1d\"},{\"attributes\":{\"fill_alpha\":{\"value\":0.1},\"fill_color\":{\"value\":\"olive\"},\"line_alpha\":{\"value\":0.1},\"line_color\":{\"value\":\"olive\"},\"size\":{\"units\":\"screen\",\"value\":10},\"x\":{\"field\":\"x\"},\"y\":{\"field\":\"y\"}},\"id\":\"1077\",\"type\":\"Square\"},{\"attributes\":{},\"id\":\"1104\",\"type\":\"UnionRenderers\"},{\"attributes\":{\"fill_alpha\":{\"value\":0.1},\"fill_color\":{\"value\":\"firebrick\"},\"line_alpha\":{\"value\":0.1},\"line_color\":{\"value\":\"firebrick\"},\"size\":{\"units\":\"screen\",\"value\":10},\"x\":{\"field\":\"x\"},\"y\":{\"field\":\"y\"}},\"id\":\"1051\",\"type\":\"Triangle\"},{\"attributes\":{\"data\":{\"x\":[0,1,2,3,4,5,6,7,8,9,10],\"y\":[10,9,8,7,6,5,4,3,2,1,0]},\"selected\":{\"id\":\"1096\"},\"selection_policy\":{\"id\":\"1095\"}},\"id\":\"1049\",\"type\":\"ColumnDataSource\"},{\"attributes\":{},\"id\":\"1105\",\"type\":\"Selection\"},{\"attributes\":{\"source\":{\"id\":\"1024\"}},\"id\":\"1028\",\"type\":\"CDSView\"},{\"attributes\":{\"below\":[{\"id\":\"1011\"}],\"center\":[{\"id\":\"1014\"},{\"id\":\"1018\"}],\"left\":[{\"id\":\"1015\"}],\"plot_height\":250,\"plot_width\":250,\"renderers\":[{\"id\":\"1027\"}],\"title\":{\"id\":\"1080\"},\"toolbar\":{\"id\":\"1021\"},\"toolbar_location\":null,\"x_range\":{\"id\":\"1003\"},\"x_scale\":{\"id\":\"1007\"},\"y_range\":{\"id\":\"1005\"},\"y_scale\":{\"id\":\"1009\"}},\"id\":\"1002\",\"subtype\":\"Figure\",\"type\":\"Plot\"},{\"attributes\":{\"data\":{\"x\":[0,1,2,3,4,5,6,7,8,9,10],\"y\":[5,4,3,2,1,0,1,2,3,4,5]},\"selected\":{\"id\":\"1105\"},\"selection_policy\":{\"id\":\"1104\"}},\"id\":\"1075\",\"type\":\"ColumnDataSource\"},{\"attributes\":{\"toolbars\":[{\"id\":\"1021\"},{\"id\":\"1046\"},{\"id\":\"1072\"}],\"tools\":[{\"id\":\"1019\"},{\"id\":\"1020\"},{\"id\":\"1044\"},{\"id\":\"1045\"},{\"id\":\"1070\"},{\"id\":\"1071\"}]},\"id\":\"1108\",\"type\":\"ProxyToolbar\"},{\"attributes\":{\"fill_color\":{\"value\":\"olive\"},\"line_color\":{\"value\":\"olive\"},\"size\":{\"units\":\"screen\",\"value\":10},\"x\":{\"field\":\"x\"},\"y\":{\"field\":\"y\"}},\"id\":\"1076\",\"type\":\"Square\"},{\"attributes\":{\"fill_color\":{\"value\":\"firebrick\"},\"line_color\":{\"value\":\"firebrick\"},\"size\":{\"units\":\"screen\",\"value\":10},\"x\":{\"field\":\"x\"},\"y\":{\"field\":\"y\"}},\"id\":\"1050\",\"type\":\"Triangle\"},{\"attributes\":{\"data_source\":{\"id\":\"1075\"},\"glyph\":{\"id\":\"1076\"},\"hover_glyph\":null,\"muted_glyph\":null,\"nonselection_glyph\":{\"id\":\"1077\"},\"selection_glyph\":null,\"view\":{\"id\":\"1079\"}},\"id\":\"1078\",\"type\":\"GlyphRenderer\"},{\"attributes\":{\"toolbar\":{\"id\":\"1108\"},\"toolbar_location\":\"above\"},\"id\":\"1109\",\"type\":\"ToolbarBox\"},{\"attributes\":{\"data_source\":{\"id\":\"1049\"},\"glyph\":{\"id\":\"1050\"},\"hover_glyph\":null,\"muted_glyph\":null,\"nonselection_glyph\":{\"id\":\"1051\"},\"selection_glyph\":null,\"view\":{\"id\":\"1053\"}},\"id\":\"1052\",\"type\":\"GlyphRenderer\"},{\"attributes\":{},\"id\":\"1003\",\"type\":\"DataRange1d\"},{\"attributes\":{\"data_source\":{\"id\":\"1024\"},\"glyph\":{\"id\":\"1025\"},\"hover_glyph\":null,\"muted_glyph\":null,\"nonselection_glyph\":{\"id\":\"1026\"},\"selection_glyph\":null,\"view\":{\"id\":\"1028\"}},\"id\":\"1027\",\"type\":\"GlyphRenderer\"},{\"attributes\":{},\"id\":\"1005\",\"type\":\"DataRange1d\"},{\"attributes\":{},\"id\":\"1032\",\"type\":\"LinearScale\"},{\"attributes\":{\"data\":{\"x\":[0,1,2,3,4,5,6,7,8,9,10],\"y\":[0,1,2,3,4,5,6,7,8,9,10]},\"selected\":{\"id\":\"1087\"},\"selection_policy\":{\"id\":\"1086\"}},\"id\":\"1024\",\"type\":\"ColumnDataSource\"},{\"attributes\":{\"source\":{\"id\":\"1049\"}},\"id\":\"1053\",\"type\":\"CDSView\"},{\"attributes\":{\"fill_alpha\":{\"value\":0.1},\"fill_color\":{\"value\":\"navy\"},\"line_alpha\":{\"value\":0.1},\"line_color\":{\"value\":\"navy\"},\"size\":{\"units\":\"screen\",\"value\":10},\"x\":{\"field\":\"x\"},\"y\":{\"field\":\"y\"}},\"id\":\"1026\",\"type\":\"Circle\"},{\"attributes\":{\"source\":{\"id\":\"1075\"}},\"id\":\"1079\",\"type\":\"CDSView\"},{\"attributes\":{\"below\":[{\"id\":\"1062\"}],\"center\":[{\"id\":\"1065\"},{\"id\":\"1069\"}],\"left\":[{\"id\":\"1066\"}],\"plot_height\":250,\"plot_width\":250,\"renderers\":[{\"id\":\"1078\"}],\"title\":{\"id\":\"1098\"},\"toolbar\":{\"id\":\"1072\"},\"toolbar_location\":null,\"x_range\":{\"id\":\"1003\"},\"x_scale\":{\"id\":\"1058\"},\"y_range\":{\"id\":\"1056\"},\"y_scale\":{\"id\":\"1060\"}},\"id\":\"1054\",\"subtype\":\"Figure\",\"type\":\"Plot\"},{\"attributes\":{},\"id\":\"1007\",\"type\":\"LinearScale\"},{\"attributes\":{},\"id\":\"1083\",\"type\":\"BasicTickFormatter\"},{\"attributes\":{},\"id\":\"1058\",\"type\":\"LinearScale\"},{\"attributes\":{},\"id\":\"1009\",\"type\":\"LinearScale\"},{\"attributes\":{},\"id\":\"1034\",\"type\":\"LinearScale\"},{\"attributes\":{},\"id\":\"1060\",\"type\":\"LinearScale\"}],\"root_ids\":[\"1110\"]},\"title\":\"Bokeh Application\",\"version\":\"2.0.0\"}};\n",
       "  var render_items = [{\"docid\":\"433f7c04-4817-4c1a-a5b4-15589788e94e\",\"root_ids\":[\"1110\"],\"roots\":{\"1110\":\"da6f08ae-674b-4d0b-8c45-3b1fae98cd77\"}}];\n",
       "  root.Bokeh.embed.embed_items_notebook(docs_json, render_items);\n",
       "\n",
       "  }\n",
       "  if (root.Bokeh !== undefined) {\n",
       "    embed_document(root);\n",
       "  } else {\n",
       "    var attempts = 0;\n",
       "    var timer = setInterval(function(root) {\n",
       "      if (root.Bokeh !== undefined) {\n",
       "        clearInterval(timer);\n",
       "        embed_document(root);\n",
       "      } else {\n",
       "        attempts++;\n",
       "        if (attempts > 100) {\n",
       "          clearInterval(timer);\n",
       "          console.log(\"Bokeh: ERROR: Unable to run BokehJS code because BokehJS library is missing\");\n",
       "        }\n",
       "      }\n",
       "    }, 10, root)\n",
       "  }\n",
       "})(window);"
      ],
      "application/vnd.bokehjs_exec.v0+json": ""
     },
     "metadata": {
      "application/vnd.bokehjs_exec.v0+json": {
       "id": "1110"
      }
     },
     "output_type": "display_data"
    }
   ],
   "source": [
    "from bokeh.layouts import gridplot\n",
    "\n",
    "x = list(range(11))\n",
    "y0, y1, y2 = x, [10-i for i in x], [abs(i-5) for i in x]\n",
    "\n",
    "plot_options = dict(width=250, plot_height=250, tools='pan,wheel_zoom')\n",
    "\n",
    "# create a new plot\n",
    "s1 = figure(**plot_options)\n",
    "s1.circle(x, y0, size=10, color=\"navy\")\n",
    "\n",
    "# create a new plot and share both ranges\n",
    "s2 = figure(x_range=s1.x_range, y_range=s1.y_range, **plot_options)\n",
    "s2.triangle(x, y1, size=10, color=\"firebrick\")\n",
    "\n",
    "# create a new plot and share only one range\n",
    "s3 = figure(x_range=s1.x_range, **plot_options)\n",
    "s3.square(x, y2, size=10, color=\"olive\")\n",
    "\n",
    "p = gridplot([[s1, s2, s3]])\n",
    "\n",
    "# show the results\n",
    "show(p)"
   ]
  },
  {
   "cell_type": "code",
   "execution_count": 3,
   "metadata": {},
   "outputs": [],
   "source": [
    "# EXERCISE: create two plots in a gridplot, and link their ranges\n"
   ]
  },
  {
   "cell_type": "markdown",
   "metadata": {},
   "source": [
    "## Linked brushing\n",
    "\n",
    "Linking selections is accomplished in a similar way, by sharing data sources between plots. Note that normally with ``bokeh.plotting`` and ``bokeh.charts`` creating a default data source for simple plots is handled automatically. However to share a data source, we must create them by hand and pass them explicitly. This is illustrated in the example below:"
   ]
  },
  {
   "cell_type": "code",
   "execution_count": 6,
   "metadata": {},
   "outputs": [
    {
     "data": {
      "text/html": [
       "\n",
       "\n",
       "\n",
       "\n",
       "\n",
       "\n",
       "  <div class=\"bk-root\" id=\"ab3364a3-e550-4032-9d34-e103937dc349\" data-root-id=\"1600\"></div>\n"
      ]
     },
     "metadata": {},
     "output_type": "display_data"
    },
    {
     "data": {
      "application/javascript": [
       "(function(root) {\n",
       "  function embed_document(root) {\n",
       "    \n",
       "  var docs_json = {\"b24aa532-073e-492e-b75e-bd0839c3273e\":{\"roots\":{\"references\":[{\"attributes\":{\"children\":[{\"id\":\"1599\"},{\"id\":\"1597\"}]},\"id\":\"1600\",\"type\":\"Column\"},{\"attributes\":{},\"id\":\"1518\",\"type\":\"DataRange1d\"},{\"attributes\":{\"source\":{\"id\":\"1516\"}},\"id\":\"1545\",\"type\":\"CDSView\"},{\"attributes\":{\"below\":[{\"id\":\"1526\"}],\"center\":[{\"id\":\"1529\"},{\"id\":\"1533\"}],\"left\":[{\"id\":\"1530\"}],\"plot_height\":300,\"plot_width\":300,\"renderers\":[{\"id\":\"1544\"}],\"title\":{\"id\":\"1575\"},\"toolbar\":{\"id\":\"1537\"},\"toolbar_location\":null,\"x_range\":{\"id\":\"1518\"},\"x_scale\":{\"id\":\"1522\"},\"y_range\":{\"id\":\"1520\"},\"y_scale\":{\"id\":\"1524\"}},\"id\":\"1517\",\"subtype\":\"Figure\",\"type\":\"Plot\"},{\"attributes\":{},\"id\":\"1520\",\"type\":\"DataRange1d\"},{\"attributes\":{\"fill_color\":{\"value\":\"#1f77b4\"},\"line_color\":{\"value\":\"#1f77b4\"},\"x\":{\"field\":\"x\"},\"y\":{\"field\":\"y0\"}},\"id\":\"1542\",\"type\":\"Circle\"},{\"attributes\":{},\"id\":\"1580\",\"type\":\"BasicTickFormatter\"},{\"attributes\":{},\"id\":\"1522\",\"type\":\"LinearScale\"},{\"attributes\":{\"data_source\":{\"id\":\"1516\"},\"glyph\":{\"id\":\"1571\"},\"hover_glyph\":null,\"muted_glyph\":null,\"nonselection_glyph\":{\"id\":\"1572\"},\"selection_glyph\":null,\"view\":{\"id\":\"1574\"}},\"id\":\"1573\",\"type\":\"GlyphRenderer\"},{\"attributes\":{\"fill_color\":{\"value\":\"#1f77b4\"},\"line_color\":{\"value\":\"#1f77b4\"},\"x\":{\"field\":\"x\"},\"y\":{\"field\":\"y1\"}},\"id\":\"1571\",\"type\":\"Circle\"},{\"attributes\":{},\"id\":\"1524\",\"type\":\"LinearScale\"},{\"attributes\":{\"source\":{\"id\":\"1516\"}},\"id\":\"1574\",\"type\":\"CDSView\"},{\"attributes\":{},\"id\":\"1547\",\"type\":\"DataRange1d\"},{\"attributes\":{\"text\":\"\"},\"id\":\"1575\",\"type\":\"Title\"},{\"attributes\":{\"formatter\":{\"id\":\"1580\"},\"ticker\":{\"id\":\"1527\"}},\"id\":\"1526\",\"type\":\"LinearAxis\"},{\"attributes\":{},\"id\":\"1549\",\"type\":\"DataRange1d\"},{\"attributes\":{\"fill_alpha\":{\"value\":0.1},\"fill_color\":{\"value\":\"#1f77b4\"},\"line_alpha\":{\"value\":0.1},\"line_color\":{\"value\":\"#1f77b4\"},\"x\":{\"field\":\"x\"},\"y\":{\"field\":\"y1\"}},\"id\":\"1572\",\"type\":\"Circle\"},{\"attributes\":{},\"id\":\"1527\",\"type\":\"BasicTicker\"},{\"attributes\":{},\"id\":\"1551\",\"type\":\"LinearScale\"},{\"attributes\":{\"axis\":{\"id\":\"1526\"},\"ticker\":null},\"id\":\"1529\",\"type\":\"Grid\"},{\"attributes\":{},\"id\":\"1578\",\"type\":\"BasicTickFormatter\"},{\"attributes\":{},\"id\":\"1553\",\"type\":\"LinearScale\"},{\"attributes\":{\"formatter\":{\"id\":\"1578\"},\"ticker\":{\"id\":\"1531\"}},\"id\":\"1530\",\"type\":\"LinearAxis\"},{\"attributes\":{\"fill_alpha\":0.5,\"fill_color\":\"lightgrey\",\"level\":\"overlay\",\"line_alpha\":1.0,\"line_color\":\"black\",\"line_dash\":[4,4],\"line_width\":2,\"xs_units\":\"screen\",\"ys_units\":\"screen\"},\"id\":\"1582\",\"type\":\"PolyAnnotation\"},{\"attributes\":{\"formatter\":{\"id\":\"1591\"},\"ticker\":{\"id\":\"1556\"}},\"id\":\"1555\",\"type\":\"LinearAxis\"},{\"attributes\":{},\"id\":\"1531\",\"type\":\"BasicTicker\"},{\"attributes\":{},\"id\":\"1583\",\"type\":\"UnionRenderers\"},{\"attributes\":{},\"id\":\"1556\",\"type\":\"BasicTicker\"},{\"attributes\":{\"axis\":{\"id\":\"1530\"},\"dimension\":1,\"ticker\":null},\"id\":\"1533\",\"type\":\"Grid\"},{\"attributes\":{},\"id\":\"1584\",\"type\":\"Selection\"},{\"attributes\":{\"axis\":{\"id\":\"1555\"},\"ticker\":null},\"id\":\"1558\",\"type\":\"Grid\"},{\"attributes\":{\"data_source\":{\"id\":\"1516\"},\"glyph\":{\"id\":\"1542\"},\"hover_glyph\":null,\"muted_glyph\":null,\"nonselection_glyph\":{\"id\":\"1543\"},\"selection_glyph\":null,\"view\":{\"id\":\"1545\"}},\"id\":\"1544\",\"type\":\"GlyphRenderer\"},{\"attributes\":{\"text\":\"\"},\"id\":\"1586\",\"type\":\"Title\"},{\"attributes\":{\"formatter\":{\"id\":\"1589\"},\"ticker\":{\"id\":\"1560\"}},\"id\":\"1559\",\"type\":\"LinearAxis\"},{\"attributes\":{\"active_drag\":\"auto\",\"active_inspect\":\"auto\",\"active_multi\":null,\"active_scroll\":\"auto\",\"active_tap\":\"auto\",\"tools\":[{\"id\":\"1534\"},{\"id\":\"1535\"},{\"id\":\"1536\"}]},\"id\":\"1537\",\"type\":\"Toolbar\"},{\"attributes\":{\"overlay\":{\"id\":\"1581\"}},\"id\":\"1534\",\"type\":\"BoxSelectTool\"},{\"attributes\":{},\"id\":\"1589\",\"type\":\"BasicTickFormatter\"},{\"attributes\":{},\"id\":\"1560\",\"type\":\"BasicTicker\"},{\"attributes\":{\"overlay\":{\"id\":\"1582\"}},\"id\":\"1535\",\"type\":\"LassoSelectTool\"},{\"attributes\":{},\"id\":\"1591\",\"type\":\"BasicTickFormatter\"},{\"attributes\":{\"axis\":{\"id\":\"1559\"},\"dimension\":1,\"ticker\":null},\"id\":\"1562\",\"type\":\"Grid\"},{\"attributes\":{},\"id\":\"1536\",\"type\":\"HelpTool\"},{\"attributes\":{\"bottom_units\":\"screen\",\"fill_alpha\":0.5,\"fill_color\":\"lightgrey\",\"left_units\":\"screen\",\"level\":\"overlay\",\"line_alpha\":1.0,\"line_color\":\"black\",\"line_dash\":[4,4],\"line_width\":2,\"render_mode\":\"css\",\"right_units\":\"screen\",\"top_units\":\"screen\"},\"id\":\"1592\",\"type\":\"BoxAnnotation\"},{\"attributes\":{\"active_drag\":\"auto\",\"active_inspect\":\"auto\",\"active_multi\":null,\"active_scroll\":\"auto\",\"active_tap\":\"auto\",\"tools\":[{\"id\":\"1563\"},{\"id\":\"1564\"},{\"id\":\"1565\"}]},\"id\":\"1566\",\"type\":\"Toolbar\"},{\"attributes\":{\"fill_alpha\":0.5,\"fill_color\":\"lightgrey\",\"level\":\"overlay\",\"line_alpha\":1.0,\"line_color\":\"black\",\"line_dash\":[4,4],\"line_width\":2,\"xs_units\":\"screen\",\"ys_units\":\"screen\"},\"id\":\"1593\",\"type\":\"PolyAnnotation\"},{\"attributes\":{\"overlay\":{\"id\":\"1592\"}},\"id\":\"1563\",\"type\":\"BoxSelectTool\"},{\"attributes\":{\"toolbars\":[{\"id\":\"1537\"},{\"id\":\"1566\"}],\"tools\":[{\"id\":\"1534\"},{\"id\":\"1535\"},{\"id\":\"1536\"},{\"id\":\"1563\"},{\"id\":\"1564\"},{\"id\":\"1565\"}]},\"id\":\"1598\",\"type\":\"ProxyToolbar\"},{\"attributes\":{\"below\":[{\"id\":\"1555\"}],\"center\":[{\"id\":\"1558\"},{\"id\":\"1562\"}],\"left\":[{\"id\":\"1559\"}],\"plot_height\":300,\"plot_width\":300,\"renderers\":[{\"id\":\"1573\"}],\"title\":{\"id\":\"1586\"},\"toolbar\":{\"id\":\"1566\"},\"toolbar_location\":null,\"x_range\":{\"id\":\"1547\"},\"x_scale\":{\"id\":\"1551\"},\"y_range\":{\"id\":\"1549\"},\"y_scale\":{\"id\":\"1553\"}},\"id\":\"1546\",\"subtype\":\"Figure\",\"type\":\"Plot\"},{\"attributes\":{\"overlay\":{\"id\":\"1593\"}},\"id\":\"1564\",\"type\":\"LassoSelectTool\"},{\"attributes\":{\"fill_alpha\":{\"value\":0.1},\"fill_color\":{\"value\":\"#1f77b4\"},\"line_alpha\":{\"value\":0.1},\"line_color\":{\"value\":\"#1f77b4\"},\"x\":{\"field\":\"x\"},\"y\":{\"field\":\"y0\"}},\"id\":\"1543\",\"type\":\"Circle\"},{\"attributes\":{\"bottom_units\":\"screen\",\"fill_alpha\":0.5,\"fill_color\":\"lightgrey\",\"left_units\":\"screen\",\"level\":\"overlay\",\"line_alpha\":1.0,\"line_color\":\"black\",\"line_dash\":[4,4],\"line_width\":2,\"render_mode\":\"css\",\"right_units\":\"screen\",\"top_units\":\"screen\"},\"id\":\"1581\",\"type\":\"BoxAnnotation\"},{\"attributes\":{\"toolbar\":{\"id\":\"1598\"},\"toolbar_location\":\"above\"},\"id\":\"1599\",\"type\":\"ToolbarBox\"},{\"attributes\":{},\"id\":\"1565\",\"type\":\"HelpTool\"},{\"attributes\":{\"children\":[[{\"id\":\"1517\"},0,0],[{\"id\":\"1546\"},0,1]]},\"id\":\"1597\",\"type\":\"GridBox\"},{\"attributes\":{\"data\":{\"x\":[-20,-19,-18,-17,-16,-15,-14,-13,-12,-11,-10,-9,-8,-7,-6,-5,-4,-3,-2,-1,0,1,2,3,4,5,6,7,8,9,10,11,12,13,14,15,16,17,18,19,20],\"y0\":[20,19,18,17,16,15,14,13,12,11,10,9,8,7,6,5,4,3,2,1,0,1,2,3,4,5,6,7,8,9,10,11,12,13,14,15,16,17,18,19,20],\"y1\":[400,361,324,289,256,225,196,169,144,121,100,81,64,49,36,25,16,9,4,1,0,1,4,9,16,25,36,49,64,81,100,121,144,169,196,225,256,289,324,361,400]},\"selected\":{\"id\":\"1584\"},\"selection_policy\":{\"id\":\"1583\"}},\"id\":\"1516\",\"type\":\"ColumnDataSource\"}],\"root_ids\":[\"1600\"]},\"title\":\"Bokeh Application\",\"version\":\"2.0.0\"}};\n",
       "  var render_items = [{\"docid\":\"b24aa532-073e-492e-b75e-bd0839c3273e\",\"root_ids\":[\"1600\"],\"roots\":{\"1600\":\"ab3364a3-e550-4032-9d34-e103937dc349\"}}];\n",
       "  root.Bokeh.embed.embed_items_notebook(docs_json, render_items);\n",
       "\n",
       "  }\n",
       "  if (root.Bokeh !== undefined) {\n",
       "    embed_document(root);\n",
       "  } else {\n",
       "    var attempts = 0;\n",
       "    var timer = setInterval(function(root) {\n",
       "      if (root.Bokeh !== undefined) {\n",
       "        clearInterval(timer);\n",
       "        embed_document(root);\n",
       "      } else {\n",
       "        attempts++;\n",
       "        if (attempts > 100) {\n",
       "          clearInterval(timer);\n",
       "          console.log(\"Bokeh: ERROR: Unable to run BokehJS code because BokehJS library is missing\");\n",
       "        }\n",
       "      }\n",
       "    }, 10, root)\n",
       "  }\n",
       "})(window);"
      ],
      "application/vnd.bokehjs_exec.v0+json": ""
     },
     "metadata": {
      "application/vnd.bokehjs_exec.v0+json": {
       "id": "1600"
      }
     },
     "output_type": "display_data"
    }
   ],
   "source": [
    "from bokeh.models import ColumnDataSource\n",
    "\n",
    "x = list(range(-20, 21))\n",
    "y0, y1 = [abs(xx) for xx in x], [xx**2 for xx in x]\n",
    "\n",
    "# create a column data source for the plots to share\n",
    "source = ColumnDataSource(data=dict(x=x, y0=y0, y1=y1))\n",
    "\n",
    "TOOLS = \"box_select,lasso_select,help\"\n",
    "\n",
    "# create a new plot and add a renderer\n",
    "left = figure(tools=TOOLS, width=300, height=300)\n",
    "left.circle('x', 'y0', source=source)\n",
    "\n",
    "# create another new plot and add a renderer\n",
    "right = figure(tools=TOOLS, width=300, height=300)\n",
    "right.circle('x', 'y1', source=source)\n",
    "\n",
    "p = gridplot([[left, right]])\n",
    "\n",
    "show(p)"
   ]
  },
  {
   "cell_type": "code",
   "execution_count": 7,
   "metadata": {},
   "outputs": [],
   "source": [
    "# EXERCISE: create two plots in a gridplot, and link their data sources\n",
    "\n"
   ]
  },
  {
   "cell_type": "markdown",
   "metadata": {},
   "source": [
    "# Hover Tools\n",
    "\n",
    "Bokeh has a Hover Tool that allows additional information to be displayed in a popup whenever the user hovers over a specific glyph. Basic hover tool configuration amounts to providing a list of ``(name, format)`` tuples. The full details can be found in the User's Guide [here](https://bokeh.pydata.org/en/latest/docs/user_guide/tools.html#hovertool).\n",
    "\n",
    "The example below shows some basic usage of the Hover tool with a circle glyph, using hover information defined in utils.py:"
   ]
  },
  {
   "cell_type": "code",
   "execution_count": 8,
   "metadata": {},
   "outputs": [
    {
     "data": {
      "text/html": [
       "\n",
       "\n",
       "\n",
       "\n",
       "\n",
       "\n",
       "  <div class=\"bk-root\" id=\"4766b366-0983-4152-b17c-c79160573cf0\" data-root-id=\"1773\"></div>\n"
      ]
     },
     "metadata": {},
     "output_type": "display_data"
    },
    {
     "data": {
      "application/javascript": [
       "(function(root) {\n",
       "  function embed_document(root) {\n",
       "    \n",
       "  var docs_json = {\"70b9312f-d4ba-4287-bc1e-9c849e823c8e\":{\"roots\":{\"references\":[{\"attributes\":{\"below\":[{\"id\":\"1784\"}],\"center\":[{\"id\":\"1787\"},{\"id\":\"1791\"}],\"left\":[{\"id\":\"1788\"}],\"plot_height\":300,\"plot_width\":300,\"renderers\":[{\"id\":\"1797\"}],\"title\":{\"id\":\"1774\"},\"toolbar\":{\"id\":\"1792\"},\"x_range\":{\"id\":\"1776\"},\"x_scale\":{\"id\":\"1780\"},\"y_range\":{\"id\":\"1778\"},\"y_scale\":{\"id\":\"1782\"}},\"id\":\"1773\",\"subtype\":\"Figure\",\"type\":\"Plot\"},{\"attributes\":{},\"id\":\"1780\",\"type\":\"LinearScale\"},{\"attributes\":{\"axis\":{\"id\":\"1788\"},\"dimension\":1,\"ticker\":null},\"id\":\"1791\",\"type\":\"Grid\"},{\"attributes\":{\"axis\":{\"id\":\"1784\"},\"ticker\":null},\"id\":\"1787\",\"type\":\"Grid\"},{\"attributes\":{},\"id\":\"1782\",\"type\":\"LinearScale\"},{\"attributes\":{\"formatter\":{\"id\":\"1863\"},\"ticker\":{\"id\":\"1785\"}},\"id\":\"1784\",\"type\":\"LinearAxis\"},{\"attributes\":{},\"id\":\"1789\",\"type\":\"BasicTicker\"},{\"attributes\":{\"formatter\":{\"id\":\"1861\"},\"ticker\":{\"id\":\"1789\"}},\"id\":\"1788\",\"type\":\"LinearAxis\"},{\"attributes\":{\"data\":{\"desc\":[\"A\",\"b\",\"C\",\"d\",\"E\"],\"x\":[1,2,3,4,5],\"y\":[2,5,8,2,7]},\"selected\":{\"id\":\"1865\"},\"selection_policy\":{\"id\":\"1864\"}},\"id\":\"1771\",\"type\":\"ColumnDataSource\"},{\"attributes\":{},\"id\":\"1863\",\"type\":\"BasicTickFormatter\"},{\"attributes\":{},\"id\":\"1861\",\"type\":\"BasicTickFormatter\"},{\"attributes\":{},\"id\":\"1864\",\"type\":\"UnionRenderers\"},{\"attributes\":{\"active_drag\":\"auto\",\"active_inspect\":\"auto\",\"active_multi\":null,\"active_scroll\":\"auto\",\"active_tap\":\"auto\",\"tools\":[{\"id\":\"1772\"}]},\"id\":\"1792\",\"type\":\"Toolbar\"},{\"attributes\":{\"fill_color\":{\"value\":\"#1f77b4\"},\"line_color\":{\"value\":\"#1f77b4\"},\"size\":{\"units\":\"screen\",\"value\":20},\"x\":{\"field\":\"x\"},\"y\":{\"field\":\"y\"}},\"id\":\"1795\",\"type\":\"Circle\"},{\"attributes\":{\"text\":\"Mouse over the dots\"},\"id\":\"1774\",\"type\":\"Title\"},{\"attributes\":{},\"id\":\"1785\",\"type\":\"BasicTicker\"},{\"attributes\":{\"source\":{\"id\":\"1771\"}},\"id\":\"1798\",\"type\":\"CDSView\"},{\"attributes\":{\"callback\":null,\"tooltips\":[[\"index\",\"$index\"],[\"(x,y)\",\"($x, $y)\"],[\"desc\",\"@desc\"]]},\"id\":\"1772\",\"type\":\"HoverTool\"},{\"attributes\":{\"fill_alpha\":{\"value\":0.1},\"fill_color\":{\"value\":\"#1f77b4\"},\"line_alpha\":{\"value\":0.1},\"line_color\":{\"value\":\"#1f77b4\"},\"size\":{\"units\":\"screen\",\"value\":20},\"x\":{\"field\":\"x\"},\"y\":{\"field\":\"y\"}},\"id\":\"1796\",\"type\":\"Circle\"},{\"attributes\":{},\"id\":\"1776\",\"type\":\"DataRange1d\"},{\"attributes\":{\"data_source\":{\"id\":\"1771\"},\"glyph\":{\"id\":\"1795\"},\"hover_glyph\":null,\"muted_glyph\":null,\"nonselection_glyph\":{\"id\":\"1796\"},\"selection_glyph\":null,\"view\":{\"id\":\"1798\"}},\"id\":\"1797\",\"type\":\"GlyphRenderer\"},{\"attributes\":{},\"id\":\"1778\",\"type\":\"DataRange1d\"},{\"attributes\":{},\"id\":\"1865\",\"type\":\"Selection\"}],\"root_ids\":[\"1773\"]},\"title\":\"Bokeh Application\",\"version\":\"2.0.0\"}};\n",
       "  var render_items = [{\"docid\":\"70b9312f-d4ba-4287-bc1e-9c849e823c8e\",\"root_ids\":[\"1773\"],\"roots\":{\"1773\":\"4766b366-0983-4152-b17c-c79160573cf0\"}}];\n",
       "  root.Bokeh.embed.embed_items_notebook(docs_json, render_items);\n",
       "\n",
       "  }\n",
       "  if (root.Bokeh !== undefined) {\n",
       "    embed_document(root);\n",
       "  } else {\n",
       "    var attempts = 0;\n",
       "    var timer = setInterval(function(root) {\n",
       "      if (root.Bokeh !== undefined) {\n",
       "        clearInterval(timer);\n",
       "        embed_document(root);\n",
       "      } else {\n",
       "        attempts++;\n",
       "        if (attempts > 100) {\n",
       "          clearInterval(timer);\n",
       "          console.log(\"Bokeh: ERROR: Unable to run BokehJS code because BokehJS library is missing\");\n",
       "        }\n",
       "      }\n",
       "    }, 10, root)\n",
       "  }\n",
       "})(window);"
      ],
      "application/vnd.bokehjs_exec.v0+json": ""
     },
     "metadata": {
      "application/vnd.bokehjs_exec.v0+json": {
       "id": "1773"
      }
     },
     "output_type": "display_data"
    }
   ],
   "source": [
    "from bokeh.models import HoverTool\n",
    "\n",
    "source = ColumnDataSource(\n",
    "        data=dict(\n",
    "            x=[1, 2, 3, 4, 5],\n",
    "            y=[2, 5, 8, 2, 7],\n",
    "            desc=['A', 'b', 'C', 'd', 'E'],\n",
    "        )\n",
    "    )\n",
    "\n",
    "hover = HoverTool(\n",
    "        tooltips=[\n",
    "            (\"index\", \"$index\"),\n",
    "            (\"(x,y)\", \"($x, $y)\"),\n",
    "            (\"desc\", \"@desc\"),\n",
    "        ]\n",
    "    )\n",
    "\n",
    "p = figure(plot_width=300, plot_height=300, tools=[hover], title=\"Mouse over the dots\")\n",
    "\n",
    "p.circle('x', 'y', size=20, source=source)\n",
    "\n",
    "show(p)"
   ]
  },
  {
   "cell_type": "markdown",
   "metadata": {},
   "source": [
    "# Widgets"
   ]
  },
  {
   "cell_type": "markdown",
   "metadata": {},
   "source": [
    "Bokeh supports direct integration with a small basic widget set. Thse can be used in conjunction with a Bokeh Server, or with ``CustomJS`` models to add more interactive capability to your documents. You can see a complete list, with example code in the [Adding Widgets](https://bokeh.pydata.org/en/latest/docs/user_guide/interaction.html#adding-widgets) section of the User's Guide. \n",
    "\n",
    "\n",
    "\n",
    "*NOTE: In this Tutorial chapter, we will focus on using widgets with JavaScript callbacks. The Tutorial chapter on Bokeh server applications covers using Bokeh widgets with real Python callbacks*\n",
    "\n",
    "\n",
    "\n",
    "\n",
    "To use the widgets, include them in a layout like you would a plot object:"
   ]
  },
  {
   "cell_type": "code",
   "execution_count": 10,
   "metadata": {},
   "outputs": [
    {
     "data": {
      "text/html": [
       "\n",
       "\n",
       "\n",
       "\n",
       "\n",
       "\n",
       "  <div class=\"bk-root\" id=\"0489591d-f5ed-4054-be5a-c2bbb44590c9\" data-root-id=\"1977\"></div>\n"
      ]
     },
     "metadata": {},
     "output_type": "display_data"
    },
    {
     "data": {
      "application/javascript": [
       "(function(root) {\n",
       "  function embed_document(root) {\n",
       "    \n",
       "  var docs_json = {\"8c39fc61-c3a4-4d24-9d37-79a5ee58bbfd\":{\"roots\":{\"references\":[{\"attributes\":{\"end\":10,\"format\":\"0[.]00\",\"start\":0,\"step\":0.1,\"title\":\"foo\",\"value\":1},\"id\":\"1977\",\"type\":\"Slider\"}],\"root_ids\":[\"1977\"]},\"title\":\"Bokeh Application\",\"version\":\"2.0.0\"}};\n",
       "  var render_items = [{\"docid\":\"8c39fc61-c3a4-4d24-9d37-79a5ee58bbfd\",\"root_ids\":[\"1977\"],\"roots\":{\"1977\":\"0489591d-f5ed-4054-be5a-c2bbb44590c9\"}}];\n",
       "  root.Bokeh.embed.embed_items_notebook(docs_json, render_items);\n",
       "\n",
       "  }\n",
       "  if (root.Bokeh !== undefined) {\n",
       "    embed_document(root);\n",
       "  } else {\n",
       "    var attempts = 0;\n",
       "    var timer = setInterval(function(root) {\n",
       "      if (root.Bokeh !== undefined) {\n",
       "        clearInterval(timer);\n",
       "        embed_document(root);\n",
       "      } else {\n",
       "        attempts++;\n",
       "        if (attempts > 100) {\n",
       "          clearInterval(timer);\n",
       "          console.log(\"Bokeh: ERROR: Unable to run BokehJS code because BokehJS library is missing\");\n",
       "        }\n",
       "      }\n",
       "    }, 10, root)\n",
       "  }\n",
       "})(window);"
      ],
      "application/vnd.bokehjs_exec.v0+json": ""
     },
     "metadata": {
      "application/vnd.bokehjs_exec.v0+json": {
       "id": "1977"
      }
     },
     "output_type": "display_data"
    }
   ],
   "source": [
    "from bokeh.models.widgets import Slider\n",
    "\n",
    "\n",
    "slider = Slider(start=0, end=10, value=1, step=.1, title=\"foo\")\n",
    "\n",
    "show(slider)"
   ]
  },
  {
   "cell_type": "code",
   "execution_count": 11,
   "metadata": {},
   "outputs": [],
   "source": [
    "# EXERCISE: create and show a Select widget \n"
   ]
  },
  {
   "cell_type": "markdown",
   "metadata": {},
   "source": [
    "# CustomJS Callbacks\n",
    "\n",
    "In order for a widget to be useful, it needs to be able to perform some action. Using the Bokeh server, it is possible to have widgets trigger real Python code. That possibility will be explored in the Bokeh server chapter of the turorial. Here, we look at how widgets can be configured with `CustomJS` callbacks that execute snippets of JavaScript code. "
   ]
  },
  {
   "cell_type": "code",
   "execution_count": 12,
   "metadata": {},
   "outputs": [
    {
     "data": {
      "text/html": [
       "\n",
       "\n",
       "\n",
       "\n",
       "\n",
       "\n",
       "  <div class=\"bk-root\" id=\"08678e6b-8198-4b4c-9a3c-8d985392eeda\" data-root-id=\"2047\"></div>\n"
      ]
     },
     "metadata": {},
     "output_type": "display_data"
    },
    {
     "data": {
      "application/javascript": [
       "(function(root) {\n",
       "  function embed_document(root) {\n",
       "    \n",
       "  var docs_json = {\"9de770fe-844e-425e-953e-054e60bd8c53\":{\"roots\":{\"references\":[{\"attributes\":{\"below\":[{\"id\":\"2056\"}],\"center\":[{\"id\":\"2059\"},{\"id\":\"2063\"}],\"left\":[{\"id\":\"2060\"}],\"plot_height\":300,\"renderers\":[{\"id\":\"2069\"}],\"title\":{\"id\":\"2138\"},\"toolbar\":{\"id\":\"2064\"},\"x_range\":{\"id\":\"2048\"},\"x_scale\":{\"id\":\"2052\"},\"y_range\":{\"id\":\"2050\"},\"y_scale\":{\"id\":\"2054\"}},\"id\":\"2047\",\"subtype\":\"Figure\",\"type\":\"Plot\"},{\"attributes\":{},\"id\":\"2054\",\"type\":\"LinearScale\"},{\"attributes\":{\"data\":{\"x\":[1,2,3,4,5],\"y\":[2,5,8,2,7]},\"selected\":{\"id\":\"2145\"},\"selection_policy\":{\"id\":\"2144\"}},\"id\":\"2066\",\"type\":\"ColumnDataSource\"},{\"attributes\":{\"formatter\":{\"id\":\"2143\"},\"ticker\":{\"id\":\"2057\"}},\"id\":\"2056\",\"type\":\"LinearAxis\"},{\"attributes\":{},\"id\":\"2057\",\"type\":\"BasicTicker\"},{\"attributes\":{\"axis\":{\"id\":\"2056\"},\"ticker\":null},\"id\":\"2059\",\"type\":\"Grid\"},{\"attributes\":{\"formatter\":{\"id\":\"2141\"},\"ticker\":{\"id\":\"2061\"}},\"id\":\"2060\",\"type\":\"LinearAxis\"},{\"attributes\":{\"callback\":{\"id\":\"2045\"}},\"id\":\"2046\",\"type\":\"TapTool\"},{\"attributes\":{},\"id\":\"2061\",\"type\":\"BasicTicker\"},{\"attributes\":{\"axis\":{\"id\":\"2060\"},\"dimension\":1,\"ticker\":null},\"id\":\"2063\",\"type\":\"Grid\"},{\"attributes\":{\"active_drag\":\"auto\",\"active_inspect\":\"auto\",\"active_multi\":null,\"active_scroll\":\"auto\",\"active_tap\":\"auto\",\"tools\":[{\"id\":\"2046\"}]},\"id\":\"2064\",\"type\":\"Toolbar\"},{\"attributes\":{\"fill_alpha\":{\"value\":0.1},\"fill_color\":{\"value\":\"#1f77b4\"},\"line_alpha\":{\"value\":0.1},\"line_color\":{\"value\":\"#1f77b4\"},\"size\":{\"units\":\"screen\",\"value\":20},\"x\":{\"field\":\"x\"},\"y\":{\"field\":\"y\"}},\"id\":\"2068\",\"type\":\"Circle\"},{\"attributes\":{\"data_source\":{\"id\":\"2066\"},\"glyph\":{\"id\":\"2067\"},\"hover_glyph\":null,\"muted_glyph\":null,\"nonselection_glyph\":{\"id\":\"2068\"},\"selection_glyph\":null,\"view\":{\"id\":\"2070\"}},\"id\":\"2069\",\"type\":\"GlyphRenderer\"},{\"attributes\":{\"source\":{\"id\":\"2066\"}},\"id\":\"2070\",\"type\":\"CDSView\"},{\"attributes\":{\"code\":\"alert('you tapped a circle!')\"},\"id\":\"2045\",\"type\":\"CustomJS\"},{\"attributes\":{\"text\":\"\"},\"id\":\"2138\",\"type\":\"Title\"},{\"attributes\":{},\"id\":\"2052\",\"type\":\"LinearScale\"},{\"attributes\":{},\"id\":\"2050\",\"type\":\"DataRange1d\"},{\"attributes\":{\"fill_color\":{\"value\":\"#1f77b4\"},\"line_color\":{\"value\":\"#1f77b4\"},\"size\":{\"units\":\"screen\",\"value\":20},\"x\":{\"field\":\"x\"},\"y\":{\"field\":\"y\"}},\"id\":\"2067\",\"type\":\"Circle\"},{\"attributes\":{},\"id\":\"2143\",\"type\":\"BasicTickFormatter\"},{\"attributes\":{},\"id\":\"2141\",\"type\":\"BasicTickFormatter\"},{\"attributes\":{},\"id\":\"2048\",\"type\":\"DataRange1d\"},{\"attributes\":{},\"id\":\"2144\",\"type\":\"UnionRenderers\"},{\"attributes\":{},\"id\":\"2145\",\"type\":\"Selection\"}],\"root_ids\":[\"2047\"]},\"title\":\"Bokeh Application\",\"version\":\"2.0.0\"}};\n",
       "  var render_items = [{\"docid\":\"9de770fe-844e-425e-953e-054e60bd8c53\",\"root_ids\":[\"2047\"],\"roots\":{\"2047\":\"08678e6b-8198-4b4c-9a3c-8d985392eeda\"}}];\n",
       "  root.Bokeh.embed.embed_items_notebook(docs_json, render_items);\n",
       "\n",
       "  }\n",
       "  if (root.Bokeh !== undefined) {\n",
       "    embed_document(root);\n",
       "  } else {\n",
       "    var attempts = 0;\n",
       "    var timer = setInterval(function(root) {\n",
       "      if (root.Bokeh !== undefined) {\n",
       "        clearInterval(timer);\n",
       "        embed_document(root);\n",
       "      } else {\n",
       "        attempts++;\n",
       "        if (attempts > 100) {\n",
       "          clearInterval(timer);\n",
       "          console.log(\"Bokeh: ERROR: Unable to run BokehJS code because BokehJS library is missing\");\n",
       "        }\n",
       "      }\n",
       "    }, 10, root)\n",
       "  }\n",
       "})(window);"
      ],
      "application/vnd.bokehjs_exec.v0+json": ""
     },
     "metadata": {
      "application/vnd.bokehjs_exec.v0+json": {
       "id": "2047"
      }
     },
     "output_type": "display_data"
    }
   ],
   "source": [
    "from bokeh.models import TapTool, CustomJS, ColumnDataSource\n",
    "\n",
    "callback = CustomJS(code=\"alert('you tapped a circle!')\")\n",
    "tap = TapTool(callback=callback)\n",
    "\n",
    "p = figure(plot_width=600, plot_height=300, tools=[tap])\n",
    "\n",
    "p.circle(x=[1, 2, 3, 4, 5], y=[2, 5, 8, 2, 7], size=20)\n",
    "\n",
    "show(p)"
   ]
  },
  {
   "cell_type": "markdown",
   "metadata": {},
   "source": [
    "## CustomJS for Property changes\n",
    "\n",
    "Bokeh objects that have values associated can have small JavaScript actions attached to them using the `js_on_change` method. These actions (also referred to as \"callbacks\") are executed whenever the widget's value is changed. In order to make it easier to refer to specific Bokeh models (e.g., a data source, or a glyhph) from JavaScript, the ``CustomJS`` obejct also accepts a dictionary of \"args\" that map names to Python Bokeh models. The corresponding JavaScript models are made available automaticaly to the ``CustomJS`` code:\n",
    "\n",
    "```python\n",
    "CustomJS(args=dict(source=source, slider=slider), code=\"\"\"\n",
    "    // easily refer to BokehJS source and slider objects in this JS code\n",
    "    var data = source.data;\n",
    "    var f = slider.value;\n",
    "\"\"\")\n",
    "```"
   ]
  },
  {
   "cell_type": "markdown",
   "metadata": {},
   "source": [
    "### Slider widget example\n",
    "\n",
    "The example below shows an action attached to a slider that updates a data source whenever the slider is moved.  "
   ]
  },
  {
   "cell_type": "code",
   "execution_count": 15,
   "metadata": {},
   "outputs": [
    {
     "data": {
      "text/html": [
       "\n",
       "\n",
       "\n",
       "\n",
       "\n",
       "\n",
       "  <div class=\"bk-root\" id=\"1c099b38-6294-4c56-ba1e-bd9cf2271dfb\" data-root-id=\"2595\"></div>\n"
      ]
     },
     "metadata": {},
     "output_type": "display_data"
    },
    {
     "data": {
      "application/javascript": [
       "(function(root) {\n",
       "  function embed_document(root) {\n",
       "    \n",
       "  var docs_json = {\"074a06b7-fcdb-4b74-8c49-603c305ba0e9\":{\"roots\":{\"references\":[{\"attributes\":{\"children\":[{\"id\":\"2593\"},{\"id\":\"2558\"}]},\"id\":\"2595\",\"type\":\"Column\"},{\"attributes\":{},\"id\":\"2559\",\"type\":\"DataRange1d\"},{\"attributes\":{},\"id\":\"2580\",\"type\":\"HelpTool\"},{\"attributes\":{},\"id\":\"2561\",\"type\":\"DataRange1d\"},{\"attributes\":{\"data_source\":{\"id\":\"2557\"},\"glyph\":{\"id\":\"2589\"},\"hover_glyph\":null,\"muted_glyph\":null,\"nonselection_glyph\":{\"id\":\"2590\"},\"selection_glyph\":null,\"view\":{\"id\":\"2592\"}},\"id\":\"2591\",\"type\":\"GlyphRenderer\"},{\"attributes\":{},\"id\":\"2563\",\"type\":\"LinearScale\"},{\"attributes\":{\"line_alpha\":0.6,\"line_color\":\"#1f77b4\",\"line_width\":3,\"x\":{\"field\":\"x\"},\"y\":{\"field\":\"y\"}},\"id\":\"2589\",\"type\":\"Line\"},{\"attributes\":{},\"id\":\"2565\",\"type\":\"LinearScale\"},{\"attributes\":{\"source\":{\"id\":\"2557\"}},\"id\":\"2592\",\"type\":\"CDSView\"},{\"attributes\":{\"formatter\":{\"id\":\"2694\"},\"ticker\":{\"id\":\"2568\"}},\"id\":\"2567\",\"type\":\"LinearAxis\"},{\"attributes\":{\"args\":{\"slider\":{\"id\":\"2593\"},\"source\":{\"id\":\"2557\"}},\"code\":\"\\n    var data = source.data;\\n    var f = slider.value;\\n    var x = data['x']\\n    var y = data['y']\\n    for (var i = 0; i < x.length; i++) {\\n        y[i] = Math.pow(x[i], f)\\n    }\\n    \\n    // necessary becasue we mutated source.data in-place\\n    source.change.emit();\\n\"},\"id\":\"2594\",\"type\":\"CustomJS\"},{\"attributes\":{},\"id\":\"2568\",\"type\":\"BasicTicker\"},{\"attributes\":{\"axis\":{\"id\":\"2567\"},\"ticker\":null},\"id\":\"2570\",\"type\":\"Grid\"},{\"attributes\":{\"formatter\":{\"id\":\"2692\"},\"ticker\":{\"id\":\"2572\"}},\"id\":\"2571\",\"type\":\"LinearAxis\"},{\"attributes\":{},\"id\":\"2572\",\"type\":\"BasicTicker\"},{\"attributes\":{},\"id\":\"2692\",\"type\":\"BasicTickFormatter\"},{\"attributes\":{\"axis\":{\"id\":\"2571\"},\"dimension\":1,\"ticker\":null},\"id\":\"2574\",\"type\":\"Grid\"},{\"attributes\":{},\"id\":\"2694\",\"type\":\"BasicTickFormatter\"},{\"attributes\":{},\"id\":\"2695\",\"type\":\"UnionRenderers\"},{\"attributes\":{\"line_alpha\":0.1,\"line_color\":\"#1f77b4\",\"line_width\":3,\"x\":{\"field\":\"x\"},\"y\":{\"field\":\"y\"}},\"id\":\"2590\",\"type\":\"Line\"},{\"attributes\":{\"end\":6,\"format\":\"0[.]00\",\"js_property_callbacks\":{\"change:value\":[{\"id\":\"2594\"}]},\"start\":0.1,\"step\":0.1,\"title\":\"power\",\"value\":1},\"id\":\"2593\",\"type\":\"Slider\"},{\"attributes\":{\"active_drag\":\"auto\",\"active_inspect\":\"auto\",\"active_multi\":null,\"active_scroll\":\"auto\",\"active_tap\":\"auto\",\"tools\":[{\"id\":\"2575\"},{\"id\":\"2576\"},{\"id\":\"2577\"},{\"id\":\"2578\"},{\"id\":\"2579\"},{\"id\":\"2580\"}]},\"id\":\"2581\",\"type\":\"Toolbar\"},{\"attributes\":{},\"id\":\"2575\",\"type\":\"PanTool\"},{\"attributes\":{\"bottom_units\":\"screen\",\"fill_alpha\":0.5,\"fill_color\":\"lightgrey\",\"left_units\":\"screen\",\"level\":\"overlay\",\"line_alpha\":1.0,\"line_color\":\"black\",\"line_dash\":[4,4],\"line_width\":2,\"render_mode\":\"css\",\"right_units\":\"screen\",\"top_units\":\"screen\"},\"id\":\"2697\",\"type\":\"BoxAnnotation\"},{\"attributes\":{\"text\":\"\"},\"id\":\"2689\",\"type\":\"Title\"},{\"attributes\":{},\"id\":\"2576\",\"type\":\"WheelZoomTool\"},{\"attributes\":{\"data\":{\"x\":[0.0,0.005,0.01,0.015,0.02,0.025,0.03,0.035,0.04,0.045,0.05,0.055,0.06,0.065,0.07,0.075,0.08,0.085,0.09,0.095,0.1,0.105,0.11,0.115,0.12,0.125,0.13,0.135,0.14,0.145,0.15,0.155,0.16,0.165,0.17,0.17500000000000002,0.18,0.185,0.19,0.195,0.2,0.20500000000000002,0.21,0.215,0.22,0.225,0.23,0.23500000000000001,0.24,0.245,0.25,0.255,0.26,0.265,0.27,0.275,0.28,0.28500000000000003,0.29,0.295,0.3,0.305,0.31,0.315,0.32,0.325,0.33,0.335,0.34,0.34500000000000003,0.35000000000000003,0.355,0.36,0.365,0.37,0.375,0.38,0.385,0.39,0.395,0.4,0.405,0.41000000000000003,0.41500000000000004,0.42,0.425,0.43,0.435,0.44,0.445,0.45,0.455,0.46,0.465,0.47000000000000003,0.47500000000000003,0.48,0.485,0.49,0.495,0.5,0.505,0.51,0.515,0.52,0.525,0.53,0.535,0.54,0.545,0.55,0.555,0.56,0.5650000000000001,0.5700000000000001,0.5750000000000001,0.58,0.585,0.59,0.595,0.6,0.605,0.61,0.615,0.62,0.625,0.63,0.635,0.64,0.645,0.65,0.655,0.66,0.665,0.67,0.675,0.68,0.685,0.6900000000000001,0.6950000000000001,0.7000000000000001,0.705,0.71,0.715,0.72,0.725,0.73,0.735,0.74,0.745,0.75,0.755,0.76,0.765,0.77,0.775,0.78,0.785,0.79,0.795,0.8,0.805,0.81,0.8150000000000001,0.8200000000000001,0.8250000000000001,0.8300000000000001,0.835,0.84,0.845,0.85,0.855,0.86,0.865,0.87,0.875,0.88,0.885,0.89,0.895,0.9,0.905,0.91,0.915,0.92,0.925,0.93,0.935,0.9400000000000001,0.9450000000000001,0.9500000000000001,0.9550000000000001,0.96,0.965,0.97,0.975,0.98,0.985,0.99,0.995,1.0],\"y\":[0.0,0.005,0.01,0.015,0.02,0.025,0.03,0.035,0.04,0.045,0.05,0.055,0.06,0.065,0.07,0.075,0.08,0.085,0.09,0.095,0.1,0.105,0.11,0.115,0.12,0.125,0.13,0.135,0.14,0.145,0.15,0.155,0.16,0.165,0.17,0.17500000000000002,0.18,0.185,0.19,0.195,0.2,0.20500000000000002,0.21,0.215,0.22,0.225,0.23,0.23500000000000001,0.24,0.245,0.25,0.255,0.26,0.265,0.27,0.275,0.28,0.28500000000000003,0.29,0.295,0.3,0.305,0.31,0.315,0.32,0.325,0.33,0.335,0.34,0.34500000000000003,0.35000000000000003,0.355,0.36,0.365,0.37,0.375,0.38,0.385,0.39,0.395,0.4,0.405,0.41000000000000003,0.41500000000000004,0.42,0.425,0.43,0.435,0.44,0.445,0.45,0.455,0.46,0.465,0.47000000000000003,0.47500000000000003,0.48,0.485,0.49,0.495,0.5,0.505,0.51,0.515,0.52,0.525,0.53,0.535,0.54,0.545,0.55,0.555,0.56,0.5650000000000001,0.5700000000000001,0.5750000000000001,0.58,0.585,0.59,0.595,0.6,0.605,0.61,0.615,0.62,0.625,0.63,0.635,0.64,0.645,0.65,0.655,0.66,0.665,0.67,0.675,0.68,0.685,0.6900000000000001,0.6950000000000001,0.7000000000000001,0.705,0.71,0.715,0.72,0.725,0.73,0.735,0.74,0.745,0.75,0.755,0.76,0.765,0.77,0.775,0.78,0.785,0.79,0.795,0.8,0.805,0.81,0.8150000000000001,0.8200000000000001,0.8250000000000001,0.8300000000000001,0.835,0.84,0.845,0.85,0.855,0.86,0.865,0.87,0.875,0.88,0.885,0.89,0.895,0.9,0.905,0.91,0.915,0.92,0.925,0.93,0.935,0.9400000000000001,0.9450000000000001,0.9500000000000001,0.9550000000000001,0.96,0.965,0.97,0.975,0.98,0.985,0.99,0.995,1.0]},\"selected\":{\"id\":\"2696\"},\"selection_policy\":{\"id\":\"2695\"}},\"id\":\"2557\",\"type\":\"ColumnDataSource\"},{\"attributes\":{\"overlay\":{\"id\":\"2697\"}},\"id\":\"2577\",\"type\":\"BoxZoomTool\"},{\"attributes\":{},\"id\":\"2578\",\"type\":\"SaveTool\"},{\"attributes\":{\"below\":[{\"id\":\"2567\"}],\"center\":[{\"id\":\"2570\"},{\"id\":\"2574\"}],\"left\":[{\"id\":\"2571\"}],\"plot_height\":400,\"plot_width\":400,\"renderers\":[{\"id\":\"2591\"}],\"title\":{\"id\":\"2689\"},\"toolbar\":{\"id\":\"2581\"},\"x_range\":{\"id\":\"2559\"},\"x_scale\":{\"id\":\"2563\"},\"y_range\":{\"id\":\"2561\"},\"y_scale\":{\"id\":\"2565\"}},\"id\":\"2558\",\"subtype\":\"Figure\",\"type\":\"Plot\"},{\"attributes\":{},\"id\":\"2696\",\"type\":\"Selection\"},{\"attributes\":{},\"id\":\"2579\",\"type\":\"ResetTool\"}],\"root_ids\":[\"2595\"]},\"title\":\"Bokeh Application\",\"version\":\"2.0.0\"}};\n",
       "  var render_items = [{\"docid\":\"074a06b7-fcdb-4b74-8c49-603c305ba0e9\",\"root_ids\":[\"2595\"],\"roots\":{\"2595\":\"1c099b38-6294-4c56-ba1e-bd9cf2271dfb\"}}];\n",
       "  root.Bokeh.embed.embed_items_notebook(docs_json, render_items);\n",
       "\n",
       "  }\n",
       "  if (root.Bokeh !== undefined) {\n",
       "    embed_document(root);\n",
       "  } else {\n",
       "    var attempts = 0;\n",
       "    var timer = setInterval(function(root) {\n",
       "      if (root.Bokeh !== undefined) {\n",
       "        clearInterval(timer);\n",
       "        embed_document(root);\n",
       "      } else {\n",
       "        attempts++;\n",
       "        if (attempts > 100) {\n",
       "          clearInterval(timer);\n",
       "          console.log(\"Bokeh: ERROR: Unable to run BokehJS code because BokehJS library is missing\");\n",
       "        }\n",
       "      }\n",
       "    }, 10, root)\n",
       "  }\n",
       "})(window);"
      ],
      "application/vnd.bokehjs_exec.v0+json": ""
     },
     "metadata": {
      "application/vnd.bokehjs_exec.v0+json": {
       "id": "2595"
      }
     },
     "output_type": "display_data"
    }
   ],
   "source": [
    "from bokeh.layouts import column\n",
    "from bokeh.models import CustomJS, ColumnDataSource, Slider\n",
    "\n",
    "x = [x*0.005 for x in range(0, 201)]\n",
    "\n",
    "source = ColumnDataSource(data=dict(x=x, y=x))\n",
    "\n",
    "plot = figure(plot_width=400, plot_height=400)\n",
    "plot.line('x', 'y', source=source, line_width=3, line_alpha=0.6)\n",
    "\n",
    "slider = Slider(start=0.1, end=6, value=1, step=.1, title=\"power\")\n",
    "\n",
    "update_curve = CustomJS(args=dict(source=source, slider=slider), code=\"\"\"\n",
    "    var data = source.data;\n",
    "    var f = slider.value;\n",
    "    var x = data['x']\n",
    "    var y = data['y']\n",
    "    for (var i = 0; i < x.length; i++) {\n",
    "        y[i] = Math.pow(x[i], f)\n",
    "    }\n",
    "    \n",
    "    // necessary becasue we mutated source.data in-place\n",
    "    source.change.emit();\n",
    "\"\"\")\n",
    "slider.js_on_change('value', update_curve)\n",
    "\n",
    "\n",
    "show(column(slider, plot))"
   ]
  },
  {
   "cell_type": "code",
   "execution_count": null,
   "metadata": {},
   "outputs": [],
   "source": [
    "# Exercise: Create a plot that updates based on a Select widget\n",
    "\n"
   ]
  },
  {
   "cell_type": "markdown",
   "metadata": {},
   "source": [
    "### Data selection example\n",
    "\n",
    "It's also possible to make JavaScript actions that execute whenever a user selection (e.g., box, point, lasso) changes. This is done by attaching the same kind of CustomJS object to whatever data source the selection is made on.\n",
    "\n",
    "The example below is a bit more sophisticated, and demonstrates updating one glyph's data source in response to another glyph's selection: "
   ]
  },
  {
   "cell_type": "code",
   "execution_count": 18,
   "metadata": {},
   "outputs": [
    {
     "data": {
      "text/html": [
       "\n",
       "\n",
       "\n",
       "\n",
       "\n",
       "\n",
       "  <div class=\"bk-root\" id=\"f12a4994-aec5-471b-b37d-9bcd85d132b1\" data-root-id=\"2825\"></div>\n"
      ]
     },
     "metadata": {},
     "output_type": "display_data"
    },
    {
     "data": {
      "application/javascript": [
       "(function(root) {\n",
       "  function embed_document(root) {\n",
       "    \n",
       "  var docs_json = {\"915193dd-dd75-4fc3-96d3-0b211695b31e\":{\"roots\":{\"references\":[{\"attributes\":{\"below\":[{\"id\":\"2836\"}],\"center\":[{\"id\":\"2839\"},{\"id\":\"2843\"}],\"left\":[{\"id\":\"2840\"}],\"plot_height\":400,\"plot_width\":400,\"renderers\":[{\"id\":\"2851\"},{\"id\":\"2857\"}],\"title\":{\"id\":\"2826\"},\"toolbar\":{\"id\":\"2845\"},\"x_range\":{\"id\":\"2828\"},\"x_scale\":{\"id\":\"2832\"},\"y_range\":{\"id\":\"2830\"},\"y_scale\":{\"id\":\"2834\"}},\"id\":\"2825\",\"subtype\":\"Figure\",\"type\":\"Plot\"},{\"attributes\":{\"formatter\":{\"id\":\"2967\"},\"ticker\":{\"id\":\"2837\"}},\"id\":\"2836\",\"type\":\"LinearAxis\"},{\"attributes\":{\"source\":{\"id\":\"2853\"}},\"id\":\"2858\",\"type\":\"CDSView\"},{\"attributes\":{},\"id\":\"2837\",\"type\":\"BasicTicker\"},{\"attributes\":{\"js_property_callbacks\":{\"change:indices\":[{\"id\":\"2859\"}]}},\"id\":\"2860\",\"type\":\"Selection\"},{\"attributes\":{\"axis\":{\"id\":\"2836\"},\"ticker\":null},\"id\":\"2839\",\"type\":\"Grid\"},{\"attributes\":{},\"id\":\"2830\",\"type\":\"DataRange1d\"},{\"attributes\":{},\"id\":\"2967\",\"type\":\"BasicTickFormatter\"},{\"attributes\":{\"formatter\":{\"id\":\"2965\"},\"ticker\":{\"id\":\"2841\"}},\"id\":\"2840\",\"type\":\"LinearAxis\"},{\"attributes\":{},\"id\":\"2841\",\"type\":\"BasicTicker\"},{\"attributes\":{},\"id\":\"2828\",\"type\":\"DataRange1d\"},{\"attributes\":{\"axis\":{\"id\":\"2840\"},\"dimension\":1,\"ticker\":null},\"id\":\"2843\",\"type\":\"Grid\"},{\"attributes\":{\"fill_alpha\":0.5,\"fill_color\":\"lightgrey\",\"level\":\"overlay\",\"line_alpha\":1.0,\"line_color\":\"black\",\"line_dash\":[4,4],\"line_width\":2,\"xs_units\":\"screen\",\"ys_units\":\"screen\"},\"id\":\"2968\",\"type\":\"PolyAnnotation\"},{\"attributes\":{},\"id\":\"2969\",\"type\":\"UnionRenderers\"},{\"attributes\":{\"active_drag\":\"auto\",\"active_inspect\":\"auto\",\"active_multi\":null,\"active_scroll\":\"auto\",\"active_tap\":\"auto\",\"tools\":[{\"id\":\"2844\"}]},\"id\":\"2845\",\"type\":\"Toolbar\"},{\"attributes\":{\"overlay\":{\"id\":\"2968\"}},\"id\":\"2844\",\"type\":\"LassoSelectTool\"},{\"attributes\":{},\"id\":\"2971\",\"type\":\"UnionRenderers\"},{\"attributes\":{},\"id\":\"2972\",\"type\":\"Selection\"},{\"attributes\":{\"fill_alpha\":{\"value\":0.1},\"fill_color\":{\"field\":\"color\"},\"line_alpha\":{\"value\":0.1},\"line_color\":{\"field\":\"color\"},\"size\":{\"units\":\"screen\",\"value\":8},\"x\":{\"field\":\"x\"},\"y\":{\"field\":\"y\"}},\"id\":\"2849\",\"type\":\"Circle\"},{\"attributes\":{\"fill_alpha\":{\"value\":0.4},\"fill_color\":{\"value\":\"firebrick\"},\"line_alpha\":{\"value\":0.4},\"line_color\":{\"value\":\"firebrick\"},\"size\":{\"units\":\"screen\",\"value\":8},\"x\":{\"field\":\"x\"},\"y\":{\"field\":\"y\"}},\"id\":\"2850\",\"type\":\"Circle\"},{\"attributes\":{\"data_source\":{\"id\":\"2824\"},\"glyph\":{\"id\":\"2848\"},\"hover_glyph\":null,\"muted_glyph\":null,\"nonselection_glyph\":{\"id\":\"2849\"},\"selection_glyph\":{\"id\":\"2850\"},\"view\":{\"id\":\"2852\"}},\"id\":\"2851\",\"type\":\"GlyphRenderer\"},{\"attributes\":{},\"id\":\"2965\",\"type\":\"BasicTickFormatter\"},{\"attributes\":{\"fill_alpha\":{\"value\":0.4},\"fill_color\":{\"field\":\"color\"},\"line_alpha\":{\"value\":0.4},\"line_color\":{\"field\":\"color\"},\"size\":{\"units\":\"screen\",\"value\":8},\"x\":{\"field\":\"x\"},\"y\":{\"field\":\"y\"}},\"id\":\"2848\",\"type\":\"Circle\"},{\"attributes\":{\"source\":{\"id\":\"2824\"}},\"id\":\"2852\",\"type\":\"CDSView\"},{\"attributes\":{\"data\":{\"color\":[\"navy\",\"navy\",\"navy\",\"navy\",\"navy\",\"navy\",\"navy\",\"navy\",\"navy\",\"navy\",\"navy\",\"navy\",\"navy\",\"navy\",\"navy\",\"navy\",\"navy\",\"navy\",\"navy\",\"navy\",\"navy\",\"navy\",\"navy\",\"navy\",\"navy\",\"navy\",\"navy\",\"navy\",\"navy\",\"navy\",\"navy\",\"navy\",\"navy\",\"navy\",\"navy\",\"navy\",\"navy\",\"navy\",\"navy\",\"navy\",\"navy\",\"navy\",\"navy\",\"navy\",\"navy\",\"navy\",\"navy\",\"navy\",\"navy\",\"navy\",\"navy\",\"navy\",\"navy\",\"navy\",\"navy\",\"navy\",\"navy\",\"navy\",\"navy\",\"navy\",\"navy\",\"navy\",\"navy\",\"navy\",\"navy\",\"navy\",\"navy\",\"navy\",\"navy\",\"navy\",\"navy\",\"navy\",\"navy\",\"navy\",\"navy\",\"navy\",\"navy\",\"navy\",\"navy\",\"navy\",\"navy\",\"navy\",\"navy\",\"navy\",\"navy\",\"navy\",\"navy\",\"navy\",\"navy\",\"navy\",\"navy\",\"navy\",\"navy\",\"navy\",\"navy\",\"navy\",\"navy\",\"navy\",\"navy\",\"navy\",\"navy\",\"navy\",\"navy\",\"navy\",\"navy\",\"navy\",\"navy\",\"navy\",\"navy\",\"navy\",\"navy\",\"navy\",\"navy\",\"navy\",\"navy\",\"navy\",\"navy\",\"navy\",\"navy\",\"navy\",\"navy\",\"navy\",\"navy\",\"navy\",\"navy\",\"navy\",\"navy\",\"navy\",\"navy\",\"navy\",\"navy\",\"navy\",\"navy\",\"navy\",\"navy\",\"navy\",\"navy\",\"navy\",\"navy\",\"navy\",\"navy\",\"navy\",\"navy\",\"navy\",\"navy\",\"navy\",\"navy\",\"navy\",\"navy\",\"navy\",\"navy\",\"navy\",\"navy\",\"navy\",\"navy\",\"navy\",\"navy\",\"navy\",\"navy\",\"navy\",\"navy\",\"navy\",\"navy\",\"navy\",\"navy\",\"navy\",\"navy\",\"navy\",\"navy\",\"navy\",\"navy\",\"navy\",\"navy\",\"navy\",\"navy\",\"navy\",\"navy\",\"navy\",\"navy\",\"navy\",\"navy\",\"navy\",\"navy\",\"navy\",\"navy\",\"navy\",\"navy\",\"navy\",\"navy\",\"navy\",\"navy\",\"navy\",\"navy\",\"navy\",\"navy\",\"navy\",\"navy\",\"navy\",\"navy\",\"navy\",\"navy\",\"navy\",\"navy\",\"navy\",\"navy\",\"navy\",\"navy\",\"navy\",\"navy\",\"navy\",\"navy\",\"navy\",\"navy\",\"navy\",\"navy\",\"navy\",\"navy\",\"navy\",\"navy\",\"navy\",\"navy\",\"navy\",\"navy\",\"navy\",\"navy\",\"navy\",\"navy\",\"navy\",\"navy\",\"navy\",\"navy\",\"navy\",\"navy\",\"navy\",\"navy\",\"navy\",\"navy\",\"navy\",\"navy\",\"navy\",\"navy\",\"navy\",\"navy\",\"navy\",\"navy\",\"navy\",\"navy\",\"navy\",\"navy\",\"navy\",\"navy\",\"navy\",\"navy\",\"navy\",\"navy\",\"navy\",\"navy\",\"navy\",\"navy\",\"navy\",\"navy\",\"navy\",\"navy\",\"navy\",\"navy\",\"navy\",\"navy\",\"navy\",\"navy\",\"navy\",\"navy\",\"navy\",\"navy\",\"navy\",\"navy\",\"navy\",\"navy\",\"navy\",\"navy\",\"navy\",\"navy\",\"navy\",\"navy\",\"navy\",\"navy\",\"navy\",\"navy\",\"navy\",\"navy\",\"navy\",\"navy\",\"navy\",\"navy\",\"navy\",\"navy\",\"navy\",\"navy\",\"navy\",\"navy\",\"navy\",\"navy\",\"navy\",\"navy\",\"navy\",\"navy\",\"navy\",\"navy\",\"navy\",\"navy\",\"navy\",\"navy\",\"navy\",\"navy\",\"navy\",\"navy\",\"navy\",\"navy\",\"navy\",\"navy\",\"navy\",\"navy\",\"navy\",\"navy\",\"navy\",\"navy\",\"navy\",\"navy\",\"navy\",\"navy\",\"navy\",\"navy\",\"navy\",\"navy\",\"navy\",\"navy\",\"navy\",\"navy\",\"navy\",\"navy\",\"navy\",\"navy\",\"navy\",\"navy\",\"navy\",\"navy\",\"navy\",\"navy\",\"navy\",\"navy\",\"navy\",\"navy\",\"navy\",\"navy\",\"navy\",\"navy\",\"navy\",\"navy\",\"navy\",\"navy\",\"navy\",\"navy\",\"navy\",\"navy\",\"navy\",\"navy\",\"navy\",\"navy\",\"navy\",\"navy\",\"navy\",\"navy\",\"navy\",\"navy\",\"navy\",\"navy\",\"navy\",\"navy\",\"navy\",\"navy\",\"navy\",\"navy\",\"navy\",\"navy\",\"navy\",\"navy\",\"navy\",\"navy\",\"navy\",\"navy\",\"navy\",\"navy\",\"navy\",\"navy\",\"navy\",\"navy\",\"navy\",\"navy\",\"navy\",\"navy\",\"navy\",\"navy\",\"navy\",\"navy\",\"navy\",\"navy\",\"navy\",\"navy\",\"navy\",\"navy\",\"navy\",\"navy\",\"navy\",\"navy\",\"navy\",\"navy\",\"navy\",\"navy\",\"navy\",\"navy\",\"navy\",\"navy\",\"navy\",\"navy\",\"navy\",\"navy\",\"navy\",\"navy\",\"navy\",\"navy\",\"navy\",\"navy\",\"navy\",\"navy\",\"navy\",\"navy\",\"navy\",\"navy\",\"navy\",\"navy\",\"navy\",\"navy\",\"navy\",\"navy\",\"navy\",\"navy\",\"navy\",\"navy\",\"navy\",\"navy\",\"navy\",\"navy\",\"navy\",\"navy\",\"navy\",\"navy\",\"navy\",\"navy\",\"navy\",\"navy\",\"navy\",\"navy\",\"navy\",\"navy\",\"navy\",\"navy\",\"navy\",\"navy\",\"navy\",\"navy\",\"navy\",\"navy\",\"navy\",\"navy\",\"navy\",\"navy\",\"navy\",\"navy\",\"navy\",\"navy\",\"navy\",\"navy\",\"navy\",\"navy\",\"navy\",\"navy\",\"navy\",\"navy\",\"navy\",\"navy\",\"navy\",\"navy\",\"navy\",\"navy\",\"navy\",\"navy\",\"navy\",\"navy\",\"navy\",\"navy\",\"navy\"],\"x\":[0.10222524981129066,0.46957290757799985,0.6871386136689391,0.607887917602292,0.2435145825998699,0.9369971899053361,0.4586419867636089,0.8676715664998915,0.6745158004808631,0.9340254934048324,0.016794089896539743,0.2201789689946989,0.010724868972933788,0.7218063590155779,0.3677748378578958,0.9502487000139367,0.9760907192730964,0.49924954936488763,0.9190931897692647,0.7594066408630901,0.826777826864483,0.8531140519419059,0.704986912365763,0.20898786153695847,0.0252032180762235,0.8012168007343615,0.44666279446083723,0.7863710956905599,0.8211048642802169,0.09540377530431843,0.15252325957197665,0.5408029542789359,0.11652106021080755,0.7023991003881941,0.9194123150451081,0.4924721103506169,0.35761467287841653,0.430895381486353,0.893831143753283,0.432468231804508,0.042812229833193105,0.8977216167825921,0.6272289229409681,0.7356506212339682,0.42312322295910565,0.9396995939220594,0.894288510287086,0.4908498279579556,0.7205010456797781,0.06386462850620245,0.6045597843939418,0.21468301893136998,0.20088802263536,0.8119010348807217,0.5693542866199829,0.8457878285385357,0.95632284313335,0.6130812246624419,0.42448733435574504,0.6307646242535447,0.7015988530068193,0.8483558878695917,0.77406398955926,0.8076011142327457,0.060648399351494575,0.4797031073886512,0.8709091448942503,0.29057069094021415,0.1013559579849459,0.10684500127325602,0.4637949385385365,0.7471175294043031,0.43559654753218746,0.4348142469388321,0.9104065853715816,0.9496841329666164,0.6803883905388538,0.3101782163986171,0.7442232493531165,0.13891781579458518,0.0334986957338228,0.6249539962681895,0.9240148833304612,0.1628388810475011,0.44396454619640013,0.917857454540577,0.852744944588274,0.9650052026048866,0.15776498781079928,0.9300848072774992,0.27089539356445513,0.09769961153818152,0.3446664125949651,0.4603337647500494,0.5484130091373146,0.8837622809505686,0.5002788162662133,0.7485082442918021,0.6310982829558399,0.630445519372171,0.2954896233781341,0.12237055050441004,0.6465503922237402,0.835750230638817,0.9632880153721022,0.06517327251523275,0.6560610979322223,0.2963954028189739,0.9466134918562458,0.8547789715854217,0.293566923041675,0.4684660293167885,0.8010698086869101,0.6365815443433452,0.14476845609701483,0.5687780461054028,0.2476707322532936,0.8704783465363832,0.2116900081075621,0.32754397976513694,0.22846220392632122,0.9964758814378165,0.11845258899163191,0.19001001675178308,0.9343807709203852,0.8990025119448016,0.8776180104172846,0.5481478790419475,0.6932252945986682,0.3787811694306752,0.3490534452571461,0.5102994474256449,0.6118386305628427,0.8601400315856617,0.5897843011854309,0.4035900598299863,0.8483843336574801,0.03137212951051693,0.25852586523038934,0.40039282055566494,0.8421665420746746,0.9742401466519311,0.46304800830090054,0.699511409825732,0.7201220656220195,0.4473405759966924,0.8754884685642222,0.8999469305318459,0.4009605724440394,0.46251401075747767,0.8074950398449086,0.8213539685704125,0.5229787505255861,0.5162991910659063,0.3445988922833746,0.6586904496303164,0.7254131346197962,0.46373549360215305,0.0506028750872759,0.3461350393663808,0.5477832271663271,0.559705537734059,0.22446363128232727,0.8845297933778574,0.6508668962921369,0.9480434690391139,0.8387908123638016,0.029681488993247185,0.5325301018031676,0.5809445127076405,0.7327167994871592,0.17442353072156047,0.642347076726834,0.6360431453536984,0.5178857256166028,0.2603431715771337,0.4343638937998967,0.740481815095187,0.341374385048972,0.7198982146539085,0.13728108171913644,0.09778487766376942,0.17571208960239015,0.5493560333071634,0.4254473522322516,0.6130117267010835,0.814912019443256,0.7686503618857058,0.12506893887122272,0.015707630128401484,0.9010933179327733,0.4996777633985935,0.6708899876211236,0.3546873752027785,0.1552034564516238,0.30081124280800775,0.456421789485166,0.900752540810321,0.5263243035066562,0.9472880563780703,0.8005023017235873,0.8334654729425707,0.2115136139525141,0.1062080844139458,0.2824788500505351,0.9401067752816589,0.5942153898432275,0.8133759143125004,0.43886277741211277,0.8357269222690057,0.02410637226590584,0.358587921263953,0.49568644536227646,0.510550288055184,0.16671879085551533,0.27699474565167526,0.8404985776171402,0.44487120579630735,0.3264461905401096,0.7250974834416506,0.18898358748223143,0.18830184449873455,0.2644645531279496,0.1653995299534593,0.38667580417199576,0.6824260385880674,0.0675583397449333,0.552847361764051,0.912218034755745,0.28292110385202185,0.6745480396418494,0.38950317807677604,0.857866856842806,0.8862756860901166,0.7639516164781156,0.7487814243537295,0.6817033961043505,0.37485119214956863,0.19555741529498516,0.43659080915691484,0.6779681724752679,0.2547159102672424,0.1207166326532152,0.25222143236235794,0.9574814293116417,0.219232690632297,0.061448222123521745,0.8880163430819683,0.19890060219984418,0.40337716407056523,0.3357021057581744,0.5403447357710562,0.09137412383132548,0.3074400792780495,0.7676933294971807,0.6547959239199361,0.5322042585252655,0.6524724384485775,0.4874730018204759,0.13552066348623104,0.025280801059468283,0.5809053100415604,0.7876380423977586,0.32210545788137845,0.3838744498733647,0.7586125539299192,0.46929264132101434,0.2080606783564698,0.11363649805064424,0.18099502119718014,0.7744967041033282,0.8544839793329245,0.8697270653341219,0.5272719488766596,0.15418588777228548,0.5397702902572272,0.21892102890203113,0.7161946450718059,0.06401875524532086,0.27519817907675204,0.20064883440265968,0.6157303698344297,0.3674225518141069,0.3596970671254516,0.29461786655115985,0.5325479485814502,0.2526462053409658,0.8126588555138075,0.6558091802321847,0.2579335024881798,0.9162606212795039,0.9700458094958053,0.2309986549864338,0.8207173351651937,0.2757412317639356,0.12239887018989071,0.054173595565524035,0.5644420066805157,0.852831854614905,0.5193189267304431,0.12826281867068534,0.5737509581583748,0.943151635655875,0.7874111387072962,0.7484627222304356,0.6535916467199915,0.5862816097707305,0.03366665646300526,0.06026628548607427,0.12489698408723493,0.17205246801533614,0.5834827730001525,0.6278576054877091,0.46186313070268215,0.2523909986964923,0.11052299079575545,0.04422260658426158,0.7971677632952628,0.5618603078388356,0.5424760434939339,0.9912893264194534,0.6292646713583816,0.6043371246472456,0.20686415269211755,0.7671999665217545,0.2958424648016619,0.3280113027970665,0.5099770436352717,0.44775219113836917,0.9291482962838651,0.4691015174443752,0.5805143333435594,0.40577639277150834,0.6972794914397422,0.700720796448173,0.4156568994140829,0.2970946078039548,0.542880399238256,0.4509636616877716,0.8594589050623147,0.9631551431402745,0.03409410753020192,0.6084157060785134,0.7777017323278905,0.23326124659638736,0.9835514484623278,0.19672532561126854,0.43053600882423215,0.04055488276241015,0.06572793538183364,0.9395380525790359,0.6237900090899383,0.30783031303566266,0.14650562827923297,0.1148247603903314,0.4367927443323997,0.8894372330631493,0.5446226611604006,0.130267027391183,0.43606532123806296,0.5073858092588753,0.5902678718761284,0.37448097644776035,0.060166693673217475,0.04486889115587023,0.5237450263732302,0.4347794890711877,0.06570875917909236,0.8009198329302257,0.3197344366876905,0.09752183046910834,0.1388344438085518,0.0416375464239781,0.7350080983076321,0.7084025173024624,0.9853849602487694,0.5184910404247407,0.34992227232884854,0.42706431946982604,0.46024439798879013,0.9039937000050292,0.6929890269981281,0.3228640307732473,0.7820312564185512,0.7666420113076873,0.0846900029938703,0.08998858152867495,0.3822100650612762,0.6493558086351485,0.9731246868387842,0.5828413588743047,0.4508547252707831,0.6137447204845837,0.5644875115352461,0.8684763456857496,0.5596019087676903,0.4193465713617146,0.41064313278176245,0.4401085576288176,0.5864619928863277,0.373063782813535,0.5681817590271112,0.354437712477621,0.8923296043354931,0.1036204565891421,0.5573866675043498,0.41956778142177076,0.44435708121912887,0.9258306364851101,0.6232531419145024,0.2920398552550032,0.2241790066817716,0.18750263896322428,0.3548345030274165,0.23021030976727075,0.6710071893860045,0.9547496005483959,0.6306569174002907,0.9907094872794225,0.2542946921396836,0.4776989718283843,0.5953053331611806,0.7619425573598965,0.6201359958762485,0.055846975826783773,0.4951131206745143,0.7152633529077579,0.03539230442560881,0.7094288043555357,0.8808915106648046,0.26421095957366736,0.024985404806387113,0.7456636458366597,0.4378814874458835,0.8003716823983591,0.32475638492004133,0.3844227653789094,0.3881529151659586,0.7569468377409724,0.06687917568024226,0.5888533415451008,0.2570658820858829,0.26192175101609705,0.729106987599602,0.15542050845436095,0.29538894866182097,0.6690797736324823,0.3344506811356577,0.30525016827033946,0.4197574250147471,0.6817237724222038,0.564451467999932,0.8864921308301082,0.3277171615611668,0.6129321532957825,0.7371732755424988,0.9707190871056953,0.21513978104333864,0.4651174191225479,0.9238508929844034,0.39719628691793385,0.5234051559696662,0.7251336036486337,0.2814333460862215,0.7783639662867117,0.7986496792934925,0.10727252521110009,0.8905759365864406,0.3873496846892418,0.8074290683162931,0.9269825462085176,0.9132274557571315,0.19792602560359773,0.4139832555424462,0.008159160526249654,0.010853668013184659,0.5610246076520798,0.03129003878078662,0.2370579796436011,0.0589718984229427,0.13307226383244275,0.7978718900453389,0.5568605974500892,0.026584460727994252,0.9235359424693347,0.6517561470412002,0.07546208372033947,0.04226584718989379,0.024960315927738508,0.8736794268214644,0.551224294388755,0.4024488925886497,0.5464615920744144,0.9934206535436174,0.7285485921863156,0.9899202746315434,0.7759419461948092,0.5529873631276764,0.7751334997598386,0.30096955650698265],\"y\":[0.2558211920939639,0.18409611815295324,0.12329807463118958,0.12108832008508696,0.6020537103961171,0.5502566297246939,0.2738682357517548,0.9517281673917259,0.9541033968480185,0.1658383268740501,0.4074768731206073,0.5005025911013149,0.781434333824441,0.6101040361883099,0.7080253073786444,0.09863507759482482,0.59460655198497,0.7726280728140144,0.9748578100843437,0.47768891861539686,0.42942144717103026,0.20928752260456662,0.7726112844709684,0.35931890329697924,0.7860254573483448,0.01779781536974656,0.2285756784614814,0.2485562729035592,0.599912667668444,0.7738060591636204,0.16526858896395702,0.5096408877713315,0.012675519618570275,0.07678864151780174,0.9106976726468167,0.25644361467236554,0.5062844980322718,0.11282797529394906,0.4897243581218864,0.11790879349058281,0.831860255698231,0.02088107537714956,0.9610557691063542,0.8563669732522328,0.9288769275409372,0.9922474458323064,0.8493037531406058,0.5076799634991989,0.7074200506975811,0.30117414556790767,0.38842797332020707,0.14495373768298814,0.06824989814674809,0.0609810610390511,0.932651110310255,0.9687425810073038,0.034537597234454154,0.5248355856587884,0.6903001349390513,0.42000265384187163,0.9887262601479913,0.7242433424487498,0.4237301411258031,0.4901510771971187,0.261264000442859,0.997043034379941,0.7523176907360941,0.014302152534131585,0.817759667429716,0.7724678519374099,0.740158349070191,0.5959930674070607,0.23234863574036912,0.35117091812440193,0.20158272026936763,0.6003758489167098,0.3146243037799773,0.01624196398732547,0.47388367295010314,0.8617696750352652,0.06280440983375324,0.44757026618717,0.7334859718998858,0.9779915883223033,0.0495645085264832,0.0033532381909014974,0.3818939090404172,0.4839893301849214,0.7445589810873491,0.12631629870163197,0.07284687272092949,0.7345683389574965,0.27417939740197017,0.21685358448398173,0.8139702422151971,0.7294541516353032,0.005960562071438802,0.8462501901266173,0.533614361829444,0.8319103543272663,0.16287937123175045,0.6041265121615383,0.8390869766715067,0.066882520638471,0.970996390449547,0.9952407722340458,0.6376856837944952,0.252449902382213,0.12452969385341639,0.4716100885332746,0.7587616354318965,0.961285043877115,0.8532128457219026,0.5954993730555747,0.48986644484056285,0.46122512203505295,0.5942408907014998,0.2752987775950855,0.45896946292893004,0.2818820336363339,0.5591850156734071,0.4373755240655127,0.9886663988334802,0.07980462559956336,0.5075902773997197,0.7980200139035534,0.8423880985802829,0.7434468264781623,0.03260747972585132,0.5722218921876273,0.8257801829986758,0.7338702965787273,0.5038783726957045,0.6164134971736036,0.6424598007756753,0.7829291960231849,0.47491299487574123,0.010564417556506833,0.013282819215896136,0.12867250732286595,0.09118666876363579,0.40299478025010005,0.5637619277979301,0.6766975851984667,0.5391400229856738,0.42444996912509303,0.8419501684352209,0.8793588521358698,0.9694191258038121,0.763918287955193,0.7000859756162982,0.7786130712370212,0.7017573713212356,0.330568418992359,0.1933286204956438,0.318737875719024,0.5401623098581917,0.37918286322839867,0.37624842717071694,0.9064469763188688,0.6973341769286028,0.3785684191695653,0.814407367539483,0.8889057335824201,0.8765267891633983,0.694648873728882,0.6435722366436568,0.381493709350462,0.7423961082642548,0.19950233548026486,0.7402159558507878,0.18517467902133622,0.2835978049667318,0.4741807274004409,0.5630825284546004,0.6286366990349648,0.2501795543310469,0.7955272365073781,0.16173428636241471,0.050204734254485794,0.4382081481065959,0.2671501923354159,0.955059366979821,0.1529166678431476,0.8217727242291973,0.17204493447812763,0.36971567088915025,0.9154956988914491,0.42569728352770564,0.45887419629234427,0.12129559711356108,0.9654929836522862,0.7903036535129876,0.4599566659098787,0.5971223840899808,0.3569616509105895,0.15360104408569963,0.5487284277472704,0.6534860688617089,0.8905196184371469,0.16401626479905196,0.10916069691324404,0.4321712031165479,0.4072255652646315,0.2650785357176779,0.9270889945104955,0.692277347126611,0.5409546661950904,0.8627383395691435,0.7412365998009179,0.602568369118569,0.6074003477770364,0.27308305434747027,0.45680090259787454,0.17852119515354536,0.6180293987178908,0.10978467106746348,0.12711794279847066,0.38474545882020217,0.20489145878188053,0.9790581980780825,0.7175227147030013,0.2719797743493564,0.7652077518856446,0.8877474581255779,0.03863572696712314,0.8594873747158266,0.3661381187729028,0.11733950799271842,0.4667181906471234,0.5844863529508423,0.9363235108197656,0.195930667313585,0.891034799244162,0.07126730268934389,0.06703620887190709,0.05768867528580435,0.8629594579948426,0.29974004020190903,0.4748707308310359,0.03725603532302013,0.43262124491542864,0.4389393971740354,0.07123666965446007,0.9176888238880229,0.4328629148767519,0.7120474532680248,0.8647048647296087,0.9926059972215684,0.19363867451826178,0.662436134482932,0.4016967135103058,0.7197601263880589,0.02860272114301221,0.3022806822614651,0.5515464994237221,0.8378447083500383,0.47674979852398736,0.6281655298478491,0.5558967281182509,0.13871256970615997,0.24873247503647744,0.49072709703657935,0.7782905696156052,0.6820566022844252,0.950934239892136,0.7346637442020144,0.18150816687829674,0.8951861767010167,0.9970717018241961,0.1341147154359309,0.9856518355263096,0.6523542503739458,0.7246256925805276,0.3437634056584622,0.15031243819314333,0.4279932477845675,0.6391425254236239,0.07877440714232786,0.3060866803182489,0.04114779495322751,0.07745818771440716,0.5726823207045192,0.6644360448599633,0.8422008632897128,0.6545042514030812,0.415487776401013,0.2887472274395253,0.8174741367170454,0.9425819662240474,0.2687814894491536,0.5743057889946844,0.08351037581390042,0.5793256757934802,0.3486405372285375,0.8149949821818742,0.3958886765549483,0.3233397732225638,0.27997699985924873,0.5342571361154729,0.2695973135118994,0.3343766065416792,0.11391897784408112,0.8547318389799619,0.47212072774545055,0.37064997934645016,0.35008550112317427,0.3844483512665572,0.6346407983599165,0.9569800356210263,0.7880542630639825,0.5115102896214913,0.8142808741235774,0.23166040473182248,0.1968971445019514,0.056259692256685145,0.8821837388734887,0.1996199094877047,0.6027298531159659,0.9038528217470589,0.20055792923035587,0.2018394419221975,0.6197944139537521,0.18338445857532115,0.5097502064559685,0.5682720025113499,0.6463399684737609,0.5705366486153827,0.15203121556248844,0.5414543044248792,0.8024191946459313,0.16074503287749298,0.9397621484362427,0.4282812647792169,0.9669365163459414,0.20020512035638005,0.5255587211172882,0.3814105297929238,0.6691134702583784,0.7796493023261358,0.48598280619237144,0.25920567232204395,0.3180152254587112,0.3620805499982753,0.6868810621782272,0.36284455353639544,0.17213532228611517,0.1869133881438474,0.7673567266984491,0.2972056295337818,0.20557958350415195,0.14129263468051978,0.5987046570864245,0.40504633524781686,0.3202728371384759,0.7618911922013107,0.762231787725192,0.5317269071899233,0.9751305943913884,0.42416844296390865,0.7388156815372462,0.30795846876748423,0.17319344160001815,0.5470663552993491,0.5868748486808272,0.5645207200464971,0.11524714217393728,0.7691918121462479,0.6423796425655434,0.595869905987443,0.46038784174576464,0.1733304767556384,0.42467416527780955,0.7909222719413012,0.2724239246055967,0.22234700048324763,0.6995147395680731,0.4996845205434496,0.9945682700499716,0.2317747595495132,0.1928434900574928,0.39512594223423936,0.3418509770345638,0.6381683171283307,0.6041008973533427,0.682138415895908,0.09430532294364324,0.16036554245249723,0.21848471468565978,0.8563687185756063,0.5169945396658644,0.6643181880677936,0.9411604637301441,0.002179784936563678,0.9507247626135572,0.08723073576744411,0.3939377511438392,0.7919980810616398,0.716177048664172,0.9520400952470331,0.03902546409401153,0.20033554180160718,0.050261814256449044,0.30102375737325837,0.5478947894696771,0.12367066651892133,0.8499884612071846,0.22927688187503414,0.5414237987167125,0.788658983252742,0.1392138828307099,0.8804420564917382,0.39333049205764026,0.8935943510237553,0.5682683554725899,0.22871965282459517,0.10461286342858656,0.9573703474888436,0.2825477601692802,0.6358314936785804,0.430200923554083,0.6752028041850395,0.910209001800538,0.5394052554746739,0.749415458480526,0.9885233616939002,0.2472003142937984,0.12028093465068979,0.3102960347463568,0.45931921253231034,0.9533510713558032,0.47914950818561186,0.3074702721259236,0.6678143752057689,0.11030814873975758,0.18715428076835838,0.5915347893415585,0.340769185129989,0.001708914401779893,0.618151567856762,0.3436492117111588,0.04240417990414391,0.4729256481144677,0.47874859586116325,0.519972226016022,0.6680064886480731,0.7424681621596316,0.4545285414076876,0.9465152919167551,0.28298745217109256,0.3708785056043632,0.27190621201933396,0.8134853928647494,0.1654692490737647,0.08302368018252271,0.3409671049136024,0.8534178399616401,0.15131433643575987,0.33778177795474573,0.5782731440765281,0.09173088754204461,0.3786411280614681,0.7898477207551186,0.39316494535600566,0.6734879210152835,0.8617088719057143,0.44506672631023403,0.8514854578543039,0.2966659988740762,0.3725187065048101,0.8906303736730534,0.39058639768666603,0.7215507507004839,0.1162593048371372,0.6364347294794974,0.7710191042998642,0.4321182369607347,0.791885070549759,0.79528071280626,0.048234375474529134,0.14693993338928268,0.9585293811981012,0.0547751964203228,0.37733977057556356,0.04988834549298371,0.6249745225279563,0.9810134683560173,0.13784516980463724,0.0844268645196985,0.4502926282700256,0.8890191982572213,0.8664712011156831,0.49291768307190986,0.4619373807028696,0.3526305924338069,0.05592549437899974,0.4759746008279191,0.7701575457408276,0.6317393997890124,0.33213676455811036]},\"selected\":{\"id\":\"2860\"},\"selection_policy\":{\"id\":\"2969\"}},\"id\":\"2824\",\"type\":\"ColumnDataSource\"},{\"attributes\":{\"args\":{\"s1\":{\"id\":\"2824\"},\"s2\":{\"id\":\"2853\"}},\"code\":\"\\n    var inds = s1.selected.indices;\\n    if (inds.length == 0)\\n        return;\\n\\n    var ym = 0\\n    for (var i = 0; i < inds.length; i++) {\\n        ym += s1.data.y[inds[i]]\\n    }\\n    \\n    ym /= inds.length\\n    s2.data.ym = [ym, ym]\\n\\n    // necessary becasue we mutated source.data in-place\\n    s2.change.emit();  \\n\"},\"id\":\"2859\",\"type\":\"CustomJS\"},{\"attributes\":{\"data\":{\"xm\":[0,1],\"ym\":[0.5,0.5]},\"selected\":{\"id\":\"2972\"},\"selection_policy\":{\"id\":\"2971\"}},\"id\":\"2853\",\"type\":\"ColumnDataSource\"},{\"attributes\":{\"text\":\"Select Here\"},\"id\":\"2826\",\"type\":\"Title\"},{\"attributes\":{\"line_alpha\":0.6,\"line_color\":\"orange\",\"line_width\":5,\"x\":{\"field\":\"xm\"},\"y\":{\"field\":\"ym\"}},\"id\":\"2855\",\"type\":\"Line\"},{\"attributes\":{\"line_alpha\":0.1,\"line_color\":\"orange\",\"line_width\":5,\"x\":{\"field\":\"xm\"},\"y\":{\"field\":\"ym\"}},\"id\":\"2856\",\"type\":\"Line\"},{\"attributes\":{},\"id\":\"2832\",\"type\":\"LinearScale\"},{\"attributes\":{\"data_source\":{\"id\":\"2853\"},\"glyph\":{\"id\":\"2855\"},\"hover_glyph\":null,\"muted_glyph\":null,\"nonselection_glyph\":{\"id\":\"2856\"},\"selection_glyph\":null,\"view\":{\"id\":\"2858\"}},\"id\":\"2857\",\"type\":\"GlyphRenderer\"},{\"attributes\":{},\"id\":\"2834\",\"type\":\"LinearScale\"}],\"root_ids\":[\"2825\"]},\"title\":\"Bokeh Application\",\"version\":\"2.0.0\"}};\n",
       "  var render_items = [{\"docid\":\"915193dd-dd75-4fc3-96d3-0b211695b31e\",\"root_ids\":[\"2825\"],\"roots\":{\"2825\":\"f12a4994-aec5-471b-b37d-9bcd85d132b1\"}}];\n",
       "  root.Bokeh.embed.embed_items_notebook(docs_json, render_items);\n",
       "\n",
       "  }\n",
       "  if (root.Bokeh !== undefined) {\n",
       "    embed_document(root);\n",
       "  } else {\n",
       "    var attempts = 0;\n",
       "    var timer = setInterval(function(root) {\n",
       "      if (root.Bokeh !== undefined) {\n",
       "        clearInterval(timer);\n",
       "        embed_document(root);\n",
       "      } else {\n",
       "        attempts++;\n",
       "        if (attempts > 100) {\n",
       "          clearInterval(timer);\n",
       "          console.log(\"Bokeh: ERROR: Unable to run BokehJS code because BokehJS library is missing\");\n",
       "        }\n",
       "      }\n",
       "    }, 10, root)\n",
       "  }\n",
       "})(window);"
      ],
      "application/vnd.bokehjs_exec.v0+json": ""
     },
     "metadata": {
      "application/vnd.bokehjs_exec.v0+json": {
       "id": "2825"
      }
     },
     "output_type": "display_data"
    }
   ],
   "source": [
    "from random import random\n",
    "\n",
    "x = [random() for x in range(500)]\n",
    "y = [random() for y in range(500)]\n",
    "color = [\"navy\"] * len(x)\n",
    "\n",
    "s1 = ColumnDataSource(data=dict(x=x, y=y, color=color))\n",
    "p = figure(plot_width=400, plot_height=400, tools=\"lasso_select\", title=\"Select Here\")\n",
    "p.circle('x', 'y', color='color', size=8, alpha=0.4, source=s1, \n",
    "         selection_color=\"firebrick\", selection_alpha=0.4)\n",
    "\n",
    "s2 = ColumnDataSource(data=dict(xm=[0,1],ym=[0.5, 0.5]))\n",
    "p.line(x='xm', y='ym', color=\"orange\", line_width=5, alpha=0.6, source=s2)\n",
    "\n",
    "callback = CustomJS(args=dict(s1=s1, s2=s2), code=\"\"\"\n",
    "    var inds = s1.selected.indices;\n",
    "    if (inds.length == 0)\n",
    "        return;\n",
    "\n",
    "    var ym = 0\n",
    "    for (var i = 0; i < inds.length; i++) {\n",
    "        ym += s1.data.y[inds[i]]\n",
    "    }\n",
    "    \n",
    "    ym /= inds.length\n",
    "    s2.data.ym = [ym, ym]\n",
    "\n",
    "    // necessary becasue we mutated source.data in-place\n",
    "    s2.change.emit();  \n",
    "\"\"\")\n",
    "\n",
    "s1.selected.js_on_change('indices', callback)\n",
    "\n",
    "show(p)"
   ]
  },
  {
   "cell_type": "code",
   "execution_count": 19,
   "metadata": {},
   "outputs": [],
   "source": [
    "# Exercise: Experiment with selection callbacks\n",
    "\n"
   ]
  },
  {
   "cell_type": "markdown",
   "metadata": {},
   "source": [
    "## CustomJS for UI Events\n",
    "\n",
    "Bokeh also has a general events system\n",
    "\n",
    "All of the available UI events, and their properties, are listed in the Reference Guide section for [bokeh.events](https://bokeh.pydata.org/en/latest/docs/reference/events.html)"
   ]
  },
  {
   "cell_type": "code",
   "execution_count": 20,
   "metadata": {},
   "outputs": [
    {
     "data": {
      "text/html": [
       "\n",
       "\n",
       "\n",
       "\n",
       "\n",
       "\n",
       "  <div class=\"bk-root\" id=\"1957f2d9-caf7-407a-825c-deffe80aa300\" data-root-id=\"3061\"></div>\n"
      ]
     },
     "metadata": {},
     "output_type": "display_data"
    },
    {
     "data": {
      "application/javascript": [
       "(function(root) {\n",
       "  function embed_document(root) {\n",
       "    \n",
       "  var docs_json = {\"8d07972f-3ee6-4c73-8c9e-977b2125dc4d\":{\"roots\":{\"references\":[{\"attributes\":{\"children\":[{\"id\":\"3059\"},{\"id\":\"3060\"}]},\"id\":\"3061\",\"type\":\"Column\"},{\"attributes\":{\"fill_alpha\":{\"value\":0.1},\"fill_color\":{\"value\":\"#1f77b4\"},\"line_alpha\":{\"value\":0.1},\"line_color\":{\"value\":null},\"radius\":{\"units\":\"data\",\"value\":1},\"x\":{\"field\":\"x\"},\"y\":{\"field\":\"y\"}},\"id\":\"3055\",\"type\":\"Circle\"},{\"attributes\":{\"data_source\":{\"id\":\"3053\"},\"glyph\":{\"id\":\"3054\"},\"hover_glyph\":null,\"muted_glyph\":null,\"nonselection_glyph\":{\"id\":\"3055\"},\"selection_glyph\":null,\"view\":{\"id\":\"3057\"}},\"id\":\"3056\",\"type\":\"GlyphRenderer\"},{\"attributes\":{\"data\":{\"x\":{\"__ndarray__\":\"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\",\"dtype\":\"float64\",\"shape\":[2000]},\"y\":{\"__ndarray__\":\"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\",\"dtype\":\"float64\",\"shape\":[2000]}},\"selected\":{\"id\":\"3184\"},\"selection_policy\":{\"id\":\"3183\"}},\"id\":\"3053\",\"type\":\"ColumnDataSource\"},{\"attributes\":{\"width\":400},\"id\":\"3058\",\"type\":\"Div\"},{\"attributes\":{\"source\":{\"id\":\"3053\"}},\"id\":\"3057\",\"type\":\"CDSView\"},{\"attributes\":{\"children\":[{\"id\":\"3033\"},{\"id\":\"3058\"}]},\"id\":\"3060\",\"type\":\"Row\"},{\"attributes\":{\"icon\":null,\"js_event_callbacks\":{\"button_click\":[{\"id\":\"3062\"}]},\"width\":300},\"id\":\"3059\",\"type\":\"Button\"},{\"attributes\":{},\"id\":\"3034\",\"type\":\"DataRange1d\"},{\"attributes\":{\"args\":{\"div\":{\"id\":\"3058\"}},\"code\":\"\\ndiv.text = \\\"Button!\\\";\\n\"},\"id\":\"3062\",\"type\":\"CustomJS\"},{\"attributes\":{\"below\":[{\"id\":\"3042\"}],\"center\":[{\"id\":\"3045\"},{\"id\":\"3049\"}],\"js_event_callbacks\":{\"selectiongeometry\":[{\"id\":\"3063\"}]},\"left\":[{\"id\":\"3046\"}],\"renderers\":[{\"id\":\"3056\"}],\"title\":{\"id\":\"3176\"},\"toolbar\":{\"id\":\"3051\"},\"x_range\":{\"id\":\"3034\"},\"x_scale\":{\"id\":\"3038\"},\"y_range\":{\"id\":\"3036\"},\"y_scale\":{\"id\":\"3040\"}},\"id\":\"3033\",\"subtype\":\"Figure\",\"type\":\"Plot\"},{\"attributes\":{\"fill_alpha\":{\"value\":0.6},\"fill_color\":{\"value\":\"#1f77b4\"},\"line_color\":{\"value\":null},\"radius\":{\"units\":\"data\",\"value\":1},\"x\":{\"field\":\"x\"},\"y\":{\"field\":\"y\"}},\"id\":\"3054\",\"type\":\"Circle\"},{\"attributes\":{},\"id\":\"3036\",\"type\":\"DataRange1d\"},{\"attributes\":{\"args\":{\"div\":{\"id\":\"3058\"}},\"code\":\"\\ndiv.text = \\\"Selection! <p> <p>\\\" + JSON.stringify(cb_obj.geometry, undefined, 2);\\n\"},\"id\":\"3063\",\"type\":\"CustomJS\"},{\"attributes\":{},\"id\":\"3038\",\"type\":\"LinearScale\"},{\"attributes\":{},\"id\":\"3040\",\"type\":\"LinearScale\"},{\"attributes\":{\"text\":\"\"},\"id\":\"3176\",\"type\":\"Title\"},{\"attributes\":{\"formatter\":{\"id\":\"3181\"},\"ticker\":{\"id\":\"3043\"}},\"id\":\"3042\",\"type\":\"LinearAxis\"},{\"attributes\":{},\"id\":\"3179\",\"type\":\"BasicTickFormatter\"},{\"attributes\":{},\"id\":\"3043\",\"type\":\"BasicTicker\"},{\"attributes\":{},\"id\":\"3181\",\"type\":\"BasicTickFormatter\"},{\"attributes\":{\"axis\":{\"id\":\"3042\"},\"ticker\":null},\"id\":\"3045\",\"type\":\"Grid\"},{\"attributes\":{\"bottom_units\":\"screen\",\"fill_alpha\":0.5,\"fill_color\":\"lightgrey\",\"left_units\":\"screen\",\"level\":\"overlay\",\"line_alpha\":1.0,\"line_color\":\"black\",\"line_dash\":[4,4],\"line_width\":2,\"render_mode\":\"css\",\"right_units\":\"screen\",\"top_units\":\"screen\"},\"id\":\"3182\",\"type\":\"BoxAnnotation\"},{\"attributes\":{\"formatter\":{\"id\":\"3179\"},\"ticker\":{\"id\":\"3047\"}},\"id\":\"3046\",\"type\":\"LinearAxis\"},{\"attributes\":{},\"id\":\"3183\",\"type\":\"UnionRenderers\"},{\"attributes\":{},\"id\":\"3047\",\"type\":\"BasicTicker\"},{\"attributes\":{},\"id\":\"3184\",\"type\":\"Selection\"},{\"attributes\":{\"axis\":{\"id\":\"3046\"},\"dimension\":1,\"ticker\":null},\"id\":\"3049\",\"type\":\"Grid\"},{\"attributes\":{\"active_drag\":\"auto\",\"active_inspect\":\"auto\",\"active_multi\":null,\"active_scroll\":\"auto\",\"active_tap\":\"auto\",\"tools\":[{\"id\":\"3050\"}]},\"id\":\"3051\",\"type\":\"Toolbar\"},{\"attributes\":{\"overlay\":{\"id\":\"3182\"}},\"id\":\"3050\",\"type\":\"BoxSelectTool\"}],\"root_ids\":[\"3061\"]},\"title\":\"Bokeh Application\",\"version\":\"2.0.0\"}};\n",
       "  var render_items = [{\"docid\":\"8d07972f-3ee6-4c73-8c9e-977b2125dc4d\",\"root_ids\":[\"3061\"],\"roots\":{\"3061\":\"1957f2d9-caf7-407a-825c-deffe80aa300\"}}];\n",
       "  root.Bokeh.embed.embed_items_notebook(docs_json, render_items);\n",
       "\n",
       "  }\n",
       "  if (root.Bokeh !== undefined) {\n",
       "    embed_document(root);\n",
       "  } else {\n",
       "    var attempts = 0;\n",
       "    var timer = setInterval(function(root) {\n",
       "      if (root.Bokeh !== undefined) {\n",
       "        clearInterval(timer);\n",
       "        embed_document(root);\n",
       "      } else {\n",
       "        attempts++;\n",
       "        if (attempts > 100) {\n",
       "          clearInterval(timer);\n",
       "          console.log(\"Bokeh: ERROR: Unable to run BokehJS code because BokehJS library is missing\");\n",
       "        }\n",
       "      }\n",
       "    }, 10, root)\n",
       "  }\n",
       "})(window);"
      ],
      "application/vnd.bokehjs_exec.v0+json": ""
     },
     "metadata": {
      "application/vnd.bokehjs_exec.v0+json": {
       "id": "3061"
      }
     },
     "output_type": "display_data"
    }
   ],
   "source": [
    "from bokeh.plotting import figure\n",
    "from bokeh import events\n",
    "from bokeh.models import CustomJS, Div, Button\n",
    "from bokeh.layouts import column, row\n",
    "\n",
    "import numpy as np\n",
    "x = np.random.random(size=2000) * 100\n",
    "y = np.random.random(size=2000) * 100\n",
    "\n",
    "p = figure(tools=\"box_select\")\n",
    "p.scatter(x, y, radius=1, fill_alpha=0.6, line_color=None)\n",
    "\n",
    "div = Div(width=400)\n",
    "button = Button(label=\"Button\", width=300)\n",
    "layout = column(button, row(p, div))\n",
    "\n",
    "# Events with no attributes\n",
    "button.js_on_event(events.ButtonClick,  CustomJS(args=dict(div=div), code=\"\"\"\n",
    "div.text = \"Button!\";\n",
    "\"\"\")) \n",
    "\n",
    "p.js_on_event(events.SelectionGeometry, CustomJS(args=dict(div=div), code=\"\"\"\n",
    "div.text = \"Selection! <p> <p>\" + JSON.stringify(cb_obj.geometry, undefined, 2);\n",
    "\"\"\"))\n",
    "\n",
    "show(layout)"
   ]
  },
  {
   "cell_type": "code",
   "execution_count": 21,
   "metadata": {},
   "outputs": [],
   "source": [
    "# Exercise: Create a plot that responds to different events from bokeh.events\n",
    "\n"
   ]
  },
  {
   "cell_type": "markdown",
   "metadata": {},
   "source": [
    "## Additional Information\n",
    "\n",
    "There are many kinds of interactions and events that can be connected to `CustomJS` callbacks. \n",
    "\n",
    "\n",
    "* Widgets - Button, Toggle, Dropdown, TextInput, AutocompleteInput, Select, Multiselect, Slider, (DateRangeSlider), DatePicker,\n",
    "* Tools - TapTool, BoxSelectTool, HoverTool,\n",
    "* Selection - ColumnDataSource, AjaxDataSource, BlazeDataSource, ServerDataSource\n",
    "* Ranges - Range1d, DataRange1d, FactorRange\n",
    "\n",
    "\n",
    "For more complete examples the User Guide section on [JavaScript Interactions](https://bokeh.pydata.org/en/latest/docs/user_guide/interaction.html)"
   ]
  },
  {
   "cell_type": "markdown",
   "metadata": {},
   "source": [
    "# Next Section"
   ]
  },
  {
   "cell_type": "markdown",
   "metadata": {},
   "source": [
    "Click on this link to go to the next notebook: [07 - Bar and Categorical Data Plots](07%20-%20Bar%20and%20Categorical%20Data%20Plots.ipynb).\n",
    "\n",
    "To go back to the overview, click [here](00%20-%20Introduction%20and%20Setup.ipynb)."
   ]
  },
  {
   "cell_type": "code",
   "execution_count": null,
   "metadata": {},
   "outputs": [],
   "source": []
  }
 ],
 "metadata": {
  "anaconda-cloud": {},
  "kernelspec": {
   "display_name": "Python 3",
   "language": "python",
   "name": "python3"
  },
  "language_info": {
   "codemirror_mode": {
    "name": "ipython",
    "version": 3
   },
   "file_extension": ".py",
   "mimetype": "text/x-python",
   "name": "python",
   "nbconvert_exporter": "python",
   "pygments_lexer": "ipython3",
   "version": "3.6.10"
  }
 },
 "nbformat": 4,
 "nbformat_minor": 4
}
