{
 "cells": [
  {
   "cell_type": "markdown",
   "metadata": {},
   "source": [
    "<table style=\"float:left; border:none\">\n",
    "   <tr style=\"border:none\">\n",
    "       <td style=\"border:none\">\n",
    "           <a href=\"https://bokeh.org/\">     \n",
    "           <img \n",
    "               src=\"assets/bokeh-transparent.png\" \n",
    "               style=\"width:50px\"\n",
    "           >\n",
    "           </a>    \n",
    "       </td>\n",
    "       <td style=\"border:none\">\n",
    "           <h1>Bokeh Tutorial</h1>\n",
    "       </td>\n",
    "   </tr>\n",
    "</table>\n",
    "<div style=\"float:right;\"><h2>A4. Additional resources</h2></div>"
   ]
  },
  {
   "cell_type": "markdown",
   "metadata": {},
   "source": [
    "# Additional resources\n",
    "\n",
    "There are lots of things we haven't had time to tell you about. In general to learn more about bokeh, the following resources will hopefully be helpful:\n",
    "\n"
   ]
  },
  {
   "cell_type": "markdown",
   "metadata": {},
   "source": [
    "## Doumentation\n",
    "\n",
    "##### Main Page - https://bokeh.org \n",
    "\n",
    "The main front page, with links to many other resources\n",
    "\n",
    "---\n",
    "\n",
    "##### Documentation  - https://docs.bokeh.org/en/latest \n",
    "\n",
    "The documentation toplevel page\n",
    "\n",
    "---\n",
    "\n",
    "##### User's Guide - https://docs.bokeh.org/en/latest/docs/user_guide.html\n",
    "\n",
    "The user's guide has many top-oriented subsections, for example \"Plotting with Basic Glyphs\", \"Configuring Plot Tools\", or \"Adding Interactions\". Each user's guide section typically example code and corresponding live plots that demonstrate how to accomplish various tasks. \n",
    "\n",
    "---\n",
    "\n",
    "##### Gallery - https://docs.bokeh.org/en/latest/docs/gallery.html\n",
    "\n",
    "One of the best ways to learn is to find an existing example similar to what you want, and to study it and then use it as a starting place. Starting from a known working example can often save time and effort when getting started by allowing you to make small, incremental changes and observing the outcome. The Bokeh docs have a large thumbnail gallery that links to live plots and apps with corresponding code.  \n",
    "\n",
    "\n",
    "---\n",
    "\n",
    "##### Reference Guide - https://docs.bokeh.org/en/latest/docs/reference.html\n",
    "\n",
    "If you are already familiar with Bokeh and have questions about specific details of the obejcts you are already using, the reference guide is a good resource for finding information. The reference guide is automatically generated from the project source code and is a complete resources for all bokeh models and their properties. \n",
    "\n",
    "---\n",
    "\n",
    "\n",
    "\n",
    "##### Issue tracker - https://github.com/bokeh/bokeh/issues\n",
    "\n",
    "The GitHub issue tracker is the place to go to submit ***bug reports*** and ***feature requests***. It it NOT the right place for general support questions (see the *General Community Support* links below).\n",
    "\n"
   ]
  },
  {
   "cell_type": "markdown",
   "metadata": {},
   "source": [
    "## Example apps and Scripts\n",
    "\n",
    "In addition to all the live gallery examples, Bokeh has many additional scripts and apps that can be instructive to study and emulate. \n",
    "\n",
    "##### Examples folder - https://github.com/bokeh/bokeh/tree/master/examples/\n",
    "\n",
    "The `examples` directory has many subfolders dedicated to different kinds of topics. Some of the hightlights are:\n",
    "\n",
    "* `app` - example Bokeh apps, run with \"`bokeh serve`\"\n",
    "* `howto` - some examples arranged around specific topics such as layout or notebook comms\n",
    "* `models` - examples that demonstrate the low-level `bokeh.models` API\n",
    "* `plotting` - a large collections of examples using the `bokeh.plotting` interface\n",
    "* `webgl` - some examples demonstrating WebGL usage\n",
    "\n",
    "---\n",
    "\n"
   ]
  },
  {
   "cell_type": "markdown",
   "metadata": {},
   "source": [
    "## General Commnity Support\n",
    "\n",
    "Bokeh has a large and growing community. The best place to go for general support questions (either to ask, or to answer!) is https://discourse.bokeh.org\n",
    "\n"
   ]
  },
  {
   "cell_type": "markdown",
   "metadata": {},
   "source": [
    "## Contributor Resources\n",
    "\n",
    "Bokeh has a small but growing developer community. We are always looking to have new contributors. Below are some resources for people involved in working on Bokeh itself.\n",
    "\n",
    "##### Source code - https://github.com/bokeh/bokeh\n",
    "\n",
    "Go here to clone the GitHub repo (in order to contribute or get the examples), or to submit issues to the issue tracker \n",
    "\n",
    "---\n",
    "\n",
    "##### Issue tracker - https://github.com/bokeh/bokeh/issues\n",
    "\n",
    "The GitHub issue tracker is the place to go to submit ***bug reports*** and ***feature requests***. For general support questions, see the *General Community Support* links above.\n",
    "\n",
    "---\n",
    "\n",
    "#### Developer's Guide - https://bokeh.pydata.org/en/latest/docs/dev_guide.html\n",
    "\n",
    "If you are interesting in becoming a contributor to Bokeh, the developer's guide is the place to start. It has information about getting a development environment set up, the library architecture, writing and running tests, \n",
    "\n",
    "---\n",
    "\n",
    "#### Dev Channel in Discourse - https://discourse.bokeh.org/c/development\n",
    "\n",
    "Come here for assistance with any questions about developing Bokeh itself. \n"
   ]
  },
  {
   "cell_type": "markdown",
   "metadata": {},
   "source": [
    "# Next Section"
   ]
  },
  {
   "cell_type": "markdown",
   "metadata": {},
   "source": [
    "This is the last section of the appendices.\n",
    "\n",
    "To go back to the overview, click [here](00%20-%20Introduction%20and%20Setup.ipynb)."
   ]
  },
  {
   "cell_type": "code",
   "execution_count": null,
   "metadata": {},
   "outputs": [],
   "source": []
  }
 ],
 "metadata": {
  "kernelspec": {
   "display_name": "Python 3",
   "language": "python",
   "name": "python3"
  },
  "language_info": {
   "codemirror_mode": {
    "name": "ipython",
    "version": 3
   },
   "file_extension": ".py",
   "mimetype": "text/x-python",
   "name": "python",
   "nbconvert_exporter": "python",
   "pygments_lexer": "ipython3",
   "version": "3.7.6"
  }
 },
 "nbformat": 4,
 "nbformat_minor": 4
}
