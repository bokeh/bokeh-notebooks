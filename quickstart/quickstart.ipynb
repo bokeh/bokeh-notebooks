{
 "cells": [
  {
   "cell_type": "code",
   "execution_count": null,
   "metadata": {},
   "outputs": [],
   "source": []
  },
  {
   "cell_type": "markdown",
   "metadata": {},
   "source": [
    "<div>\n",
    "<a href=\"https://bokeh.org/\"><img src=\"https://bokeh.org/img/hero.png\"></a>\n",
    "</div>\n",
    "\n",
    "<table style=\"float:left; border:none\">\n",
    "   <tr style=\"border:none\">\n",
    "       <td style=\"border:none\">\n",
    "           <a href=\"https://bokeh.org/\">     \n",
    "           <img \n",
    "               src=\"../tutorial/assets/bokeh-transparent.png\" \n",
    "               style=\"width:50px\"\n",
    "           >\n",
    "           </a>    \n",
    "       </td>\n",
    "       <td style=\"border:none\">\n",
    "           <h1>Bokeh Quickstart</h1>\n",
    "       </td>\n",
    "   </tr>\n",
    "</table>\n",
    "\n",
    "<div style=\"float:right;\"><h2>Bokeh 5-minute Overview</h2></div>"
   ]
  },
  {
   "cell_type": "markdown",
   "metadata": {},
   "source": [
    "Bokeh is a Python interactive visualization library that targets modern web browsers for presentation. Its goal is to provide elegant, concise construction of novel graphics in the style of D3.js, and to extend this capability with high-performance interactivity over very large or streaming datasets. Bokeh can help anyone who would like to quickly and easily create interactive plots, dashboards, and data applications.\n",
    "\n",
    "## Simple Example\n",
    "Here is a simple first example. First we'll import the figure function from bokeh.plotting, which will let us create all sorts of interesting plots easily. We also import the show and ouptut_notebook functions from bokeh.io — these let us display our results inline in the notebook."
   ]
  },
  {
   "cell_type": "code",
   "execution_count": null,
   "metadata": {},
   "outputs": [],
   "source": [
    "from bokeh.plotting import figure \n",
    "from bokeh.io import output_notebook, show"
   ]
  },
  {
   "cell_type": "markdown",
   "metadata": {},
   "source": [
    "Next, we'll tell Bokeh to display its plots directly into the notebook. This will cause all of the Javascript and data to be embedded directly into the HTML of the notebook itself. (Bokeh can output straight to HTML files, or use a server, which we'll look at later.)"
   ]
  },
  {
   "cell_type": "code",
   "execution_count": null,
   "metadata": {},
   "outputs": [],
   "source": [
    "output_notebook()"
   ]
  },
  {
   "cell_type": "markdown",
   "metadata": {},
   "source": [
    "Next, we'll import NumPy and create some simple data."
   ]
  },
  {
   "cell_type": "code",
   "execution_count": null,
   "metadata": {},
   "outputs": [],
   "source": [
    "from numpy import cos, linspace\n",
    "x = linspace(-6, 6, 100)\n",
    "y = cos(x)"
   ]
  },
  {
   "cell_type": "markdown",
   "metadata": {},
   "source": [
    "Now we'll call Bokeh's figure function to create a plot p. Then we call the `circle()` method of the plot to render a red circle at each of the points in *x* and *y*.\n",
    "\n",
    "We can immediately interact with the plot:\n",
    "\n",
    "- click-drag will pan the plot around.\n",
    "- mousewheel will zoom in and out (after enabling in the toolbar)\n",
    "\n",
    "The toolbar below is the default one that is available for all plots. It can be configured further via the tools keyword argument."
   ]
  },
  {
   "cell_type": "code",
   "execution_count": null,
   "metadata": {},
   "outputs": [],
   "source": [
    "p = figure(width=500, height=500)\n",
    "p.circle(x, y, size=7, color=\"firebrick\", alpha=0.5)\n",
    "show(p)"
   ]
  },
  {
   "cell_type": "markdown",
   "metadata": {},
   "source": [
    "## Bar Plot Example\n",
    "Bokeh's core display model relies on *composing graphical primitives* which are bound to data series. This is similar in spirit to D3, and different than most other Python plotting libraries.\n",
    "\n",
    "A slightly more sophisticated example demonstrates this idea.\n",
    "\n",
    "Bokeh ships with a small set of interesting \"sample data\" in the `bokeh.sampledata` package. We'll load up some historical automobile mileage data, which is returned as a Pandas `DataFrame`."
   ]
  },
  {
   "cell_type": "code",
   "execution_count": null,
   "metadata": {},
   "outputs": [],
   "source": [
    "from bokeh.sampledata.autompg import autompg\n",
    "\n",
    "grouped = autompg.groupby(\"yr\")\n",
    "\n",
    "mpg = grouped.mpg\n",
    "avg, std = mpg.mean(), mpg.std()\n",
    "years = list(grouped.groups)\n",
    "american = autompg[autompg[\"origin\"]==1]\n",
    "japanese = autompg[autompg[\"origin\"]==3]"
   ]
  },
  {
   "cell_type": "markdown",
   "metadata": {},
   "source": [
    "For each year, we want to plot the distribution of MPG within that year."
   ]
  },
  {
   "cell_type": "code",
   "execution_count": null,
   "metadata": {},
   "outputs": [],
   "source": [
    "p = figure(title=\"MPG by Year (Japan and US)\")\n",
    "\n",
    "p.vbar(x=years, bottom=avg-std, top=avg+std, width=0.8, \n",
    "       fill_alpha=0.2, line_color=None, legend_label=\"MPG 1 stddev\")\n",
    "\n",
    "p.circle(x=japanese[\"yr\"], y=japanese[\"mpg\"], size=10, alpha=0.5,\n",
    "         color=\"red\", legend_label=\"Japanese\")\n",
    "\n",
    "p.triangle(x=american[\"yr\"], y=american[\"mpg\"], size=10, alpha=0.3,\n",
    "           color=\"blue\", legend_label=\"American\")\n",
    "\n",
    "p.legend.location = \"top_left\"\n",
    "show(p)"
   ]
  },
  {
   "cell_type": "markdown",
   "metadata": {},
   "source": [
    "**This kind of approach can be used to generate other kinds of interesting plots**. See many more examples in the [Bokeh Documentation Gallery](https://docs.bokeh.org/en/latest/docs/gallery.html).\n",
    "\n"
   ]
  },
  {
   "cell_type": "markdown",
   "metadata": {},
   "source": [
    "# Linked Brushing\n",
    "To link plots together at a data level, we can explicitly wrap the data in a `ColumnDataSource`. This allows us to reference columns by name.\n",
    "\n",
    "We can use a \"select\" tool to select points on one plot, and the linked points on the other plots will highlight."
   ]
  },
  {
   "cell_type": "code",
   "execution_count": null,
   "metadata": {},
   "outputs": [],
   "source": [
    "from bokeh.models import ColumnDataSource\n",
    "from bokeh.layouts import gridplot\n",
    "\n",
    "source = ColumnDataSource(autompg)\n",
    "\n",
    "options = dict(width=300, height=300,\n",
    "               tools=\"pan,wheel_zoom,box_zoom,box_select,lasso_select\")\n",
    "\n",
    "p1 = figure(title=\"MPG by Year\", **options)\n",
    "p1.circle(\"yr\", \"mpg\", color=\"blue\", source=source)\n",
    "\n",
    "p2 = figure(title=\"HP vs. Displacement\", **options)\n",
    "p2.circle(\"hp\", \"displ\", color=\"green\", source=source)\n",
    "\n",
    "p3 = figure(title=\"MPG vs. Displacement\", **options)\n",
    "p3.circle(\"mpg\", \"displ\", size=\"cyl\", line_color=\"red\", fill_color=None, source=source)\n",
    "\n",
    "p = gridplot([[ p1, p2, p3]], toolbar_location=\"right\")\n",
    "\n",
    "show(p)"
   ]
  },
  {
   "cell_type": "markdown",
   "metadata": {},
   "source": [
    "You can read more about the `ColumnDataSource` and other Bokeh data structures in [Providing Data for Plots and Tables](https://docs.bokeh.org/en/latest/docs/user_guide/data.html)"
   ]
  },
  {
   "cell_type": "markdown",
   "metadata": {},
   "source": [
    "## Standalone HTML\n",
    "In addition to working well with the Notebook, Bokeh can also save plots out into their own HTML files. Here is the bar plot example from above, but saving into its own standalone file.\n",
    "\n",
    "Now when we call `show()`, a new browser tab is also opened with the plot. If we just wanted to save the file, we would use `save()` instead."
   ]
  },
  {
   "cell_type": "code",
   "execution_count": null,
   "metadata": {},
   "outputs": [],
   "source": [
    "from bokeh.plotting import output_file\n",
    "\n",
    "output_file(\"barplot.html\")\n",
    "\n",
    "p = figure(title=\"MPG by Year (Japan and US)\")\n",
    "\n",
    "p.vbar(x=years, bottom=avg-std, top=avg+std, width=0.8, \n",
    "       fill_alpha=0.2, line_color=None, legend_label=\"MPG 1 stddev\")\n",
    "\n",
    "p.circle(x=japanese[\"yr\"], y=japanese[\"mpg\"], size=10, alpha=0.3,\n",
    "         color=\"red\", legend_label=\"Japanese\")\n",
    "\n",
    "p.triangle(x=american[\"yr\"], y=american[\"mpg\"], size=10, alpha=0.3,\n",
    "           color=\"blue\", legend_label=\"American\")\n",
    "\n",
    "p.legend.location = \"top_left\"\n",
    "show(p)"
   ]
  },
  {
   "cell_type": "markdown",
   "metadata": {},
   "source": [
    "## Bokeh Applications\n",
    "Bokeh also has a server component that can be used to build interactive web applications that easily connect the powerful constellation of PyData tools to sophisticated Bokeh visualizations. The Bokeh server can be used to:\n",
    "\n",
    "- respond to UI and tool events generated in a browser with computations or queries using the full power of python\n",
    "- automatically push server-side updates to the UI (i.e. widgets or plots in a browser)\n",
    "- use periodic, timeout, and asynchronous callbacks to drive streaming updates\n",
    "\n",
    "The cell below shows a simple deployed Bokeh application from https://demo.bokeh.org embedded in an IFrame. Scrub the sliders or change the title to see the plot update."
   ]
  },
  {
   "cell_type": "code",
   "execution_count": null,
   "metadata": {},
   "outputs": [],
   "source": [
    "from IPython.display import IFrame\n",
    "IFrame('https://demo.bokeh.org/sliders', width=900, height=410)"
   ]
  },
  {
   "cell_type": "markdown",
   "metadata": {},
   "source": [
    "<p>Click on any of the thumbnails below to launch other live Bokeh applications.</p>\n",
    "<center>\n",
    "<a href=\"https://demo.bokeh.org/crossfilter\">\n",
    "  <img \n",
    "    width=\"30%\" height=\"30%\" style=\"display: inline ; padding: 10px;\" \n",
    "    src=\"https://bokeh.pydata.org/static/crossfilter_t.png\"\n",
    "  >\n",
    "</a>\n",
    "\n",
    "<a href=\"https://demo.bokeh.org/movies\">\n",
    "  <img \n",
    "    width=\"30%\" height=\"30%\" style=\"display: inline ; padding: 10px;\" \n",
    "    src=\"https://bokeh.pydata.org/static/movies_t.png\" \n",
    "  >\n",
    "</a>\n",
    "\n",
    "<a href=\"https://demo.bokeh.org/gapminder\">\n",
    "  <img \n",
    "    width=\"30%\" height=\"30%\" style=\"display: inline ; padding: 10px;\" \n",
    "    src=\"https://bokeh.pydata.org/static/gapminder_t.png\"\n",
    "  >\n",
    "</a>\n",
    "</center><p>Find more details and information about developing and deploying Bokeh server applications in the User's Guide chapter <a href=\"https://docs.bokeh.org/en/latest/docs/user_guide/server.html\">Running a Bokeh Server</a>.</p>"
   ]
  },
  {
   "cell_type": "markdown",
   "metadata": {},
   "source": [
    "<h2 id=\"BokehJS\">BokehJS<a class=\"anchor-link\" href=\"#BokehJS\">&#182;</a></h2><p>At its core, Bokeh consists of a Javascript library, <a href=\"https://github.com/bokeh/bokeh/tree/branch-3.0/bokehjs\">BokehJS</a>, and a Python binding which provides classes and objects that ultimately generate a JSON representation of the plot structure.</p>\n",
    "<p>You can read more about design and usage in the <a href=\"https://docs.bokeh.org/en/latest/docs/user_guide/advanced/bokehjs.html\">BokehJS</a> section of the Bokeh User's Guide.</p>\n"
   ]
  },
  {
   "cell_type": "markdown",
   "metadata": {},
   "source": [
    "<h2 id=\"More-Information\">More Information<a class=\"anchor-link\" href=\"#More-Information\">&#182;</a></h2><p>Find more details and information at <a href=\"https://bokeh.org\">https://bokeh.org</a>.</p>\n",
    "<p><img src=\"http://static.bokeh.org/logos/logotype.svg\" width=\"256px\" height=\"64px\"></p>"
   ]
  },
  {
   "cell_type": "code",
   "execution_count": null,
   "metadata": {},
   "outputs": [],
   "source": []
  }
 ],
 "metadata": {
  "kernelspec": {
   "display_name": "Python 3 (ipykernel)",
   "language": "python",
   "name": "python3"
  },
  "language_info": {
   "codemirror_mode": {
    "name": "ipython",
    "version": 3
   },
   "file_extension": ".py",
   "mimetype": "text/x-python",
   "name": "python",
   "nbconvert_exporter": "python",
   "pygments_lexer": "ipython3",
   "version": "3.9.13"
  }
 },
 "nbformat": 4,
 "nbformat_minor": 4
}
