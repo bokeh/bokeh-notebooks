{
 "cells": [
  {
   "cell_type": "markdown",
   "metadata": {},
   "source": [
    "<div>\n",
    "<a href=\"http://bokeh.pydata.org/\"><img src=\"../images/bokeh-header.png\"></a>\n",
    "</div>\n",
    "\n",
    "# Bokeh 5-minute Overview\n",
    "\n",
    "Bokeh is a Python interactive visualization library that targets modern web browsers for presentation. Its goal is to provide elegant, concise construction of novel graphics in the style of D3.js, and to extend this capability with high-performance interactivity over very large or streaming datasets. Bokeh can help anyone who would like to quickly and easily create interactive plots, dashboards, and data applications."
   ]
  },
  {
   "cell_type": "markdown",
   "metadata": {},
   "source": [
    "## Simple Example\n",
    "\n",
    "Here is a simple first example.  First we'll import the [`figure`](https://bokeh.pydata.org/en/latest/docs/reference/plotting.html#bokeh.plotting.figure.figure) function from [`bokeh.plotting`](https://bokeh.pydata.org/en/latest/docs/user_guide/plotting.html), which will let us create all sorts of interesting plots easily. We also import the `show` and `ouptut_notebook` functions from `bokeh.io` &mdash; these let us display our results inline in the notebook."
   ]
  },
  {
   "cell_type": "code",
   "execution_count": 1,
   "metadata": {},
   "outputs": [],
   "source": [
    "from bokeh.plotting import figure \n",
    "from bokeh.io import output_notebook, show"
   ]
  },
  {
   "cell_type": "markdown",
   "metadata": {},
   "source": [
    "Next, we'll tell Bokeh to display its plots directly into the notebook.\n",
    "This will cause all of the Javascript and data to be embedded directly\n",
    "into the HTML of the notebook itself.\n",
    "(Bokeh can output straight to HTML files, or use a server, which we'll\n",
    "look at later.)"
   ]
  },
  {
   "cell_type": "code",
   "execution_count": 2,
   "metadata": {},
   "outputs": [
    {
     "data": {
      "text/html": [
       "\n",
       "    <div class=\"bk-root\">\n",
       "        <a href=\"https://bokeh.pydata.org\" target=\"_blank\" class=\"bk-logo bk-logo-small bk-logo-notebook\"></a>\n",
       "        <span id=\"8a0d67fd-5bd9-4344-8e7c-9a9b90455d51\">Loading BokehJS ...</span>\n",
       "    </div>"
      ]
     },
     "metadata": {},
     "output_type": "display_data"
    },
    {
     "data": {
      "application/javascript": [
       "\n",
       "(function(root) {\n",
       "  function now() {\n",
       "    return new Date();\n",
       "  }\n",
       "\n",
       "  var force = true;\n",
       "\n",
       "  if (typeof (root._bokeh_onload_callbacks) === \"undefined\" || force === true) {\n",
       "    root._bokeh_onload_callbacks = [];\n",
       "    root._bokeh_is_loading = undefined;\n",
       "  }\n",
       "\n",
       "  var JS_MIME_TYPE = 'application/javascript';\n",
       "  var HTML_MIME_TYPE = 'text/html';\n",
       "  var EXEC_MIME_TYPE = 'application/vnd.bokehjs_exec.v0+json';\n",
       "  var CLASS_NAME = 'output_bokeh rendered_html';\n",
       "\n",
       "  /**\n",
       "   * Render data to the DOM node\n",
       "   */\n",
       "  function render(props, node) {\n",
       "    var script = document.createElement(\"script\");\n",
       "    node.appendChild(script);\n",
       "  }\n",
       "\n",
       "  /**\n",
       "   * Handle when an output is cleared or removed\n",
       "   */\n",
       "  function handleClearOutput(event, handle) {\n",
       "    var cell = handle.cell;\n",
       "\n",
       "    var id = cell.output_area._bokeh_element_id;\n",
       "    var server_id = cell.output_area._bokeh_server_id;\n",
       "    // Clean up Bokeh references\n",
       "    if (id != null && id in Bokeh.index) {\n",
       "      Bokeh.index[id].model.document.clear();\n",
       "      delete Bokeh.index[id];\n",
       "    }\n",
       "\n",
       "    if (server_id !== undefined) {\n",
       "      // Clean up Bokeh references\n",
       "      var cmd = \"from bokeh.io.state import curstate; print(curstate().uuid_to_server['\" + server_id + \"'].get_sessions()[0].document.roots[0]._id)\";\n",
       "      cell.notebook.kernel.execute(cmd, {\n",
       "        iopub: {\n",
       "          output: function(msg) {\n",
       "            var id = msg.content.text.trim();\n",
       "            if (id in Bokeh.index) {\n",
       "              Bokeh.index[id].model.document.clear();\n",
       "              delete Bokeh.index[id];\n",
       "            }\n",
       "          }\n",
       "        }\n",
       "      });\n",
       "      // Destroy server and session\n",
       "      var cmd = \"import bokeh.io.notebook as ion; ion.destroy_server('\" + server_id + \"')\";\n",
       "      cell.notebook.kernel.execute(cmd);\n",
       "    }\n",
       "  }\n",
       "\n",
       "  /**\n",
       "   * Handle when a new output is added\n",
       "   */\n",
       "  function handleAddOutput(event, handle) {\n",
       "    var output_area = handle.output_area;\n",
       "    var output = handle.output;\n",
       "\n",
       "    // limit handleAddOutput to display_data with EXEC_MIME_TYPE content only\n",
       "    if ((output.output_type != \"display_data\") || (!output.data.hasOwnProperty(EXEC_MIME_TYPE))) {\n",
       "      return\n",
       "    }\n",
       "\n",
       "    var toinsert = output_area.element.find(\".\" + CLASS_NAME.split(' ')[0]);\n",
       "\n",
       "    if (output.metadata[EXEC_MIME_TYPE][\"id\"] !== undefined) {\n",
       "      toinsert[toinsert.length - 1].firstChild.textContent = output.data[JS_MIME_TYPE];\n",
       "      // store reference to embed id on output_area\n",
       "      output_area._bokeh_element_id = output.metadata[EXEC_MIME_TYPE][\"id\"];\n",
       "    }\n",
       "    if (output.metadata[EXEC_MIME_TYPE][\"server_id\"] !== undefined) {\n",
       "      var bk_div = document.createElement(\"div\");\n",
       "      bk_div.innerHTML = output.data[HTML_MIME_TYPE];\n",
       "      var script_attrs = bk_div.children[0].attributes;\n",
       "      for (var i = 0; i < script_attrs.length; i++) {\n",
       "        toinsert[toinsert.length - 1].firstChild.setAttribute(script_attrs[i].name, script_attrs[i].value);\n",
       "      }\n",
       "      // store reference to server id on output_area\n",
       "      output_area._bokeh_server_id = output.metadata[EXEC_MIME_TYPE][\"server_id\"];\n",
       "    }\n",
       "  }\n",
       "\n",
       "  function register_renderer(events, OutputArea) {\n",
       "\n",
       "    function append_mime(data, metadata, element) {\n",
       "      // create a DOM node to render to\n",
       "      var toinsert = this.create_output_subarea(\n",
       "        metadata,\n",
       "        CLASS_NAME,\n",
       "        EXEC_MIME_TYPE\n",
       "      );\n",
       "      this.keyboard_manager.register_events(toinsert);\n",
       "      // Render to node\n",
       "      var props = {data: data, metadata: metadata[EXEC_MIME_TYPE]};\n",
       "      render(props, toinsert[toinsert.length - 1]);\n",
       "      element.append(toinsert);\n",
       "      return toinsert\n",
       "    }\n",
       "\n",
       "    /* Handle when an output is cleared or removed */\n",
       "    events.on('clear_output.CodeCell', handleClearOutput);\n",
       "    events.on('delete.Cell', handleClearOutput);\n",
       "\n",
       "    /* Handle when a new output is added */\n",
       "    events.on('output_added.OutputArea', handleAddOutput);\n",
       "\n",
       "    /**\n",
       "     * Register the mime type and append_mime function with output_area\n",
       "     */\n",
       "    OutputArea.prototype.register_mime_type(EXEC_MIME_TYPE, append_mime, {\n",
       "      /* Is output safe? */\n",
       "      safe: true,\n",
       "      /* Index of renderer in `output_area.display_order` */\n",
       "      index: 0\n",
       "    });\n",
       "  }\n",
       "\n",
       "  // register the mime type if in Jupyter Notebook environment and previously unregistered\n",
       "  if (root.Jupyter !== undefined) {\n",
       "    var events = require('base/js/events');\n",
       "    var OutputArea = require('notebook/js/outputarea').OutputArea;\n",
       "\n",
       "    if (OutputArea.prototype.mime_types().indexOf(EXEC_MIME_TYPE) == -1) {\n",
       "      register_renderer(events, OutputArea);\n",
       "    }\n",
       "  }\n",
       "\n",
       "  \n",
       "  if (typeof (root._bokeh_timeout) === \"undefined\" || force === true) {\n",
       "    root._bokeh_timeout = Date.now() + 5000;\n",
       "    root._bokeh_failed_load = false;\n",
       "  }\n",
       "\n",
       "  var NB_LOAD_WARNING = {'data': {'text/html':\n",
       "     \"<div style='background-color: #fdd'>\\n\"+\n",
       "     \"<p>\\n\"+\n",
       "     \"BokehJS does not appear to have successfully loaded. If loading BokehJS from CDN, this \\n\"+\n",
       "     \"may be due to a slow or bad network connection. Possible fixes:\\n\"+\n",
       "     \"</p>\\n\"+\n",
       "     \"<ul>\\n\"+\n",
       "     \"<li>re-rerun `output_notebook()` to attempt to load from CDN again, or</li>\\n\"+\n",
       "     \"<li>use INLINE resources instead, as so:</li>\\n\"+\n",
       "     \"</ul>\\n\"+\n",
       "     \"<code>\\n\"+\n",
       "     \"from bokeh.resources import INLINE\\n\"+\n",
       "     \"output_notebook(resources=INLINE)\\n\"+\n",
       "     \"</code>\\n\"+\n",
       "     \"</div>\"}};\n",
       "\n",
       "  function display_loaded() {\n",
       "    var el = document.getElementById(\"8a0d67fd-5bd9-4344-8e7c-9a9b90455d51\");\n",
       "    if (el != null) {\n",
       "      el.textContent = \"BokehJS is loading...\";\n",
       "    }\n",
       "    if (root.Bokeh !== undefined) {\n",
       "      if (el != null) {\n",
       "        el.textContent = \"BokehJS \" + root.Bokeh.version + \" successfully loaded.\";\n",
       "      }\n",
       "    } else if (Date.now() < root._bokeh_timeout) {\n",
       "      setTimeout(display_loaded, 100)\n",
       "    }\n",
       "  }\n",
       "\n",
       "\n",
       "  function run_callbacks() {\n",
       "    try {\n",
       "      root._bokeh_onload_callbacks.forEach(function(callback) { callback() });\n",
       "    }\n",
       "    finally {\n",
       "      delete root._bokeh_onload_callbacks\n",
       "    }\n",
       "    console.info(\"Bokeh: all callbacks have finished\");\n",
       "  }\n",
       "\n",
       "  function load_libs(js_urls, callback) {\n",
       "    root._bokeh_onload_callbacks.push(callback);\n",
       "    if (root._bokeh_is_loading > 0) {\n",
       "      console.log(\"Bokeh: BokehJS is being loaded, scheduling callback at\", now());\n",
       "      return null;\n",
       "    }\n",
       "    if (js_urls == null || js_urls.length === 0) {\n",
       "      run_callbacks();\n",
       "      return null;\n",
       "    }\n",
       "    console.log(\"Bokeh: BokehJS not loaded, scheduling load and callback at\", now());\n",
       "    root._bokeh_is_loading = js_urls.length;\n",
       "    for (var i = 0; i < js_urls.length; i++) {\n",
       "      var url = js_urls[i];\n",
       "      var s = document.createElement('script');\n",
       "      s.src = url;\n",
       "      s.async = false;\n",
       "      s.onreadystatechange = s.onload = function() {\n",
       "        root._bokeh_is_loading--;\n",
       "        if (root._bokeh_is_loading === 0) {\n",
       "          console.log(\"Bokeh: all BokehJS libraries loaded\");\n",
       "          run_callbacks()\n",
       "        }\n",
       "      };\n",
       "      s.onerror = function() {\n",
       "        console.warn(\"failed to load library \" + url);\n",
       "      };\n",
       "      console.log(\"Bokeh: injecting script tag for BokehJS library: \", url);\n",
       "      document.getElementsByTagName(\"head\")[0].appendChild(s);\n",
       "    }\n",
       "  };var element = document.getElementById(\"8a0d67fd-5bd9-4344-8e7c-9a9b90455d51\");\n",
       "  if (element == null) {\n",
       "    console.log(\"Bokeh: ERROR: autoload.js configured with elementid '8a0d67fd-5bd9-4344-8e7c-9a9b90455d51' but no matching script tag was found. \")\n",
       "    return false;\n",
       "  }\n",
       "\n",
       "  var js_urls = [\"https://cdn.pydata.org/bokeh/release/bokeh-0.13.0.min.js\", \"https://cdn.pydata.org/bokeh/release/bokeh-widgets-0.13.0.min.js\", \"https://cdn.pydata.org/bokeh/release/bokeh-tables-0.13.0.min.js\", \"https://cdn.pydata.org/bokeh/release/bokeh-gl-0.13.0.min.js\"];\n",
       "\n",
       "  var inline_js = [\n",
       "    function(Bokeh) {\n",
       "      Bokeh.set_log_level(\"info\");\n",
       "    },\n",
       "    \n",
       "    function(Bokeh) {\n",
       "      \n",
       "    },\n",
       "    function(Bokeh) {\n",
       "      console.log(\"Bokeh: injecting CSS: https://cdn.pydata.org/bokeh/release/bokeh-0.13.0.min.css\");\n",
       "      Bokeh.embed.inject_css(\"https://cdn.pydata.org/bokeh/release/bokeh-0.13.0.min.css\");\n",
       "      console.log(\"Bokeh: injecting CSS: https://cdn.pydata.org/bokeh/release/bokeh-widgets-0.13.0.min.css\");\n",
       "      Bokeh.embed.inject_css(\"https://cdn.pydata.org/bokeh/release/bokeh-widgets-0.13.0.min.css\");\n",
       "      console.log(\"Bokeh: injecting CSS: https://cdn.pydata.org/bokeh/release/bokeh-tables-0.13.0.min.css\");\n",
       "      Bokeh.embed.inject_css(\"https://cdn.pydata.org/bokeh/release/bokeh-tables-0.13.0.min.css\");\n",
       "    }\n",
       "  ];\n",
       "\n",
       "  function run_inline_js() {\n",
       "    \n",
       "    if ((root.Bokeh !== undefined) || (force === true)) {\n",
       "      for (var i = 0; i < inline_js.length; i++) {\n",
       "        inline_js[i].call(root, root.Bokeh);\n",
       "      }if (force === true) {\n",
       "        display_loaded();\n",
       "      }} else if (Date.now() < root._bokeh_timeout) {\n",
       "      setTimeout(run_inline_js, 100);\n",
       "    } else if (!root._bokeh_failed_load) {\n",
       "      console.log(\"Bokeh: BokehJS failed to load within specified timeout.\");\n",
       "      root._bokeh_failed_load = true;\n",
       "    } else if (force !== true) {\n",
       "      var cell = $(document.getElementById(\"8a0d67fd-5bd9-4344-8e7c-9a9b90455d51\")).parents('.cell').data().cell;\n",
       "      cell.output_area.append_execute_result(NB_LOAD_WARNING)\n",
       "    }\n",
       "\n",
       "  }\n",
       "\n",
       "  if (root._bokeh_is_loading === 0) {\n",
       "    console.log(\"Bokeh: BokehJS loaded, going straight to plotting\");\n",
       "    run_inline_js();\n",
       "  } else {\n",
       "    load_libs(js_urls, function() {\n",
       "      console.log(\"Bokeh: BokehJS plotting callback run at\", now());\n",
       "      run_inline_js();\n",
       "    });\n",
       "  }\n",
       "}(window));"
      ],
      "application/vnd.bokehjs_load.v0+json": "\n(function(root) {\n  function now() {\n    return new Date();\n  }\n\n  var force = true;\n\n  if (typeof (root._bokeh_onload_callbacks) === \"undefined\" || force === true) {\n    root._bokeh_onload_callbacks = [];\n    root._bokeh_is_loading = undefined;\n  }\n\n  \n\n  \n  if (typeof (root._bokeh_timeout) === \"undefined\" || force === true) {\n    root._bokeh_timeout = Date.now() + 5000;\n    root._bokeh_failed_load = false;\n  }\n\n  var NB_LOAD_WARNING = {'data': {'text/html':\n     \"<div style='background-color: #fdd'>\\n\"+\n     \"<p>\\n\"+\n     \"BokehJS does not appear to have successfully loaded. If loading BokehJS from CDN, this \\n\"+\n     \"may be due to a slow or bad network connection. Possible fixes:\\n\"+\n     \"</p>\\n\"+\n     \"<ul>\\n\"+\n     \"<li>re-rerun `output_notebook()` to attempt to load from CDN again, or</li>\\n\"+\n     \"<li>use INLINE resources instead, as so:</li>\\n\"+\n     \"</ul>\\n\"+\n     \"<code>\\n\"+\n     \"from bokeh.resources import INLINE\\n\"+\n     \"output_notebook(resources=INLINE)\\n\"+\n     \"</code>\\n\"+\n     \"</div>\"}};\n\n  function display_loaded() {\n    var el = document.getElementById(\"8a0d67fd-5bd9-4344-8e7c-9a9b90455d51\");\n    if (el != null) {\n      el.textContent = \"BokehJS is loading...\";\n    }\n    if (root.Bokeh !== undefined) {\n      if (el != null) {\n        el.textContent = \"BokehJS \" + root.Bokeh.version + \" successfully loaded.\";\n      }\n    } else if (Date.now() < root._bokeh_timeout) {\n      setTimeout(display_loaded, 100)\n    }\n  }\n\n\n  function run_callbacks() {\n    try {\n      root._bokeh_onload_callbacks.forEach(function(callback) { callback() });\n    }\n    finally {\n      delete root._bokeh_onload_callbacks\n    }\n    console.info(\"Bokeh: all callbacks have finished\");\n  }\n\n  function load_libs(js_urls, callback) {\n    root._bokeh_onload_callbacks.push(callback);\n    if (root._bokeh_is_loading > 0) {\n      console.log(\"Bokeh: BokehJS is being loaded, scheduling callback at\", now());\n      return null;\n    }\n    if (js_urls == null || js_urls.length === 0) {\n      run_callbacks();\n      return null;\n    }\n    console.log(\"Bokeh: BokehJS not loaded, scheduling load and callback at\", now());\n    root._bokeh_is_loading = js_urls.length;\n    for (var i = 0; i < js_urls.length; i++) {\n      var url = js_urls[i];\n      var s = document.createElement('script');\n      s.src = url;\n      s.async = false;\n      s.onreadystatechange = s.onload = function() {\n        root._bokeh_is_loading--;\n        if (root._bokeh_is_loading === 0) {\n          console.log(\"Bokeh: all BokehJS libraries loaded\");\n          run_callbacks()\n        }\n      };\n      s.onerror = function() {\n        console.warn(\"failed to load library \" + url);\n      };\n      console.log(\"Bokeh: injecting script tag for BokehJS library: \", url);\n      document.getElementsByTagName(\"head\")[0].appendChild(s);\n    }\n  };var element = document.getElementById(\"8a0d67fd-5bd9-4344-8e7c-9a9b90455d51\");\n  if (element == null) {\n    console.log(\"Bokeh: ERROR: autoload.js configured with elementid '8a0d67fd-5bd9-4344-8e7c-9a9b90455d51' but no matching script tag was found. \")\n    return false;\n  }\n\n  var js_urls = [\"https://cdn.pydata.org/bokeh/release/bokeh-0.13.0.min.js\", \"https://cdn.pydata.org/bokeh/release/bokeh-widgets-0.13.0.min.js\", \"https://cdn.pydata.org/bokeh/release/bokeh-tables-0.13.0.min.js\", \"https://cdn.pydata.org/bokeh/release/bokeh-gl-0.13.0.min.js\"];\n\n  var inline_js = [\n    function(Bokeh) {\n      Bokeh.set_log_level(\"info\");\n    },\n    \n    function(Bokeh) {\n      \n    },\n    function(Bokeh) {\n      console.log(\"Bokeh: injecting CSS: https://cdn.pydata.org/bokeh/release/bokeh-0.13.0.min.css\");\n      Bokeh.embed.inject_css(\"https://cdn.pydata.org/bokeh/release/bokeh-0.13.0.min.css\");\n      console.log(\"Bokeh: injecting CSS: https://cdn.pydata.org/bokeh/release/bokeh-widgets-0.13.0.min.css\");\n      Bokeh.embed.inject_css(\"https://cdn.pydata.org/bokeh/release/bokeh-widgets-0.13.0.min.css\");\n      console.log(\"Bokeh: injecting CSS: https://cdn.pydata.org/bokeh/release/bokeh-tables-0.13.0.min.css\");\n      Bokeh.embed.inject_css(\"https://cdn.pydata.org/bokeh/release/bokeh-tables-0.13.0.min.css\");\n    }\n  ];\n\n  function run_inline_js() {\n    \n    if ((root.Bokeh !== undefined) || (force === true)) {\n      for (var i = 0; i < inline_js.length; i++) {\n        inline_js[i].call(root, root.Bokeh);\n      }if (force === true) {\n        display_loaded();\n      }} else if (Date.now() < root._bokeh_timeout) {\n      setTimeout(run_inline_js, 100);\n    } else if (!root._bokeh_failed_load) {\n      console.log(\"Bokeh: BokehJS failed to load within specified timeout.\");\n      root._bokeh_failed_load = true;\n    } else if (force !== true) {\n      var cell = $(document.getElementById(\"8a0d67fd-5bd9-4344-8e7c-9a9b90455d51\")).parents('.cell').data().cell;\n      cell.output_area.append_execute_result(NB_LOAD_WARNING)\n    }\n\n  }\n\n  if (root._bokeh_is_loading === 0) {\n    console.log(\"Bokeh: BokehJS loaded, going straight to plotting\");\n    run_inline_js();\n  } else {\n    load_libs(js_urls, function() {\n      console.log(\"Bokeh: BokehJS plotting callback run at\", now());\n      run_inline_js();\n    });\n  }\n}(window));"
     },
     "metadata": {},
     "output_type": "display_data"
    }
   ],
   "source": [
    "output_notebook()"
   ]
  },
  {
   "cell_type": "markdown",
   "metadata": {},
   "source": [
    "Next, we'll import NumPy and create some simple data."
   ]
  },
  {
   "cell_type": "code",
   "execution_count": 3,
   "metadata": {},
   "outputs": [],
   "source": [
    "from numpy import cos, linspace\n",
    "x = linspace(-6, 6, 100)\n",
    "y = cos(x)"
   ]
  },
  {
   "cell_type": "markdown",
   "metadata": {},
   "source": [
    "Now we'll call Bokeh's `figure` function to create a plot `p`. Then we call the `circle()` method of the plot to render a red circle at each of the points in x and y.\n",
    "\n",
    "We can immediately interact with the plot:\n",
    "\n",
    "  * click-drag will pan the plot around.\n",
    "  * mousewheel will zoom in and out (after enabling in the toolbar)\n",
    "  \n",
    "The toolbar below is the default one that is available for all plots. It can be configured further via the `tools` keyword argument."
   ]
  },
  {
   "cell_type": "code",
   "execution_count": 4,
   "metadata": {},
   "outputs": [
    {
     "data": {
      "text/html": [
       "\n",
       "\n",
       "\n",
       "\n",
       "\n",
       "\n",
       "  <div class=\"bk-root\" id=\"6945ed26-b12e-411a-a983-e404d5cb4a65\"></div>\n"
      ]
     },
     "metadata": {},
     "output_type": "display_data"
    },
    {
     "data": {
      "application/javascript": [
       "(function(root) {\n",
       "  function embed_document(root) {\n",
       "    \n",
       "  var docs_json = {\"b0d78cab-3a8d-43fd-b0f1-a1d6217cad94\":{\"roots\":{\"references\":[{\"attributes\":{\"plot\":{\"id\":\"d7bb736b-ff47-4174-9d9f-0addf3681042\",\"subtype\":\"Figure\",\"type\":\"Plot\"},\"ticker\":{\"id\":\"a1ad4dfd-5a38-4e94-aa20-6fb22a11a295\",\"type\":\"BasicTicker\"}},\"id\":\"acd9315b-b459-4769-a718-73a75f6359f9\",\"type\":\"Grid\"},{\"attributes\":{\"fill_alpha\":{\"value\":0.5},\"fill_color\":{\"value\":\"firebrick\"},\"line_alpha\":{\"value\":0.5},\"line_color\":{\"value\":\"firebrick\"},\"size\":{\"units\":\"screen\",\"value\":7},\"x\":{\"field\":\"x\"},\"y\":{\"field\":\"y\"}},\"id\":\"307d8245-a5b4-4d19-8c55-a0fb3c30db76\",\"type\":\"Circle\"},{\"attributes\":{\"source\":{\"id\":\"8c0eddb7-39bc-4b21-856c-dbd44025b3f5\",\"type\":\"ColumnDataSource\"}},\"id\":\"335ca9b1-2f77-487d-858e-65b1f4ffc792\",\"type\":\"CDSView\"},{\"attributes\":{\"formatter\":{\"id\":\"b32f9c40-84a4-4143-a470-de7ef30a2a47\",\"type\":\"BasicTickFormatter\"},\"plot\":{\"id\":\"d7bb736b-ff47-4174-9d9f-0addf3681042\",\"subtype\":\"Figure\",\"type\":\"Plot\"},\"ticker\":{\"id\":\"26eba4fc-9284-4fd4-8408-f6488aad5232\",\"type\":\"BasicTicker\"}},\"id\":\"7bb163ae-60ff-4c89-9ebb-e815dce14764\",\"type\":\"LinearAxis\"},{\"attributes\":{},\"id\":\"edbceff5-fad2-46c8-ba9b-cde440db2d63\",\"type\":\"LinearScale\"},{\"attributes\":{},\"id\":\"26eba4fc-9284-4fd4-8408-f6488aad5232\",\"type\":\"BasicTicker\"},{\"attributes\":{\"dimension\":1,\"plot\":{\"id\":\"d7bb736b-ff47-4174-9d9f-0addf3681042\",\"subtype\":\"Figure\",\"type\":\"Plot\"},\"ticker\":{\"id\":\"26eba4fc-9284-4fd4-8408-f6488aad5232\",\"type\":\"BasicTicker\"}},\"id\":\"33f1eec3-b04c-476b-a412-eea67c22b176\",\"type\":\"Grid\"},{\"attributes\":{\"fill_alpha\":{\"value\":0.1},\"fill_color\":{\"value\":\"#1f77b4\"},\"line_alpha\":{\"value\":0.1},\"line_color\":{\"value\":\"#1f77b4\"},\"size\":{\"units\":\"screen\",\"value\":7},\"x\":{\"field\":\"x\"},\"y\":{\"field\":\"y\"}},\"id\":\"43027920-8e13-4a7b-bdb8-5ad90cacaad4\",\"type\":\"Circle\"},{\"attributes\":{\"plot\":null,\"text\":\"\"},\"id\":\"d055c465-f732-4a0c-82be-fc3ace20f44f\",\"type\":\"Title\"},{\"attributes\":{},\"id\":\"e90d095e-2b15-458c-8b57-8d36906358d8\",\"type\":\"PanTool\"},{\"attributes\":{\"callback\":null},\"id\":\"ccd68b79-b6f8-4c7e-a656-8558f8e2ac9f\",\"type\":\"DataRange1d\"},{\"attributes\":{\"below\":[{\"id\":\"c1db0ce3-c56c-4493-b6f1-d2f020ddbcab\",\"type\":\"LinearAxis\"}],\"left\":[{\"id\":\"7bb163ae-60ff-4c89-9ebb-e815dce14764\",\"type\":\"LinearAxis\"}],\"plot_height\":500,\"plot_width\":500,\"renderers\":[{\"id\":\"c1db0ce3-c56c-4493-b6f1-d2f020ddbcab\",\"type\":\"LinearAxis\"},{\"id\":\"acd9315b-b459-4769-a718-73a75f6359f9\",\"type\":\"Grid\"},{\"id\":\"7bb163ae-60ff-4c89-9ebb-e815dce14764\",\"type\":\"LinearAxis\"},{\"id\":\"33f1eec3-b04c-476b-a412-eea67c22b176\",\"type\":\"Grid\"},{\"id\":\"02d2f45d-0816-4c75-a0c7-536e099c2b32\",\"type\":\"BoxAnnotation\"},{\"id\":\"774abf37-c87c-45bc-bba3-ea7b9c9e329c\",\"type\":\"GlyphRenderer\"}],\"title\":{\"id\":\"d055c465-f732-4a0c-82be-fc3ace20f44f\",\"type\":\"Title\"},\"toolbar\":{\"id\":\"1854218c-fa11-4bbb-8f30-e9f5572d8d44\",\"type\":\"Toolbar\"},\"x_range\":{\"id\":\"d97577e9-2db1-45f0-91ae-9efe750e3921\",\"type\":\"DataRange1d\"},\"x_scale\":{\"id\":\"edbceff5-fad2-46c8-ba9b-cde440db2d63\",\"type\":\"LinearScale\"},\"y_range\":{\"id\":\"ccd68b79-b6f8-4c7e-a656-8558f8e2ac9f\",\"type\":\"DataRange1d\"},\"y_scale\":{\"id\":\"7153dfe8-4a9d-428e-9cd3-acbb51c8074d\",\"type\":\"LinearScale\"}},\"id\":\"d7bb736b-ff47-4174-9d9f-0addf3681042\",\"subtype\":\"Figure\",\"type\":\"Plot\"},{\"attributes\":{\"callback\":null,\"data\":{\"x\":{\"__ndarray__\":\"AAAAAAAAGMCEDz744IMXwAgffPDBBxfAjC666KKLFsAQPvjggw8WwJNNNtlkkxXAF1100UUXFcCbbLLJJpsUwB988MEHHxTAo4suuuiiE8Anm2yyySYTwKqqqqqqqhLALrrooosuEsCyySabbLIRwDbZZJNNNhHAuuiiiy66EMA++OCDDz4QwIQPPvjggw/AjC666KKLDsCTTTbZZJMNwJtssskmmwzAo4suuuiiC8CqqqqqqqoKwLLJJptssgnAuuiiiy66CMDCBx988MEHwMomm2yyyQbA0UUXXXTRBcDZZJNNNtkEwOGDDz744APA6KKLLrroAsDwwQcffPABwPjggw8++ADAAAAAAAAAAMAQPvjggw/+vyB88MEHH/y/MLrooosu+r88+OCDDz74v0w22WSTTfa/XHTRRRdd9L9ssskmm2zyv3zwwQcffPC/GF100UUX7b842WSTTTbpv1BVVVVVVeW/cNFFF1104b8gm2yyySbbv2CTTTbZZNO/QBdddNFFx78AH3zwwQevvwAffPDBB68/QBdddNFFxz9gk0022WTTPzCbbLLJJts/eNFFF1104T9YVVVVVVXlPzjZZJNNNuk/GF100UUX7T988MEHH3zwP2yyySabbPI/YHTRRRdd9D9QNtlkk032P0D44IMPPvg/MLrooosu+j8gfPDBBx/8PxA++OCDD/4/AAAAAAAAAED44IMPPvgAQPDBBx988AFA6KKLLrroAkDggw8++OADQNhkk0022QRA0EUXXXTRBUDMJptssskGQMQHH3zwwQdAvOiiiy66CEC0ySabbLIJQKyqqqqqqgpApIsuuuiiC0CcbLLJJpsMQJRNNtlkkw1AjC666KKLDkCEDz744IMPQD744IMPPhBAuuiiiy66EEA22WSTTTYRQLLJJptsshFALrrooosuEkCsqqqqqqoSQCibbLLJJhNApIsuuuiiE0AgfPDBBx8UQJxssskmmxRAGF100UUXFUCUTTbZZJMVQBA++OCDDxZAjC666KKLFkAIH3zwwQcXQIQPPvjggxdAAAAAAAAAGEA=\",\"dtype\":\"float64\",\"shape\":[100]},\"y\":{\"__ndarray__\":\"9iJ4Cbe57j8JY+r+OmvtP60Tvck6rus/WLzTHz6J6T/y0bJaUwTnP6E1+zPxKOQ/oCcYONMB4T8ZPFzpojXbP8LygfRnAdQ/fGjcYAsEyT8z6888mk6zP+5YV8fTZqe/pYFip7xExb9PFf407y/Svy3Wz2Mtedm/GSzA6Fwx4L8zrWZ2Tmnjv1uZMxdUWOa/yEpIeGjz6L+AKUaewTDrv4rmZKv1B+2/pq/Cehpy7r9tKDKa32nvv7My8UCi6++/lWFJ+Hr1779ggMrCRIfvv13mP6edou6//JJWneBK7b/O+cbyGIXrv36TXFjvV+m/wpQK3pDL5r8GDQc8kOnjv6uITtzBvOC/BXJTVyai2r/ACBWWu2bTv4h0TibdxMe/siQZ5fDFsL8tuK+mtnmsP79vCY4VhcY//tyFCJLL0j9AaSfs/Q3aPzsevIFEd+A/HRvGyK6p4z+ZiDpMO5LmPxkpbAr9Jek/+alUikVb6z85RlM6ySntP8jZq5m+iu4/fMS1t/d47z+hS/Ko9fDvP6FL8qj18O8/fMS1t/d47z/I2auZvoruPzZGUzrJKe0/9KlUikVb6z8UKWwK/SXpP5mIOkw7kuY/HRvGyK6p4z87HryBRHfgP0BpJ+z9Ddo/79yFCJLL0j+fbwmOFYXGP623r6a2eaw/siQZ5fDFsL+IdE4m3cTHv8AIFZa7ZtO/BXJTVyai2r+riE7cwbzgvwYNBzyQ6eO/wpQK3pDL5r98k1xY71fpv8z5xvIYheu/+pJWneBK7b9g5j+nnaLuv2KAysJEh++/lWFJ+Hr177+zMvFAouvvv2soMprfae+/pK/Cehpy7r+I5mSr9Qftv38pRp7BMOu/yEpIeGjz6L9bmTMXVFjmvzOtZnZOaeO/GSzA6Fwx4L8t1s9jLXnZv08V/jTvL9K/pYFip7xExb/uV1fH02anv3PrzzyaTrM/m2jcYAsEyT/R8oH0ZwHUPyc8XOmiNds/pycYONMB4T+oNfsz8SjkP/LRslpTBOc/WLzTHz6J6T+tE73JOq7rPwlj6v46a+0/9iJ4Cbe57j8=\",\"dtype\":\"float64\",\"shape\":[100]}},\"selected\":{\"id\":\"32d3a5bf-db7a-4261-848e-b8aeecc752c7\",\"type\":\"Selection\"},\"selection_policy\":{\"id\":\"a73afca1-8943-4730-9f1a-0fff54256016\",\"type\":\"UnionRenderers\"}},\"id\":\"8c0eddb7-39bc-4b21-856c-dbd44025b3f5\",\"type\":\"ColumnDataSource\"},{\"attributes\":{},\"id\":\"ed42e03f-ebd6-4a28-8d71-3f4e9c236cd8\",\"type\":\"WheelZoomTool\"},{\"attributes\":{\"overlay\":{\"id\":\"02d2f45d-0816-4c75-a0c7-536e099c2b32\",\"type\":\"BoxAnnotation\"}},\"id\":\"b7fd90b3-57e3-4ed4-b579-5c46c2d67e20\",\"type\":\"BoxZoomTool\"},{\"attributes\":{\"active_drag\":\"auto\",\"active_inspect\":\"auto\",\"active_multi\":null,\"active_scroll\":\"auto\",\"active_tap\":\"auto\",\"tools\":[{\"id\":\"e90d095e-2b15-458c-8b57-8d36906358d8\",\"type\":\"PanTool\"},{\"id\":\"ed42e03f-ebd6-4a28-8d71-3f4e9c236cd8\",\"type\":\"WheelZoomTool\"},{\"id\":\"b7fd90b3-57e3-4ed4-b579-5c46c2d67e20\",\"type\":\"BoxZoomTool\"},{\"id\":\"e207d577-1a40-4cac-98da-307bc2c4dffe\",\"type\":\"SaveTool\"},{\"id\":\"76aacece-72e5-4adf-a008-507a7e6e2df4\",\"type\":\"ResetTool\"},{\"id\":\"566a2804-4007-4c21-889e-8b816fd1e7ad\",\"type\":\"HelpTool\"}]},\"id\":\"1854218c-fa11-4bbb-8f30-e9f5572d8d44\",\"type\":\"Toolbar\"},{\"attributes\":{},\"id\":\"e207d577-1a40-4cac-98da-307bc2c4dffe\",\"type\":\"SaveTool\"},{\"attributes\":{\"bottom_units\":\"screen\",\"fill_alpha\":{\"value\":0.5},\"fill_color\":{\"value\":\"lightgrey\"},\"left_units\":\"screen\",\"level\":\"overlay\",\"line_alpha\":{\"value\":1.0},\"line_color\":{\"value\":\"black\"},\"line_dash\":[4,4],\"line_width\":{\"value\":2},\"plot\":null,\"render_mode\":\"css\",\"right_units\":\"screen\",\"top_units\":\"screen\"},\"id\":\"02d2f45d-0816-4c75-a0c7-536e099c2b32\",\"type\":\"BoxAnnotation\"},{\"attributes\":{},\"id\":\"76aacece-72e5-4adf-a008-507a7e6e2df4\",\"type\":\"ResetTool\"},{\"attributes\":{},\"id\":\"566a2804-4007-4c21-889e-8b816fd1e7ad\",\"type\":\"HelpTool\"},{\"attributes\":{},\"id\":\"a73afca1-8943-4730-9f1a-0fff54256016\",\"type\":\"UnionRenderers\"},{\"attributes\":{},\"id\":\"b32f9c40-84a4-4143-a470-de7ef30a2a47\",\"type\":\"BasicTickFormatter\"},{\"attributes\":{\"callback\":null},\"id\":\"d97577e9-2db1-45f0-91ae-9efe750e3921\",\"type\":\"DataRange1d\"},{\"attributes\":{},\"id\":\"a1ad4dfd-5a38-4e94-aa20-6fb22a11a295\",\"type\":\"BasicTicker\"},{\"attributes\":{\"data_source\":{\"id\":\"8c0eddb7-39bc-4b21-856c-dbd44025b3f5\",\"type\":\"ColumnDataSource\"},\"glyph\":{\"id\":\"307d8245-a5b4-4d19-8c55-a0fb3c30db76\",\"type\":\"Circle\"},\"hover_glyph\":null,\"muted_glyph\":null,\"nonselection_glyph\":{\"id\":\"43027920-8e13-4a7b-bdb8-5ad90cacaad4\",\"type\":\"Circle\"},\"selection_glyph\":null,\"view\":{\"id\":\"335ca9b1-2f77-487d-858e-65b1f4ffc792\",\"type\":\"CDSView\"}},\"id\":\"774abf37-c87c-45bc-bba3-ea7b9c9e329c\",\"type\":\"GlyphRenderer\"},{\"attributes\":{},\"id\":\"7153dfe8-4a9d-428e-9cd3-acbb51c8074d\",\"type\":\"LinearScale\"},{\"attributes\":{},\"id\":\"4b227204-5444-48b0-9dd1-b3fbe5f76265\",\"type\":\"BasicTickFormatter\"},{\"attributes\":{},\"id\":\"32d3a5bf-db7a-4261-848e-b8aeecc752c7\",\"type\":\"Selection\"},{\"attributes\":{\"formatter\":{\"id\":\"4b227204-5444-48b0-9dd1-b3fbe5f76265\",\"type\":\"BasicTickFormatter\"},\"plot\":{\"id\":\"d7bb736b-ff47-4174-9d9f-0addf3681042\",\"subtype\":\"Figure\",\"type\":\"Plot\"},\"ticker\":{\"id\":\"a1ad4dfd-5a38-4e94-aa20-6fb22a11a295\",\"type\":\"BasicTicker\"}},\"id\":\"c1db0ce3-c56c-4493-b6f1-d2f020ddbcab\",\"type\":\"LinearAxis\"}],\"root_ids\":[\"d7bb736b-ff47-4174-9d9f-0addf3681042\"]},\"title\":\"Bokeh Application\",\"version\":\"0.13.0\"}};\n",
       "  var render_items = [{\"docid\":\"b0d78cab-3a8d-43fd-b0f1-a1d6217cad94\",\"roots\":{\"d7bb736b-ff47-4174-9d9f-0addf3681042\":\"6945ed26-b12e-411a-a983-e404d5cb4a65\"}}];\n",
       "  root.Bokeh.embed.embed_items_notebook(docs_json, render_items);\n",
       "\n",
       "  }\n",
       "  if (root.Bokeh !== undefined) {\n",
       "    embed_document(root);\n",
       "  } else {\n",
       "    var attempts = 0;\n",
       "    var timer = setInterval(function(root) {\n",
       "      if (root.Bokeh !== undefined) {\n",
       "        embed_document(root);\n",
       "        clearInterval(timer);\n",
       "      }\n",
       "      attempts++;\n",
       "      if (attempts > 100) {\n",
       "        console.log(\"Bokeh: ERROR: Unable to run BokehJS code because BokehJS library is missing\")\n",
       "        clearInterval(timer);\n",
       "      }\n",
       "    }, 10, root)\n",
       "  }\n",
       "})(window);"
      ],
      "application/vnd.bokehjs_exec.v0+json": ""
     },
     "metadata": {
      "application/vnd.bokehjs_exec.v0+json": {
       "id": "d7bb736b-ff47-4174-9d9f-0addf3681042"
      }
     },
     "output_type": "display_data"
    }
   ],
   "source": [
    "p = figure(width=500, height=500)\n",
    "p.circle(x, y, size=7, color=\"firebrick\", alpha=0.5)\n",
    "show(p)"
   ]
  },
  {
   "cell_type": "markdown",
   "metadata": {},
   "source": [
    "# Bar Plot Example\n",
    "\n",
    "\n",
    "Bokeh's core display model relies on *composing graphical primitives* which are bound to data series.  This is similar in spirit to Protovis and D3, and different than most other Python plotting libraries.\n",
    "\n",
    "A slightly more sophisticated example demonstrates this idea.\n",
    "\n",
    "Bokeh ships with a small set of interesting \"sample data\" in the `bokeh.sampledata` package.  We'll load up some historical automobile mileage data, which is returned as a Pandas `DataFrame`."
   ]
  },
  {
   "cell_type": "code",
   "execution_count": 5,
   "metadata": {},
   "outputs": [],
   "source": [
    "from bokeh.sampledata.autompg import autompg\n",
    "\n",
    "grouped = autompg.groupby(\"yr\")\n",
    "\n",
    "mpg = grouped.mpg\n",
    "avg, std = mpg.mean(), mpg.std()\n",
    "years = list(grouped.groups)\n",
    "american = autompg[autompg[\"origin\"]==1]\n",
    "japanese = autompg[autompg[\"origin\"]==3]"
   ]
  },
  {
   "cell_type": "markdown",
   "metadata": {},
   "source": [
    "For each year, we want to plot the distribution of MPG within that year."
   ]
  },
  {
   "cell_type": "code",
   "execution_count": 6,
   "metadata": {},
   "outputs": [
    {
     "data": {
      "text/html": [
       "\n",
       "\n",
       "\n",
       "\n",
       "\n",
       "\n",
       "  <div class=\"bk-root\" id=\"329642c6-19d6-4b67-bf7b-936c79aed714\"></div>\n"
      ]
     },
     "metadata": {},
     "output_type": "display_data"
    },
    {
     "data": {
      "application/javascript": [
       "(function(root) {\n",
       "  function embed_document(root) {\n",
       "    \n",
       "  var docs_json = {\"91665e24-0743-4961-bdfc-e70d550640ce\":{\"roots\":{\"references\":[{\"attributes\":{\"formatter\":{\"id\":\"8f80bbbd-a0a1-4d6d-aabc-ab4378967b0a\",\"type\":\"BasicTickFormatter\"},\"plot\":{\"id\":\"db0f6e37-7b93-4164-9bab-a8dbcd6bf096\",\"subtype\":\"Figure\",\"type\":\"Plot\"},\"ticker\":{\"id\":\"02f84836-cd13-43aa-83cf-34569eccc622\",\"type\":\"BasicTicker\"}},\"id\":\"37fca897-c2ec-4704-b3e5-56443df0e618\",\"type\":\"LinearAxis\"},{\"attributes\":{\"items\":[{\"id\":\"69bbfffe-7b8b-45fa-9b24-da8828200ef4\",\"type\":\"LegendItem\"},{\"id\":\"fb568265-29aa-4238-9794-e4636a680128\",\"type\":\"LegendItem\"},{\"id\":\"28073907-aae0-4503-9bd7-01a39d04471d\",\"type\":\"LegendItem\"}],\"location\":\"top_left\",\"plot\":{\"id\":\"db0f6e37-7b93-4164-9bab-a8dbcd6bf096\",\"subtype\":\"Figure\",\"type\":\"Plot\"}},\"id\":\"bff17c77-d03c-4857-a860-d7bb6676e23d\",\"type\":\"Legend\"},{\"attributes\":{\"plot\":{\"id\":\"db0f6e37-7b93-4164-9bab-a8dbcd6bf096\",\"subtype\":\"Figure\",\"type\":\"Plot\"},\"ticker\":{\"id\":\"0fc76ee3-edfc-46fe-abb7-acda7ebf6c68\",\"type\":\"BasicTicker\"}},\"id\":\"25348608-cef9-4b50-8fad-757fcec828b6\",\"type\":\"Grid\"},{\"attributes\":{},\"id\":\"0f67dc7e-0696-4662-a3ae-a0ff9df46b11\",\"type\":\"Selection\"},{\"attributes\":{\"source\":{\"id\":\"6c15b2d1-3265-428c-9e93-c4a9a1054e87\",\"type\":\"ColumnDataSource\"}},\"id\":\"0285912e-a1bb-4bfa-9463-f5b0a14d4efb\",\"type\":\"CDSView\"},{\"attributes\":{\"data_source\":{\"id\":\"6c15b2d1-3265-428c-9e93-c4a9a1054e87\",\"type\":\"ColumnDataSource\"},\"glyph\":{\"id\":\"08d67875-f81a-42a3-844d-f68256c40884\",\"type\":\"VBar\"},\"hover_glyph\":null,\"muted_glyph\":null,\"nonselection_glyph\":{\"id\":\"b2de6fb7-0bc6-4e17-9ba7-7788f7262c5c\",\"type\":\"VBar\"},\"selection_glyph\":null,\"view\":{\"id\":\"0285912e-a1bb-4bfa-9463-f5b0a14d4efb\",\"type\":\"CDSView\"}},\"id\":\"30e228bc-c486-437c-b41e-bbb31fa52332\",\"type\":\"GlyphRenderer\"},{\"attributes\":{\"callback\":null,\"data\":{\"bottom\":{\"__ndarray__\":\"gvFgx2qzKECcKci59t4sQJZdRzm5jipAzvVtn6zMKECki7kXNjswQIpnc6D2pi5ApAV4qVNeL0DtFQi6+rIwQBxLQL6+KTFAWBwW2YNMMkBnDzEy+Oo6QAq856zmjDhAfzfsSXnEOkA=\",\"dtype\":\"float64\",\"shape\":[13]},\"top\":{\"__ndarray__\":\"55jlF2UHN0DAzlQxaMk7QBEIyj5aJjhATTh849zMNUD6TNCFok49QMPUTjgNNTlA1KLp0Ht2O0AT6vdFBQ0+QNr+XjaL9T5AVt48aCfjP0AojYptQ1hEQPSsO6IX6UFAQOQJW8OdQkA=\",\"dtype\":\"float64\",\"shape\":[13]},\"x\":[70,71,72,73,74,75,76,77,78,79,80,81,82]},\"selected\":{\"id\":\"feb664fc-abe4-4ba5-835f-931c7d59e186\",\"type\":\"Selection\"},\"selection_policy\":{\"id\":\"12b43f15-7d22-46d8-bd95-23810f6bd19b\",\"type\":\"UnionRenderers\"}},\"id\":\"6c15b2d1-3265-428c-9e93-c4a9a1054e87\",\"type\":\"ColumnDataSource\"},{\"attributes\":{\"bottom\":{\"field\":\"bottom\"},\"fill_alpha\":{\"value\":0.1},\"fill_color\":{\"value\":\"#1f77b4\"},\"line_alpha\":{\"value\":0.1},\"line_color\":{\"value\":\"#1f77b4\"},\"top\":{\"field\":\"top\"},\"width\":{\"value\":0.8},\"x\":{\"field\":\"x\"}},\"id\":\"b2de6fb7-0bc6-4e17-9ba7-7788f7262c5c\",\"type\":\"VBar\"},{\"attributes\":{},\"id\":\"02f84836-cd13-43aa-83cf-34569eccc622\",\"type\":\"BasicTicker\"},{\"attributes\":{},\"id\":\"8f80bbbd-a0a1-4d6d-aabc-ab4378967b0a\",\"type\":\"BasicTickFormatter\"},{\"attributes\":{\"bottom_units\":\"screen\",\"fill_alpha\":{\"value\":0.5},\"fill_color\":{\"value\":\"lightgrey\"},\"left_units\":\"screen\",\"level\":\"overlay\",\"line_alpha\":{\"value\":1.0},\"line_color\":{\"value\":\"black\"},\"line_dash\":[4,4],\"line_width\":{\"value\":2},\"plot\":null,\"render_mode\":\"css\",\"right_units\":\"screen\",\"top_units\":\"screen\"},\"id\":\"a68b3a9f-046d-4013-8850-29eae7d71dd6\",\"type\":\"BoxAnnotation\"},{\"attributes\":{},\"id\":\"d711054c-3db5-4237-9e18-8bb06235ea75\",\"type\":\"PanTool\"},{\"attributes\":{},\"id\":\"4daa42f4-8e11-48c1-9a93-400e0422ceb6\",\"type\":\"WheelZoomTool\"},{\"attributes\":{\"overlay\":{\"id\":\"a68b3a9f-046d-4013-8850-29eae7d71dd6\",\"type\":\"BoxAnnotation\"}},\"id\":\"fd0ee8be-d135-4ddc-bfd4-a913618436ca\",\"type\":\"BoxZoomTool\"},{\"attributes\":{},\"id\":\"489ecee9-9edf-4174-9086-c5860857070f\",\"type\":\"SaveTool\"},{\"attributes\":{},\"id\":\"3f1b4c52-699c-4898-8695-e7d6c3062aa8\",\"type\":\"BasicTickFormatter\"},{\"attributes\":{},\"id\":\"4259ac18-3e15-45af-8232-c67df9431e8e\",\"type\":\"ResetTool\"},{\"attributes\":{},\"id\":\"5ce141e0-b751-4abd-a0ae-89ee6e4b5543\",\"type\":\"HelpTool\"},{\"attributes\":{\"label\":{\"value\":\"MPG 1 stddev\"},\"renderers\":[{\"id\":\"30e228bc-c486-437c-b41e-bbb31fa52332\",\"type\":\"GlyphRenderer\"}]},\"id\":\"69bbfffe-7b8b-45fa-9b24-da8828200ef4\",\"type\":\"LegendItem\"},{\"attributes\":{\"dimension\":1,\"plot\":{\"id\":\"db0f6e37-7b93-4164-9bab-a8dbcd6bf096\",\"subtype\":\"Figure\",\"type\":\"Plot\"},\"ticker\":{\"id\":\"02f84836-cd13-43aa-83cf-34569eccc622\",\"type\":\"BasicTicker\"}},\"id\":\"e4fcec03-2c22-462b-87e1-051b461ccd5f\",\"type\":\"Grid\"},{\"attributes\":{\"callback\":null,\"data\":{\"x\":[70,70,71,71,71,71,72,72,72,72,72,73,73,73,73,74,74,74,74,74,74,75,75,75,75,76,76,76,76,77,77,77,77,77,77,78,78,78,78,78,78,78,78,79,79,80,80,80,80,80,80,80,80,80,80,80,80,80,81,81,81,81,81,81,81,81,81,81,81,81,82,82,82,82,82,82,82,82,82],\"y\":{\"__ndarray__\":\"AAAAAAAAOEAAAAAAAAA7QAAAAAAAADtAAAAAAAAAOUAAAAAAAAA/QAAAAAAAgEFAAAAAAAAAOEAAAAAAAAAzQAAAAAAAADxAAAAAAAAAN0AAAAAAAAA7QAAAAAAAADRAAAAAAAAANkAAAAAAAAAyQAAAAAAAADRAAAAAAAAAP0AAAAAAAABAQAAAAAAAAD9AAAAAAAAAQEAAAAAAAAA4QAAAAAAAADpAAAAAAAAAPUAAAAAAAAA4QAAAAAAAADhAAAAAAACAQEAAAAAAAIBAQAAAAAAAAEBAAAAAAAAAPEAAAAAAAAAzQAAAAAAAgD9AAAAAAADAQEAAAAAAAAA6QAAAAAAAAD5AAAAAAAAANkAAAAAAAIA1QGZmZmZmZkBAMzMzMzOzQ0DNzMzMzAxCQAAAAAAAgDtAMzMzMzMzO0CamZmZmRk1QGZmZmZm5jdAAAAAAACAPUDNzMzMzAxBQM3MzMzMzD9AzczMzMwMQ0CamZmZmZlCQM3MzMzMzD1AzczMzMxMP0AAAAAAAIBCQJqZmZmZGUBAzczMzMxMR0BmZmZmZmZEQM3MzMzMTEZAZmZmZmbmQECamZmZmVlAQDMzMzMzszdAMzMzMzMzQEDNzMzMzIxDQM3MzMzMjEFAZmZmZmYmQEAAAAAAAIBCQJqZmZmZ2UJAzczMzMwMQUCamZmZmdlAQDMzMzMzM0BAMzMzMzNzQECamZmZmZk/QGZmZmZmZjlAMzMzMzMzOEAAAAAAAIBCQAAAAAAAAD9AAAAAAAAAQkAAAAAAAABCQAAAAAAAAEFAAAAAAAAAQ0AAAAAAAABAQAAAAAAAAENAAAAAAAAAQEA=\",\"dtype\":\"float64\",\"shape\":[79]}},\"selected\":{\"id\":\"14d74162-a7de-45f2-b1bd-4d0efbbade64\",\"type\":\"Selection\"},\"selection_policy\":{\"id\":\"d05b3531-1e7c-41ac-bcc6-f4378945efaa\",\"type\":\"UnionRenderers\"}},\"id\":\"555c4945-5587-494c-acf2-a8bde9e30562\",\"type\":\"ColumnDataSource\"},{\"attributes\":{},\"id\":\"feb664fc-abe4-4ba5-835f-931c7d59e186\",\"type\":\"Selection\"},{\"attributes\":{\"fill_alpha\":{\"value\":0.5},\"fill_color\":{\"value\":\"red\"},\"line_alpha\":{\"value\":0.5},\"line_color\":{\"value\":\"red\"},\"size\":{\"units\":\"screen\",\"value\":10},\"x\":{\"field\":\"x\"},\"y\":{\"field\":\"y\"}},\"id\":\"42676199-6ff4-426e-bf4c-46430ed360b8\",\"type\":\"Circle\"},{\"attributes\":{\"fill_alpha\":{\"value\":0.1},\"fill_color\":{\"value\":\"#1f77b4\"},\"line_alpha\":{\"value\":0.1},\"line_color\":{\"value\":\"#1f77b4\"},\"size\":{\"units\":\"screen\",\"value\":10},\"x\":{\"field\":\"x\"},\"y\":{\"field\":\"y\"}},\"id\":\"511f5aff-7d70-48d5-b893-6fc892b92cc9\",\"type\":\"Circle\"},{\"attributes\":{\"data_source\":{\"id\":\"555c4945-5587-494c-acf2-a8bde9e30562\",\"type\":\"ColumnDataSource\"},\"glyph\":{\"id\":\"42676199-6ff4-426e-bf4c-46430ed360b8\",\"type\":\"Circle\"},\"hover_glyph\":null,\"muted_glyph\":null,\"nonselection_glyph\":{\"id\":\"511f5aff-7d70-48d5-b893-6fc892b92cc9\",\"type\":\"Circle\"},\"selection_glyph\":null,\"view\":{\"id\":\"d44ee716-6cb4-479c-b3a9-9238b634e251\",\"type\":\"CDSView\"}},\"id\":\"452eeb5a-454f-433c-a759-435f7b5847b1\",\"type\":\"GlyphRenderer\"},{\"attributes\":{\"source\":{\"id\":\"555c4945-5587-494c-acf2-a8bde9e30562\",\"type\":\"ColumnDataSource\"}},\"id\":\"d44ee716-6cb4-479c-b3a9-9238b634e251\",\"type\":\"CDSView\"},{\"attributes\":{\"below\":[{\"id\":\"98239e63-92bc-4fdb-85f2-369af0ca6dfd\",\"type\":\"LinearAxis\"}],\"left\":[{\"id\":\"37fca897-c2ec-4704-b3e5-56443df0e618\",\"type\":\"LinearAxis\"}],\"renderers\":[{\"id\":\"98239e63-92bc-4fdb-85f2-369af0ca6dfd\",\"type\":\"LinearAxis\"},{\"id\":\"25348608-cef9-4b50-8fad-757fcec828b6\",\"type\":\"Grid\"},{\"id\":\"37fca897-c2ec-4704-b3e5-56443df0e618\",\"type\":\"LinearAxis\"},{\"id\":\"e4fcec03-2c22-462b-87e1-051b461ccd5f\",\"type\":\"Grid\"},{\"id\":\"a68b3a9f-046d-4013-8850-29eae7d71dd6\",\"type\":\"BoxAnnotation\"},{\"id\":\"bff17c77-d03c-4857-a860-d7bb6676e23d\",\"type\":\"Legend\"},{\"id\":\"30e228bc-c486-437c-b41e-bbb31fa52332\",\"type\":\"GlyphRenderer\"},{\"id\":\"452eeb5a-454f-433c-a759-435f7b5847b1\",\"type\":\"GlyphRenderer\"},{\"id\":\"cb181fb7-a21c-4f18-a146-d766824479c5\",\"type\":\"GlyphRenderer\"}],\"title\":{\"id\":\"1392fdef-88a7-4823-93a9-e1d098adbb83\",\"type\":\"Title\"},\"toolbar\":{\"id\":\"f7213b42-09d5-40f4-82ff-e58044c59708\",\"type\":\"Toolbar\"},\"x_range\":{\"id\":\"67635a44-7b60-4dc8-b3d6-7f35eec91b45\",\"type\":\"DataRange1d\"},\"x_scale\":{\"id\":\"2630f190-83e1-41aa-87f2-64c6cbd1ef8a\",\"type\":\"LinearScale\"},\"y_range\":{\"id\":\"b6fc93c7-019b-44d6-a727-87df10ad899f\",\"type\":\"DataRange1d\"},\"y_scale\":{\"id\":\"e065137d-e1a5-4440-a5b7-888603a8ec69\",\"type\":\"LinearScale\"}},\"id\":\"db0f6e37-7b93-4164-9bab-a8dbcd6bf096\",\"subtype\":\"Figure\",\"type\":\"Plot\"},{\"attributes\":{},\"id\":\"12b43f15-7d22-46d8-bd95-23810f6bd19b\",\"type\":\"UnionRenderers\"},{\"attributes\":{\"plot\":null,\"text\":\"MPG by Year (Japan and US)\"},\"id\":\"1392fdef-88a7-4823-93a9-e1d098adbb83\",\"type\":\"Title\"},{\"attributes\":{\"label\":{\"value\":\"Japanese\"},\"renderers\":[{\"id\":\"452eeb5a-454f-433c-a759-435f7b5847b1\",\"type\":\"GlyphRenderer\"}]},\"id\":\"fb568265-29aa-4238-9794-e4636a680128\",\"type\":\"LegendItem\"},{\"attributes\":{},\"id\":\"d05b3531-1e7c-41ac-bcc6-f4378945efaa\",\"type\":\"UnionRenderers\"},{\"attributes\":{\"callback\":null},\"id\":\"67635a44-7b60-4dc8-b3d6-7f35eec91b45\",\"type\":\"DataRange1d\"},{\"attributes\":{\"active_drag\":\"auto\",\"active_inspect\":\"auto\",\"active_multi\":null,\"active_scroll\":\"auto\",\"active_tap\":\"auto\",\"tools\":[{\"id\":\"d711054c-3db5-4237-9e18-8bb06235ea75\",\"type\":\"PanTool\"},{\"id\":\"4daa42f4-8e11-48c1-9a93-400e0422ceb6\",\"type\":\"WheelZoomTool\"},{\"id\":\"fd0ee8be-d135-4ddc-bfd4-a913618436ca\",\"type\":\"BoxZoomTool\"},{\"id\":\"489ecee9-9edf-4174-9086-c5860857070f\",\"type\":\"SaveTool\"},{\"id\":\"4259ac18-3e15-45af-8232-c67df9431e8e\",\"type\":\"ResetTool\"},{\"id\":\"5ce141e0-b751-4abd-a0ae-89ee6e4b5543\",\"type\":\"HelpTool\"}]},\"id\":\"f7213b42-09d5-40f4-82ff-e58044c59708\",\"type\":\"Toolbar\"},{\"attributes\":{\"callback\":null,\"data\":{\"x\":[70,70,70,70,70,70,70,70,70,70,70,70,70,70,70,70,70,70,70,70,70,70,71,71,71,71,71,71,71,71,71,71,71,71,71,71,71,71,71,71,71,72,72,72,72,72,72,72,72,72,72,72,72,72,72,72,72,72,72,73,73,73,73,73,73,73,73,73,73,73,73,73,73,73,73,73,73,73,73,73,73,73,73,73,73,73,73,73,74,74,74,74,74,74,74,74,74,74,74,74,74,74,75,75,75,75,75,75,75,75,75,75,75,75,75,75,75,75,75,75,75,75,76,76,76,76,76,76,76,76,76,76,76,76,76,76,76,76,76,76,76,76,76,76,77,77,77,77,77,77,77,77,77,77,77,77,77,77,77,77,77,77,78,78,78,78,78,78,78,78,78,78,78,78,78,78,78,78,78,78,78,78,78,78,79,79,79,79,79,79,79,79,79,79,79,79,79,79,79,79,79,79,79,79,79,79,79,80,80,80,80,80,80,81,81,81,81,81,81,81,81,81,81,81,81,81,82,82,82,82,82,82,82,82,82,82,82,82,82,82,82,82,82,82,82],\"y\":{\"__ndarray__\":\"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\",\"dtype\":\"float64\",\"shape\":[245]}},\"selected\":{\"id\":\"0f67dc7e-0696-4662-a3ae-a0ff9df46b11\",\"type\":\"Selection\"},\"selection_policy\":{\"id\":\"8858c392-ff0e-4c85-a4f1-6c677bdef244\",\"type\":\"UnionRenderers\"}},\"id\":\"2da1f5e6-3b81-4129-b61e-391205ed2af2\",\"type\":\"ColumnDataSource\"},{\"attributes\":{},\"id\":\"14d74162-a7de-45f2-b1bd-4d0efbbade64\",\"type\":\"Selection\"},{\"attributes\":{},\"id\":\"2630f190-83e1-41aa-87f2-64c6cbd1ef8a\",\"type\":\"LinearScale\"},{\"attributes\":{\"fill_alpha\":{\"value\":0.3},\"fill_color\":{\"value\":\"blue\"},\"line_alpha\":{\"value\":0.3},\"line_color\":{\"value\":\"blue\"},\"size\":{\"units\":\"screen\",\"value\":10},\"x\":{\"field\":\"x\"},\"y\":{\"field\":\"y\"}},\"id\":\"962f3977-4b0c-4cde-a1d7-dc2039c80740\",\"type\":\"Triangle\"},{\"attributes\":{},\"id\":\"8858c392-ff0e-4c85-a4f1-6c677bdef244\",\"type\":\"UnionRenderers\"},{\"attributes\":{\"callback\":null},\"id\":\"b6fc93c7-019b-44d6-a727-87df10ad899f\",\"type\":\"DataRange1d\"},{\"attributes\":{\"fill_alpha\":{\"value\":0.1},\"fill_color\":{\"value\":\"#1f77b4\"},\"line_alpha\":{\"value\":0.1},\"line_color\":{\"value\":\"#1f77b4\"},\"size\":{\"units\":\"screen\",\"value\":10},\"x\":{\"field\":\"x\"},\"y\":{\"field\":\"y\"}},\"id\":\"48c6849a-813e-4cc9-b1b9-b274cc869406\",\"type\":\"Triangle\"},{\"attributes\":{\"data_source\":{\"id\":\"2da1f5e6-3b81-4129-b61e-391205ed2af2\",\"type\":\"ColumnDataSource\"},\"glyph\":{\"id\":\"962f3977-4b0c-4cde-a1d7-dc2039c80740\",\"type\":\"Triangle\"},\"hover_glyph\":null,\"muted_glyph\":null,\"nonselection_glyph\":{\"id\":\"48c6849a-813e-4cc9-b1b9-b274cc869406\",\"type\":\"Triangle\"},\"selection_glyph\":null,\"view\":{\"id\":\"6285b138-ca2b-4f15-953c-c26bf50eaed7\",\"type\":\"CDSView\"}},\"id\":\"cb181fb7-a21c-4f18-a146-d766824479c5\",\"type\":\"GlyphRenderer\"},{\"attributes\":{},\"id\":\"e065137d-e1a5-4440-a5b7-888603a8ec69\",\"type\":\"LinearScale\"},{\"attributes\":{\"source\":{\"id\":\"2da1f5e6-3b81-4129-b61e-391205ed2af2\",\"type\":\"ColumnDataSource\"}},\"id\":\"6285b138-ca2b-4f15-953c-c26bf50eaed7\",\"type\":\"CDSView\"},{\"attributes\":{\"formatter\":{\"id\":\"3f1b4c52-699c-4898-8695-e7d6c3062aa8\",\"type\":\"BasicTickFormatter\"},\"plot\":{\"id\":\"db0f6e37-7b93-4164-9bab-a8dbcd6bf096\",\"subtype\":\"Figure\",\"type\":\"Plot\"},\"ticker\":{\"id\":\"0fc76ee3-edfc-46fe-abb7-acda7ebf6c68\",\"type\":\"BasicTicker\"}},\"id\":\"98239e63-92bc-4fdb-85f2-369af0ca6dfd\",\"type\":\"LinearAxis\"},{\"attributes\":{},\"id\":\"0fc76ee3-edfc-46fe-abb7-acda7ebf6c68\",\"type\":\"BasicTicker\"},{\"attributes\":{\"bottom\":{\"field\":\"bottom\"},\"fill_alpha\":{\"value\":0.2},\"fill_color\":{\"value\":\"#1f77b4\"},\"line_color\":{\"value\":null},\"top\":{\"field\":\"top\"},\"width\":{\"value\":0.8},\"x\":{\"field\":\"x\"}},\"id\":\"08d67875-f81a-42a3-844d-f68256c40884\",\"type\":\"VBar\"},{\"attributes\":{\"label\":{\"value\":\"American\"},\"renderers\":[{\"id\":\"cb181fb7-a21c-4f18-a146-d766824479c5\",\"type\":\"GlyphRenderer\"}]},\"id\":\"28073907-aae0-4503-9bd7-01a39d04471d\",\"type\":\"LegendItem\"}],\"root_ids\":[\"db0f6e37-7b93-4164-9bab-a8dbcd6bf096\"]},\"title\":\"Bokeh Application\",\"version\":\"0.13.0\"}};\n",
       "  var render_items = [{\"docid\":\"91665e24-0743-4961-bdfc-e70d550640ce\",\"roots\":{\"db0f6e37-7b93-4164-9bab-a8dbcd6bf096\":\"329642c6-19d6-4b67-bf7b-936c79aed714\"}}];\n",
       "  root.Bokeh.embed.embed_items_notebook(docs_json, render_items);\n",
       "\n",
       "  }\n",
       "  if (root.Bokeh !== undefined) {\n",
       "    embed_document(root);\n",
       "  } else {\n",
       "    var attempts = 0;\n",
       "    var timer = setInterval(function(root) {\n",
       "      if (root.Bokeh !== undefined) {\n",
       "        embed_document(root);\n",
       "        clearInterval(timer);\n",
       "      }\n",
       "      attempts++;\n",
       "      if (attempts > 100) {\n",
       "        console.log(\"Bokeh: ERROR: Unable to run BokehJS code because BokehJS library is missing\")\n",
       "        clearInterval(timer);\n",
       "      }\n",
       "    }, 10, root)\n",
       "  }\n",
       "})(window);"
      ],
      "application/vnd.bokehjs_exec.v0+json": ""
     },
     "metadata": {
      "application/vnd.bokehjs_exec.v0+json": {
       "id": "db0f6e37-7b93-4164-9bab-a8dbcd6bf096"
      }
     },
     "output_type": "display_data"
    }
   ],
   "source": [
    "p = figure(title=\"MPG by Year (Japan and US)\")\n",
    "\n",
    "p.vbar(x=years, bottom=avg-std, top=avg+std, width=0.8, \n",
    "       fill_alpha=0.2, line_color=None, legend=\"MPG 1 stddev\")\n",
    "\n",
    "p.circle(x=japanese[\"yr\"], y=japanese[\"mpg\"], size=10, alpha=0.5,\n",
    "         color=\"red\", legend=\"Japanese\")\n",
    "\n",
    "p.triangle(x=american[\"yr\"], y=american[\"mpg\"], size=10, alpha=0.3,\n",
    "           color=\"blue\", legend=\"American\")\n",
    "\n",
    "p.legend.location = \"top_left\"\n",
    "show(p)"
   ]
  },
  {
   "cell_type": "markdown",
   "metadata": {},
   "source": [
    "**This kind of approach can be used to generate other kinds of interesting plots. See many more examples in the [Bokeh Documentation Gallery](https://bokeh.pydata.org/en/latest/docs/gallery.html). **"
   ]
  },
  {
   "cell_type": "markdown",
   "metadata": {},
   "source": [
    "## Linked Brushing\n",
    "\n",
    "To link plots together at a data level, we can explicitly wrap the data in a `ColumnDataSource`. This allows us to reference columns by name.\n",
    "\n",
    "We can use a \"select\" tool to select points on one plot, and the linked points on the other plots will highlight."
   ]
  },
  {
   "cell_type": "code",
   "execution_count": 7,
   "metadata": {},
   "outputs": [
    {
     "data": {
      "text/html": [
       "\n",
       "\n",
       "\n",
       "\n",
       "\n",
       "\n",
       "  <div class=\"bk-root\" id=\"a86d0d31-997d-4276-8e1e-90d59ccc58e0\"></div>\n"
      ]
     },
     "metadata": {},
     "output_type": "display_data"
    },
    {
     "data": {
      "application/javascript": [
       "(function(root) {\n",
       "  function embed_document(root) {\n",
       "    \n",
       "  var docs_json = {\"ba50128f-0216-4af3-afe8-50aa15197986\":{\"roots\":{\"references\":[{\"attributes\":{\"formatter\":{\"id\":\"659c703d-e525-4eb5-b029-ec44f4e05e62\",\"type\":\"BasicTickFormatter\"},\"plot\":{\"id\":\"d73e77c1-e8c9-43f0-8e48-2b30f3431f4f\",\"subtype\":\"Figure\",\"type\":\"Plot\"},\"ticker\":{\"id\":\"ef5c5d0a-47f1-43b9-ba75-0e1f39c932d9\",\"type\":\"BasicTicker\"}},\"id\":\"a5271baf-04f3-489f-8ae9-6a94c2945ce8\",\"type\":\"LinearAxis\"},{\"attributes\":{\"source\":{\"id\":\"50f02973-304f-4f28-aba7-dc86f4b5e08a\",\"type\":\"ColumnDataSource\"}},\"id\":\"5f7d23f0-c051-4950-b61c-312cb0444607\",\"type\":\"CDSView\"},{\"attributes\":{\"children\":[{\"id\":\"d73e77c1-e8c9-43f0-8e48-2b30f3431f4f\",\"subtype\":\"Figure\",\"type\":\"Plot\"},{\"id\":\"945b792f-3ca9-4b36-be45-8ee3de9b35f3\",\"subtype\":\"Figure\",\"type\":\"Plot\"},{\"id\":\"39dc2cb4-d4d8-447f-bd1f-b26bd02bb37c\",\"subtype\":\"Figure\",\"type\":\"Plot\"}]},\"id\":\"43066285-4147-4e68-80e1-d8de7c903186\",\"type\":\"Row\"},{\"attributes\":{},\"id\":\"f9a9e211-8fc3-4cfa-8bba-f407bb9626eb\",\"type\":\"LinearScale\"},{\"attributes\":{\"callback\":null},\"id\":\"8c2e7ea7-4dff-49a1-bcb3-17368b180aae\",\"type\":\"DataRange1d\"},{\"attributes\":{},\"id\":\"563a324b-42da-4754-9592-00f18b1fdc14\",\"type\":\"LinearScale\"},{\"attributes\":{},\"id\":\"659c703d-e525-4eb5-b029-ec44f4e05e62\",\"type\":\"BasicTickFormatter\"},{\"attributes\":{},\"id\":\"8acb9bb9-f734-4938-bff2-e5cbc57d3749\",\"type\":\"PanTool\"},{\"attributes\":{},\"id\":\"f66feb00-4f31-4072-8aeb-670e2d1d29ae\",\"type\":\"UnionRenderers\"},{\"attributes\":{\"active_drag\":\"auto\",\"active_inspect\":\"auto\",\"active_multi\":null,\"active_scroll\":\"auto\",\"active_tap\":\"auto\",\"tools\":[{\"id\":\"8acb9bb9-f734-4938-bff2-e5cbc57d3749\",\"type\":\"PanTool\"},{\"id\":\"16cf34b9-9cad-4010-9048-c70a0775a859\",\"type\":\"WheelZoomTool\"},{\"id\":\"565d0393-92ed-4131-a6d7-2b866826a2a3\",\"type\":\"BoxZoomTool\"},{\"id\":\"623ada02-abbb-4d6a-a538-a99b493f0e06\",\"type\":\"BoxSelectTool\"},{\"id\":\"f6b70df5-3655-43b2-aa97-d3b4770c1685\",\"type\":\"LassoSelectTool\"}]},\"id\":\"09cd6ccc-8881-4c43-ad69-67ff4f7bb036\",\"type\":\"Toolbar\"},{\"attributes\":{},\"id\":\"1b4dea80-d24d-4568-8168-dfab15352e51\",\"type\":\"BasicTickFormatter\"},{\"attributes\":{\"tools\":[{\"id\":\"8acb9bb9-f734-4938-bff2-e5cbc57d3749\",\"type\":\"PanTool\"},{\"id\":\"16cf34b9-9cad-4010-9048-c70a0775a859\",\"type\":\"WheelZoomTool\"},{\"id\":\"565d0393-92ed-4131-a6d7-2b866826a2a3\",\"type\":\"BoxZoomTool\"},{\"id\":\"623ada02-abbb-4d6a-a538-a99b493f0e06\",\"type\":\"BoxSelectTool\"},{\"id\":\"f6b70df5-3655-43b2-aa97-d3b4770c1685\",\"type\":\"LassoSelectTool\"},{\"id\":\"958cc458-0164-457c-8113-7701ccf8dfd1\",\"type\":\"PanTool\"},{\"id\":\"d495fb23-5e20-40c8-9b5a-e2af122f4e6b\",\"type\":\"WheelZoomTool\"},{\"id\":\"4135614a-ff71-464a-91cf-8848d400f05d\",\"type\":\"BoxZoomTool\"},{\"id\":\"7d1f0bd0-9f1d-46b8-a1ab-212df2603723\",\"type\":\"BoxSelectTool\"},{\"id\":\"118bdc1c-a058-4952-a7f1-90610a51baf5\",\"type\":\"LassoSelectTool\"},{\"id\":\"5b0c9877-267a-4059-b70e-b7cebc03736f\",\"type\":\"PanTool\"},{\"id\":\"bebbaf6d-8d92-4a62-aa2c-3cd4fcb25732\",\"type\":\"WheelZoomTool\"},{\"id\":\"0a483731-83b7-4215-9539-b3f737fe2896\",\"type\":\"BoxZoomTool\"},{\"id\":\"d6dee121-783b-4848-b7c8-cf984ef9898f\",\"type\":\"BoxSelectTool\"},{\"id\":\"1d8128c9-684a-40cc-8208-fe2cf73be237\",\"type\":\"LassoSelectTool\"}]},\"id\":\"936f1693-2a27-4ec6-9d19-2f11e80a1b4f\",\"type\":\"ProxyToolbar\"},{\"attributes\":{\"callback\":null},\"id\":\"fdb8cf7e-386a-4c7b-89f4-af8f5a54c1d3\",\"type\":\"DataRange1d\"},{\"attributes\":{\"plot\":null,\"text\":\"MPG by Year\"},\"id\":\"9d2f7113-ec7f-4927-a79b-24695d3e76e3\",\"type\":\"Title\"},{\"attributes\":{},\"id\":\"f34f4965-5a5c-4ed6-b42c-6cf1a2f73ae0\",\"type\":\"Selection\"},{\"attributes\":{\"below\":[{\"id\":\"deb50206-55d3-4ba4-af84-7aad0f889ee7\",\"type\":\"LinearAxis\"}],\"left\":[{\"id\":\"b9f7bb91-d315-4284-b21e-6d477ec5a641\",\"type\":\"LinearAxis\"}],\"plot_height\":300,\"plot_width\":300,\"renderers\":[{\"id\":\"deb50206-55d3-4ba4-af84-7aad0f889ee7\",\"type\":\"LinearAxis\"},{\"id\":\"a8984772-ff6a-4582-b8ad-c83e769575b6\",\"type\":\"Grid\"},{\"id\":\"b9f7bb91-d315-4284-b21e-6d477ec5a641\",\"type\":\"LinearAxis\"},{\"id\":\"3eb94734-dcae-4d9e-b805-f4c97185460d\",\"type\":\"Grid\"},{\"id\":\"7f9d2f12-f294-45f8-8d64-2b844cf6f508\",\"type\":\"BoxAnnotation\"},{\"id\":\"2a7aa024-d3a2-4a4a-ac3d-bdc3c2f65e42\",\"type\":\"BoxAnnotation\"},{\"id\":\"7b0fcb22-b394-494b-8017-2ebb58768613\",\"type\":\"PolyAnnotation\"},{\"id\":\"7db448e5-f8d0-470d-b8e8-29ad69e0524b\",\"type\":\"GlyphRenderer\"}],\"title\":{\"id\":\"c86b838f-632a-40ed-b6ed-38a7d2c25210\",\"type\":\"Title\"},\"toolbar\":{\"id\":\"6a4dc4cd-6236-49c2-824a-976056c846d0\",\"type\":\"Toolbar\"},\"toolbar_location\":null,\"x_range\":{\"id\":\"8e1bb9bf-bacb-4d3e-98fc-b5ab04b55050\",\"type\":\"DataRange1d\"},\"x_scale\":{\"id\":\"056de7b1-f38e-45cd-887a-e1498480a5c1\",\"type\":\"LinearScale\"},\"y_range\":{\"id\":\"0d890cde-c1aa-44f8-93b7-d39fd1a459c5\",\"type\":\"DataRange1d\"},\"y_scale\":{\"id\":\"3f048682-86e5-4313-94b9-d03bfe3cd0a6\",\"type\":\"LinearScale\"}},\"id\":\"945b792f-3ca9-4b36-be45-8ee3de9b35f3\",\"subtype\":\"Figure\",\"type\":\"Plot\"},{\"attributes\":{},\"id\":\"96a6cbfa-fbc4-417f-8d4d-71373a310fbe\",\"type\":\"BasicTickFormatter\"},{\"attributes\":{\"below\":[{\"id\":\"9749d19c-5d48-4e1d-95c6-f9dbe044d59c\",\"type\":\"LinearAxis\"}],\"left\":[{\"id\":\"718d3ca5-743d-45bf-908d-8b2efa7e5ad5\",\"type\":\"LinearAxis\"}],\"plot_height\":300,\"plot_width\":300,\"renderers\":[{\"id\":\"9749d19c-5d48-4e1d-95c6-f9dbe044d59c\",\"type\":\"LinearAxis\"},{\"id\":\"88aa2c0b-5da4-428e-8d59-1c8cf2fcc494\",\"type\":\"Grid\"},{\"id\":\"718d3ca5-743d-45bf-908d-8b2efa7e5ad5\",\"type\":\"LinearAxis\"},{\"id\":\"c58f940b-4fd8-49a3-9b55-3810712febce\",\"type\":\"Grid\"},{\"id\":\"a6427ef5-7d07-4c4b-85c7-a24d15b0d5e5\",\"type\":\"BoxAnnotation\"},{\"id\":\"4525bb55-04e6-4539-a1a2-ab7806e7966f\",\"type\":\"BoxAnnotation\"},{\"id\":\"0d0dc816-8d25-4669-ba9b-9ee7d3d2d5ce\",\"type\":\"PolyAnnotation\"},{\"id\":\"2b7ebf91-64fe-4ebd-b43d-3cc52553e6a4\",\"type\":\"GlyphRenderer\"}],\"title\":{\"id\":\"e57f90e7-88ad-4069-a1d4-b0343ebaed52\",\"type\":\"Title\"},\"toolbar\":{\"id\":\"15841508-0c7c-442c-ab36-3acd11f60a6e\",\"type\":\"Toolbar\"},\"toolbar_location\":null,\"x_range\":{\"id\":\"a3854fa6-4ea9-465a-a02d-9e867c2e547f\",\"type\":\"DataRange1d\"},\"x_scale\":{\"id\":\"64a264c1-bf74-43ce-bc78-efb5475ad222\",\"type\":\"LinearScale\"},\"y_range\":{\"id\":\"62a57303-0cc8-4683-8351-a18354825c16\",\"type\":\"DataRange1d\"},\"y_scale\":{\"id\":\"13d83b47-6137-41d7-9b4e-83e13a6c60d0\",\"type\":\"LinearScale\"}},\"id\":\"39dc2cb4-d4d8-447f-bd1f-b26bd02bb37c\",\"subtype\":\"Figure\",\"type\":\"Plot\"},{\"attributes\":{},\"id\":\"dcede3fe-26c9-471a-a125-2359fbc24fab\",\"type\":\"BasicTickFormatter\"},{\"attributes\":{\"formatter\":{\"id\":\"1b4dea80-d24d-4568-8168-dfab15352e51\",\"type\":\"BasicTickFormatter\"},\"plot\":{\"id\":\"d73e77c1-e8c9-43f0-8e48-2b30f3431f4f\",\"subtype\":\"Figure\",\"type\":\"Plot\"},\"ticker\":{\"id\":\"5a9bb78f-c298-4f0c-bdb0-57966e3bb453\",\"type\":\"BasicTicker\"}},\"id\":\"92270385-bde5-4d43-9e16-9814acc7edfa\",\"type\":\"LinearAxis\"},{\"attributes\":{\"toolbar\":{\"id\":\"936f1693-2a27-4ec6-9d19-2f11e80a1b4f\",\"type\":\"ProxyToolbar\"}},\"id\":\"d285f660-a87d-4888-9c1f-bfffb9df77ec\",\"type\":\"ToolbarBox\"},{\"attributes\":{},\"id\":\"5a9bb78f-c298-4f0c-bdb0-57966e3bb453\",\"type\":\"BasicTicker\"},{\"attributes\":{\"children\":[{\"id\":\"e9b5d637-259f-458d-859e-27441af4ba35\",\"type\":\"Column\"},{\"id\":\"d285f660-a87d-4888-9c1f-bfffb9df77ec\",\"type\":\"ToolbarBox\"}]},\"id\":\"a1f34538-3aed-4d05-ac98-af6c5f175acb\",\"type\":\"Row\"},{\"attributes\":{\"dimension\":1,\"plot\":{\"id\":\"d73e77c1-e8c9-43f0-8e48-2b30f3431f4f\",\"subtype\":\"Figure\",\"type\":\"Plot\"},\"ticker\":{\"id\":\"ef5c5d0a-47f1-43b9-ba75-0e1f39c932d9\",\"type\":\"BasicTicker\"}},\"id\":\"70aa2e52-f1ed-4920-993a-b4620b711d3b\",\"type\":\"Grid\"},{\"attributes\":{\"bottom_units\":\"screen\",\"fill_alpha\":{\"value\":0.5},\"fill_color\":{\"value\":\"lightgrey\"},\"left_units\":\"screen\",\"level\":\"overlay\",\"line_alpha\":{\"value\":1.0},\"line_color\":{\"value\":\"black\"},\"line_dash\":[4,4],\"line_width\":{\"value\":2},\"plot\":null,\"render_mode\":\"css\",\"right_units\":\"screen\",\"top_units\":\"screen\"},\"id\":\"168e956c-fdf5-4fea-bd65-ce21594d3b1a\",\"type\":\"BoxAnnotation\"},{\"attributes\":{\"fill_alpha\":{\"value\":0.5},\"fill_color\":{\"value\":\"lightgrey\"},\"level\":\"overlay\",\"line_alpha\":{\"value\":1.0},\"line_color\":{\"value\":\"black\"},\"line_dash\":[4,4],\"line_width\":{\"value\":2},\"plot\":null,\"xs_units\":\"screen\",\"ys_units\":\"screen\"},\"id\":\"7b0fcb22-b394-494b-8017-2ebb58768613\",\"type\":\"PolyAnnotation\"},{\"attributes\":{},\"id\":\"ef5c5d0a-47f1-43b9-ba75-0e1f39c932d9\",\"type\":\"BasicTicker\"},{\"attributes\":{\"fill_alpha\":{\"value\":0.5},\"fill_color\":{\"value\":\"lightgrey\"},\"level\":\"overlay\",\"line_alpha\":{\"value\":1.0},\"line_color\":{\"value\":\"black\"},\"line_dash\":[4,4],\"line_width\":{\"value\":2},\"plot\":null,\"xs_units\":\"screen\",\"ys_units\":\"screen\"},\"id\":\"0fe12bd9-51b1-4820-a7d9-e599c8cf95ed\",\"type\":\"PolyAnnotation\"},{\"attributes\":{},\"id\":\"16cf34b9-9cad-4010-9048-c70a0775a859\",\"type\":\"WheelZoomTool\"},{\"attributes\":{\"below\":[{\"id\":\"92270385-bde5-4d43-9e16-9814acc7edfa\",\"type\":\"LinearAxis\"}],\"left\":[{\"id\":\"a5271baf-04f3-489f-8ae9-6a94c2945ce8\",\"type\":\"LinearAxis\"}],\"plot_height\":300,\"plot_width\":300,\"renderers\":[{\"id\":\"92270385-bde5-4d43-9e16-9814acc7edfa\",\"type\":\"LinearAxis\"},{\"id\":\"aa3d7cb6-5e07-4475-ac62-83c379c9a160\",\"type\":\"Grid\"},{\"id\":\"a5271baf-04f3-489f-8ae9-6a94c2945ce8\",\"type\":\"LinearAxis\"},{\"id\":\"70aa2e52-f1ed-4920-993a-b4620b711d3b\",\"type\":\"Grid\"},{\"id\":\"168e956c-fdf5-4fea-bd65-ce21594d3b1a\",\"type\":\"BoxAnnotation\"},{\"id\":\"c3e8eac2-54a2-45c4-a9c2-3471e3709960\",\"type\":\"BoxAnnotation\"},{\"id\":\"0fe12bd9-51b1-4820-a7d9-e599c8cf95ed\",\"type\":\"PolyAnnotation\"},{\"id\":\"37eb94df-7ae1-4232-b6a4-301e68ae4ef5\",\"type\":\"GlyphRenderer\"}],\"title\":{\"id\":\"9d2f7113-ec7f-4927-a79b-24695d3e76e3\",\"type\":\"Title\"},\"toolbar\":{\"id\":\"09cd6ccc-8881-4c43-ad69-67ff4f7bb036\",\"type\":\"Toolbar\"},\"toolbar_location\":null,\"x_range\":{\"id\":\"fdb8cf7e-386a-4c7b-89f4-af8f5a54c1d3\",\"type\":\"DataRange1d\"},\"x_scale\":{\"id\":\"563a324b-42da-4754-9592-00f18b1fdc14\",\"type\":\"LinearScale\"},\"y_range\":{\"id\":\"8c2e7ea7-4dff-49a1-bcb3-17368b180aae\",\"type\":\"DataRange1d\"},\"y_scale\":{\"id\":\"f9a9e211-8fc3-4cfa-8bba-f407bb9626eb\",\"type\":\"LinearScale\"}},\"id\":\"d73e77c1-e8c9-43f0-8e48-2b30f3431f4f\",\"subtype\":\"Figure\",\"type\":\"Plot\"},{\"attributes\":{\"overlay\":{\"id\":\"168e956c-fdf5-4fea-bd65-ce21594d3b1a\",\"type\":\"BoxAnnotation\"}},\"id\":\"565d0393-92ed-4131-a6d7-2b866826a2a3\",\"type\":\"BoxZoomTool\"},{\"attributes\":{\"callback\":null,\"overlay\":{\"id\":\"c3e8eac2-54a2-45c4-a9c2-3471e3709960\",\"type\":\"BoxAnnotation\"}},\"id\":\"623ada02-abbb-4d6a-a538-a99b493f0e06\",\"type\":\"BoxSelectTool\"},{\"attributes\":{\"callback\":null,\"overlay\":{\"id\":\"0fe12bd9-51b1-4820-a7d9-e599c8cf95ed\",\"type\":\"PolyAnnotation\"}},\"id\":\"f6b70df5-3655-43b2-aa97-d3b4770c1685\",\"type\":\"LassoSelectTool\"},{\"attributes\":{},\"id\":\"afabe094-276c-4acb-b904-45e8a53cbf85\",\"type\":\"BasicTickFormatter\"},{\"attributes\":{\"data_source\":{\"id\":\"50f02973-304f-4f28-aba7-dc86f4b5e08a\",\"type\":\"ColumnDataSource\"},\"glyph\":{\"id\":\"30960f18-be85-403a-b333-ff894a2bab42\",\"type\":\"Circle\"},\"hover_glyph\":null,\"muted_glyph\":null,\"nonselection_glyph\":{\"id\":\"c330bea1-517c-4ed9-a03d-f5f537bd4185\",\"type\":\"Circle\"},\"selection_glyph\":null,\"view\":{\"id\":\"a56299d8-2ae0-4fc7-9800-bba32241cdc8\",\"type\":\"CDSView\"}},\"id\":\"37eb94df-7ae1-4232-b6a4-301e68ae4ef5\",\"type\":\"GlyphRenderer\"},{\"attributes\":{\"bottom_units\":\"screen\",\"fill_alpha\":{\"value\":0.5},\"fill_color\":{\"value\":\"lightgrey\"},\"left_units\":\"screen\",\"level\":\"overlay\",\"line_alpha\":{\"value\":1.0},\"line_color\":{\"value\":\"black\"},\"line_dash\":[4,4],\"line_width\":{\"value\":2},\"plot\":null,\"render_mode\":\"css\",\"right_units\":\"screen\",\"top_units\":\"screen\"},\"id\":\"c3e8eac2-54a2-45c4-a9c2-3471e3709960\",\"type\":\"BoxAnnotation\"},{\"attributes\":{\"source\":{\"id\":\"50f02973-304f-4f28-aba7-dc86f4b5e08a\",\"type\":\"ColumnDataSource\"}},\"id\":\"a56299d8-2ae0-4fc7-9800-bba32241cdc8\",\"type\":\"CDSView\"},{\"attributes\":{\"fill_alpha\":{\"value\":0.1},\"fill_color\":{\"value\":\"#1f77b4\"},\"line_alpha\":{\"value\":0.1},\"line_color\":{\"value\":\"#1f77b4\"},\"x\":{\"field\":\"yr\"},\"y\":{\"field\":\"mpg\"}},\"id\":\"c330bea1-517c-4ed9-a03d-f5f537bd4185\",\"type\":\"Circle\"},{\"attributes\":{},\"id\":\"7590045c-629e-4f1a-9bdf-b71bf93ca369\",\"type\":\"BasicTickFormatter\"},{\"attributes\":{\"fill_color\":{\"value\":\"blue\"},\"line_color\":{\"value\":\"blue\"},\"x\":{\"field\":\"yr\"},\"y\":{\"field\":\"mpg\"}},\"id\":\"30960f18-be85-403a-b333-ff894a2bab42\",\"type\":\"Circle\"},{\"attributes\":{\"plot\":null,\"text\":\"HP vs. Displacement\"},\"id\":\"c86b838f-632a-40ed-b6ed-38a7d2c25210\",\"type\":\"Title\"},{\"attributes\":{\"callback\":null},\"id\":\"8e1bb9bf-bacb-4d3e-98fc-b5ab04b55050\",\"type\":\"DataRange1d\"},{\"attributes\":{\"active_drag\":\"auto\",\"active_inspect\":\"auto\",\"active_multi\":null,\"active_scroll\":\"auto\",\"active_tap\":\"auto\",\"tools\":[{\"id\":\"958cc458-0164-457c-8113-7701ccf8dfd1\",\"type\":\"PanTool\"},{\"id\":\"d495fb23-5e20-40c8-9b5a-e2af122f4e6b\",\"type\":\"WheelZoomTool\"},{\"id\":\"4135614a-ff71-464a-91cf-8848d400f05d\",\"type\":\"BoxZoomTool\"},{\"id\":\"7d1f0bd0-9f1d-46b8-a1ab-212df2603723\",\"type\":\"BoxSelectTool\"},{\"id\":\"118bdc1c-a058-4952-a7f1-90610a51baf5\",\"type\":\"LassoSelectTool\"}]},\"id\":\"6a4dc4cd-6236-49c2-824a-976056c846d0\",\"type\":\"Toolbar\"},{\"attributes\":{\"bottom_units\":\"screen\",\"fill_alpha\":{\"value\":0.5},\"fill_color\":{\"value\":\"lightgrey\"},\"left_units\":\"screen\",\"level\":\"overlay\",\"line_alpha\":{\"value\":1.0},\"line_color\":{\"value\":\"black\"},\"line_dash\":[4,4],\"line_width\":{\"value\":2},\"plot\":null,\"render_mode\":\"css\",\"right_units\":\"screen\",\"top_units\":\"screen\"},\"id\":\"7f9d2f12-f294-45f8-8d64-2b844cf6f508\",\"type\":\"BoxAnnotation\"},{\"attributes\":{},\"id\":\"056de7b1-f38e-45cd-887a-e1498480a5c1\",\"type\":\"LinearScale\"},{\"attributes\":{\"callback\":null},\"id\":\"0d890cde-c1aa-44f8-93b7-d39fd1a459c5\",\"type\":\"DataRange1d\"},{\"attributes\":{},\"id\":\"3f048682-86e5-4313-94b9-d03bfe3cd0a6\",\"type\":\"LinearScale\"},{\"attributes\":{\"plot\":{\"id\":\"945b792f-3ca9-4b36-be45-8ee3de9b35f3\",\"subtype\":\"Figure\",\"type\":\"Plot\"},\"ticker\":{\"id\":\"5e90b8d6-5a18-4057-9542-a1696d8c7569\",\"type\":\"BasicTicker\"}},\"id\":\"a8984772-ff6a-4582-b8ad-c83e769575b6\",\"type\":\"Grid\"},{\"attributes\":{\"formatter\":{\"id\":\"dcede3fe-26c9-471a-a125-2359fbc24fab\",\"type\":\"BasicTickFormatter\"},\"plot\":{\"id\":\"945b792f-3ca9-4b36-be45-8ee3de9b35f3\",\"subtype\":\"Figure\",\"type\":\"Plot\"},\"ticker\":{\"id\":\"5e90b8d6-5a18-4057-9542-a1696d8c7569\",\"type\":\"BasicTicker\"}},\"id\":\"deb50206-55d3-4ba4-af84-7aad0f889ee7\",\"type\":\"LinearAxis\"},{\"attributes\":{},\"id\":\"5e90b8d6-5a18-4057-9542-a1696d8c7569\",\"type\":\"BasicTicker\"},{\"attributes\":{\"bottom_units\":\"screen\",\"fill_alpha\":{\"value\":0.5},\"fill_color\":{\"value\":\"lightgrey\"},\"left_units\":\"screen\",\"level\":\"overlay\",\"line_alpha\":{\"value\":1.0},\"line_color\":{\"value\":\"black\"},\"line_dash\":[4,4],\"line_width\":{\"value\":2},\"plot\":null,\"render_mode\":\"css\",\"right_units\":\"screen\",\"top_units\":\"screen\"},\"id\":\"2a7aa024-d3a2-4a4a-ac3d-bdc3c2f65e42\",\"type\":\"BoxAnnotation\"},{\"attributes\":{\"formatter\":{\"id\":\"96a6cbfa-fbc4-417f-8d4d-71373a310fbe\",\"type\":\"BasicTickFormatter\"},\"plot\":{\"id\":\"945b792f-3ca9-4b36-be45-8ee3de9b35f3\",\"subtype\":\"Figure\",\"type\":\"Plot\"},\"ticker\":{\"id\":\"b4836b52-d27b-4980-89b2-11d7ca48fc44\",\"type\":\"BasicTicker\"}},\"id\":\"b9f7bb91-d315-4284-b21e-6d477ec5a641\",\"type\":\"LinearAxis\"},{\"attributes\":{\"callback\":null,\"data\":{\"accel\":{\"__ndarray__\":\"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\",\"dtype\":\"float64\",\"shape\":[392]},\"cyl\":[8,8,8,8,8,8,8,8,8,8,8,8,8,8,4,6,6,6,4,4,4,4,4,4,6,8,8,8,8,4,4,4,6,6,6,6,6,8,8,8,8,8,8,8,6,4,6,6,4,4,4,4,4,4,4,4,4,4,4,4,4,8,8,8,8,8,8,8,8,8,3,8,8,8,8,4,4,4,4,4,4,4,4,4,8,8,8,8,8,8,8,8,8,8,8,8,6,6,6,6,6,4,8,8,8,8,6,4,4,4,3,4,6,4,8,8,4,4,4,4,8,4,6,8,6,6,6,4,4,4,4,6,6,6,8,8,8,8,8,4,4,4,4,4,4,4,4,4,4,4,6,6,6,6,8,8,8,8,6,6,6,6,6,8,8,4,4,6,4,4,4,4,6,4,6,4,4,4,4,4,4,4,4,4,4,8,8,8,8,6,6,6,6,4,4,4,4,6,6,6,6,4,4,4,4,4,8,4,6,6,8,8,8,8,4,4,4,4,4,8,8,8,8,6,6,6,6,8,8,8,8,4,4,4,4,4,4,4,4,6,4,3,4,4,4,4,4,8,8,8,6,6,6,4,6,6,6,6,6,6,8,6,8,8,4,4,4,4,4,4,4,4,5,6,4,6,4,4,6,6,4,6,6,8,8,8,8,8,8,8,8,4,4,4,4,5,8,4,8,4,4,4,4,4,6,6,4,4,4,4,4,4,4,4,6,4,4,4,4,4,4,4,4,4,4,5,4,4,4,4,6,3,4,4,4,4,4,6,4,4,4,4,4,4,4,4,4,4,4,4,4,4,4,4,4,6,6,6,6,8,6,6,4,4,4,4,4,4,4,4,4,4,4,4,4,4,4,4,4,4,6,6,4,6,4,4,4,4,4,4,4,4],\"displ\":{\"__ndarray__\":\"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\",\"dtype\":\"float64\",\"shape\":[392]},\"hp\":[130,165,150,150,140,198,220,215,225,190,170,160,150,225,95,95,97,85,88,46,87,90,95,113,90,215,200,210,193,88,90,95,100,105,100,88,100,165,175,153,150,180,170,175,110,72,100,88,86,90,70,76,65,69,60,70,95,80,54,90,86,165,175,150,153,150,208,155,160,190,97,150,130,140,150,112,76,87,69,86,92,97,80,88,175,150,145,137,150,198,150,158,150,215,225,175,105,100,100,88,95,46,150,167,170,180,100,88,72,94,90,85,107,90,145,230,49,75,91,112,150,110,122,180,95,100,100,67,80,65,75,100,110,105,140,150,150,140,150,83,67,78,52,61,75,75,75,97,93,67,95,105,72,72,170,145,150,148,110,105,110,95,110,110,129,75,83,100,78,96,71,97,97,70,90,95,88,98,115,53,86,81,92,79,83,140,150,120,152,100,105,81,90,52,60,70,53,100,78,110,95,71,70,75,72,102,150,88,108,120,180,145,130,150,68,80,58,96,70,145,110,145,130,110,105,100,98,180,170,190,149,78,88,75,89,63,83,67,78,97,110,110,48,66,52,70,60,110,140,139,105,95,85,88,100,90,105,85,110,120,145,165,139,140,68,95,97,75,95,105,85,97,103,125,115,133,71,68,115,85,88,90,110,130,129,138,135,155,142,125,150,71,65,80,80,77,125,71,90,70,70,65,69,90,115,115,90,76,60,70,65,90,88,90,90,78,90,75,92,75,65,105,65,48,48,67,67,67,67,62,132,100,88,72,84,84,92,110,84,58,64,60,67,65,62,68,63,65,65,74,75,75,100,74,80,76,116,120,110,105,88,85,88,88,88,85,84,90,92,74,68,68,63,70,88,75,70,67,67,67,110,85,92,112,96,84,90,86,52,84,79,82],\"index\":[0,1,2,3,4,5,6,7,8,9,10,11,12,13,14,15,16,17,18,19,20,21,22,23,24,25,26,27,28,29,30,31,32,33,34,35,36,37,38,39,40,41,42,43,44,45,46,47,48,49,50,51,52,53,54,55,56,57,58,59,60,61,62,63,64,65,66,67,68,69,70,71,72,73,74,75,76,77,78,79,80,81,82,83,84,85,86,87,88,89,90,91,92,93,94,95,96,97,98,99,100,101,102,103,104,105,106,107,108,109,110,111,112,113,114,115,116,117,118,119,120,121,122,123,124,125,126,127,128,129,130,131,132,133,134,135,136,137,138,139,140,141,142,143,144,145,146,147,148,149,150,151,152,153,154,155,156,157,158,159,160,161,162,163,164,165,166,167,168,169,170,171,172,173,174,175,176,177,178,179,180,181,182,183,184,185,186,187,188,189,190,191,192,193,194,195,196,197,198,199,200,201,202,203,204,205,206,207,208,209,210,211,212,213,214,215,216,217,218,219,220,221,222,223,224,225,226,227,228,229,230,231,232,233,234,235,236,237,238,239,240,241,242,243,244,245,246,247,248,249,250,251,252,253,254,255,256,257,258,259,260,261,262,263,264,265,266,267,268,269,270,271,272,273,274,275,276,277,278,279,280,281,282,283,284,285,286,287,288,289,290,291,292,293,294,295,296,297,298,299,300,301,302,303,304,305,306,307,308,309,310,311,312,313,314,315,316,317,318,319,320,321,322,323,324,325,326,327,328,329,330,331,332,333,334,335,336,337,338,339,340,341,342,343,344,345,346,347,348,349,350,351,352,353,354,355,356,357,358,359,360,361,362,363,364,365,366,367,368,369,370,371,372,373,374,375,376,377,378,379,380,381,382,383,384,385,386,387,388,389,390,391],\"mpg\":{\"__ndarray__\":\"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\",\"dtype\":\"float64\",\"shape\":[392]},\"name\":[\"chevrolet chevelle malibu\",\"buick skylark 320\",\"plymouth satellite\",\"amc rebel sst\",\"ford torino\",\"ford galaxie 500\",\"chevrolet impala\",\"plymouth fury iii\",\"pontiac catalina\",\"amc ambassador dpl\",\"dodge challenger se\",\"plymouth 'cuda 340\",\"chevrolet monte carlo\",\"buick estate wagon (sw)\",\"toyota corona mark ii\",\"plymouth duster\",\"amc hornet\",\"ford maverick\",\"datsun pl510\",\"volkswagen 1131 deluxe sedan\",\"peugeot 504\",\"audi 100 ls\",\"saab 99e\",\"bmw 2002\",\"amc gremlin\",\"ford f250\",\"chevy c20\",\"dodge d200\",\"hi 1200d\",\"datsun pl510\",\"chevrolet vega 2300\",\"toyota corona\",\"amc gremlin\",\"plymouth satellite custom\",\"chevrolet chevelle malibu\",\"ford torino 500\",\"amc matador\",\"chevrolet impala\",\"pontiac catalina brougham\",\"ford galaxie 500\",\"plymouth fury iii\",\"dodge monaco (sw)\",\"ford country squire (sw)\",\"pontiac safari (sw)\",\"amc hornet sportabout (sw)\",\"chevrolet vega (sw)\",\"pontiac firebird\",\"ford mustang\",\"mercury capri 2000\",\"opel 1900\",\"peugeot 304\",\"fiat 124b\",\"toyota corolla 1200\",\"datsun 1200\",\"volkswagen model 111\",\"plymouth cricket\",\"toyota corona hardtop\",\"dodge colt hardtop\",\"volkswagen type 3\",\"chevrolet vega\",\"ford pinto runabout\",\"chevrolet impala\",\"pontiac catalina\",\"plymouth fury iii\",\"ford galaxie 500\",\"amc ambassador sst\",\"mercury marquis\",\"buick lesabre custom\",\"oldsmobile delta 88 royale\",\"chrysler newport royal\",\"mazda rx2 coupe\",\"amc matador (sw)\",\"chevrolet chevelle concours (sw)\",\"ford gran torino (sw)\",\"plymouth satellite custom (sw)\",\"volvo 145e (sw)\",\"volkswagen 411 (sw)\",\"peugeot 504 (sw)\",\"renault 12 (sw)\",\"ford pinto (sw)\",\"datsun 510 (sw)\",\"toyouta corona mark ii (sw)\",\"dodge colt (sw)\",\"toyota corolla 1600 (sw)\",\"buick century 350\",\"amc matador\",\"chevrolet malibu\",\"ford gran torino\",\"dodge coronet custom\",\"mercury marquis brougham\",\"chevrolet caprice classic\",\"ford ltd\",\"plymouth fury gran sedan\",\"chrysler new yorker brougham\",\"buick electra 225 custom\",\"amc ambassador brougham\",\"plymouth valiant\",\"chevrolet nova custom\",\"amc hornet\",\"ford maverick\",\"plymouth duster\",\"volkswagen super beetle\",\"chevrolet impala\",\"ford country\",\"plymouth custom suburb\",\"oldsmobile vista cruiser\",\"amc gremlin\",\"toyota carina\",\"chevrolet vega\",\"datsun 610\",\"maxda rx3\",\"ford pinto\",\"mercury capri v6\",\"fiat 124 sport coupe\",\"chevrolet monte carlo s\",\"pontiac grand prix\",\"fiat 128\",\"opel manta\",\"audi 100ls\",\"volvo 144ea\",\"dodge dart custom\",\"saab 99le\",\"toyota mark ii\",\"oldsmobile omega\",\"plymouth duster\",\"amc hornet\",\"chevrolet nova\",\"datsun b210\",\"ford pinto\",\"toyota corolla 1200\",\"chevrolet vega\",\"chevrolet chevelle malibu classic\",\"amc matador\",\"plymouth satellite sebring\",\"ford gran torino\",\"buick century luxus (sw)\",\"dodge coronet custom (sw)\",\"ford gran torino (sw)\",\"amc matador (sw)\",\"audi fox\",\"volkswagen dasher\",\"opel manta\",\"toyota corona\",\"datsun 710\",\"dodge colt\",\"fiat 128\",\"fiat 124 tc\",\"honda civic\",\"subaru\",\"fiat x1.9\",\"plymouth valiant custom\",\"chevrolet nova\",\"mercury monarch\",\"ford maverick\",\"pontiac catalina\",\"chevrolet bel air\",\"plymouth grand fury\",\"ford ltd\",\"buick century\",\"chevroelt chevelle malibu\",\"amc matador\",\"plymouth fury\",\"buick skyhawk\",\"chevrolet monza 2+2\",\"ford mustang ii\",\"toyota corolla\",\"ford pinto\",\"amc gremlin\",\"pontiac astro\",\"toyota corona\",\"volkswagen dasher\",\"datsun 710\",\"ford pinto\",\"volkswagen rabbit\",\"amc pacer\",\"audi 100ls\",\"peugeot 504\",\"volvo 244dl\",\"saab 99le\",\"honda civic cvcc\",\"fiat 131\",\"opel 1900\",\"capri ii\",\"dodge colt\",\"renault 12tl\",\"chevrolet chevelle malibu classic\",\"dodge coronet brougham\",\"amc matador\",\"ford gran torino\",\"plymouth valiant\",\"chevrolet nova\",\"ford maverick\",\"amc hornet\",\"chevrolet chevette\",\"chevrolet woody\",\"vw rabbit\",\"honda civic\",\"dodge aspen se\",\"ford granada ghia\",\"pontiac ventura sj\",\"amc pacer d/l\",\"volkswagen rabbit\",\"datsun b-210\",\"toyota corolla\",\"ford pinto\",\"volvo 245\",\"plymouth volare premier v8\",\"peugeot 504\",\"toyota mark ii\",\"mercedes-benz 280s\",\"cadillac seville\",\"chevy c10\",\"ford f108\",\"dodge d100\",\"honda accord cvcc\",\"buick opel isuzu deluxe\",\"renault 5 gtl\",\"plymouth arrow gs\",\"datsun f-10 hatchback\",\"chevrolet caprice classic\",\"oldsmobile cutlass supreme\",\"dodge monaco brougham\",\"mercury cougar brougham\",\"chevrolet concours\",\"buick skylark\",\"plymouth volare custom\",\"ford granada\",\"pontiac grand prix lj\",\"chevrolet monte carlo landau\",\"chrysler cordoba\",\"ford thunderbird\",\"volkswagen rabbit custom\",\"pontiac sunbird coupe\",\"toyota corolla liftback\",\"ford mustang ii 2+2\",\"chevrolet chevette\",\"dodge colt m/m\",\"subaru dl\",\"volkswagen dasher\",\"datsun 810\",\"bmw 320i\",\"mazda rx-4\",\"volkswagen rabbit custom diesel\",\"ford fiesta\",\"mazda glc deluxe\",\"datsun b210 gx\",\"honda civic cvcc\",\"oldsmobile cutlass salon brougham\",\"dodge diplomat\",\"mercury monarch ghia\",\"pontiac phoenix lj\",\"chevrolet malibu\",\"ford fairmont (auto)\",\"ford fairmont (man)\",\"plymouth volare\",\"amc concord\",\"buick century special\",\"mercury zephyr\",\"dodge aspen\",\"amc concord d/l\",\"chevrolet monte carlo landau\",\"buick regal sport coupe (turbo)\",\"ford futura\",\"dodge magnum xe\",\"chevrolet chevette\",\"toyota corona\",\"datsun 510\",\"dodge omni\",\"toyota celica gt liftback\",\"plymouth sapporo\",\"oldsmobile starfire sx\",\"datsun 200-sx\",\"audi 5000\",\"volvo 264gl\",\"saab 99gle\",\"peugeot 604sl\",\"volkswagen scirocco\",\"honda accord lx\",\"pontiac lemans v6\",\"mercury zephyr 6\",\"ford fairmont 4\",\"amc concord dl 6\",\"dodge aspen 6\",\"chevrolet caprice classic\",\"ford ltd landau\",\"mercury grand marquis\",\"dodge st. regis\",\"buick estate wagon (sw)\",\"ford country squire (sw)\",\"chevrolet malibu classic (sw)\",\"chrysler lebaron town @ country (sw)\",\"vw rabbit custom\",\"maxda glc deluxe\",\"dodge colt hatchback custom\",\"amc spirit dl\",\"mercedes benz 300d\",\"cadillac eldorado\",\"peugeot 504\",\"oldsmobile cutlass salon brougham\",\"plymouth horizon\",\"plymouth horizon tc3\",\"datsun 210\",\"fiat strada custom\",\"buick skylark limited\",\"chevrolet citation\",\"oldsmobile omega brougham\",\"pontiac phoenix\",\"vw rabbit\",\"toyota corolla tercel\",\"chevrolet chevette\",\"datsun 310\",\"chevrolet citation\",\"ford fairmont\",\"amc concord\",\"dodge aspen\",\"audi 4000\",\"toyota corona liftback\",\"mazda 626\",\"datsun 510 hatchback\",\"toyota corolla\",\"mazda glc\",\"dodge colt\",\"datsun 210\",\"vw rabbit c (diesel)\",\"vw dasher (diesel)\",\"audi 5000s (diesel)\",\"mercedes-benz 240d\",\"honda civic 1500 gl\",\"subaru dl\",\"vokswagen rabbit\",\"datsun 280-zx\",\"mazda rx-7 gs\",\"triumph tr7 coupe\",\"honda accord\",\"plymouth reliant\",\"buick skylark\",\"dodge aries wagon (sw)\",\"chevrolet citation\",\"plymouth reliant\",\"toyota starlet\",\"plymouth champ\",\"honda civic 1300\",\"subaru\",\"datsun 210 mpg\",\"toyota tercel\",\"mazda glc 4\",\"plymouth horizon 4\",\"ford escort 4w\",\"ford escort 2h\",\"volkswagen jetta\",\"honda prelude\",\"toyota corolla\",\"datsun 200sx\",\"mazda 626\",\"peugeot 505s turbo diesel\",\"volvo diesel\",\"toyota cressida\",\"datsun 810 maxima\",\"buick century\",\"oldsmobile cutlass ls\",\"ford granada gl\",\"chrysler lebaron salon\",\"chevrolet cavalier\",\"chevrolet cavalier wagon\",\"chevrolet cavalier 2-door\",\"pontiac j2000 se hatchback\",\"dodge aries se\",\"pontiac phoenix\",\"ford fairmont futura\",\"volkswagen rabbit l\",\"mazda glc custom l\",\"mazda glc custom\",\"plymouth horizon miser\",\"mercury lynx l\",\"nissan stanza xe\",\"honda accord\",\"toyota corolla\",\"honda civic\",\"honda civic (auto)\",\"datsun 310 gx\",\"buick century limited\",\"oldsmobile cutlass ciera (diesel)\",\"chrysler lebaron medallion\",\"ford granada l\",\"toyota celica gt\",\"dodge charger 2.2\",\"chevrolet camaro\",\"ford mustang gl\",\"vw pickup\",\"dodge rampage\",\"ford ranger\",\"chevy s-10\"],\"origin\":[1,1,1,1,1,1,1,1,1,1,1,1,1,1,3,1,1,1,3,2,2,2,2,2,1,1,1,1,1,3,1,3,1,1,1,1,1,1,1,1,1,1,1,1,1,1,1,1,1,2,2,2,3,3,2,1,3,1,2,1,1,1,1,1,1,1,1,1,1,1,3,1,1,1,1,2,2,2,2,1,3,3,1,3,1,1,1,1,1,1,1,1,1,1,1,1,1,1,1,1,1,2,1,1,1,1,1,3,1,3,3,1,1,2,1,1,2,2,2,2,1,2,3,1,1,1,1,3,1,3,1,1,1,1,1,1,1,1,1,2,2,2,3,3,1,2,2,3,3,2,1,1,1,1,1,1,1,1,1,1,1,1,1,1,1,3,1,1,1,3,2,3,1,2,1,2,2,2,2,3,2,2,1,1,2,1,1,1,1,1,1,1,1,1,1,2,3,1,1,1,1,2,3,3,1,2,1,2,3,2,1,1,1,1,3,1,2,1,3,1,1,1,1,1,1,1,1,1,1,1,1,2,1,3,1,1,1,3,2,3,2,3,2,1,3,3,3,1,1,1,1,1,1,1,1,1,1,1,1,1,1,1,1,1,1,3,3,1,3,1,1,3,2,2,2,2,2,3,1,1,1,1,1,1,1,1,1,1,1,1,1,2,3,1,1,2,1,2,1,1,1,3,2,1,1,1,1,2,3,1,3,1,1,1,1,2,3,3,3,3,3,1,3,2,2,2,2,3,3,2,3,3,2,3,1,1,1,1,1,3,1,3,3,3,3,3,1,1,1,2,3,3,3,3,2,2,3,3,1,1,1,1,1,1,1,1,1,1,1,2,3,3,1,1,3,3,3,3,3,3,1,1,1,1,3,1,1,1,2,1,1,1],\"weight\":[3504,3693,3436,3433,3449,4341,4354,4312,4425,3850,3563,3609,3761,3086,2372,2833,2774,2587,2130,1835,2672,2430,2375,2234,2648,4615,4376,4382,4732,2130,2264,2228,2634,3439,3329,3302,3288,4209,4464,4154,4096,4955,4746,5140,2962,2408,3282,3139,2220,2123,2074,2065,1773,1613,1834,1955,2278,2126,2254,2408,2226,4274,4385,4135,4129,3672,4633,4502,4456,4422,2330,3892,4098,4294,4077,2933,2511,2979,2189,2395,2288,2506,2164,2100,4100,3672,3988,4042,3777,4952,4464,4363,4237,4735,4951,3821,3121,3278,2945,3021,2904,1950,4997,4906,4654,4499,2789,2279,2401,2379,2124,2310,2472,2265,4082,4278,1867,2158,2582,2868,3399,2660,2807,3664,3102,2901,3336,1950,2451,1836,2542,3781,3632,3613,4141,4699,4457,4638,4257,2219,1963,2300,1649,2003,2125,2108,2246,2489,2391,2000,3264,3459,3432,3158,4668,4440,4498,4657,3907,3897,3730,3785,3039,3221,3169,2171,2639,2914,2592,2702,2223,2545,2984,1937,3211,2694,2957,2945,2671,1795,2464,2220,2572,2255,2202,4215,4190,3962,4215,3233,3353,3012,3085,2035,2164,1937,1795,3651,3574,3645,3193,1825,1990,2155,2565,3150,3940,3270,2930,3820,4380,4055,3870,3755,2045,2155,1825,2300,1945,3880,4060,4140,4295,3520,3425,3630,3525,4220,4165,4325,4335,1940,2740,2265,2755,2051,2075,1985,2190,2815,2600,2720,1985,1800,1985,2070,1800,3365,3735,3570,3535,3155,2965,2720,3430,3210,3380,3070,3620,3410,3425,3445,3205,4080,2155,2560,2300,2230,2515,2745,2855,2405,2830,3140,2795,3410,1990,2135,3245,2990,2890,3265,3360,3840,3725,3955,3830,4360,4054,3605,3940,1925,1975,1915,2670,3530,3900,3190,3420,2200,2150,2020,2130,2670,2595,2700,2556,2144,1968,2120,2019,2678,2870,3003,3381,2188,2711,2542,2434,2265,2110,2800,2110,2085,2335,2950,3250,1850,2145,1845,2910,2420,2500,2290,2490,2635,2620,2725,2385,1755,1875,1760,2065,1975,2050,1985,2215,2045,2380,2190,2210,2350,2615,2635,3230,3160,2900,2930,3415,3725,3060,3465,2605,2640,2395,2575,2525,2735,2865,1980,2025,1970,2125,2125,2160,2205,2245,1965,1965,1995,2945,3015,2585,2835,2665,2370,2950,2790,2130,2295,2625,2720],\"yr\":[70,70,70,70,70,70,70,70,70,70,70,70,70,70,70,70,70,70,70,70,70,70,70,70,70,70,70,70,70,71,71,71,71,71,71,71,71,71,71,71,71,71,71,71,71,71,71,71,71,71,71,71,71,71,71,71,72,72,72,72,72,72,72,72,72,72,72,72,72,72,72,72,72,72,72,72,72,72,72,72,72,72,72,72,73,73,73,73,73,73,73,73,73,73,73,73,73,73,73,73,73,73,73,73,73,73,73,73,73,73,73,73,73,73,73,73,73,73,73,73,73,73,73,73,74,74,74,74,74,74,74,74,74,74,74,74,74,74,74,74,74,74,74,74,74,74,74,74,74,74,75,75,75,75,75,75,75,75,75,75,75,75,75,75,75,75,75,75,75,75,75,75,75,75,75,75,75,75,75,75,76,76,76,76,76,76,76,76,76,76,76,76,76,76,76,76,76,76,76,76,76,76,76,76,76,76,76,76,76,76,76,76,76,76,77,77,77,77,77,77,77,77,77,77,77,77,77,77,77,77,77,77,77,77,77,77,77,77,77,77,77,77,78,78,78,78,78,78,78,78,78,78,78,78,78,78,78,78,78,78,78,78,78,78,78,78,78,78,78,78,78,78,78,78,78,78,78,78,79,79,79,79,79,79,79,79,79,79,79,79,79,79,79,79,79,79,79,79,79,79,79,79,79,79,79,79,79,80,80,80,80,80,80,80,80,80,80,80,80,80,80,80,80,80,80,80,80,80,80,80,80,80,80,80,81,81,81,81,81,81,81,81,81,81,81,81,81,81,81,81,81,81,81,81,81,81,81,81,81,81,81,81,82,82,82,82,82,82,82,82,82,82,82,82,82,82,82,82,82,82,82,82,82,82,82,82,82,82,82,82,82,82]},\"selected\":{\"id\":\"f34f4965-5a5c-4ed6-b42c-6cf1a2f73ae0\",\"type\":\"Selection\"},\"selection_policy\":{\"id\":\"f66feb00-4f31-4072-8aeb-670e2d1d29ae\",\"type\":\"UnionRenderers\"}},\"id\":\"50f02973-304f-4f28-aba7-dc86f4b5e08a\",\"type\":\"ColumnDataSource\"},{\"attributes\":{},\"id\":\"b4836b52-d27b-4980-89b2-11d7ca48fc44\",\"type\":\"BasicTicker\"},{\"attributes\":{\"dimension\":1,\"plot\":{\"id\":\"945b792f-3ca9-4b36-be45-8ee3de9b35f3\",\"subtype\":\"Figure\",\"type\":\"Plot\"},\"ticker\":{\"id\":\"b4836b52-d27b-4980-89b2-11d7ca48fc44\",\"type\":\"BasicTicker\"}},\"id\":\"3eb94734-dcae-4d9e-b805-f4c97185460d\",\"type\":\"Grid\"},{\"attributes\":{\"fill_color\":{\"value\":null},\"line_color\":{\"value\":\"red\"},\"size\":{\"field\":\"cyl\",\"units\":\"screen\"},\"x\":{\"field\":\"mpg\"},\"y\":{\"field\":\"displ\"}},\"id\":\"27231a2c-a301-4421-9fd0-63b91b082552\",\"type\":\"Circle\"},{\"attributes\":{},\"id\":\"958cc458-0164-457c-8113-7701ccf8dfd1\",\"type\":\"PanTool\"},{\"attributes\":{\"fill_alpha\":{\"value\":0.1},\"fill_color\":{\"value\":\"#1f77b4\"},\"line_alpha\":{\"value\":0.1},\"line_color\":{\"value\":\"#1f77b4\"},\"x\":{\"field\":\"hp\"},\"y\":{\"field\":\"displ\"}},\"id\":\"a1f92188-0e24-488a-b5af-805e5f04436a\",\"type\":\"Circle\"},{\"attributes\":{},\"id\":\"d495fb23-5e20-40c8-9b5a-e2af122f4e6b\",\"type\":\"WheelZoomTool\"},{\"attributes\":{\"overlay\":{\"id\":\"7f9d2f12-f294-45f8-8d64-2b844cf6f508\",\"type\":\"BoxAnnotation\"}},\"id\":\"4135614a-ff71-464a-91cf-8848d400f05d\",\"type\":\"BoxZoomTool\"},{\"attributes\":{\"callback\":null,\"overlay\":{\"id\":\"2a7aa024-d3a2-4a4a-ac3d-bdc3c2f65e42\",\"type\":\"BoxAnnotation\"}},\"id\":\"7d1f0bd0-9f1d-46b8-a1ab-212df2603723\",\"type\":\"BoxSelectTool\"},{\"attributes\":{\"callback\":null,\"overlay\":{\"id\":\"7b0fcb22-b394-494b-8017-2ebb58768613\",\"type\":\"PolyAnnotation\"}},\"id\":\"118bdc1c-a058-4952-a7f1-90610a51baf5\",\"type\":\"LassoSelectTool\"},{\"attributes\":{\"fill_color\":{\"value\":\"green\"},\"line_color\":{\"value\":\"green\"},\"x\":{\"field\":\"hp\"},\"y\":{\"field\":\"displ\"}},\"id\":\"c92554ae-3259-4d09-94f8-f60be6d26aab\",\"type\":\"Circle\"},{\"attributes\":{\"data_source\":{\"id\":\"50f02973-304f-4f28-aba7-dc86f4b5e08a\",\"type\":\"ColumnDataSource\"},\"glyph\":{\"id\":\"c92554ae-3259-4d09-94f8-f60be6d26aab\",\"type\":\"Circle\"},\"hover_glyph\":null,\"muted_glyph\":null,\"nonselection_glyph\":{\"id\":\"a1f92188-0e24-488a-b5af-805e5f04436a\",\"type\":\"Circle\"},\"selection_glyph\":null,\"view\":{\"id\":\"6be23699-314c-490f-b045-d72e4704a510\",\"type\":\"CDSView\"}},\"id\":\"7db448e5-f8d0-470d-b8e8-29ad69e0524b\",\"type\":\"GlyphRenderer\"},{\"attributes\":{\"source\":{\"id\":\"50f02973-304f-4f28-aba7-dc86f4b5e08a\",\"type\":\"ColumnDataSource\"}},\"id\":\"6be23699-314c-490f-b045-d72e4704a510\",\"type\":\"CDSView\"},{\"attributes\":{\"data_source\":{\"id\":\"50f02973-304f-4f28-aba7-dc86f4b5e08a\",\"type\":\"ColumnDataSource\"},\"glyph\":{\"id\":\"27231a2c-a301-4421-9fd0-63b91b082552\",\"type\":\"Circle\"},\"hover_glyph\":null,\"muted_glyph\":null,\"nonselection_glyph\":{\"id\":\"de7ef3fa-b486-46fe-8fe2-077f445be52e\",\"type\":\"Circle\"},\"selection_glyph\":null,\"view\":{\"id\":\"5f7d23f0-c051-4950-b61c-312cb0444607\",\"type\":\"CDSView\"}},\"id\":\"2b7ebf91-64fe-4ebd-b43d-3cc52553e6a4\",\"type\":\"GlyphRenderer\"},{\"attributes\":{\"plot\":null,\"text\":\"MPG vs. Displacement\"},\"id\":\"e57f90e7-88ad-4069-a1d4-b0343ebaed52\",\"type\":\"Title\"},{\"attributes\":{\"callback\":null},\"id\":\"a3854fa6-4ea9-465a-a02d-9e867c2e547f\",\"type\":\"DataRange1d\"},{\"attributes\":{\"active_drag\":\"auto\",\"active_inspect\":\"auto\",\"active_multi\":null,\"active_scroll\":\"auto\",\"active_tap\":\"auto\",\"tools\":[{\"id\":\"5b0c9877-267a-4059-b70e-b7cebc03736f\",\"type\":\"PanTool\"},{\"id\":\"bebbaf6d-8d92-4a62-aa2c-3cd4fcb25732\",\"type\":\"WheelZoomTool\"},{\"id\":\"0a483731-83b7-4215-9539-b3f737fe2896\",\"type\":\"BoxZoomTool\"},{\"id\":\"d6dee121-783b-4848-b7c8-cf984ef9898f\",\"type\":\"BoxSelectTool\"},{\"id\":\"1d8128c9-684a-40cc-8208-fe2cf73be237\",\"type\":\"LassoSelectTool\"}]},\"id\":\"15841508-0c7c-442c-ab36-3acd11f60a6e\",\"type\":\"Toolbar\"},{\"attributes\":{\"bottom_units\":\"screen\",\"fill_alpha\":{\"value\":0.5},\"fill_color\":{\"value\":\"lightgrey\"},\"left_units\":\"screen\",\"level\":\"overlay\",\"line_alpha\":{\"value\":1.0},\"line_color\":{\"value\":\"black\"},\"line_dash\":[4,4],\"line_width\":{\"value\":2},\"plot\":null,\"render_mode\":\"css\",\"right_units\":\"screen\",\"top_units\":\"screen\"},\"id\":\"a6427ef5-7d07-4c4b-85c7-a24d15b0d5e5\",\"type\":\"BoxAnnotation\"},{\"attributes\":{},\"id\":\"64a264c1-bf74-43ce-bc78-efb5475ad222\",\"type\":\"LinearScale\"},{\"attributes\":{\"callback\":null},\"id\":\"62a57303-0cc8-4683-8351-a18354825c16\",\"type\":\"DataRange1d\"},{\"attributes\":{},\"id\":\"13d83b47-6137-41d7-9b4e-83e13a6c60d0\",\"type\":\"LinearScale\"},{\"attributes\":{\"plot\":{\"id\":\"39dc2cb4-d4d8-447f-bd1f-b26bd02bb37c\",\"subtype\":\"Figure\",\"type\":\"Plot\"},\"ticker\":{\"id\":\"2c6c2500-49f1-4b97-900d-60efcffe2b0a\",\"type\":\"BasicTicker\"}},\"id\":\"88aa2c0b-5da4-428e-8d59-1c8cf2fcc494\",\"type\":\"Grid\"},{\"attributes\":{\"formatter\":{\"id\":\"afabe094-276c-4acb-b904-45e8a53cbf85\",\"type\":\"BasicTickFormatter\"},\"plot\":{\"id\":\"39dc2cb4-d4d8-447f-bd1f-b26bd02bb37c\",\"subtype\":\"Figure\",\"type\":\"Plot\"},\"ticker\":{\"id\":\"2c6c2500-49f1-4b97-900d-60efcffe2b0a\",\"type\":\"BasicTicker\"}},\"id\":\"9749d19c-5d48-4e1d-95c6-f9dbe044d59c\",\"type\":\"LinearAxis\"},{\"attributes\":{\"plot\":{\"id\":\"d73e77c1-e8c9-43f0-8e48-2b30f3431f4f\",\"subtype\":\"Figure\",\"type\":\"Plot\"},\"ticker\":{\"id\":\"5a9bb78f-c298-4f0c-bdb0-57966e3bb453\",\"type\":\"BasicTicker\"}},\"id\":\"aa3d7cb6-5e07-4475-ac62-83c379c9a160\",\"type\":\"Grid\"},{\"attributes\":{},\"id\":\"2c6c2500-49f1-4b97-900d-60efcffe2b0a\",\"type\":\"BasicTicker\"},{\"attributes\":{\"formatter\":{\"id\":\"7590045c-629e-4f1a-9bdf-b71bf93ca369\",\"type\":\"BasicTickFormatter\"},\"plot\":{\"id\":\"39dc2cb4-d4d8-447f-bd1f-b26bd02bb37c\",\"subtype\":\"Figure\",\"type\":\"Plot\"},\"ticker\":{\"id\":\"10f9532d-2f88-4081-86fa-b5070aa963e9\",\"type\":\"BasicTicker\"}},\"id\":\"718d3ca5-743d-45bf-908d-8b2efa7e5ad5\",\"type\":\"LinearAxis\"},{\"attributes\":{},\"id\":\"10f9532d-2f88-4081-86fa-b5070aa963e9\",\"type\":\"BasicTicker\"},{\"attributes\":{\"dimension\":1,\"plot\":{\"id\":\"39dc2cb4-d4d8-447f-bd1f-b26bd02bb37c\",\"subtype\":\"Figure\",\"type\":\"Plot\"},\"ticker\":{\"id\":\"10f9532d-2f88-4081-86fa-b5070aa963e9\",\"type\":\"BasicTicker\"}},\"id\":\"c58f940b-4fd8-49a3-9b55-3810712febce\",\"type\":\"Grid\"},{\"attributes\":{\"children\":[{\"id\":\"43066285-4147-4e68-80e1-d8de7c903186\",\"type\":\"Row\"}]},\"id\":\"e9b5d637-259f-458d-859e-27441af4ba35\",\"type\":\"Column\"},{\"attributes\":{},\"id\":\"5b0c9877-267a-4059-b70e-b7cebc03736f\",\"type\":\"PanTool\"},{\"attributes\":{\"bottom_units\":\"screen\",\"fill_alpha\":{\"value\":0.5},\"fill_color\":{\"value\":\"lightgrey\"},\"left_units\":\"screen\",\"level\":\"overlay\",\"line_alpha\":{\"value\":1.0},\"line_color\":{\"value\":\"black\"},\"line_dash\":[4,4],\"line_width\":{\"value\":2},\"plot\":null,\"render_mode\":\"css\",\"right_units\":\"screen\",\"top_units\":\"screen\"},\"id\":\"4525bb55-04e6-4539-a1a2-ab7806e7966f\",\"type\":\"BoxAnnotation\"},{\"attributes\":{},\"id\":\"bebbaf6d-8d92-4a62-aa2c-3cd4fcb25732\",\"type\":\"WheelZoomTool\"},{\"attributes\":{\"overlay\":{\"id\":\"a6427ef5-7d07-4c4b-85c7-a24d15b0d5e5\",\"type\":\"BoxAnnotation\"}},\"id\":\"0a483731-83b7-4215-9539-b3f737fe2896\",\"type\":\"BoxZoomTool\"},{\"attributes\":{\"callback\":null,\"overlay\":{\"id\":\"4525bb55-04e6-4539-a1a2-ab7806e7966f\",\"type\":\"BoxAnnotation\"}},\"id\":\"d6dee121-783b-4848-b7c8-cf984ef9898f\",\"type\":\"BoxSelectTool\"},{\"attributes\":{\"callback\":null,\"overlay\":{\"id\":\"0d0dc816-8d25-4669-ba9b-9ee7d3d2d5ce\",\"type\":\"PolyAnnotation\"}},\"id\":\"1d8128c9-684a-40cc-8208-fe2cf73be237\",\"type\":\"LassoSelectTool\"},{\"attributes\":{\"fill_alpha\":{\"value\":0.1},\"fill_color\":{\"value\":\"#1f77b4\"},\"line_alpha\":{\"value\":0.1},\"line_color\":{\"value\":\"#1f77b4\"},\"size\":{\"field\":\"cyl\",\"units\":\"screen\"},\"x\":{\"field\":\"mpg\"},\"y\":{\"field\":\"displ\"}},\"id\":\"de7ef3fa-b486-46fe-8fe2-077f445be52e\",\"type\":\"Circle\"},{\"attributes\":{\"fill_alpha\":{\"value\":0.5},\"fill_color\":{\"value\":\"lightgrey\"},\"level\":\"overlay\",\"line_alpha\":{\"value\":1.0},\"line_color\":{\"value\":\"black\"},\"line_dash\":[4,4],\"line_width\":{\"value\":2},\"plot\":null,\"xs_units\":\"screen\",\"ys_units\":\"screen\"},\"id\":\"0d0dc816-8d25-4669-ba9b-9ee7d3d2d5ce\",\"type\":\"PolyAnnotation\"}],\"root_ids\":[\"a1f34538-3aed-4d05-ac98-af6c5f175acb\"]},\"title\":\"Bokeh Application\",\"version\":\"0.13.0\"}};\n",
       "  var render_items = [{\"docid\":\"ba50128f-0216-4af3-afe8-50aa15197986\",\"roots\":{\"a1f34538-3aed-4d05-ac98-af6c5f175acb\":\"a86d0d31-997d-4276-8e1e-90d59ccc58e0\"}}];\n",
       "  root.Bokeh.embed.embed_items_notebook(docs_json, render_items);\n",
       "\n",
       "  }\n",
       "  if (root.Bokeh !== undefined) {\n",
       "    embed_document(root);\n",
       "  } else {\n",
       "    var attempts = 0;\n",
       "    var timer = setInterval(function(root) {\n",
       "      if (root.Bokeh !== undefined) {\n",
       "        embed_document(root);\n",
       "        clearInterval(timer);\n",
       "      }\n",
       "      attempts++;\n",
       "      if (attempts > 100) {\n",
       "        console.log(\"Bokeh: ERROR: Unable to run BokehJS code because BokehJS library is missing\")\n",
       "        clearInterval(timer);\n",
       "      }\n",
       "    }, 10, root)\n",
       "  }\n",
       "})(window);"
      ],
      "application/vnd.bokehjs_exec.v0+json": ""
     },
     "metadata": {
      "application/vnd.bokehjs_exec.v0+json": {
       "id": "a1f34538-3aed-4d05-ac98-af6c5f175acb"
      }
     },
     "output_type": "display_data"
    }
   ],
   "source": [
    "from bokeh.models import ColumnDataSource\n",
    "from bokeh.layouts import gridplot\n",
    "\n",
    "source = ColumnDataSource(autompg)\n",
    "\n",
    "options = dict(plot_width=300, plot_height=300,\n",
    "               tools=\"pan,wheel_zoom,box_zoom,box_select,lasso_select\")\n",
    "\n",
    "p1 = figure(title=\"MPG by Year\", **options)\n",
    "p1.circle(\"yr\", \"mpg\", color=\"blue\", source=source)\n",
    "\n",
    "p2 = figure(title=\"HP vs. Displacement\", **options)\n",
    "p2.circle(\"hp\", \"displ\", color=\"green\", source=source)\n",
    "\n",
    "p3 = figure(title=\"MPG vs. Displacement\", **options)\n",
    "p3.circle(\"mpg\", \"displ\", size=\"cyl\", line_color=\"red\", fill_color=None, source=source)\n",
    "\n",
    "p = gridplot([[ p1, p2, p3]], toolbar_location=\"right\")\n",
    "\n",
    "show(p)"
   ]
  },
  {
   "cell_type": "markdown",
   "metadata": {},
   "source": [
    "You can read more about the `ColumnDataSource` and other Bokeh data structures in [Providing Data for Plots and Tables](https://bokeh.pydata.org/en/latest/docs/user_guide/data.html)"
   ]
  },
  {
   "cell_type": "markdown",
   "metadata": {},
   "source": [
    "## Standalone HTML\n",
    "\n",
    "In addition to working well with the Notebook, Bokeh can also save plots out into their own HTML files.  Here is the bar plot example from above, but saving into its own standalone file.\n",
    "\n",
    "Now when we call `show()`, a new browser tab is also opened with the plot. If we just wanted to save the file, we would use `save()` instead."
   ]
  },
  {
   "cell_type": "code",
   "execution_count": 8,
   "metadata": {},
   "outputs": [
    {
     "data": {
      "text/html": [
       "\n",
       "\n",
       "\n",
       "\n",
       "\n",
       "\n",
       "  <div class=\"bk-root\" id=\"a3fbb3bd-5e38-4110-bb97-3dccf780acf7\"></div>\n"
      ]
     },
     "metadata": {},
     "output_type": "display_data"
    },
    {
     "data": {
      "application/javascript": [
       "(function(root) {\n",
       "  function embed_document(root) {\n",
       "    \n",
       "  var docs_json = {\"5427e26a-e4a6-41ff-906d-a3dc6a245c5a\":{\"roots\":{\"references\":[{\"attributes\":{},\"id\":\"50720095-76e4-4fcd-a2db-bbe8e833042a\",\"type\":\"LinearScale\"},{\"attributes\":{},\"id\":\"bcbe9d6c-f342-4892-be26-c0bd9d8b1cb6\",\"type\":\"BasicTickFormatter\"},{\"attributes\":{\"fill_alpha\":{\"value\":0.1},\"fill_color\":{\"value\":\"#1f77b4\"},\"line_alpha\":{\"value\":0.1},\"line_color\":{\"value\":\"#1f77b4\"},\"size\":{\"units\":\"screen\",\"value\":10},\"x\":{\"field\":\"x\"},\"y\":{\"field\":\"y\"}},\"id\":\"2cc15dbc-ed1f-4da4-b745-af3261710014\",\"type\":\"Circle\"},{\"attributes\":{},\"id\":\"35ab4b7e-a9e4-4d32-a40d-72aef8994e16\",\"type\":\"Selection\"},{\"attributes\":{\"data_source\":{\"id\":\"9fd95dff-4697-4785-a322-deb3e705dd9e\",\"type\":\"ColumnDataSource\"},\"glyph\":{\"id\":\"bdd7fa94-d58a-4294-9359-9de50f5f46d6\",\"type\":\"Circle\"},\"hover_glyph\":null,\"muted_glyph\":null,\"nonselection_glyph\":{\"id\":\"2cc15dbc-ed1f-4da4-b745-af3261710014\",\"type\":\"Circle\"},\"selection_glyph\":null,\"view\":{\"id\":\"e9ae4b2a-ea53-4d2d-99d8-5aba0155b946\",\"type\":\"CDSView\"}},\"id\":\"c45d567b-5ea5-45b6-ba04-3ff122c4287f\",\"type\":\"GlyphRenderer\"},{\"attributes\":{\"fill_alpha\":{\"value\":0.3},\"fill_color\":{\"value\":\"red\"},\"line_alpha\":{\"value\":0.3},\"line_color\":{\"value\":\"red\"},\"size\":{\"units\":\"screen\",\"value\":10},\"x\":{\"field\":\"x\"},\"y\":{\"field\":\"y\"}},\"id\":\"bdd7fa94-d58a-4294-9359-9de50f5f46d6\",\"type\":\"Circle\"},{\"attributes\":{\"formatter\":{\"id\":\"01df2bd5-9c83-43bb-a1ea-2bf506779be0\",\"type\":\"BasicTickFormatter\"},\"plot\":{\"id\":\"71a19538-4460-4b13-b454-105dc614f5b1\",\"subtype\":\"Figure\",\"type\":\"Plot\"},\"ticker\":{\"id\":\"667d7931-314d-4386-8a51-3645b0dc0657\",\"type\":\"BasicTicker\"}},\"id\":\"e9282805-efa2-49fb-9203-f024d2fe5b91\",\"type\":\"LinearAxis\"},{\"attributes\":{},\"id\":\"e33217de-57f8-4ba0-acf3-421c174eb996\",\"type\":\"BasicTicker\"},{\"attributes\":{\"fill_alpha\":{\"value\":0.1},\"fill_color\":{\"value\":\"#1f77b4\"},\"line_alpha\":{\"value\":0.1},\"line_color\":{\"value\":\"#1f77b4\"},\"size\":{\"units\":\"screen\",\"value\":10},\"x\":{\"field\":\"x\"},\"y\":{\"field\":\"y\"}},\"id\":\"fcd8509d-5b36-4c79-a35c-bee645cf7bd4\",\"type\":\"Triangle\"},{\"attributes\":{\"plot\":{\"id\":\"71a19538-4460-4b13-b454-105dc614f5b1\",\"subtype\":\"Figure\",\"type\":\"Plot\"},\"ticker\":{\"id\":\"e33217de-57f8-4ba0-acf3-421c174eb996\",\"type\":\"BasicTicker\"}},\"id\":\"2939b445-ba12-4970-9ebc-6a6570b4ed3b\",\"type\":\"Grid\"},{\"attributes\":{},\"id\":\"126600f1-31f2-4be0-a049-1093a43597b1\",\"type\":\"UnionRenderers\"},{\"attributes\":{\"formatter\":{\"id\":\"bcbe9d6c-f342-4892-be26-c0bd9d8b1cb6\",\"type\":\"BasicTickFormatter\"},\"plot\":{\"id\":\"71a19538-4460-4b13-b454-105dc614f5b1\",\"subtype\":\"Figure\",\"type\":\"Plot\"},\"ticker\":{\"id\":\"e33217de-57f8-4ba0-acf3-421c174eb996\",\"type\":\"BasicTicker\"}},\"id\":\"8ceeafc1-aa96-4a43-8c03-3a1d051abab0\",\"type\":\"LinearAxis\"},{\"attributes\":{\"items\":[{\"id\":\"a538257c-560a-43c0-9411-f31e156f3a7d\",\"type\":\"LegendItem\"},{\"id\":\"e3da4bc3-3c63-48c3-873f-3261fbc8d4da\",\"type\":\"LegendItem\"},{\"id\":\"e342940a-2687-4f8f-80d5-b7aa45b4ee25\",\"type\":\"LegendItem\"}],\"location\":\"top_left\",\"plot\":{\"id\":\"71a19538-4460-4b13-b454-105dc614f5b1\",\"subtype\":\"Figure\",\"type\":\"Plot\"}},\"id\":\"ddd264a6-3661-4200-be79-29f5bba52c14\",\"type\":\"Legend\"},{\"attributes\":{\"callback\":null,\"data\":{\"x\":[70,70,70,70,70,70,70,70,70,70,70,70,70,70,70,70,70,70,70,70,70,70,71,71,71,71,71,71,71,71,71,71,71,71,71,71,71,71,71,71,71,72,72,72,72,72,72,72,72,72,72,72,72,72,72,72,72,72,72,73,73,73,73,73,73,73,73,73,73,73,73,73,73,73,73,73,73,73,73,73,73,73,73,73,73,73,73,73,74,74,74,74,74,74,74,74,74,74,74,74,74,74,75,75,75,75,75,75,75,75,75,75,75,75,75,75,75,75,75,75,75,75,76,76,76,76,76,76,76,76,76,76,76,76,76,76,76,76,76,76,76,76,76,76,77,77,77,77,77,77,77,77,77,77,77,77,77,77,77,77,77,77,78,78,78,78,78,78,78,78,78,78,78,78,78,78,78,78,78,78,78,78,78,78,79,79,79,79,79,79,79,79,79,79,79,79,79,79,79,79,79,79,79,79,79,79,79,80,80,80,80,80,80,81,81,81,81,81,81,81,81,81,81,81,81,81,82,82,82,82,82,82,82,82,82,82,82,82,82,82,82,82,82,82,82],\"y\":{\"__ndarray__\":\"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\",\"dtype\":\"float64\",\"shape\":[245]}},\"selected\":{\"id\":\"f0529a2a-708e-4a56-9297-3694de8a3a1d\",\"type\":\"Selection\"},\"selection_policy\":{\"id\":\"e053a031-0a38-4a61-9030-f96b24ca4963\",\"type\":\"UnionRenderers\"}},\"id\":\"e4eeaf41-a25c-4b06-905a-d653b7dfad52\",\"type\":\"ColumnDataSource\"},{\"attributes\":{},\"id\":\"cbae3a65-84c3-4950-9945-9ec0b6603ef5\",\"type\":\"LinearScale\"},{\"attributes\":{\"fill_alpha\":{\"value\":0.3},\"fill_color\":{\"value\":\"blue\"},\"line_alpha\":{\"value\":0.3},\"line_color\":{\"value\":\"blue\"},\"size\":{\"units\":\"screen\",\"value\":10},\"x\":{\"field\":\"x\"},\"y\":{\"field\":\"y\"}},\"id\":\"4f8dfcae-db23-42b6-8fae-32707653e16b\",\"type\":\"Triangle\"},{\"attributes\":{\"active_drag\":\"auto\",\"active_inspect\":\"auto\",\"active_multi\":null,\"active_scroll\":\"auto\",\"active_tap\":\"auto\",\"tools\":[{\"id\":\"0f46d072-693f-4133-8bf2-e1a46cb19cc5\",\"type\":\"PanTool\"},{\"id\":\"1da0aa3e-a998-4dc5-8285-2a56de67bf7e\",\"type\":\"WheelZoomTool\"},{\"id\":\"43000ba9-d331-48a7-89a9-562b39bb01a4\",\"type\":\"BoxZoomTool\"},{\"id\":\"e9280116-49c5-4a17-ae34-c4390b37fa93\",\"type\":\"SaveTool\"},{\"id\":\"77fda508-6267-4f67-8af7-c1305356a905\",\"type\":\"ResetTool\"},{\"id\":\"a2e39225-ab78-4d15-a416-e7fe9272c804\",\"type\":\"HelpTool\"}]},\"id\":\"153e7907-62d1-4dfa-aeab-108468ee1867\",\"type\":\"Toolbar\"},{\"attributes\":{\"data_source\":{\"id\":\"e4eeaf41-a25c-4b06-905a-d653b7dfad52\",\"type\":\"ColumnDataSource\"},\"glyph\":{\"id\":\"4f8dfcae-db23-42b6-8fae-32707653e16b\",\"type\":\"Triangle\"},\"hover_glyph\":null,\"muted_glyph\":null,\"nonselection_glyph\":{\"id\":\"fcd8509d-5b36-4c79-a35c-bee645cf7bd4\",\"type\":\"Triangle\"},\"selection_glyph\":null,\"view\":{\"id\":\"18f09358-0616-44de-9547-7f13de100705\",\"type\":\"CDSView\"}},\"id\":\"c31d1647-0065-403a-86d2-c6fd84319546\",\"type\":\"GlyphRenderer\"},{\"attributes\":{\"data_source\":{\"id\":\"62e11c3c-bd8d-49d2-b2c5-b22cd11f48b5\",\"type\":\"ColumnDataSource\"},\"glyph\":{\"id\":\"dc81abb5-6e19-4e9d-b618-c99b1d2e75b5\",\"type\":\"VBar\"},\"hover_glyph\":null,\"muted_glyph\":null,\"nonselection_glyph\":{\"id\":\"5926eab8-ab12-438e-a458-cc75452e3b2c\",\"type\":\"VBar\"},\"selection_glyph\":null,\"view\":{\"id\":\"735ada3a-25fe-4925-8767-df1231597423\",\"type\":\"CDSView\"}},\"id\":\"32ec3271-9e08-4469-a4da-de79d584d673\",\"type\":\"GlyphRenderer\"},{\"attributes\":{\"callback\":null,\"data\":{\"bottom\":{\"__ndarray__\":\"gvFgx2qzKECcKci59t4sQJZdRzm5jipAzvVtn6zMKECki7kXNjswQIpnc6D2pi5ApAV4qVNeL0DtFQi6+rIwQBxLQL6+KTFAWBwW2YNMMkBnDzEy+Oo6QAq856zmjDhAfzfsSXnEOkA=\",\"dtype\":\"float64\",\"shape\":[13]},\"top\":{\"__ndarray__\":\"55jlF2UHN0DAzlQxaMk7QBEIyj5aJjhATTh849zMNUD6TNCFok49QMPUTjgNNTlA1KLp0Ht2O0AT6vdFBQ0+QNr+XjaL9T5AVt48aCfjP0AojYptQ1hEQPSsO6IX6UFAQOQJW8OdQkA=\",\"dtype\":\"float64\",\"shape\":[13]},\"x\":[70,71,72,73,74,75,76,77,78,79,80,81,82]},\"selected\":{\"id\":\"35ab4b7e-a9e4-4d32-a40d-72aef8994e16\",\"type\":\"Selection\"},\"selection_policy\":{\"id\":\"126600f1-31f2-4be0-a049-1093a43597b1\",\"type\":\"UnionRenderers\"}},\"id\":\"62e11c3c-bd8d-49d2-b2c5-b22cd11f48b5\",\"type\":\"ColumnDataSource\"},{\"attributes\":{\"source\":{\"id\":\"9fd95dff-4697-4785-a322-deb3e705dd9e\",\"type\":\"ColumnDataSource\"}},\"id\":\"e9ae4b2a-ea53-4d2d-99d8-5aba0155b946\",\"type\":\"CDSView\"},{\"attributes\":{},\"id\":\"77fda508-6267-4f67-8af7-c1305356a905\",\"type\":\"ResetTool\"},{\"attributes\":{\"callback\":null},\"id\":\"078018d3-ba04-4202-a4fc-c8890222abf4\",\"type\":\"DataRange1d\"},{\"attributes\":{\"label\":{\"value\":\"MPG 1 stddev\"},\"renderers\":[{\"id\":\"32ec3271-9e08-4469-a4da-de79d584d673\",\"type\":\"GlyphRenderer\"}]},\"id\":\"a538257c-560a-43c0-9411-f31e156f3a7d\",\"type\":\"LegendItem\"},{\"attributes\":{\"plot\":null,\"text\":\"MPG by Year (Japan and US)\"},\"id\":\"c9d1dfb7-2138-4ddf-8d9b-76ab35a8e67a\",\"type\":\"Title\"},{\"attributes\":{\"label\":{\"value\":\"Japanese\"},\"renderers\":[{\"id\":\"c45d567b-5ea5-45b6-ba04-3ff122c4287f\",\"type\":\"GlyphRenderer\"}]},\"id\":\"e3da4bc3-3c63-48c3-873f-3261fbc8d4da\",\"type\":\"LegendItem\"},{\"attributes\":{},\"id\":\"a2e39225-ab78-4d15-a416-e7fe9272c804\",\"type\":\"HelpTool\"},{\"attributes\":{\"bottom\":{\"field\":\"bottom\"},\"fill_alpha\":{\"value\":0.2},\"fill_color\":{\"value\":\"#1f77b4\"},\"line_color\":{\"value\":null},\"top\":{\"field\":\"top\"},\"width\":{\"value\":0.8},\"x\":{\"field\":\"x\"}},\"id\":\"dc81abb5-6e19-4e9d-b618-c99b1d2e75b5\",\"type\":\"VBar\"},{\"attributes\":{},\"id\":\"9d73b9a0-4404-4282-b4a0-27a97c54462a\",\"type\":\"Selection\"},{\"attributes\":{},\"id\":\"e9280116-49c5-4a17-ae34-c4390b37fa93\",\"type\":\"SaveTool\"},{\"attributes\":{\"callback\":null},\"id\":\"ae9e23f3-3b99-4e5d-8c8c-181dd8d6bd46\",\"type\":\"DataRange1d\"},{\"attributes\":{\"overlay\":{\"id\":\"55ace5d7-8b62-4c93-9548-1a73779dc98e\",\"type\":\"BoxAnnotation\"}},\"id\":\"43000ba9-d331-48a7-89a9-562b39bb01a4\",\"type\":\"BoxZoomTool\"},{\"attributes\":{},\"id\":\"f0529a2a-708e-4a56-9297-3694de8a3a1d\",\"type\":\"Selection\"},{\"attributes\":{\"below\":[{\"id\":\"8ceeafc1-aa96-4a43-8c03-3a1d051abab0\",\"type\":\"LinearAxis\"}],\"left\":[{\"id\":\"e9282805-efa2-49fb-9203-f024d2fe5b91\",\"type\":\"LinearAxis\"}],\"renderers\":[{\"id\":\"8ceeafc1-aa96-4a43-8c03-3a1d051abab0\",\"type\":\"LinearAxis\"},{\"id\":\"2939b445-ba12-4970-9ebc-6a6570b4ed3b\",\"type\":\"Grid\"},{\"id\":\"e9282805-efa2-49fb-9203-f024d2fe5b91\",\"type\":\"LinearAxis\"},{\"id\":\"15532099-0176-4614-a98e-469a5b3dd6ef\",\"type\":\"Grid\"},{\"id\":\"55ace5d7-8b62-4c93-9548-1a73779dc98e\",\"type\":\"BoxAnnotation\"},{\"id\":\"ddd264a6-3661-4200-be79-29f5bba52c14\",\"type\":\"Legend\"},{\"id\":\"32ec3271-9e08-4469-a4da-de79d584d673\",\"type\":\"GlyphRenderer\"},{\"id\":\"c45d567b-5ea5-45b6-ba04-3ff122c4287f\",\"type\":\"GlyphRenderer\"},{\"id\":\"c31d1647-0065-403a-86d2-c6fd84319546\",\"type\":\"GlyphRenderer\"}],\"title\":{\"id\":\"c9d1dfb7-2138-4ddf-8d9b-76ab35a8e67a\",\"type\":\"Title\"},\"toolbar\":{\"id\":\"153e7907-62d1-4dfa-aeab-108468ee1867\",\"type\":\"Toolbar\"},\"x_range\":{\"id\":\"ae9e23f3-3b99-4e5d-8c8c-181dd8d6bd46\",\"type\":\"DataRange1d\"},\"x_scale\":{\"id\":\"50720095-76e4-4fcd-a2db-bbe8e833042a\",\"type\":\"LinearScale\"},\"y_range\":{\"id\":\"078018d3-ba04-4202-a4fc-c8890222abf4\",\"type\":\"DataRange1d\"},\"y_scale\":{\"id\":\"cbae3a65-84c3-4950-9945-9ec0b6603ef5\",\"type\":\"LinearScale\"}},\"id\":\"71a19538-4460-4b13-b454-105dc614f5b1\",\"subtype\":\"Figure\",\"type\":\"Plot\"},{\"attributes\":{},\"id\":\"01df2bd5-9c83-43bb-a1ea-2bf506779be0\",\"type\":\"BasicTickFormatter\"},{\"attributes\":{\"callback\":null,\"data\":{\"x\":[70,70,71,71,71,71,72,72,72,72,72,73,73,73,73,74,74,74,74,74,74,75,75,75,75,76,76,76,76,77,77,77,77,77,77,78,78,78,78,78,78,78,78,79,79,80,80,80,80,80,80,80,80,80,80,80,80,80,81,81,81,81,81,81,81,81,81,81,81,81,82,82,82,82,82,82,82,82,82],\"y\":{\"__ndarray__\":\"AAAAAAAAOEAAAAAAAAA7QAAAAAAAADtAAAAAAAAAOUAAAAAAAAA/QAAAAAAAgEFAAAAAAAAAOEAAAAAAAAAzQAAAAAAAADxAAAAAAAAAN0AAAAAAAAA7QAAAAAAAADRAAAAAAAAANkAAAAAAAAAyQAAAAAAAADRAAAAAAAAAP0AAAAAAAABAQAAAAAAAAD9AAAAAAAAAQEAAAAAAAAA4QAAAAAAAADpAAAAAAAAAPUAAAAAAAAA4QAAAAAAAADhAAAAAAACAQEAAAAAAAIBAQAAAAAAAAEBAAAAAAAAAPEAAAAAAAAAzQAAAAAAAgD9AAAAAAADAQEAAAAAAAAA6QAAAAAAAAD5AAAAAAAAANkAAAAAAAIA1QGZmZmZmZkBAMzMzMzOzQ0DNzMzMzAxCQAAAAAAAgDtAMzMzMzMzO0CamZmZmRk1QGZmZmZm5jdAAAAAAACAPUDNzMzMzAxBQM3MzMzMzD9AzczMzMwMQ0CamZmZmZlCQM3MzMzMzD1AzczMzMxMP0AAAAAAAIBCQJqZmZmZGUBAzczMzMxMR0BmZmZmZmZEQM3MzMzMTEZAZmZmZmbmQECamZmZmVlAQDMzMzMzszdAMzMzMzMzQEDNzMzMzIxDQM3MzMzMjEFAZmZmZmYmQEAAAAAAAIBCQJqZmZmZ2UJAzczMzMwMQUCamZmZmdlAQDMzMzMzM0BAMzMzMzNzQECamZmZmZk/QGZmZmZmZjlAMzMzMzMzOEAAAAAAAIBCQAAAAAAAAD9AAAAAAAAAQkAAAAAAAABCQAAAAAAAAEFAAAAAAAAAQ0AAAAAAAABAQAAAAAAAAENAAAAAAAAAQEA=\",\"dtype\":\"float64\",\"shape\":[79]}},\"selected\":{\"id\":\"9d73b9a0-4404-4282-b4a0-27a97c54462a\",\"type\":\"Selection\"},\"selection_policy\":{\"id\":\"4a166713-e296-41f6-a80b-5d6a1074d38b\",\"type\":\"UnionRenderers\"}},\"id\":\"9fd95dff-4697-4785-a322-deb3e705dd9e\",\"type\":\"ColumnDataSource\"},{\"attributes\":{\"bottom_units\":\"screen\",\"fill_alpha\":{\"value\":0.5},\"fill_color\":{\"value\":\"lightgrey\"},\"left_units\":\"screen\",\"level\":\"overlay\",\"line_alpha\":{\"value\":1.0},\"line_color\":{\"value\":\"black\"},\"line_dash\":[4,4],\"line_width\":{\"value\":2},\"plot\":null,\"render_mode\":\"css\",\"right_units\":\"screen\",\"top_units\":\"screen\"},\"id\":\"55ace5d7-8b62-4c93-9548-1a73779dc98e\",\"type\":\"BoxAnnotation\"},{\"attributes\":{},\"id\":\"e053a031-0a38-4a61-9030-f96b24ca4963\",\"type\":\"UnionRenderers\"},{\"attributes\":{},\"id\":\"4a166713-e296-41f6-a80b-5d6a1074d38b\",\"type\":\"UnionRenderers\"},{\"attributes\":{\"source\":{\"id\":\"62e11c3c-bd8d-49d2-b2c5-b22cd11f48b5\",\"type\":\"ColumnDataSource\"}},\"id\":\"735ada3a-25fe-4925-8767-df1231597423\",\"type\":\"CDSView\"},{\"attributes\":{\"source\":{\"id\":\"e4eeaf41-a25c-4b06-905a-d653b7dfad52\",\"type\":\"ColumnDataSource\"}},\"id\":\"18f09358-0616-44de-9547-7f13de100705\",\"type\":\"CDSView\"},{\"attributes\":{},\"id\":\"1da0aa3e-a998-4dc5-8285-2a56de67bf7e\",\"type\":\"WheelZoomTool\"},{\"attributes\":{\"dimension\":1,\"plot\":{\"id\":\"71a19538-4460-4b13-b454-105dc614f5b1\",\"subtype\":\"Figure\",\"type\":\"Plot\"},\"ticker\":{\"id\":\"667d7931-314d-4386-8a51-3645b0dc0657\",\"type\":\"BasicTicker\"}},\"id\":\"15532099-0176-4614-a98e-469a5b3dd6ef\",\"type\":\"Grid\"},{\"attributes\":{},\"id\":\"667d7931-314d-4386-8a51-3645b0dc0657\",\"type\":\"BasicTicker\"},{\"attributes\":{\"label\":{\"value\":\"American\"},\"renderers\":[{\"id\":\"c31d1647-0065-403a-86d2-c6fd84319546\",\"type\":\"GlyphRenderer\"}]},\"id\":\"e342940a-2687-4f8f-80d5-b7aa45b4ee25\",\"type\":\"LegendItem\"},{\"attributes\":{\"bottom\":{\"field\":\"bottom\"},\"fill_alpha\":{\"value\":0.1},\"fill_color\":{\"value\":\"#1f77b4\"},\"line_alpha\":{\"value\":0.1},\"line_color\":{\"value\":\"#1f77b4\"},\"top\":{\"field\":\"top\"},\"width\":{\"value\":0.8},\"x\":{\"field\":\"x\"}},\"id\":\"5926eab8-ab12-438e-a458-cc75452e3b2c\",\"type\":\"VBar\"},{\"attributes\":{},\"id\":\"0f46d072-693f-4133-8bf2-e1a46cb19cc5\",\"type\":\"PanTool\"}],\"root_ids\":[\"71a19538-4460-4b13-b454-105dc614f5b1\"]},\"title\":\"Bokeh Application\",\"version\":\"0.13.0\"}};\n",
       "  var render_items = [{\"docid\":\"5427e26a-e4a6-41ff-906d-a3dc6a245c5a\",\"roots\":{\"71a19538-4460-4b13-b454-105dc614f5b1\":\"a3fbb3bd-5e38-4110-bb97-3dccf780acf7\"}}];\n",
       "  root.Bokeh.embed.embed_items_notebook(docs_json, render_items);\n",
       "\n",
       "  }\n",
       "  if (root.Bokeh !== undefined) {\n",
       "    embed_document(root);\n",
       "  } else {\n",
       "    var attempts = 0;\n",
       "    var timer = setInterval(function(root) {\n",
       "      if (root.Bokeh !== undefined) {\n",
       "        embed_document(root);\n",
       "        clearInterval(timer);\n",
       "      }\n",
       "      attempts++;\n",
       "      if (attempts > 100) {\n",
       "        console.log(\"Bokeh: ERROR: Unable to run BokehJS code because BokehJS library is missing\")\n",
       "        clearInterval(timer);\n",
       "      }\n",
       "    }, 10, root)\n",
       "  }\n",
       "})(window);"
      ],
      "application/vnd.bokehjs_exec.v0+json": ""
     },
     "metadata": {
      "application/vnd.bokehjs_exec.v0+json": {
       "id": "71a19538-4460-4b13-b454-105dc614f5b1"
      }
     },
     "output_type": "display_data"
    }
   ],
   "source": [
    "from bokeh.plotting import output_file\n",
    "\n",
    "output_file(\"barplot.html\")\n",
    "\n",
    "p = figure(title=\"MPG by Year (Japan and US)\")\n",
    "\n",
    "p.vbar(x=years, bottom=avg-std, top=avg+std, width=0.8, \n",
    "       fill_alpha=0.2, line_color=None, legend=\"MPG 1 stddev\")\n",
    "\n",
    "p.circle(x=japanese[\"yr\"], y=japanese[\"mpg\"], size=10, alpha=0.3,\n",
    "         color=\"red\", legend=\"Japanese\")\n",
    "\n",
    "p.triangle(x=american[\"yr\"], y=american[\"mpg\"], size=10, alpha=0.3,\n",
    "           color=\"blue\", legend=\"American\")\n",
    "\n",
    "p.legend.location = \"top_left\"\n",
    "show(p)"
   ]
  },
  {
   "cell_type": "markdown",
   "metadata": {},
   "source": [
    "## Bokeh Applications\n",
    "\n",
    "Bokeh also has a server component that can be used to build interactive web applications that easily connect the powerful constellation of PyData tools to sophisticated Bokeh visualizations. The Bokeh server can be used to:\n",
    "\n",
    "* respond to UI and tool events generated in a browser with computations or queries using the full power of python\n",
    "* automatically push server-side updates to the UI (i.e. widgets or plots in a browser)\n",
    "* use periodic, timeout, and asynchronous callbacks to drive streaming updates\n",
    "\n",
    "The cell below shows a simple deployed Bokeh application from https://demo.bokehplots.com embedded in an IFrame. Scrub the sliders or change the title to see the plot update. "
   ]
  },
  {
   "cell_type": "code",
   "execution_count": 9,
   "metadata": {},
   "outputs": [
    {
     "data": {
      "text/html": [
       "\n",
       "        <iframe\n",
       "            width=\"900\"\n",
       "            height=\"410\"\n",
       "            src=\"https://demo.bokehplots.com/apps/sliders/\"\n",
       "            frameborder=\"0\"\n",
       "            allowfullscreen\n",
       "        ></iframe>\n",
       "        "
      ],
      "text/plain": [
       "<IPython.lib.display.IFrame at 0x1162249e8>"
      ]
     },
     "execution_count": 9,
     "metadata": {},
     "output_type": "execute_result"
    }
   ],
   "source": [
    "from IPython.display import IFrame\n",
    "IFrame('https://demo.bokehplots.com/apps/sliders/', width=900, height=410)"
   ]
  },
  {
   "cell_type": "markdown",
   "metadata": {},
   "source": [
    "Click on any of the thumbnails below to launch other live Bokeh applications.\n",
    "\n",
    "<center>\n",
    "<a href=\"https://demo.bokehplots.com/apps/crossfilter\">\n",
    "  <img \n",
    "    width=\"30%\" height=\"30%\" style=\"display: inline ; padding: 10px;\" \n",
    "    src=\"https://bokeh.pydata.org/static/crossfilter_t.png\"\n",
    "  >\n",
    "</a>\n",
    "\n",
    "<a href=\"https://demo.bokehplots.com/apps/movies\">\n",
    "  <img \n",
    "    width=\"30%\" height=\"30%\" style=\"display: inline ; padding: 10px;\" \n",
    "    src=\"https://bokeh.pydata.org/static/movies_t.png\" \n",
    "  >\n",
    "</a>\n",
    "\n",
    "<a href=\"https://demo.bokehplots.com/apps/gapminder\">\n",
    "  <img \n",
    "    width=\"30%\" height=\"30%\" style=\"display: inline ; padding: 10px;\" \n",
    "    src=\"http://bokeh.pydata.org/static/gapminder_t.png\"\n",
    "  >\n",
    "</a>\n",
    "</center>\n",
    "\n",
    "Find more details and information about developing and deploying Bokeh server applications in the User's Guide chapter [Running a Bokeh Server](https://bokeh.pydata.org/en/latest/docs/user_guide/server.html)."
   ]
  },
  {
   "cell_type": "markdown",
   "metadata": {},
   "source": [
    "## BokehJS\n",
    "\n",
    "At its core, Bokeh consists of a Javascript library, [BokehJS](https://github.com/bokeh/bokeh/tree/master/bokehjs), and a Python binding which provides classes and objects that ultimately generate a JSON representation of the plot structure.\n",
    "\n",
    "You can read more about design and usage in the [Developing with JavaScript](https://bokeh.pydata.org/en/latest/docs/user_guide/bokehjs.html) section of the Bokeh User's Guide."
   ]
  },
  {
   "cell_type": "markdown",
   "metadata": {},
   "source": [
    "## More Information\n",
    "\n",
    "Find more details and information at the resources listed below:\n",
    "\n",
    "*Documentation:* https://bokeh.pydata.org/en/latest\n",
    "\n",
    "*GitHub:* https://github.com/bokeh/bokeh\n",
    "\n",
    "*Mailing list:* [bokeh@anaconda.com](mailto:bokeh@anaconda.com)\n",
    "\n",
    "*Gitter Chat:* https://gitter.im/bokeh/bokeh\n",
    "\n",
    "Be sure to follow us on Twitter [@bokehplots](http://twitter.com/BokehPlots>) and on [Youtube](https://www.youtube.com/c/Bokehplots)!\n",
    "\n",
    "<img src=\"../images/bokeh-transparent.png\" width=\"64px\" height=\"64px\">"
   ]
  },
  {
   "cell_type": "code",
   "execution_count": null,
   "metadata": {},
   "outputs": [],
   "source": []
  }
 ],
 "metadata": {
  "kernelspec": {
   "display_name": "Python 3",
   "language": "python",
   "name": "python3"
  },
  "language_info": {
   "codemirror_mode": {
    "name": "ipython",
    "version": 3
   },
   "file_extension": ".py",
   "mimetype": "text/x-python",
   "name": "python",
   "nbconvert_exporter": "python",
   "pygments_lexer": "ipython3",
   "version": "3.6.6"
  }
 },
 "nbformat": 4,
 "nbformat_minor": 1
}
