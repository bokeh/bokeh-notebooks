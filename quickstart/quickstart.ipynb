{
 "cells": [
  {
   "cell_type": "markdown",
   "metadata": {},
   "source": [
    "<img src=\"files/bokeh-transparent.png\" width=\"64px\" height=\"64px\"><h1>Bokeh 5-minute Overview\n",
    "</h1>\n",
    "\n",
    "Bokeh is an interactive web visualization library for Python \n",
    "(and other languages). It provides d3-like novel graphics, over\n",
    "large datasets, all without requiring any knowledge of Javascript.  \n",
    "It has a Matplotlib compatibility layer, and it works great with\n",
    "the IPython Notebook, but can also be used to generate standalone HTML.\n",
    "\n",
    "Simple Example\n",
    "--------------\n",
    "\n",
    "Here is a simple first example.  First we'll import the `bokeh.plotting`\n",
    "module, which defines the graphical functions and primitives."
   ]
  },
  {
   "cell_type": "code",
   "execution_count": null,
   "metadata": {
    "collapsed": false
   },
   "outputs": [],
   "source": [
    "from bokeh.plotting import figure, output_notebook, show, vplot"
   ]
  },
  {
   "cell_type": "markdown",
   "metadata": {},
   "source": [
    "Next, we'll tell Bokeh to display its plots directly into the notebook.\n",
    "This will cause all of the Javascript and data to be embedded directly\n",
    "into the HTML of the notebook itself.\n",
    "(Bokeh can output straight to HTML files, or use a server, which we'll\n",
    "look at later.)"
   ]
  },
  {
   "cell_type": "code",
   "execution_count": null,
   "metadata": {
    "collapsed": false
   },
   "outputs": [],
   "source": [
    "output_notebook()"
   ]
  },
  {
   "cell_type": "markdown",
   "metadata": {},
   "source": [
    "Next, we'll import NumPy and create some simple data."
   ]
  },
  {
   "cell_type": "code",
   "execution_count": null,
   "metadata": {
    "collapsed": false
   },
   "outputs": [],
   "source": [
    "from numpy import cos, linspace\n",
    "x = linspace(-6, 6, 100)\n",
    "y = cos(x)"
   ]
  },
  {
   "cell_type": "markdown",
   "metadata": {},
   "source": [
    "Now we'll call Bokeh's `circle()` function to render a red circle at\n",
    "each of the points in x and y.\n",
    "\n",
    "We can immediately interact with the plot:\n",
    "\n",
    "  * click-and-drag will pan the plot around.\n",
    "  * Shift + mousewheel will zoom in and out\n",
    "  \n",
    "(The toolbar is simply a default one that is available for all plots;\n",
    "this can be configured dynamically via the `tools` keyword argument.)"
   ]
  },
  {
   "cell_type": "code",
   "execution_count": null,
   "metadata": {
    "collapsed": false
   },
   "outputs": [],
   "source": [
    "p = figure(width=500, height=500)\n",
    "p.circle(x, y, color=\"red\")\n",
    "show(p)"
   ]
  },
  {
   "cell_type": "markdown",
   "metadata": {},
   "source": [
    "Bar Plot Example\n",
    "----------------\n",
    "\n",
    "Bokeh's core display model relies on *composing graphical primitives* which\n",
    "are bound to data series.  This is similar in spirit to Protovis and D3,\n",
    "and different than most other Python plotting libraries (except for perhaps\n",
    "Vincent and other, newer libraries).\n",
    "\n",
    "A slightly more sophisticated example demonstrates this idea.\n",
    "\n",
    "Bokeh ships with a small set of interesting \"sample data\" in the `bokeh.sampledata`\n",
    "package.  We'll load up some historical automobile mileage data, which is returned\n",
    "as a Pandas `DataFrame`."
   ]
  },
  {
   "cell_type": "code",
   "execution_count": null,
   "metadata": {
    "collapsed": false
   },
   "outputs": [],
   "source": [
    "from bokeh.sampledata.autompg import autompg\n",
    "from numpy import array\n",
    "grouped = autompg.groupby(\"yr\")\n",
    "mpg = grouped[\"mpg\"]\n",
    "avg = mpg.mean()\n",
    "std = mpg.std()\n",
    "years = array(list(grouped.groups.keys()))\n",
    "american = autompg[autompg[\"origin\"]==1]\n",
    "japanese = autompg[autompg[\"origin\"]==3]"
   ]
  },
  {
   "cell_type": "markdown",
   "metadata": {},
   "source": [
    "For each year, we want to plot the distribution of MPG within that year."
   ]
  },
  {
   "cell_type": "code",
   "execution_count": null,
   "metadata": {
    "collapsed": false
   },
   "outputs": [],
   "source": [
    "p = figure()\n",
    "\n",
    "p.quad(left=years-0.4, right=years+0.4, bottom=avg-std, top=avg+std, fill_alpha=0.4)\n",
    "\n",
    "p.circle(x=japanese[\"yr\"], y=japanese[\"mpg\"], size=8,\n",
    "         alpha=0.4, line_color=\"red\", fill_color=None, line_width=2)\n",
    "\n",
    "p.triangle(x=american[\"yr\"], y=american[\"mpg\"], size=8, \n",
    "           alpha=0.4, line_color=\"blue\", fill_color=None, line_width=2)\n",
    "\n",
    "show(p)"
   ]
  },
  {
   "cell_type": "markdown",
   "metadata": {},
   "source": [
    "# This kind of approach can be used to generate other kinds of interesting plots, like some of the following which are available on the [Bokeh web page](http://bokeh.pydata.org).  \n",
    "\n",
    "*(Click on any of the thumbnails to open the interactive version.)*\n",
    "\n",
    "<table><tr>\n",
    "<td><a href=\"http://bokeh.pydata.org/docs/gallery/burtin.html\" target=\"_blank\"><img width=50% src=\"files/burtin.png\"></a></td>\n",
    "<td><a href=\"http://bokeh.pydata.org/docs/gallery/periodic.html\" target=\"_blank\"><img width=50% src=\"files/periodic_table.png\"></a></td>\n",
    "<td><a href=\"http://bokeh.pydata.org/docs/gallery/boxplot.html\" target=\"_blank\"><img width=50% src=\"files/boxplot.png\"></a></td>\n",
    "</tr></table>"
   ]
  },
  {
   "cell_type": "markdown",
   "metadata": {},
   "source": [
    "Linked Brushing\n",
    "---------------\n",
    "\n",
    "To link plots together at a data level, we can explicitly wrap the data in a ColumnDataSource.\n",
    "This allows us to reference columns by name.\n",
    "\n",
    "We can use the \"select\" tool to select points on one plot, and the linked points\n",
    "on the other plots will highlight."
   ]
  },
  {
   "cell_type": "code",
   "execution_count": null,
   "metadata": {
    "collapsed": false
   },
   "outputs": [],
   "source": [
    "from bokeh.models import ColumnDataSource\n",
    "from bokeh.plotting import gridplot\n",
    "\n",
    "source = ColumnDataSource(autompg.to_dict(\"list\"))\n",
    "source.add(autompg[\"yr\"], name=\"yr\")\n",
    "plot_config = dict(plot_width=400, plot_height=400, tools=\"pan,wheel_zoom,box_zoom,box_select,lasso_select\")\n",
    "p = gridplot([[\n",
    "  figure(**plot_config).circle(\"yr\", \"mpg\", color=\"blue\", title=\"MPG by Year\", \n",
    "                               source=source),\n",
    "            \n",
    "  figure(**plot_config).circle(\"hp\", \"displ\", color=\"green\", \n",
    "                               title=\"HP vs. Displacement\", source=source),],[\n",
    "  \n",
    "  figure(**plot_config).circle(\"mpg\", \"displ\", size=\"cyl\", line_color=\"red\", \n",
    "                               title=\"MPG vs. Displacement\", fill_color=None, source=source),\n",
    "  ]])\n",
    "show(p)"
   ]
  },
  {
   "cell_type": "markdown",
   "metadata": {},
   "source": [
    "Standalone HTML\n",
    "---------------\n",
    "\n",
    "In addition to working well with the Notebook, Bokeh can also\n",
    "save plots out into their own HTML files.  Here is the bar plot\n",
    "example from above, but saving into its own standalone file.\n",
    "\n",
    "Note that when we call `show()`, a new browser tab is opened.\n",
    "(If we just wanted to save the file, we would use `save()` instead.)"
   ]
  },
  {
   "cell_type": "code",
   "execution_count": null,
   "metadata": {
    "collapsed": false
   },
   "outputs": [],
   "source": [
    "from bokeh.plotting import output_file\n",
    "output_file(\"barplot.html\")\n",
    "p = figure()\n",
    "p.quad(left=years-0.4, right=years+0.4, bottom=avg-std, top=avg+std, \n",
    "       fill_alpha=0.4)\n",
    "p.circle(x=japanese[\"yr\"], y=japanese[\"mpg\"], size=8, \n",
    "         alpha=0.4, line_color=\"red\", fill_color=None, line_width=2)\n",
    "p.triangle(x=american[\"yr\"], y=american[\"mpg\"], size=8, \n",
    "           alpha=0.4, line_color=\"blue\", fill_color=None, line_width=2)\n",
    "show(p)"
   ]
  },
  {
   "cell_type": "markdown",
   "metadata": {},
   "source": [
    "Server-based Plotting\n",
    "---------------------\n",
    "\n",
    "The above plots are all embedded fully inside the notebook.  This means that if you nbconvert\n",
    "or ship the notebook file around, all the examples remain fully interactive.\n",
    "\n",
    "But what if your data exceeds what is reasonable to embed in a notebook or HTML file?\n",
    "\n",
    "Bokeh also supports storing data inside the bokeh server, which is launched at\n",
    "the command line:\n",
    "\n",
    "    $ bokeh-server\n",
    "    \n",
    "After this is run, then any of the examples in [`examples/plotting/server/`](https://github.com/bokeh/bokeh/tree/master/examples/plotting/server) can\n",
    "be run.\n",
    "\n",
    "This includes animated plots:\n",
    "\n",
    "<img src=\"files/animated.gif\">"
   ]
  },
  {
   "cell_type": "markdown",
   "metadata": {},
   "source": [
    "Plotting \"Apps\"\n",
    "---------------\n",
    "\n",
    "When the linked brushing and server-based operation are combined,\n",
    "you can build graphical \"applets\", which resemble things like\n",
    "what Crossfilter and others do. However, Bokeh provides the\n",
    "reactive object model across client and server, so these sorts\n",
    "of selections and interactions can trigger server-side code,\n",
    "which is implemented in Python.\n",
    "\n",
    "*(Click to launch the live app.)*\n",
    "\n",
    "<a href=\"http://bokeh.pydata.org/en/latest/docs/server_gallery/stocks_server.html\" target=\"_blank\"><img width=\"50%\" height=\"50%\" src=\"files/stock_app.png\"></a>\n",
    "\n"
   ]
  },
  {
   "cell_type": "markdown",
   "metadata": {},
   "source": [
    "Downsampling\n",
    "------------\n",
    "\n",
    "The Bokeh plot server also has basic downsampling capability.\n",
    "This is an area that is under active development, and is one\n",
    "of the core design goals for Bokeh.  Currently only line and\n",
    "image plots are supported, but techniques are under development\n",
    "for better, semantic downsampling of other visual forms.\n",
    "\n",
    "The following interactive plot displays 4.2gb of historical\n",
    "ocean temperature data.  The left slider moves through time,\n",
    "and the right and bottom sliders affect the bottom and right\n",
    "plots.  When you zoom on the main plot area, the server performs\n",
    "realtime downsampling on the data cube, and only sends the \n",
    "relevant data to the client.\n",
    "\n",
    "*(Click to launch a new tab with the interactive app)*\n",
    "\n",
    "<a href=\"http://107.170.242.157:5007/bokeh/doc/remote_ocean_slider/show\" target=\"_blank\">\n",
    "<img src=\"files/ocean_slider.png\" style=\"border: 1px solid black\" width=\"75%\" height=\"75%\"></a>\n"
   ]
  },
  {
   "cell_type": "markdown",
   "metadata": {},
   "source": [
    "BokehJS\n",
    "-------\n",
    "\n",
    "At its core, Bokeh consists of a Javascript library (which we call \n",
    "[BokehJS](https://github.com/bokeh/bokeh/tree/master/bokehjs)),\n",
    "and a Python binding which provides classes and objects that ultimately\n",
    "generate a JSON representation of the plot structure.\n",
    "\n",
    "You can read more about design and usage in the \n",
    "[BokehJS section of the Bokeh Developer Guide](http://bokeh.pydata.org/docs/dev_guide.html#bokehjs).\n",
    "\n",
    "BokehJS can be used entirely from Javascript.  For instance, here is an\n",
    "embedded [JSFiddle](http://jsfiddle.net) that allows you to manipulate\n",
    "a plot.  Click the \"Edit in JSFiddle\" to launch a JSFiddle window that\n",
    "lets you edit the Coffeescript source live:"
   ]
  },
  {
   "cell_type": "code",
   "execution_count": null,
   "metadata": {
    "collapsed": false
   },
   "outputs": [],
   "source": [
    "from IPython.display import IFrame\n",
    "IFrame(\"http://jsfiddle.net/bokeh/Tw5Sm/embedded/result%2Cjs/\", 650, 700)\n"
   ]
  },
  {
   "cell_type": "markdown",
   "metadata": {},
   "source": [
    "More Information\n",
    "----------------\n",
    "\n",
    "There's a nice, comprehensive  set of tutorials with exercises at: [http://bokeh.pydata.org/en/latest/docs/tutorials.html](http://bokeh.pydata.org/en/latest/docs/tutorials.html)\n",
    "\n",
    "For the full documentation & live examples: [http://bokeh.pydata.org](http://bokeh.pydata.org)\n",
    "\n",
    "GitHub: [https://github.com/bokeh/bokeh](https://github.com/bokeh/bokeh)\n",
    "\n",
    "Email questions to [bokeh@continuum.io](mailto:bokeh@continuum.io)\n",
    "\n",
    "Be sure to follow us on Twitter [@bokehplots](http://twitter.com/BokehPlots>)!\n",
    "\n",
    "<img src=\"files/bokeh-transparent.png\" width=\"64px\" height=\"64px\">"
   ]
  },
  {
   "cell_type": "markdown",
   "metadata": {},
   "source": [
    "<script>\n",
    "  (function(i,s,o,g,r,a,m){i['GoogleAnalyticsObject']=r;i[r]=i[r]||function(){\n",
    "  (i[r].q=i[r].q||[]).push(arguments)},i[r].l=1*new Date();a=s.createElement(o),\n",
    "  m=s.getElementsByTagName(o)[0];a.async=1;a.src=g;m.parentNode.insertBefore(a,m)\n",
    "  })(window,document,'script','//www.google-analytics.com/analytics.js','ga');\n",
    "\n",
    "  ga('create', 'UA-27761864-9', 'auto');\n",
    "  ga('send', 'pageview');\n",
    "</script>"
   ]
  }
 ],
 "metadata": {
  "kernelspec": {
   "display_name": "Python 2",
   "language": "python",
   "name": "python2"
  },
  "language_info": {
   "codemirror_mode": {
    "name": "ipython",
    "version": 2
   },
   "file_extension": ".py",
   "mimetype": "text/x-python",
   "name": "python",
   "nbconvert_exporter": "python",
   "pygments_lexer": "ipython2",
   "version": "2.7.10"
  }
 },
 "nbformat": 4,
 "nbformat_minor": 0
}
